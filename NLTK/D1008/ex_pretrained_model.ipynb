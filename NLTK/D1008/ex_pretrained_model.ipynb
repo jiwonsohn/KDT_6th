{
 "cells": [
  {
   "cell_type": "markdown",
   "metadata": {},
   "source": [
    "### 사전학습된 모델\n",
    "- p.295: 모델 학습\n",
    "- p.333 - p.335\n",
    "- word2vec 모델로 임베딩 계층 초기화\n"
   ]
  },
  {
   "cell_type": "markdown",
   "metadata": {},
   "source": [
    "#### word2vec 모델 학습 w/ 네이버 영화리뷰 데이터"
   ]
  },
  {
   "cell_type": "code",
   "execution_count": null,
   "metadata": {},
   "outputs": [],
   "source": []
  },
  {
   "cell_type": "code",
   "execution_count": 3,
   "metadata": {},
   "outputs": [],
   "source": [
    "import torch.nn as nn\n",
    "\n",
    "class VanillaSkipgram(nn.Module):\n",
    "\tdef __init__(self, vocab_size, embedding_dim):\n",
    "        \n",
    "\t\tsuper().__init__()\n",
    "\t\tself.embedding = nn.Embedding(\n",
    "\t\t\tnum_embeddings=vocab_size,\n",
    "\t\t\tembedding_dim=embedding_dim\n",
    "\t\t)\n",
    "\n",
    "\t\tself.linear = nn.Linear(\n",
    "\t\t\tin_features=embedding_dim,\n",
    "\t\t\tout_features=vocab_size\n",
    "\t\t)\n",
    "\n",
    "\tdef forward(self, input_ids):\n",
    "\t\tembeddings = self.embedding(input_ids)\n",
    "\t\toutput = self.linear(embeddings)\n",
    "\t\treturn output\n",
    "\t"
   ]
  },
  {
   "cell_type": "code",
   "execution_count": 4,
   "metadata": {},
   "outputs": [],
   "source": [
    "import pandas as pd\n",
    "from Korpora import Korpora\n",
    "from konlpy.tag import Okt"
   ]
  },
  {
   "cell_type": "code",
   "execution_count": 5,
   "metadata": {},
   "outputs": [
    {
     "name": "stdout",
     "output_type": "stream",
     "text": [
      "\n",
      "    Korpora 는 다른 분들이 연구 목적으로 공유해주신 말뭉치들을\n",
      "    손쉽게 다운로드, 사용할 수 있는 기능만을 제공합니다.\n",
      "\n",
      "    말뭉치들을 공유해 주신 분들에게 감사드리며, 각 말뭉치 별 설명과 라이센스를 공유 드립니다.\n",
      "    해당 말뭉치에 대해 자세히 알고 싶으신 분은 아래의 description 을 참고,\n",
      "    해당 말뭉치를 연구/상용의 목적으로 이용하실 때에는 아래의 라이센스를 참고해 주시기 바랍니다.\n",
      "\n",
      "    # Description\n",
      "    Author : e9t@github\n",
      "    Repository : https://github.com/e9t/nsmc\n",
      "    References : www.lucypark.kr/docs/2015-pyconkr/#39\n",
      "\n",
      "    Naver sentiment movie corpus v1.0\n",
      "    This is a movie review dataset in the Korean language.\n",
      "    Reviews were scraped from Naver Movies.\n",
      "\n",
      "    The dataset construction is based on the method noted in\n",
      "    [Large movie review dataset][^1] from Maas et al., 2011.\n",
      "\n",
      "    [^1]: http://ai.stanford.edu/~amaas/data/sentiment/\n",
      "\n",
      "    # License\n",
      "    CC0 1.0 Universal (CC0 1.0) Public Domain Dedication\n",
      "    Details in https://creativecommons.org/publicdomain/zero/1.0/\n",
      "\n",
      "[Korpora] Corpus `nsmc` is already installed at C:\\Users\\KDP-43\\Korpora\\nsmc\\ratings_train.txt\n",
      "[Korpora] Corpus `nsmc` is already installed at C:\\Users\\KDP-43\\Korpora\\nsmc\\ratings_test.txt\n",
      "[['굳', 'ㅋ'], ['GDNTOPCLASSINTHECLUB'], ['뭐', '야', '이', '평점', '들', '은', '....', '나쁘진', '않지만', '10', '점', '짜', '리', '는', '더', '더욱', '아니잖아']]\n"
     ]
    }
   ],
   "source": [
    "corpus = Korpora.load(\"nsmc\")\n",
    "\n",
    "corpus = pd.DataFrame(corpus.test)\n",
    "\n",
    "tokenizer = Okt()\n",
    "tokens = [tokenizer.morphs(review) for review in corpus.text]\n"
   ]
  },
  {
   "cell_type": "code",
   "execution_count": null,
   "metadata": {},
   "outputs": [],
   "source": [
    "print(tokens[:3])"
   ]
  },
  {
   "cell_type": "code",
   "execution_count": null,
   "metadata": {},
   "outputs": [],
   "source": [
    "#단어 사전 구축\n",
    "from collections import Counter\n",
    "\n",
    "def build_vocab(corpus, n_vocab, special_tokens):\n",
    "\tcounter = Counter()\n",
    "    \n",
    "\tfor tokens in corpus:\n",
    "\t\tcounter.update(tokens)\n",
    "\n",
    "\tvocab = special_tokens\n",
    "\t\n",
    "\tfor token, count in counter.most_common(n_vocab):\n",
    "\t\tvocab.append(token)\n",
    "\n",
    "\treturn vocab\n",
    "\n",
    "vocab = build_vocab(corpus=tokens, n_vocab=5000, special_tokens=[\"<unk>\"])\n",
    "token_to_id = {token:id for idx, token in enumerate(vocab)}\n",
    "id_to_token = {idx:token for idx, token in enumerate(vocab)}\n",
    "\n",
    "print(vocab[:10])\n",
    "print(len(vocab))"
   ]
  },
  {
   "cell_type": "code",
   "execution_count": null,
   "metadata": {},
   "outputs": [],
   "source": [
    "# Skip-gram의 단어 쌍 추출\n",
    "def get_word_pairs(tokens, window_size):\n",
    "\tpairs = []\n",
    "    \n",
    "\tfor sentence in tokens:\n",
    "\t\tsentence_length = len(sentence)\n",
    "\n",
    "\t\t# idx => 현재 단어 index\n",
    "\t\tfor idx, center_word in enumerate(sentence):\n",
    "\t\t\twindow_start = max(0, idx- window_size)\t\t\t\t # 문장 경계 내 조건\n",
    "\t\t\twindow_end = min(sentence_length, idx+window_size+1) # 문장 경계 내 조건\n",
    "\n",
    "\t\t\tcenter_word = sentence[idx]\n",
    "\t\t\tcontext_words = sentence[window_start:idx] + sentence[idx+1:window_end]\n",
    "\n",
    "\t\t\tfor context_word in context_words:\n",
    "\t\t\t\tpairs.append([center_word, context_word])\n",
    "\n",
    "\treturn pairs\n",
    "\n",
    "# window_size => 고려할 주변 단어 개수\n",
    "word_pairs = get_word_pairs(tokens, window_size=2)\n",
    "print(word_pairs)"
   ]
  },
  {
   "cell_type": "code",
   "execution_count": null,
   "metadata": {},
   "outputs": [],
   "source": [
    "# word_pairs => 토큰 인덱스 쌍 변환\n",
    "def get_index_pairs(word_pairs, token_to_id):\n",
    "\tpairs=[]\n",
    "    \n",
    "\tunk_index = token_to_id[\"<unk>\"]\n",
    "\n",
    "\tfor word_pair in word_pairs:\n",
    "\t\tcenter_word, context_word = word_pair\n",
    "\t\tcenter_index = token_to_id.get(center_word, unk_index)\n",
    "\t\tcontext_index = token_to_id.get(context_word, unk_index)\n",
    "\n",
    "\t\tpairs.append( [center_index, context_index])\n",
    "\treturn pairs\n",
    "\n",
    "index_pairs = get_index_pairs(word_pairs, token_to_id)\n",
    "print(index_pairs[:5])"
   ]
  },
  {
   "cell_type": "code",
   "execution_count": 6,
   "metadata": {},
   "outputs": [],
   "source": [
    "# 데이터 로더 적용\n",
    "import torch\n",
    "from torch.utils.data import TensorDataset, DataLoader"
   ]
  },
  {
   "cell_type": "code",
   "execution_count": null,
   "metadata": {},
   "outputs": [],
   "source": [
    "index_pairs = torch.tensor(index_pairs)\n",
    "center_indexs = index_pairs[:, 0]\t\t\t# feature\n",
    "context_indexs = index_pairs[:, 1]\t\t\t# target\n",
    "\n",
    "dataset = TensorDataset(center_indexs, context_indexs)\n",
    "dataloader = DataLoader(dataset, batch_size=32, shuffle=True)"
   ]
  },
  {
   "cell_type": "code",
   "execution_count": null,
   "metadata": {},
   "outputs": [],
   "source": [
    "# skip-gram 모델 준비 작업\n",
    "from torch import optim\n",
    "\n",
    "device = \"cuda\" if torch.cuda.is_available() else \"cpu\"\n",
    "word2vec = VanillaSkipgram(vocab_size=len(token_to_id), embedding_dim=128).to(device)\n",
    "\n",
    "criterion = nn.CrossEntropyLoss().to(device)\n",
    "optimizer = optim.SGD(word2vec.parameters(), lr=0.1)"
   ]
  },
  {
   "cell_type": "code",
   "execution_count": null,
   "metadata": {},
   "outputs": [],
   "source": [
    "# 모델 학습\n",
    "for epoch in range(10):\n",
    "    \n",
    "\tcost = 0.0\n",
    "\n",
    "\tfor input_ids, target_ids in dataloader:\n",
    "\t\tinput_ids = input_ids.to(device)\n",
    "\t\ttarget_ids = target_ids.to(device)\n",
    "\n",
    "\t\tlogits = word2vec(input_ids)\n",
    "\t\tloss = criterion(logits, target_ids)\n",
    "\n",
    "\t\toptimizer.zero_grad()\n",
    "\t\tloss.backward()\n",
    "\t\toptimizer.step()\n",
    "\n",
    "\t\tcost +=loss\n",
    "\n",
    "\tcost = cost/len(dataloader)\n",
    "\n",
    "\tprint(f'Epoch: {epoch+1:4d}, Cost: {cost:.3f}')\n",
    "\t"
   ]
  },
  {
   "cell_type": "code",
   "execution_count": null,
   "metadata": {},
   "outputs": [],
   "source": [
    "# 임베딩 값 추출\n",
    "token_to_embedding = dict()\n",
    "embedding_matrix = word2vec.embedding.weight.detach().cpu().numpy()\n",
    "\n",
    "for word, embedding in zip(vocab, embedding_matrix):\n",
    "    token_to_embedding[word] = embedding\n",
    "    \n",
    "index = 30\n",
    "token = vocab[30]\n",
    "\n",
    "token_embedding = token_to_embedding[token]\n",
    "\n",
    "print(token)\n",
    "print(token_embedding)\n"
   ]
  },
  {
   "cell_type": "code",
   "execution_count": null,
   "metadata": {},
   "outputs": [],
   "source": []
  },
  {
   "cell_type": "code",
   "execution_count": 6,
   "metadata": {},
   "outputs": [],
   "source": [
    "from gensim.models import Word2Vec\n",
    "\n",
    "word2vec = Word2Vec(\n",
    "    sentences=tokens,\t\t#\n",
    "    vector_size = 128,\n",
    "    window=5,\n",
    "    min_count=1,\n",
    "    sg=1,\n",
    "    epochs=3,\n",
    "    max_final_vocab=10000\n",
    ")"
   ]
  },
  {
   "cell_type": "code",
   "execution_count": 7,
   "metadata": {},
   "outputs": [],
   "source": [
    "# 학습 모델 저장\n",
    "word2vec.save(\"./models/word2vec.model\")\n"
   ]
  },
  {
   "cell_type": "code",
   "execution_count": null,
   "metadata": {},
   "outputs": [],
   "source": []
  },
  {
   "cell_type": "code",
   "execution_count": null,
   "metadata": {},
   "outputs": [],
   "source": []
  },
  {
   "cell_type": "code",
   "execution_count": null,
   "metadata": {},
   "outputs": [],
   "source": []
  },
  {
   "cell_type": "code",
   "execution_count": null,
   "metadata": {},
   "outputs": [],
   "source": []
  },
  {
   "cell_type": "code",
   "execution_count": null,
   "metadata": {},
   "outputs": [],
   "source": []
  },
  {
   "cell_type": "code",
   "execution_count": null,
   "metadata": {},
   "outputs": [],
   "source": []
  },
  {
   "cell_type": "code",
   "execution_count": null,
   "metadata": {},
   "outputs": [],
   "source": []
  },
  {
   "cell_type": "code",
   "execution_count": null,
   "metadata": {},
   "outputs": [],
   "source": []
  }
 ],
 "metadata": {
  "kernelspec": {
   "display_name": "TEXT_018_230_38",
   "language": "python",
   "name": "python3"
  },
  "language_info": {
   "codemirror_mode": {
    "name": "ipython",
    "version": 3
   },
   "file_extension": ".py",
   "mimetype": "text/x-python",
   "name": "python",
   "nbconvert_exporter": "python",
   "pygments_lexer": "ipython3",
   "version": "3.8.19"
  }
 },
 "nbformat": 4,
 "nbformat_minor": 2
}
