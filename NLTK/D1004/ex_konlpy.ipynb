{
 "cells": [
  {
   "cell_type": "markdown",
   "metadata": {},
   "source": [
    "### 한국어 형태소 분석\n",
    "- Konlpy 패키지 활용\n",
    "\t* 내부에 5가지 형태소 분석 패키지 포함\n",
    "\t* 5가지 형태소 분석기 사용법 동일, 쉬움"
   ]
  },
  {
   "cell_type": "markdown",
   "metadata": {},
   "source": [
    "#### [1] 모듈 로딩"
   ]
  },
  {
   "cell_type": "code",
   "execution_count": 1,
   "metadata": {},
   "outputs": [],
   "source": [
    "from konlpy.tag import *"
   ]
  },
  {
   "cell_type": "markdown",
   "metadata": {},
   "source": [
    "#### [2] 다양한 형태소 분석기 활용 <hr>\n",
    "* 동사 처리에서 가장 많은 차이!!"
   ]
  },
  {
   "cell_type": "markdown",
   "metadata": {},
   "source": [
    "#####  한나눔 형태소 분석기\n"
   ]
  },
  {
   "cell_type": "code",
   "execution_count": 2,
   "metadata": {},
   "outputs": [],
   "source": [
    "# 인스턴스 생성\n",
    "han = Hannanum()"
   ]
  },
  {
   "cell_type": "code",
   "execution_count": 4,
   "metadata": {},
   "outputs": [],
   "source": [
    "text = \"크리스마스가 3달 남았어요. 이번 하반기는 순삭이었군요.\""
   ]
  },
  {
   "cell_type": "code",
   "execution_count": 5,
   "metadata": {},
   "outputs": [
    {
     "name": "stdout",
     "output_type": "stream",
     "text": [
      "['크리스마스', '가', '3달', '남', '아아', '요', '.', '이번', '하반기', '는', '순삭', '이', '었군', '요', '.']\n"
     ]
    }
   ],
   "source": [
    "# 형태소 분리\n",
    "result = han.morphs(text)\n",
    "print(result)"
   ]
  },
  {
   "cell_type": "code",
   "execution_count": 6,
   "metadata": {},
   "outputs": [
    {
     "name": "stdout",
     "output_type": "stream",
     "text": [
      "['크리스마스', '3달', '이번', '하반기', '순삭']\n"
     ]
    }
   ],
   "source": [
    "# 명사만 추출 분리\n",
    "result = han.nouns(text)\n",
    "print(result)"
   ]
  },
  {
   "cell_type": "code",
   "execution_count": 7,
   "metadata": {},
   "outputs": [
    {
     "name": "stdout",
     "output_type": "stream",
     "text": [
      "[('크리스마스', 'N'), ('가', 'J'), ('3달', 'N'), ('남', 'P'), ('아아', 'E'), ('요', 'J'), ('.', 'S'), ('이번', 'N'), ('하반기', 'N'), ('는', 'J'), ('순삭', 'N'), ('이', 'J'), ('었군', 'E'), ('요', 'J'), ('.', 'S')]\n"
     ]
    }
   ],
   "source": [
    "# 품사태깅 추출 분리\n",
    "# \t\t=> 형태소 분리 후, 품사 태깅 처리\n",
    "result = han.pos(text)\n",
    "print(result)"
   ]
  },
  {
   "cell_type": "markdown",
   "metadata": {},
   "source": [
    "##### 꼬꼬마 형태소 분석기"
   ]
  },
  {
   "cell_type": "code",
   "execution_count": 8,
   "metadata": {},
   "outputs": [],
   "source": [
    "kkma = Kkma()"
   ]
  },
  {
   "cell_type": "code",
   "execution_count": 13,
   "metadata": {},
   "outputs": [
    {
     "name": "stdout",
     "output_type": "stream",
     "text": [
      "['크리스마스', '가', '3', '달', '남', '았', '어요', '.', '이', '번', '하반기', '는', '순삭', '이', '었', '군요', '.']\n",
      "['크리스마스', '3', '3달', '달', '이', '이번', '번', '하반기', '순삭']\n",
      "[('크리스마스', 'NNG'), ('가', 'JKS'), ('3', 'NR'), ('달', 'NNG'), ('남', 'VV'), ('았', 'EPT'), ('어요', 'EFN'), ('.', 'SF'), ('이', 'NR'), ('번', 'NNM'), ('하반기', 'NNG'), ('는', 'JX'), ('순삭', 'NNG'), ('이', 'VCP'), ('었', 'EPT'), ('군요', 'EFI'), ('.', 'SF')]\n"
     ]
    }
   ],
   "source": [
    "# 형태소 분석\n",
    "print(kkma.morphs(text))\n",
    "\n",
    "# 명사만 추출\n",
    "print(kkma.nouns(text))\n",
    "\n",
    "# 품사 태킹 후 분리\n",
    "print(kkma.pos(text))"
   ]
  },
  {
   "cell_type": "markdown",
   "metadata": {},
   "source": [
    "##### 코모란 형태소 분석기"
   ]
  },
  {
   "cell_type": "code",
   "execution_count": 11,
   "metadata": {},
   "outputs": [],
   "source": [
    "komo = Komoran()"
   ]
  },
  {
   "cell_type": "code",
   "execution_count": 12,
   "metadata": {},
   "outputs": [
    {
     "name": "stdout",
     "output_type": "stream",
     "text": [
      "['크리스마스', '가', '3', '달', '남', '았', '어요', '.', '이번', '하반기', '는', '순', '삭', '이', '었', '군요', '.']\n",
      "['크리스마스', '달', '이번', '하반기', '삭']\n",
      "[('크리스마스', 'NNP'), ('가', 'JKS'), ('3', 'SN'), ('달', 'NNG'), ('남', 'VV'), ('았', 'EP'), ('어요', 'EF'), ('.', 'SF'), ('이번', 'NNG'), ('하반기', 'NNG'), ('는', 'JX'), ('순', 'MM'), ('삭', 'NNB'), ('이', 'VCP'), ('었', 'EP'), ('군요', 'EF'), ('.', 'SF')]\n"
     ]
    }
   ],
   "source": [
    "# 형태소 분석\n",
    "print(komo.morphs(text))\n",
    "\n",
    "# 명사만 추출\n",
    "print(komo.nouns(text))\n",
    "\n",
    "# 품사 태킹 후 분리\n",
    "print(komo.pos(text))"
   ]
  },
  {
   "cell_type": "markdown",
   "metadata": {},
   "source": [
    "##### OKT 형태소 분석기"
   ]
  },
  {
   "cell_type": "code",
   "execution_count": 14,
   "metadata": {},
   "outputs": [],
   "source": [
    "okt = Okt()"
   ]
  },
  {
   "cell_type": "code",
   "execution_count": 15,
   "metadata": {},
   "outputs": [
    {
     "name": "stdout",
     "output_type": "stream",
     "text": [
      "['크리스마스', '가', '3', '달', '남았어요', '.', '이번', '하반기', '는', '순삭', '이었군요', '.']\n",
      "['크리스마스', '달', '이번', '하반기', '순삭']\n",
      "[('크리스마스', 'Noun'), ('가', 'Josa'), ('3', 'Number'), ('달', 'Noun'), ('남았어요', 'Verb'), ('.', 'Punctuation'), ('이번', 'Noun'), ('하반기', 'Noun'), ('는', 'Josa'), ('순삭', 'Noun'), ('이었군요', 'Verb'), ('.', 'Punctuation')]\n"
     ]
    }
   ],
   "source": [
    "# 형태소 분석\n",
    "print(okt.morphs(text))\n",
    "\n",
    "# 명사만 추출\n",
    "print(okt.nouns(text))\n",
    "\n",
    "# 품사 태킹 후 분리\n",
    "print(okt.pos(text))"
   ]
  },
  {
   "cell_type": "markdown",
   "metadata": {},
   "source": [
    "##### MeCab 형태소 분석기\n",
    "* Linux 만 / 윈도우 지원 중단"
   ]
  },
  {
   "cell_type": "code",
   "execution_count": 16,
   "metadata": {},
   "outputs": [
    {
     "name": "stdout",
     "output_type": "stream",
     "text": [
      "Install MeCab in order to use it: http://konlpy.org/en/latest/install/\n"
     ]
    }
   ],
   "source": [
    "try:\n",
    "    mecab = Mecab()\n",
    "    \n",
    "except Exception as e:\n",
    "    print(e)"
   ]
  },
  {
   "cell_type": "code",
   "execution_count": null,
   "metadata": {},
   "outputs": [],
   "source": []
  },
  {
   "cell_type": "code",
   "execution_count": null,
   "metadata": {},
   "outputs": [],
   "source": []
  },
  {
   "cell_type": "code",
   "execution_count": null,
   "metadata": {},
   "outputs": [],
   "source": []
  },
  {
   "cell_type": "code",
   "execution_count": null,
   "metadata": {},
   "outputs": [],
   "source": []
  },
  {
   "cell_type": "code",
   "execution_count": null,
   "metadata": {},
   "outputs": [],
   "source": []
  }
 ],
 "metadata": {
  "kernelspec": {
   "display_name": "TEXT_018_230_38",
   "language": "python",
   "name": "python3"
  },
  "language_info": {
   "codemirror_mode": {
    "name": "ipython",
    "version": 3
   },
   "file_extension": ".py",
   "mimetype": "text/x-python",
   "name": "python",
   "nbconvert_exporter": "python",
   "pygments_lexer": "ipython3",
   "version": "3.8.19"
  }
 },
 "nbformat": 4,
 "nbformat_minor": 2
}
