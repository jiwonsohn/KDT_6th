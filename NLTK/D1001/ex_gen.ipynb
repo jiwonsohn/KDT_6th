{
 "cells": [
  {
   "cell_type": "markdown",
   "metadata": {},
   "source": [
    "#### Generator 살펴보기  \n",
    "- 목적 : 메모리 효율적 사용을 위해서    \n",
    "\n",
    "- 특징 : iterator로써 반복기능 포함  \n",
    " \n",
    "- 포함 : yield 키워드 함께 사용 "
   ]
  },
  {
   "cell_type": "code",
   "execution_count": 1,
   "metadata": {},
   "outputs": [],
   "source": [
    "## 모듈 로딩\n",
    "import time  "
   ]
  },
  {
   "cell_type": "code",
   "execution_count": 5,
   "metadata": {},
   "outputs": [],
   "source": [
    "## 사용자 정의 함수 \n",
    "## 기능 : 데이터 값을 반환하는 기능\n",
    "## 이름 : returnData\n",
    "\n",
    "def returnData():\n",
    "    data = []\n",
    "    for ch in ['apple','kiwi','orange']:\n",
    "        data.append(ch)\n",
    "        time.sleep(1)\n",
    "    return data "
   ]
  },
  {
   "cell_type": "code",
   "execution_count": 11,
   "metadata": {},
   "outputs": [],
   "source": [
    "## 사용자 정의 함수 \n",
    "## 기능 : 데이터 값을 반환하는 기능\n",
    "## 이름 : yieldData\n",
    "\n",
    "def yieldData():\n",
    "    data = []\n",
    "    for ch in ['apple','kiwi','orange']:\n",
    "        data.append(ch)\n",
    "        time.sleep(2)\n",
    "        yield data "
   ]
  },
  {
   "cell_type": "code",
   "execution_count": 13,
   "metadata": {},
   "outputs": [
    {
     "name": "stdout",
     "output_type": "stream",
     "text": [
      "apple\n",
      "kiwi\n",
      "orange\n"
     ]
    }
   ],
   "source": [
    "# 함수 호출 : time.sleep(1) 줘서 각 3개당 1초씩 총 3초가 걸려서 결과값이 나옴 \n",
    "returnData()\n",
    "\n",
    "for data in returnData():\n",
    "    print(data)"
   ]
  },
  {
   "cell_type": "code",
   "execution_count": 12,
   "metadata": {},
   "outputs": [
    {
     "name": "stdout",
     "output_type": "stream",
     "text": [
      "['apple']\n",
      "['apple', 'kiwi']\n",
      "['apple', 'kiwi', 'orange']\n"
     ]
    }
   ],
   "source": [
    "# 함수 호출 : 자기를 부르면 자기를 부른 곳에 데이터 주고 리스트내에 있는 값들 다 반환할 때까지 값들 줌  \n",
    "for data in yieldData():\n",
    "    print(data)"
   ]
  },
  {
   "cell_type": "code",
   "execution_count": 14,
   "metadata": {},
   "outputs": [],
   "source": [
    "## 사용자 정의 함수 \n",
    "## 기능 : 데이터 값을 반환하는 기능\n",
    "## 이름 : yieldData\n",
    "\n",
    "def yieldData2():\n",
    "    data = ['apple','kiwi','orange']\n",
    "    time.sleep(2)\n",
    "    yield from data"
   ]
  },
  {
   "cell_type": "code",
   "execution_count": 16,
   "metadata": {},
   "outputs": [
    {
     "name": "stdout",
     "output_type": "stream",
     "text": [
      "apple\n",
      "kiwi\n",
      "orange\n"
     ]
    }
   ],
   "source": [
    "for data in yieldData2():\n",
    "    print(data)"
   ]
  },
  {
   "cell_type": "code",
   "execution_count": 17,
   "metadata": {},
   "outputs": [],
   "source": [
    "import string"
   ]
  },
  {
   "cell_type": "code",
   "execution_count": 20,
   "metadata": {},
   "outputs": [
    {
     "data": {
      "text/plain": [
       "'!\"#$%&\\'()*+,-./:;<=>?@[\\\\]^_`{|}~'"
      ]
     },
     "execution_count": 20,
     "metadata": {},
     "output_type": "execute_result"
    }
   ],
   "source": [
    "# 구두점\n",
    "string.punctuation\n",
    "\n",
    "# 구두점 추가하고 싶다\n",
    "string.punctuation+\"\""
   ]
  },
  {
   "cell_type": "code",
   "execution_count": null,
   "metadata": {},
   "outputs": [],
   "source": []
  }
 ],
 "metadata": {
  "kernelspec": {
   "display_name": "TORCHTEXT_018_230_38",
   "language": "python",
   "name": "python3"
  },
  "language_info": {
   "codemirror_mode": {
    "name": "ipython",
    "version": 3
   },
   "file_extension": ".py",
   "mimetype": "text/x-python",
   "name": "python",
   "nbconvert_exporter": "python",
   "pygments_lexer": "ipython3",
   "version": "3.8.19"
  }
 },
 "nbformat": 4,
 "nbformat_minor": 2
}
