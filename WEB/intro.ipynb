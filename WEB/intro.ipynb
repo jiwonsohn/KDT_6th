{
 "cells": [
  {
   "cell_type": "markdown",
   "metadata": {},
   "source": [
    "### 프로토콜\n",
    "- 규칙 / 규약\n",
    "- 서로 다른 기기/디바이스/장치 또는 프로그램 사이에서 데이터를 주고 받기 위한 규칙\n",
    "- 프로토콜 => http"
   ]
  },
  {
   "cell_type": "code",
   "execution_count": null,
   "metadata": {
    "vscode": {
     "languageId": "plaintext"
    }
   },
   "outputs": [],
   "source": []
  },
  {
   "cell_type": "markdown",
   "metadata": {
    "vscode": {
     "languageId": "plaintext"
    }
   },
   "source": [
    "### 함수\n",
    "- 자주 사용되는 기능/코드 => 재사용 (O) / 중복 사용 (X)\n",
    "- 함수 프로토콜 설계\n",
    "- 함수이름, 매개변수 (타입, 이름), 반환값"
   ]
  }
 ],
 "metadata": {
  "language_info": {
   "name": "python"
  }
 },
 "nbformat": 4,
 "nbformat_minor": 2
}
