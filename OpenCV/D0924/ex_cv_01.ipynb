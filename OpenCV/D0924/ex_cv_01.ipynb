{
 "cells": [
  {
   "cell_type": "markdown",
   "metadata": {},
   "source": [
    "### OpenCV 기본 사용법"
   ]
  },
  {
   "cell_type": "code",
   "execution_count": 2,
   "metadata": {},
   "outputs": [],
   "source": [
    "# 모듈 로딩\n",
    "import cv2\n",
    "import os\n",
    "import numpy as np"
   ]
  },
  {
   "cell_type": "code",
   "execution_count": 3,
   "metadata": {},
   "outputs": [],
   "source": [
    "# 이미지 관련 공통 변수\n",
    "IMG_DIR = './image/'"
   ]
  },
  {
   "cell_type": "markdown",
   "metadata": {},
   "source": [
    "[1] image 읽기\t==> ndarray 형태로"
   ]
  },
  {
   "cell_type": "code",
   "execution_count": 4,
   "metadata": {},
   "outputs": [],
   "source": [
    "# 이미지 파일 경로 + 파일명\n",
    "IMG_FILE = IMG_DIR + 'logo.png'\n",
    "\n",
    "\n",
    "# 이미지 데이터\n",
    "im_data = cv2.imread(IMG_FILE)\n",
    "grey_data = cv2.imread(IMG_FILE, flags=cv2.IMREAD_GRAYSCALE)"
   ]
  },
  {
   "cell_type": "code",
   "execution_count": 5,
   "metadata": {},
   "outputs": [
    {
     "name": "stdout",
     "output_type": "stream",
     "text": [
      "[im_data]\n",
      "shape (184, 544, 3)\n",
      "ndim 3\n"
     ]
    },
    {
     "data": {
      "text/plain": [
       "' \\nshape (184, 544, 3)\\t\\t\\t\\t# 184 ->행, 544-> 열, 3-> color!!\\nndim 3\\n'"
      ]
     },
     "execution_count": 5,
     "metadata": {},
     "output_type": "execute_result"
    }
   ],
   "source": [
    "# 컬러 이미지 데이터 속성\n",
    "print('[im_data]')\n",
    "print(f'shape {im_data.shape}')\t\t\t\n",
    "print(f'ndim {im_data.ndim}')\n",
    "''' \n",
    "shape (184, 544, 3)\t\t\t\t# 184 ->행, 544-> 열, 3-> color!!\n",
    "ndim 3\n",
    "'''"
   ]
  },
  {
   "cell_type": "code",
   "execution_count": 6,
   "metadata": {},
   "outputs": [
    {
     "name": "stdout",
     "output_type": "stream",
     "text": [
      "[grey_data]\n",
      "shape (184, 544)\n",
      "ndim 2\n"
     ]
    }
   ],
   "source": [
    "# 그레이 이미지 데이터 속성\n",
    "print('[grey_data]')\n",
    "print(f'shape {grey_data.shape}')\t\t\t\n",
    "print(f'ndim {grey_data.ndim}')"
   ]
  },
  {
   "cell_type": "markdown",
   "metadata": {},
   "source": [
    "[2] 이미지 화면 출력 => imshow()"
   ]
  },
  {
   "cell_type": "code",
   "execution_count": 14,
   "metadata": {},
   "outputs": [
    {
     "ename": "error",
     "evalue": "OpenCV(4.10.0) D:\\a\\opencv-python\\opencv-python\\opencv\\modules\\highgui\\src\\window_w32.cpp:1261: error: (-27:Null pointer) NULL window: '[IM_DATA]' in function 'cvDestroyWindow'\n",
     "output_type": "error",
     "traceback": [
      "\u001b[1;31m---------------------------------------------------------------------------\u001b[0m",
      "\u001b[1;31merror\u001b[0m                                     Traceback (most recent call last)",
      "Cell \u001b[1;32mIn[14], line 13\u001b[0m\n\u001b[0;32m      9\u001b[0m cv2\u001b[38;5;241m.\u001b[39mwaitKey()\t\t\t\t\t\t\u001b[38;5;66;03m# 키입력 대기\u001b[39;00m\n\u001b[0;32m     11\u001b[0m \u001b[38;5;66;03m# 이미지 창 닫기\u001b[39;00m\n\u001b[0;32m     12\u001b[0m \u001b[38;5;66;03m# cv2.destroyAllWindows()\t\t\t# 모든 창 닫기\u001b[39;00m\n\u001b[1;32m---> 13\u001b[0m \u001b[43mcv2\u001b[49m\u001b[38;5;241;43m.\u001b[39;49m\u001b[43mdestroyWindow\u001b[49m\u001b[43m(\u001b[49m\u001b[38;5;124;43m\"\u001b[39;49m\u001b[38;5;124;43m[IM_DATA]\u001b[39;49m\u001b[38;5;124;43m\"\u001b[39;49m\u001b[43m)\u001b[49m\t\t\u001b[38;5;66;03m# [IM_DATA] 창만 닫음\u001b[39;00m\n\u001b[0;32m     15\u001b[0m \u001b[38;5;66;03m# 1초 일시정지\u001b[39;00m\n\u001b[0;32m     16\u001b[0m time\u001b[38;5;241m.\u001b[39msleep(\u001b[38;5;241m1\u001b[39m)\n",
      "\u001b[1;31merror\u001b[0m: OpenCV(4.10.0) D:\\a\\opencv-python\\opencv-python\\opencv\\modules\\highgui\\src\\window_w32.cpp:1261: error: (-27:Null pointer) NULL window: '[IM_DATA]' in function 'cvDestroyWindow'\n"
     ]
    }
   ],
   "source": [
    "import time\n",
    "\n",
    "# 이미지 창 띄우기\n",
    "# 창이름이 달라서 2개 창 로드\n",
    "cv2.imshow(\"[IM_DATA]\", im_data)\n",
    "cv2.imshow(\"[Grey_DATA]\", grey_data)\n",
    "\n",
    "# 이미지 창 위에 이벤트 대기\n",
    "cv2.waitKey()\t\t\t\t\t\t\t# 아무 자판이나 누르기\n",
    "\n",
    "# 이미지 창 닫기\n",
    "# cv2.destroyAllWindows()\t\t\t\t# 모든 창 닫기\n",
    "cv2.destroyWindow(\"[IM_DATA]\")\t\t\t# [IM_DATA] 창만 닫음\n",
    "\n",
    "# 1초 일시정지\n",
    "time.sleep(1)\n",
    "cv2.destroyWindow(\"[Grey_DATA]\")\t\t# [Grey_DATA] 창만 닫음\n"
   ]
  },
  {
   "cell_type": "code",
   "execution_count": 15,
   "metadata": {},
   "outputs": [
    {
     "name": "stdout",
     "output_type": "stream",
     "text": [
      "key_code => 97, a\n"
     ]
    }
   ],
   "source": [
    "### 'x', 'B' 입력 시 모든 이미지 창 닫기\n",
    "\n",
    "# 이미지 창 띄우기\n",
    "cv2.imshow(\"[IM_DATA]\", im_data)\n",
    "cv2.imshow(\"[Grey_DATA]\", grey_data)\n",
    "\n",
    "# 이벤트 대기 함수\n",
    "key_code = cv2.waitKey()\n",
    "print(f'key_code => {key_code}, {chr(key_code)}')\n",
    "# \t\t\t\t\tASCII 코드 값\n",
    "\n",
    "# 모든 창 닫기\n",
    "cv2.destroyAllWindows()\t\t\t\t"
   ]
  },
  {
   "cell_type": "code",
   "execution_count": 8,
   "metadata": {},
   "outputs": [
    {
     "name": "stdout",
     "output_type": "stream",
     "text": [
      "-1\n",
      "-1\n",
      "-1\n",
      "-1\n",
      "-1\n",
      "-1\n",
      "-1\n",
      "-1\n",
      "-1\n",
      "-1\n"
     ]
    }
   ],
   "source": [
    "for _ in range(10):\n",
    "    print(cv2.waitKey(500))\t\t# 0.5초 마다 키입력 대기"
   ]
  },
  {
   "cell_type": "code",
   "execution_count": null,
   "metadata": {},
   "outputs": [],
   "source": []
  },
  {
   "cell_type": "code",
   "execution_count": null,
   "metadata": {},
   "outputs": [],
   "source": []
  }
 ],
 "metadata": {
  "kernelspec": {
   "display_name": "CV_torch_38",
   "language": "python",
   "name": "python3"
  },
  "language_info": {
   "codemirror_mode": {
    "name": "ipython",
    "version": 3
   },
   "file_extension": ".py",
   "mimetype": "text/x-python",
   "name": "python",
   "nbconvert_exporter": "python",
   "pygments_lexer": "ipython3",
   "version": "3.8.19"
  }
 },
 "nbformat": 4,
 "nbformat_minor": 2
}
