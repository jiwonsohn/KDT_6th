{
 "cells": [
  {
   "cell_type": "markdown",
   "metadata": {},
   "source": [
    "### OpenCV 기본 사용법"
   ]
  },
  {
   "cell_type": "code",
   "execution_count": 2,
   "metadata": {},
   "outputs": [],
   "source": [
    "# 모듈 로딩\n",
    "import cv2\n",
    "import os\n",
    "import numpy as np"
   ]
  },
  {
   "cell_type": "code",
   "execution_count": 3,
   "metadata": {},
   "outputs": [],
   "source": [
    "# 이미지 관련 공통 변수\n",
    "IMG_DIR = './image/'"
   ]
  },
  {
   "cell_type": "markdown",
   "metadata": {},
   "source": [
    "[1] image 읽기\t==> ndarray 형태로"
   ]
  },
  {
   "cell_type": "code",
   "execution_count": 4,
   "metadata": {},
   "outputs": [],
   "source": [
    "# 이미지 파일 경로 + 파일명\n",
    "IMG_FILE = IMG_DIR + 'logo.png'\n",
    "\n",
    "\n",
    "# 이미지 데이터\n",
    "im_data = cv2.imread(IMG_FILE)\n",
    "grey_data = cv2.imread(IMG_FILE, flags=cv2.IMREAD_GRAYSCALE)"
   ]
  },
  {
   "cell_type": "code",
   "execution_count": 5,
   "metadata": {},
   "outputs": [
    {
     "name": "stdout",
     "output_type": "stream",
     "text": [
      "[im_data]\n",
      "shape (184, 544, 3)\n",
      "ndim 3\n"
     ]
    },
    {
     "data": {
      "text/plain": [
       "' \\nshape (184, 544, 3)\\t\\t\\t\\t# 184 ->행, 544-> 열, 3-> color!!\\nndim 3\\n'"
      ]
     },
     "execution_count": 5,
     "metadata": {},
     "output_type": "execute_result"
    }
   ],
   "source": [
    "# 컬러 이미지 데이터 속성\n",
    "print('[im_data]')\n",
    "print(f'shape {im_data.shape}')\t\t\t\n",
    "print(f'ndim {im_data.ndim}')\n",
    "''' \n",
    "shape (184, 544, 3)\t\t\t\t# 184 ->행, 544-> 열, 3-> color!!\n",
    "ndim 3\n",
    "'''"
   ]
  },
  {
   "cell_type": "code",
   "execution_count": 6,
   "metadata": {},
   "outputs": [
    {
     "name": "stdout",
     "output_type": "stream",
     "text": [
      "[grey_data]\n",
      "shape (184, 544)\n",
      "ndim 2\n"
     ]
    }
   ],
   "source": [
    "# 그레이 이미지 데이터 속성\n",
    "print('[grey_data]')\n",
    "print(f'shape {grey_data.shape}')\t\t\t\n",
    "print(f'ndim {grey_data.ndim}')"
   ]
  },
  {
   "cell_type": "markdown",
   "metadata": {},
   "source": [
    "[2] 이미지 화면 출력 => imshow()"
   ]
  },
  {
   "cell_type": "code",
   "execution_count": null,
   "metadata": {},
   "outputs": [],
   "source": [
    "for _ in range(10):\n",
    "    print(cv2.waitKey(500))\t\t# 0.5초 마다 키입력 대기"
   ]
  },
  {
   "cell_type": "code",
   "execution_count": 7,
   "metadata": {},
   "outputs": [],
   "source": [
    "import time\n",
    "\n",
    "# 이미지 창 띄우기\n",
    "# 창이름이 달라서 2개 창 로드\n",
    "cv2.imshow(\"[IM_DATA]\", im_data)\n",
    "cv2.imshow(\"[Grey_DATA]\", grey_data)\n",
    "\n",
    "# 이미지 창 위에 이벤트 대기\n",
    "cv2.waitKey()\t\t\t\t\t\t\t# 아무 자판이나 누르기\n",
    "\n",
    "# 이미지 창 닫기\n",
    "# cv2.destroyAllWindows()\t\t\t\t# 모든 창 닫기\n",
    "cv2.destroyWindow(\"[IM_DATA]\")\t\t\t# [IM_DATA] 창만 닫음\n",
    "\n",
    "# 1초 일시정지\n",
    "time.sleep(1)\n",
    "cv2.destroyWindow(\"[Grey_DATA]\")\t\t# [Grey_DATA] 창만 닫음\n"
   ]
  },
  {
   "cell_type": "markdown",
   "metadata": {},
   "source": [
    "[3] 'x', 'B' 입력 시 모든 이미지 창 닫기"
   ]
  },
  {
   "cell_type": "code",
   "execution_count": 8,
   "metadata": {},
   "outputs": [
    {
     "name": "stdout",
     "output_type": "stream",
     "text": [
      "key_code => 115, s\n"
     ]
    }
   ],
   "source": [
    "\n",
    "\n",
    "# 이미지 창 띄우기\n",
    "cv2.imshow(\"[IM_DATA]\", im_data)\n",
    "cv2.imshow(\"[Grey_DATA]\", grey_data)\n",
    "\n",
    "while True:\n",
    "\n",
    "\t# 이벤트 대기 함수\n",
    "\tkey_code = cv2.waitKey()\n",
    "\tprint(f'key_code => {key_code}, {chr(key_code)}')\n",
    "\t# \t\t\t\t\tASCII 코드 값\n",
    "\n",
    "\tif chr(key_code) in ['x', 'B']:\t\t\t# x, B를 누르면 창 닫기\n",
    "\t\t# 모든 창 닫기\n",
    "\t\tcv2.destroyAllWindows()\t\t\t\t\n",
    "\t\tbreak\n",
    "\n",
    "\telif chr(key_code) in ['s', 'S']:\n",
    "\t\t# 이미지 저장\n",
    "\t\tcv2.imwrite('./copy.jpg', grey_data)\n",
    "\t\t# 모든 창 닫기\n",
    "\t\tcv2.destroyAllWindows()\t\t\t\t\n",
    "\t\tbreak"
   ]
  },
  {
   "cell_type": "code",
   "execution_count": 9,
   "metadata": {},
   "outputs": [
    {
     "name": "stdout",
     "output_type": "stream",
     "text": [
      "-1\n",
      "-1\n",
      "-1\n",
      "-1\n",
      "-1\n",
      "-1\n",
      "-1\n",
      "-1\n",
      "-1\n",
      "-1\n"
     ]
    }
   ],
   "source": []
  },
  {
   "cell_type": "code",
   "execution_count": null,
   "metadata": {},
   "outputs": [],
   "source": []
  },
  {
   "cell_type": "code",
   "execution_count": null,
   "metadata": {},
   "outputs": [],
   "source": []
  }
 ],
 "metadata": {
  "kernelspec": {
   "display_name": "CV_torch_38",
   "language": "python",
   "name": "python3"
  },
  "language_info": {
   "codemirror_mode": {
    "name": "ipython",
    "version": 3
   },
   "file_extension": ".py",
   "mimetype": "text/x-python",
   "name": "python",
   "nbconvert_exporter": "python",
   "pygments_lexer": "ipython3",
   "version": "3.8.19"
  }
 },
 "nbformat": 4,
 "nbformat_minor": 2
}
