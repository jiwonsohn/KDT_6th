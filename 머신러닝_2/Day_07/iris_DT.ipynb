{
 "cells": [
  {
   "cell_type": "markdown",
   "metadata": {},
   "source": [
    "### 결정트리 알고리즘\n",
    "- 데이터셋 피쳐(특성)을 기준으로 데이터 분류 알고리즘\n",
    "- 질문방식 Yes/No 결과에 따라 데이터셋 분리\n",
    "- 장점: 스케일링/정규화 불필요\t\t\t\t=> 성능 향상에 영향 X, 단순/직관 알고리즘\n",
    "- 단점: 과대적합 가능성 높음\t\t\t\t=> 해결 위해 하이퍼 파라미터 설정 많이 해야!\n",
    "- 다른 ML 알고리즘 대비 낮은 성능\t\t\t=> But) 여러개 DT가 모일 시, 높은 성능\n",
    "\t- 앙상블에 주로 사용!!"
   ]
  },
  {
   "cell_type": "markdown",
   "metadata": {},
   "source": [
    "#### 모듈 로딩 & 데이터 준비"
   ]
  },
  {
   "cell_type": "code",
   "execution_count": 66,
   "metadata": {},
   "outputs": [],
   "source": [
    "import pandas as pd\n",
    "import numpy as np\n",
    "\n",
    "from sklearn.datasets import load_iris"
   ]
  },
  {
   "cell_type": "code",
   "execution_count": 67,
   "metadata": {},
   "outputs": [
    {
     "name": "stdout",
     "output_type": "stream",
     "text": [
      "featureDF:\t=> (150, 4), 2D\n",
      "targetSR:\t=> (150,), 1D\n"
     ]
    }
   ],
   "source": [
    "# 데이터 로딩\n",
    "featureDF, targetSR = load_iris(as_frame=True, return_X_y=True)\n",
    "\n",
    "print(f'featureDF:\t=> {featureDF.shape}, {featureDF.ndim}D')\n",
    "print(f'targetSR:\t=> {targetSR.shape}, {targetSR.ndim}D')"
   ]
  },
  {
   "cell_type": "markdown",
   "metadata": {},
   "source": [
    "#### 학습용/테스트용 데이터셋 분리"
   ]
  },
  {
   "cell_type": "code",
   "execution_count": 68,
   "metadata": {},
   "outputs": [
    {
     "name": "stdout",
     "output_type": "stream",
     "text": [
      "X_train\t=>:\t(112, 4), 2D\ty_train\t=>:\t(112,), 1D\n",
      "X_test\t=>:\t(38, 4), 2D\ty_test\t=>:\t(38,), 1D\n"
     ]
    }
   ],
   "source": [
    "from sklearn.model_selection import train_test_split\n",
    "from sklearn.tree import DecisionTreeClassifier\n",
    "\n",
    "X_train, X_test, y_train, y_test = train_test_split(featureDF, targetSR,\n",
    "                                                    stratify = targetSR,\n",
    "                                                    random_state = 10\t\t\t# 10 => feature_importance... 8ㅅ8\n",
    "                                                    )\n",
    "\n",
    "print(f'X_train\t=>:\t{X_train.shape}, {X_train.ndim}D\ty_train\t=>:\t{y_train.shape}, {y_train.ndim}D')\n",
    "print(f'X_test\t=>:\t{X_test.shape}, {X_test.ndim}D\ty_test\t=>:\t{y_test.shape}, {y_test.ndim}D')"
   ]
  },
  {
   "cell_type": "markdown",
   "metadata": {},
   "source": [
    "#### 학습_기본학습\n",
    "- 튜닝 없이"
   ]
  },
  {
   "cell_type": "code",
   "execution_count": 69,
   "metadata": {},
   "outputs": [
    {
     "data": {
      "text/html": [
       "<style>#sk-container-id-7 {color: black;}#sk-container-id-7 pre{padding: 0;}#sk-container-id-7 div.sk-toggleable {background-color: white;}#sk-container-id-7 label.sk-toggleable__label {cursor: pointer;display: block;width: 100%;margin-bottom: 0;padding: 0.3em;box-sizing: border-box;text-align: center;}#sk-container-id-7 label.sk-toggleable__label-arrow:before {content: \"▸\";float: left;margin-right: 0.25em;color: #696969;}#sk-container-id-7 label.sk-toggleable__label-arrow:hover:before {color: black;}#sk-container-id-7 div.sk-estimator:hover label.sk-toggleable__label-arrow:before {color: black;}#sk-container-id-7 div.sk-toggleable__content {max-height: 0;max-width: 0;overflow: hidden;text-align: left;background-color: #f0f8ff;}#sk-container-id-7 div.sk-toggleable__content pre {margin: 0.2em;color: black;border-radius: 0.25em;background-color: #f0f8ff;}#sk-container-id-7 input.sk-toggleable__control:checked~div.sk-toggleable__content {max-height: 200px;max-width: 100%;overflow: auto;}#sk-container-id-7 input.sk-toggleable__control:checked~label.sk-toggleable__label-arrow:before {content: \"▾\";}#sk-container-id-7 div.sk-estimator input.sk-toggleable__control:checked~label.sk-toggleable__label {background-color: #d4ebff;}#sk-container-id-7 div.sk-label input.sk-toggleable__control:checked~label.sk-toggleable__label {background-color: #d4ebff;}#sk-container-id-7 input.sk-hidden--visually {border: 0;clip: rect(1px 1px 1px 1px);clip: rect(1px, 1px, 1px, 1px);height: 1px;margin: -1px;overflow: hidden;padding: 0;position: absolute;width: 1px;}#sk-container-id-7 div.sk-estimator {font-family: monospace;background-color: #f0f8ff;border: 1px dotted black;border-radius: 0.25em;box-sizing: border-box;margin-bottom: 0.5em;}#sk-container-id-7 div.sk-estimator:hover {background-color: #d4ebff;}#sk-container-id-7 div.sk-parallel-item::after {content: \"\";width: 100%;border-bottom: 1px solid gray;flex-grow: 1;}#sk-container-id-7 div.sk-label:hover label.sk-toggleable__label {background-color: #d4ebff;}#sk-container-id-7 div.sk-serial::before {content: \"\";position: absolute;border-left: 1px solid gray;box-sizing: border-box;top: 0;bottom: 0;left: 50%;z-index: 0;}#sk-container-id-7 div.sk-serial {display: flex;flex-direction: column;align-items: center;background-color: white;padding-right: 0.2em;padding-left: 0.2em;position: relative;}#sk-container-id-7 div.sk-item {position: relative;z-index: 1;}#sk-container-id-7 div.sk-parallel {display: flex;align-items: stretch;justify-content: center;background-color: white;position: relative;}#sk-container-id-7 div.sk-item::before, #sk-container-id-7 div.sk-parallel-item::before {content: \"\";position: absolute;border-left: 1px solid gray;box-sizing: border-box;top: 0;bottom: 0;left: 50%;z-index: -1;}#sk-container-id-7 div.sk-parallel-item {display: flex;flex-direction: column;z-index: 1;position: relative;background-color: white;}#sk-container-id-7 div.sk-parallel-item:first-child::after {align-self: flex-end;width: 50%;}#sk-container-id-7 div.sk-parallel-item:last-child::after {align-self: flex-start;width: 50%;}#sk-container-id-7 div.sk-parallel-item:only-child::after {width: 0;}#sk-container-id-7 div.sk-dashed-wrapped {border: 1px dashed gray;margin: 0 0.4em 0.5em 0.4em;box-sizing: border-box;padding-bottom: 0.4em;background-color: white;}#sk-container-id-7 div.sk-label label {font-family: monospace;font-weight: bold;display: inline-block;line-height: 1.2em;}#sk-container-id-7 div.sk-label-container {text-align: center;}#sk-container-id-7 div.sk-container {/* jupyter's `normalize.less` sets `[hidden] { display: none; }` but bootstrap.min.css set `[hidden] { display: none !important; }` so we also need the `!important` here to be able to override the default hidden behavior on the sphinx rendered scikit-learn.org. See: https://github.com/scikit-learn/scikit-learn/issues/21755 */display: inline-block !important;position: relative;}#sk-container-id-7 div.sk-text-repr-fallback {display: none;}</style><div id=\"sk-container-id-7\" class=\"sk-top-container\"><div class=\"sk-text-repr-fallback\"><pre>DecisionTreeClassifier(random_state=10)</pre><b>In a Jupyter environment, please rerun this cell to show the HTML representation or trust the notebook. <br />On GitHub, the HTML representation is unable to render, please try loading this page with nbviewer.org.</b></div><div class=\"sk-container\" hidden><div class=\"sk-item\"><div class=\"sk-estimator sk-toggleable\"><input class=\"sk-toggleable__control sk-hidden--visually\" id=\"sk-estimator-id-13\" type=\"checkbox\" checked><label for=\"sk-estimator-id-13\" class=\"sk-toggleable__label sk-toggleable__label-arrow\">DecisionTreeClassifier</label><div class=\"sk-toggleable__content\"><pre>DecisionTreeClassifier(random_state=10)</pre></div></div></div></div></div>"
      ],
      "text/plain": [
       "DecisionTreeClassifier(random_state=10)"
      ]
     },
     "execution_count": 69,
     "metadata": {},
     "output_type": "execute_result"
    }
   ],
   "source": [
    "# 모델 인스턴스 생성\n",
    "dt_model = DecisionTreeClassifier(random_state=10)\n",
    "dt_model.fit(X_train, y_train)"
   ]
  },
  {
   "cell_type": "code",
   "execution_count": 70,
   "metadata": {},
   "outputs": [
    {
     "name": "stdout",
     "output_type": "stream",
     "text": [
      "[dt_model.classes_]\t\t=>\t[0 1 2]\n",
      "[dt_model.n_classes_]\t\t=>\t3\n",
      "[dt_model.max_features_]\t\t=>\t4개\n",
      "[dt_model.feature_importances_]\t\t=>\t[0.03125249 0.         0.06844775 0.90029976]\n",
      "[dt_model.feature_names_in_]\t\t=>\t['sepal length (cm)' 'sepal width (cm)' 'petal length (cm)'\n",
      " 'petal width (cm)']\n"
     ]
    }
   ],
   "source": [
    "# 모델 파라미터: 학습 fit()후 train DS 기반 설정된 값\n",
    "print(f'[dt_model.classes_]\t\t=>\t{dt_model.classes_}')\n",
    "print(f'[dt_model.n_classes_]\t\t=>\t{dt_model.n_classes_}')\n",
    "print(f'[dt_model.max_features_]\t\t=>\t{dt_model.max_features_}개')\n",
    "print(f'[dt_model.feature_importances_]\t\t=>\t{dt_model.feature_importances_}')\n",
    "print(f'[dt_model.feature_names_in_]\t\t=>\t{dt_model.feature_names_in_}')\n"
   ]
  },
  {
   "cell_type": "markdown",
   "metadata": {},
   "source": [
    "#### 성능 체크"
   ]
  },
  {
   "cell_type": "code",
   "execution_count": 71,
   "metadata": {},
   "outputs": [
    {
     "name": "stdout",
     "output_type": "stream",
     "text": [
      "train_score\t=> 1.0\n",
      "test_score\t=> 1.0\n"
     ]
    }
   ],
   "source": [
    "# 학습용 데이터셋에 대한 성능\n",
    "train_score = dt_model.score(X_train, y_train)\n",
    "test_score = dt_model.score(X_test, y_test)\n",
    "\n",
    "print(f'train_score\t=> {train_score}')\n",
    "print(f'test_score\t=> {test_score}')\n"
   ]
  },
  {
   "cell_type": "markdown",
   "metadata": {},
   "source": [
    "#### 결과:\t과대적합!!\n",
    "- 데이터셋을 추가해야\n",
    "- 더이상 추가할 데이터가 없음\n",
    "- Cross Validation으로 한정된 데이터셋에 대해 반복 학습으로 과대적합 해결"
   ]
  },
  {
   "cell_type": "markdown",
   "metadata": {},
   "source": [
    "#### 교차검증\n",
    "- 데이터셋 부족 해결\n",
    "- 과대적합 회피"
   ]
  },
  {
   "cell_type": "code",
   "execution_count": 72,
   "metadata": {},
   "outputs": [
    {
     "data": {
      "text/html": [
       "<div>\n",
       "<style scoped>\n",
       "    .dataframe tbody tr th:only-of-type {\n",
       "        vertical-align: middle;\n",
       "    }\n",
       "\n",
       "    .dataframe tbody tr th {\n",
       "        vertical-align: top;\n",
       "    }\n",
       "\n",
       "    .dataframe thead th {\n",
       "        text-align: right;\n",
       "    }\n",
       "</style>\n",
       "<table border=\"1\" class=\"dataframe\">\n",
       "  <thead>\n",
       "    <tr style=\"text-align: right;\">\n",
       "      <th></th>\n",
       "      <th>fit_time</th>\n",
       "      <th>score_time</th>\n",
       "      <th>estimator</th>\n",
       "      <th>test_score</th>\n",
       "      <th>train_score</th>\n",
       "    </tr>\n",
       "  </thead>\n",
       "  <tbody>\n",
       "    <tr>\n",
       "      <th>0</th>\n",
       "      <td>0.003402</td>\n",
       "      <td>0.002283</td>\n",
       "      <td>DecisionTreeClassifier(random_state=11)</td>\n",
       "      <td>0.956522</td>\n",
       "      <td>1.0</td>\n",
       "    </tr>\n",
       "    <tr>\n",
       "      <th>1</th>\n",
       "      <td>0.002000</td>\n",
       "      <td>0.002000</td>\n",
       "      <td>DecisionTreeClassifier(random_state=11)</td>\n",
       "      <td>0.956522</td>\n",
       "      <td>1.0</td>\n",
       "    </tr>\n",
       "    <tr>\n",
       "      <th>2</th>\n",
       "      <td>0.002001</td>\n",
       "      <td>0.000998</td>\n",
       "      <td>DecisionTreeClassifier(random_state=11)</td>\n",
       "      <td>0.954545</td>\n",
       "      <td>1.0</td>\n",
       "    </tr>\n",
       "    <tr>\n",
       "      <th>3</th>\n",
       "      <td>0.002000</td>\n",
       "      <td>0.001003</td>\n",
       "      <td>DecisionTreeClassifier(random_state=11)</td>\n",
       "      <td>0.863636</td>\n",
       "      <td>1.0</td>\n",
       "    </tr>\n",
       "    <tr>\n",
       "      <th>4</th>\n",
       "      <td>0.002312</td>\n",
       "      <td>0.001022</td>\n",
       "      <td>DecisionTreeClassifier(random_state=11)</td>\n",
       "      <td>0.909091</td>\n",
       "      <td>1.0</td>\n",
       "    </tr>\n",
       "  </tbody>\n",
       "</table>\n",
       "</div>"
      ],
      "text/plain": [
       "   fit_time  score_time                                estimator  test_score  \\\n",
       "0  0.003402    0.002283  DecisionTreeClassifier(random_state=11)    0.956522   \n",
       "1  0.002000    0.002000  DecisionTreeClassifier(random_state=11)    0.956522   \n",
       "2  0.002001    0.000998  DecisionTreeClassifier(random_state=11)    0.954545   \n",
       "3  0.002000    0.001003  DecisionTreeClassifier(random_state=11)    0.863636   \n",
       "4  0.002312    0.001022  DecisionTreeClassifier(random_state=11)    0.909091   \n",
       "\n",
       "   train_score  \n",
       "0          1.0  \n",
       "1          1.0  \n",
       "2          1.0  \n",
       "3          1.0  \n",
       "4          1.0  "
      ]
     },
     "execution_count": 72,
     "metadata": {},
     "output_type": "execute_result"
    }
   ],
   "source": [
    "from sklearn.model_selection import cross_validate, StratifiedKFold\n",
    "\n",
    "# 교차 검증 준비\n",
    "# ==> 모델 인스턴스, 학습용 DS, cv (데이터셋 분할 개수; default=5) [기본]\n",
    "\n",
    "dt_model_cross = DecisionTreeClassifier(random_state=11\n",
    "                                        )\n",
    "\n",
    "# dict 형태 Bunch data 반환\n",
    "results = cross_validate( dt_model_cross, X_train, y_train, \n",
    "               return_train_score=True,\n",
    "               return_estimator=True\n",
    "               )\n",
    "\n",
    "resultsDF = pd.DataFrame(results)\n",
    "resultsDF.head(5)\n"
   ]
  },
  {
   "cell_type": "markdown",
   "metadata": {},
   "source": [
    "#### 하이퍼-파라미터 튜닝\n",
    "- 성능향상 위한\n",
    "- 목적: DT => 과대적합 해소\n",
    "- 하이퍼-파라미터\n",
    "\t* max_depth, min_samples_leaf, ... \t\t=> Too Many ^_^....."
   ]
  },
  {
   "cell_type": "code",
   "execution_count": 73,
   "metadata": {},
   "outputs": [
    {
     "data": {
      "text/html": [
       "<style>#sk-container-id-8 {color: black;}#sk-container-id-8 pre{padding: 0;}#sk-container-id-8 div.sk-toggleable {background-color: white;}#sk-container-id-8 label.sk-toggleable__label {cursor: pointer;display: block;width: 100%;margin-bottom: 0;padding: 0.3em;box-sizing: border-box;text-align: center;}#sk-container-id-8 label.sk-toggleable__label-arrow:before {content: \"▸\";float: left;margin-right: 0.25em;color: #696969;}#sk-container-id-8 label.sk-toggleable__label-arrow:hover:before {color: black;}#sk-container-id-8 div.sk-estimator:hover label.sk-toggleable__label-arrow:before {color: black;}#sk-container-id-8 div.sk-toggleable__content {max-height: 0;max-width: 0;overflow: hidden;text-align: left;background-color: #f0f8ff;}#sk-container-id-8 div.sk-toggleable__content pre {margin: 0.2em;color: black;border-radius: 0.25em;background-color: #f0f8ff;}#sk-container-id-8 input.sk-toggleable__control:checked~div.sk-toggleable__content {max-height: 200px;max-width: 100%;overflow: auto;}#sk-container-id-8 input.sk-toggleable__control:checked~label.sk-toggleable__label-arrow:before {content: \"▾\";}#sk-container-id-8 div.sk-estimator input.sk-toggleable__control:checked~label.sk-toggleable__label {background-color: #d4ebff;}#sk-container-id-8 div.sk-label input.sk-toggleable__control:checked~label.sk-toggleable__label {background-color: #d4ebff;}#sk-container-id-8 input.sk-hidden--visually {border: 0;clip: rect(1px 1px 1px 1px);clip: rect(1px, 1px, 1px, 1px);height: 1px;margin: -1px;overflow: hidden;padding: 0;position: absolute;width: 1px;}#sk-container-id-8 div.sk-estimator {font-family: monospace;background-color: #f0f8ff;border: 1px dotted black;border-radius: 0.25em;box-sizing: border-box;margin-bottom: 0.5em;}#sk-container-id-8 div.sk-estimator:hover {background-color: #d4ebff;}#sk-container-id-8 div.sk-parallel-item::after {content: \"\";width: 100%;border-bottom: 1px solid gray;flex-grow: 1;}#sk-container-id-8 div.sk-label:hover label.sk-toggleable__label {background-color: #d4ebff;}#sk-container-id-8 div.sk-serial::before {content: \"\";position: absolute;border-left: 1px solid gray;box-sizing: border-box;top: 0;bottom: 0;left: 50%;z-index: 0;}#sk-container-id-8 div.sk-serial {display: flex;flex-direction: column;align-items: center;background-color: white;padding-right: 0.2em;padding-left: 0.2em;position: relative;}#sk-container-id-8 div.sk-item {position: relative;z-index: 1;}#sk-container-id-8 div.sk-parallel {display: flex;align-items: stretch;justify-content: center;background-color: white;position: relative;}#sk-container-id-8 div.sk-item::before, #sk-container-id-8 div.sk-parallel-item::before {content: \"\";position: absolute;border-left: 1px solid gray;box-sizing: border-box;top: 0;bottom: 0;left: 50%;z-index: -1;}#sk-container-id-8 div.sk-parallel-item {display: flex;flex-direction: column;z-index: 1;position: relative;background-color: white;}#sk-container-id-8 div.sk-parallel-item:first-child::after {align-self: flex-end;width: 50%;}#sk-container-id-8 div.sk-parallel-item:last-child::after {align-self: flex-start;width: 50%;}#sk-container-id-8 div.sk-parallel-item:only-child::after {width: 0;}#sk-container-id-8 div.sk-dashed-wrapped {border: 1px dashed gray;margin: 0 0.4em 0.5em 0.4em;box-sizing: border-box;padding-bottom: 0.4em;background-color: white;}#sk-container-id-8 div.sk-label label {font-family: monospace;font-weight: bold;display: inline-block;line-height: 1.2em;}#sk-container-id-8 div.sk-label-container {text-align: center;}#sk-container-id-8 div.sk-container {/* jupyter's `normalize.less` sets `[hidden] { display: none; }` but bootstrap.min.css set `[hidden] { display: none !important; }` so we also need the `!important` here to be able to override the default hidden behavior on the sphinx rendered scikit-learn.org. See: https://github.com/scikit-learn/scikit-learn/issues/21755 */display: inline-block !important;position: relative;}#sk-container-id-8 div.sk-text-repr-fallback {display: none;}</style><div id=\"sk-container-id-8\" class=\"sk-top-container\"><div class=\"sk-text-repr-fallback\"><pre>GridSearchCV(estimator=DecisionTreeClassifier(),\n",
       "             param_grid={&#x27;max_depth&#x27;: [4, 3, 2, 1],\n",
       "                         &#x27;min_samples_leaf&#x27;: [5, 3, 2]},\n",
       "             return_train_score=True)</pre><b>In a Jupyter environment, please rerun this cell to show the HTML representation or trust the notebook. <br />On GitHub, the HTML representation is unable to render, please try loading this page with nbviewer.org.</b></div><div class=\"sk-container\" hidden><div class=\"sk-item sk-dashed-wrapped\"><div class=\"sk-label-container\"><div class=\"sk-label sk-toggleable\"><input class=\"sk-toggleable__control sk-hidden--visually\" id=\"sk-estimator-id-14\" type=\"checkbox\" ><label for=\"sk-estimator-id-14\" class=\"sk-toggleable__label sk-toggleable__label-arrow\">GridSearchCV</label><div class=\"sk-toggleable__content\"><pre>GridSearchCV(estimator=DecisionTreeClassifier(),\n",
       "             param_grid={&#x27;max_depth&#x27;: [4, 3, 2, 1],\n",
       "                         &#x27;min_samples_leaf&#x27;: [5, 3, 2]},\n",
       "             return_train_score=True)</pre></div></div></div><div class=\"sk-parallel\"><div class=\"sk-parallel-item\"><div class=\"sk-item\"><div class=\"sk-label-container\"><div class=\"sk-label sk-toggleable\"><input class=\"sk-toggleable__control sk-hidden--visually\" id=\"sk-estimator-id-15\" type=\"checkbox\" ><label for=\"sk-estimator-id-15\" class=\"sk-toggleable__label sk-toggleable__label-arrow\">estimator: DecisionTreeClassifier</label><div class=\"sk-toggleable__content\"><pre>DecisionTreeClassifier()</pre></div></div></div><div class=\"sk-serial\"><div class=\"sk-item\"><div class=\"sk-estimator sk-toggleable\"><input class=\"sk-toggleable__control sk-hidden--visually\" id=\"sk-estimator-id-16\" type=\"checkbox\" ><label for=\"sk-estimator-id-16\" class=\"sk-toggleable__label sk-toggleable__label-arrow\">DecisionTreeClassifier</label><div class=\"sk-toggleable__content\"><pre>DecisionTreeClassifier()</pre></div></div></div></div></div></div></div></div></div></div>"
      ],
      "text/plain": [
       "GridSearchCV(estimator=DecisionTreeClassifier(),\n",
       "             param_grid={'max_depth': [4, 3, 2, 1],\n",
       "                         'min_samples_leaf': [5, 3, 2]},\n",
       "             return_train_score=True)"
      ]
     },
     "execution_count": 73,
     "metadata": {},
     "output_type": "execute_result"
    }
   ],
   "source": [
    "from sklearn.model_selection import GridSearchCV\n",
    "\n",
    "# 하이퍼-파라미터 dict 생성\n",
    "params = {'max_depth':[4,3,2,1],\n",
    "          'min_samples_leaf':[5,3,2] }\n",
    "\n",
    "grid_CV = GridSearchCV( DecisionTreeClassifier(), param_grid=params, refit=True, \n",
    "                       return_train_score=True)\n",
    "\n",
    "grid_CV.fit(X_train, y_train)"
   ]
  },
  {
   "cell_type": "code",
   "execution_count": 74,
   "metadata": {},
   "outputs": [
    {
     "name": "stdout",
     "output_type": "stream",
     "text": [
      "[grid_CV.grid_CV.best_params_]\t\t{'max_depth': 4, 'min_samples_leaf': 2}\n",
      "[grid_CV.grid_CV.best_score_]\t\t0.9371541501976285\n",
      "[grid_CV.grid_CV.best_estimator_]\t\tDecisionTreeClassifier(max_depth=4, min_samples_leaf=2)\n",
      "[grid_CV.grid_CV.cv_results_]\n",
      "\t\t{'mean_fit_time': array([0.00198145, 0.00439825, 0.00162454, 0.0014133 , 0.00162268,\n",
      "       0.0014163 , 0.00100317, 0.00120044, 0.00120015, 0.00120978,\n",
      "       0.00139785, 0.00099807]), 'std_fit_time': array([6.05435774e-04, 3.49549669e-03, 4.69595843e-04, 4.96252598e-04,\n",
      "       5.07894185e-04, 4.90346644e-04, 3.89900038e-06, 3.99709754e-04,\n",
      "       3.97477949e-04, 3.98418987e-04, 4.87458875e-04, 3.95918441e-06]), 'mean_score_time': array([0.00301404, 0.00199819, 0.00102034, 0.00100808, 0.00128655,\n",
      "       0.00126457, 0.00139751, 0.00099978, 0.00099835, 0.00119181,\n",
      "       0.00080009, 0.00140028]), 'std_score_time': array([1.99423752e-03, 1.26215218e-03, 3.38297733e-05, 2.06421478e-06,\n",
      "       3.69411455e-04, 3.86054561e-04, 4.85837505e-04, 4.42200589e-07,\n",
      "       6.32643304e-04, 3.98590271e-04, 4.00042545e-04, 4.90232463e-04]), 'param_max_depth': masked_array(data=[4, 4, 4, 3, 3, 3, 2, 2, 2, 1, 1, 1],\n",
      "             mask=[False, False, False, False, False, False, False, False,\n",
      "                   False, False, False, False],\n",
      "       fill_value='?',\n",
      "            dtype=object), 'param_min_samples_leaf': masked_array(data=[5, 3, 2, 5, 3, 2, 5, 3, 2, 5, 3, 2],\n",
      "             mask=[False, False, False, False, False, False, False, False,\n",
      "                   False, False, False, False],\n",
      "       fill_value='?',\n",
      "            dtype=object), 'params': [{'max_depth': 4, 'min_samples_leaf': 5}, {'max_depth': 4, 'min_samples_leaf': 3}, {'max_depth': 4, 'min_samples_leaf': 2}, {'max_depth': 3, 'min_samples_leaf': 5}, {'max_depth': 3, 'min_samples_leaf': 3}, {'max_depth': 3, 'min_samples_leaf': 2}, {'max_depth': 2, 'min_samples_leaf': 5}, {'max_depth': 2, 'min_samples_leaf': 3}, {'max_depth': 2, 'min_samples_leaf': 2}, {'max_depth': 1, 'min_samples_leaf': 5}, {'max_depth': 1, 'min_samples_leaf': 3}, {'max_depth': 1, 'min_samples_leaf': 2}], 'split0_test_score': array([0.91304348, 0.91304348, 0.95652174, 0.91304348, 0.91304348,\n",
      "       0.91304348, 0.91304348, 0.91304348, 0.91304348, 0.65217391,\n",
      "       0.65217391, 0.65217391]), 'split1_test_score': array([0.95652174, 0.95652174, 0.95652174, 0.95652174, 0.95652174,\n",
      "       0.95652174, 0.95652174, 0.95652174, 0.95652174, 0.65217391,\n",
      "       0.65217391, 0.65217391]), 'split2_test_score': array([0.95454545, 0.95454545, 0.95454545, 0.95454545, 0.95454545,\n",
      "       0.95454545, 0.95454545, 0.95454545, 0.95454545, 0.68181818,\n",
      "       0.68181818, 0.68181818]), 'split3_test_score': array([0.86363636, 0.90909091, 0.90909091, 0.86363636, 0.86363636,\n",
      "       0.86363636, 0.90909091, 0.90909091, 0.90909091, 0.63636364,\n",
      "       0.63636364, 0.63636364]), 'split4_test_score': array([0.95454545, 0.90909091, 0.90909091, 0.95454545, 0.90909091,\n",
      "       0.90909091, 0.90909091, 0.90909091, 0.90909091, 0.63636364,\n",
      "       0.63636364, 0.63636364]), 'mean_test_score': array([0.9284585 , 0.9284585 , 0.93715415, 0.9284585 , 0.91936759,\n",
      "       0.91936759, 0.9284585 , 0.9284585 , 0.9284585 , 0.65177866,\n",
      "       0.65177866, 0.65177866]), 'std_test_score': array([0.03629914, 0.0221626 , 0.0229249 , 0.03629914, 0.03426219,\n",
      "       0.03426219, 0.0221626 , 0.0221626 , 0.0221626 , 0.01660079,\n",
      "       0.01660079, 0.01660079]), 'rank_test_score': array([ 2,  2,  1,  2,  8,  8,  2,  2,  2, 10, 10, 10]), 'split0_train_score': array([0.95505618, 0.95505618, 0.97752809, 0.95505618, 0.95505618,\n",
      "       0.95505618, 0.95505618, 0.95505618, 0.95505618, 0.6741573 ,\n",
      "       0.6741573 , 0.6741573 ]), 'split1_train_score': array([0.94382022, 0.97752809, 0.97752809, 0.94382022, 0.95505618,\n",
      "       0.95505618, 0.94382022, 0.94382022, 0.94382022, 0.6741573 ,\n",
      "       0.6741573 , 0.6741573 ]), 'split2_train_score': array([0.94444444, 0.96666667, 0.97777778, 0.96666667, 0.96666667,\n",
      "       0.94444444, 0.94444444, 0.94444444, 0.94444444, 0.66666667,\n",
      "       0.66666667, 0.66666667]), 'split3_train_score': array([0.95555556, 0.96666667, 0.97777778, 0.95555556, 0.95555556,\n",
      "       0.95555556, 0.95555556, 0.95555556, 0.95555556, 0.67777778,\n",
      "       0.67777778, 0.67777778]), 'split4_train_score': array([0.96666667, 0.97777778, 0.97777778, 0.96666667, 0.97777778,\n",
      "       0.97777778, 0.95555556, 0.95555556, 0.95555556, 0.67777778,\n",
      "       0.67777778, 0.67777778]), 'mean_train_score': array([0.95310861, 0.96873908, 0.9776779 , 0.95755306, 0.96202247,\n",
      "       0.95757803, 0.95088639, 0.95088639, 0.95088639, 0.67410737,\n",
      "       0.67410737, 0.67410737]), 'std_train_score': array([0.00842548, 0.00842326, 0.00012232, 0.00854319, 0.00904077,\n",
      "       0.01093006, 0.00552121, 0.00552121, 0.00552121, 0.00405741,\n",
      "       0.00405741, 0.00405741])}\n"
     ]
    }
   ],
   "source": [
    "# 모델 파라미터\n",
    "print(f'[grid_CV.grid_CV.best_params_]\t\t{grid_CV.best_params_}')\n",
    "print(f'[grid_CV.grid_CV.best_score_]\t\t{grid_CV.best_score_}')\n",
    "print(f'[grid_CV.grid_CV.best_estimator_]\t\t{grid_CV.best_estimator_}')\n",
    "print(f'[grid_CV.grid_CV.cv_results_]\\n\t\t{grid_CV.cv_results_}')"
   ]
  },
  {
   "cell_type": "code",
   "execution_count": 75,
   "metadata": {},
   "outputs": [
    {
     "data": {
      "text/html": [
       "<div>\n",
       "<style scoped>\n",
       "    .dataframe tbody tr th:only-of-type {\n",
       "        vertical-align: middle;\n",
       "    }\n",
       "\n",
       "    .dataframe tbody tr th {\n",
       "        vertical-align: top;\n",
       "    }\n",
       "\n",
       "    .dataframe thead th {\n",
       "        text-align: right;\n",
       "    }\n",
       "</style>\n",
       "<table border=\"1\" class=\"dataframe\">\n",
       "  <thead>\n",
       "    <tr style=\"text-align: right;\">\n",
       "      <th></th>\n",
       "      <th>mean_fit_time</th>\n",
       "      <th>std_fit_time</th>\n",
       "      <th>mean_score_time</th>\n",
       "      <th>std_score_time</th>\n",
       "      <th>param_max_depth</th>\n",
       "      <th>param_min_samples_leaf</th>\n",
       "      <th>params</th>\n",
       "      <th>split0_test_score</th>\n",
       "      <th>split1_test_score</th>\n",
       "      <th>split2_test_score</th>\n",
       "      <th>...</th>\n",
       "      <th>mean_test_score</th>\n",
       "      <th>std_test_score</th>\n",
       "      <th>rank_test_score</th>\n",
       "      <th>split0_train_score</th>\n",
       "      <th>split1_train_score</th>\n",
       "      <th>split2_train_score</th>\n",
       "      <th>split3_train_score</th>\n",
       "      <th>split4_train_score</th>\n",
       "      <th>mean_train_score</th>\n",
       "      <th>std_train_score</th>\n",
       "    </tr>\n",
       "  </thead>\n",
       "  <tbody>\n",
       "    <tr>\n",
       "      <th>0</th>\n",
       "      <td>0.001981</td>\n",
       "      <td>0.000605</td>\n",
       "      <td>0.003014</td>\n",
       "      <td>0.001994</td>\n",
       "      <td>4</td>\n",
       "      <td>5</td>\n",
       "      <td>{'max_depth': 4, 'min_samples_leaf': 5}</td>\n",
       "      <td>0.913043</td>\n",
       "      <td>0.956522</td>\n",
       "      <td>0.954545</td>\n",
       "      <td>...</td>\n",
       "      <td>0.928458</td>\n",
       "      <td>0.036299</td>\n",
       "      <td>2</td>\n",
       "      <td>0.955056</td>\n",
       "      <td>0.943820</td>\n",
       "      <td>0.944444</td>\n",
       "      <td>0.955556</td>\n",
       "      <td>0.966667</td>\n",
       "      <td>0.953109</td>\n",
       "      <td>0.008425</td>\n",
       "    </tr>\n",
       "    <tr>\n",
       "      <th>1</th>\n",
       "      <td>0.004398</td>\n",
       "      <td>0.003495</td>\n",
       "      <td>0.001998</td>\n",
       "      <td>0.001262</td>\n",
       "      <td>4</td>\n",
       "      <td>3</td>\n",
       "      <td>{'max_depth': 4, 'min_samples_leaf': 3}</td>\n",
       "      <td>0.913043</td>\n",
       "      <td>0.956522</td>\n",
       "      <td>0.954545</td>\n",
       "      <td>...</td>\n",
       "      <td>0.928458</td>\n",
       "      <td>0.022163</td>\n",
       "      <td>2</td>\n",
       "      <td>0.955056</td>\n",
       "      <td>0.977528</td>\n",
       "      <td>0.966667</td>\n",
       "      <td>0.966667</td>\n",
       "      <td>0.977778</td>\n",
       "      <td>0.968739</td>\n",
       "      <td>0.008423</td>\n",
       "    </tr>\n",
       "    <tr>\n",
       "      <th>2</th>\n",
       "      <td>0.001625</td>\n",
       "      <td>0.000470</td>\n",
       "      <td>0.001020</td>\n",
       "      <td>0.000034</td>\n",
       "      <td>4</td>\n",
       "      <td>2</td>\n",
       "      <td>{'max_depth': 4, 'min_samples_leaf': 2}</td>\n",
       "      <td>0.956522</td>\n",
       "      <td>0.956522</td>\n",
       "      <td>0.954545</td>\n",
       "      <td>...</td>\n",
       "      <td>0.937154</td>\n",
       "      <td>0.022925</td>\n",
       "      <td>1</td>\n",
       "      <td>0.977528</td>\n",
       "      <td>0.977528</td>\n",
       "      <td>0.977778</td>\n",
       "      <td>0.977778</td>\n",
       "      <td>0.977778</td>\n",
       "      <td>0.977678</td>\n",
       "      <td>0.000122</td>\n",
       "    </tr>\n",
       "    <tr>\n",
       "      <th>3</th>\n",
       "      <td>0.001413</td>\n",
       "      <td>0.000496</td>\n",
       "      <td>0.001008</td>\n",
       "      <td>0.000002</td>\n",
       "      <td>3</td>\n",
       "      <td>5</td>\n",
       "      <td>{'max_depth': 3, 'min_samples_leaf': 5}</td>\n",
       "      <td>0.913043</td>\n",
       "      <td>0.956522</td>\n",
       "      <td>0.954545</td>\n",
       "      <td>...</td>\n",
       "      <td>0.928458</td>\n",
       "      <td>0.036299</td>\n",
       "      <td>2</td>\n",
       "      <td>0.955056</td>\n",
       "      <td>0.943820</td>\n",
       "      <td>0.966667</td>\n",
       "      <td>0.955556</td>\n",
       "      <td>0.966667</td>\n",
       "      <td>0.957553</td>\n",
       "      <td>0.008543</td>\n",
       "    </tr>\n",
       "    <tr>\n",
       "      <th>4</th>\n",
       "      <td>0.001623</td>\n",
       "      <td>0.000508</td>\n",
       "      <td>0.001287</td>\n",
       "      <td>0.000369</td>\n",
       "      <td>3</td>\n",
       "      <td>3</td>\n",
       "      <td>{'max_depth': 3, 'min_samples_leaf': 3}</td>\n",
       "      <td>0.913043</td>\n",
       "      <td>0.956522</td>\n",
       "      <td>0.954545</td>\n",
       "      <td>...</td>\n",
       "      <td>0.919368</td>\n",
       "      <td>0.034262</td>\n",
       "      <td>8</td>\n",
       "      <td>0.955056</td>\n",
       "      <td>0.955056</td>\n",
       "      <td>0.966667</td>\n",
       "      <td>0.955556</td>\n",
       "      <td>0.977778</td>\n",
       "      <td>0.962022</td>\n",
       "      <td>0.009041</td>\n",
       "    </tr>\n",
       "  </tbody>\n",
       "</table>\n",
       "<p>5 rows × 22 columns</p>\n",
       "</div>"
      ],
      "text/plain": [
       "   mean_fit_time  std_fit_time  mean_score_time  std_score_time  \\\n",
       "0       0.001981      0.000605         0.003014        0.001994   \n",
       "1       0.004398      0.003495         0.001998        0.001262   \n",
       "2       0.001625      0.000470         0.001020        0.000034   \n",
       "3       0.001413      0.000496         0.001008        0.000002   \n",
       "4       0.001623      0.000508         0.001287        0.000369   \n",
       "\n",
       "  param_max_depth param_min_samples_leaf  \\\n",
       "0               4                      5   \n",
       "1               4                      3   \n",
       "2               4                      2   \n",
       "3               3                      5   \n",
       "4               3                      3   \n",
       "\n",
       "                                    params  split0_test_score  \\\n",
       "0  {'max_depth': 4, 'min_samples_leaf': 5}           0.913043   \n",
       "1  {'max_depth': 4, 'min_samples_leaf': 3}           0.913043   \n",
       "2  {'max_depth': 4, 'min_samples_leaf': 2}           0.956522   \n",
       "3  {'max_depth': 3, 'min_samples_leaf': 5}           0.913043   \n",
       "4  {'max_depth': 3, 'min_samples_leaf': 3}           0.913043   \n",
       "\n",
       "   split1_test_score  split2_test_score  ...  mean_test_score  std_test_score  \\\n",
       "0           0.956522           0.954545  ...         0.928458        0.036299   \n",
       "1           0.956522           0.954545  ...         0.928458        0.022163   \n",
       "2           0.956522           0.954545  ...         0.937154        0.022925   \n",
       "3           0.956522           0.954545  ...         0.928458        0.036299   \n",
       "4           0.956522           0.954545  ...         0.919368        0.034262   \n",
       "\n",
       "   rank_test_score  split0_train_score  split1_train_score  \\\n",
       "0                2            0.955056            0.943820   \n",
       "1                2            0.955056            0.977528   \n",
       "2                1            0.977528            0.977528   \n",
       "3                2            0.955056            0.943820   \n",
       "4                8            0.955056            0.955056   \n",
       "\n",
       "   split2_train_score  split3_train_score  split4_train_score  \\\n",
       "0            0.944444            0.955556            0.966667   \n",
       "1            0.966667            0.966667            0.977778   \n",
       "2            0.977778            0.977778            0.977778   \n",
       "3            0.966667            0.955556            0.966667   \n",
       "4            0.966667            0.955556            0.977778   \n",
       "\n",
       "   mean_train_score  std_train_score  \n",
       "0          0.953109         0.008425  \n",
       "1          0.968739         0.008423  \n",
       "2          0.977678         0.000122  \n",
       "3          0.957553         0.008543  \n",
       "4          0.962022         0.009041  \n",
       "\n",
       "[5 rows x 22 columns]"
      ]
     },
     "execution_count": 75,
     "metadata": {},
     "output_type": "execute_result"
    }
   ],
   "source": [
    "grid_cv_result = pd.DataFrame(grid_CV.cv_results_)\n",
    "grid_cv_result.head(5)"
   ]
  },
  {
   "cell_type": "code",
   "execution_count": 76,
   "metadata": {},
   "outputs": [
    {
     "data": {
      "text/plain": [
       "Index(['mean_fit_time', 'std_fit_time', 'mean_score_time', 'std_score_time',\n",
       "       'param_max_depth', 'param_min_samples_leaf', 'params',\n",
       "       'split0_test_score', 'split1_test_score', 'split2_test_score',\n",
       "       'split3_test_score', 'split4_test_score', 'mean_test_score',\n",
       "       'std_test_score', 'rank_test_score', 'split0_train_score',\n",
       "       'split1_train_score', 'split2_train_score', 'split3_train_score',\n",
       "       'split4_train_score', 'mean_train_score', 'std_train_score'],\n",
       "      dtype='object')"
      ]
     },
     "execution_count": 76,
     "metadata": {},
     "output_type": "execute_result"
    }
   ],
   "source": [
    "grid_cv_result.columns"
   ]
  },
  {
   "cell_type": "code",
   "execution_count": 77,
   "metadata": {},
   "outputs": [
    {
     "data": {
      "text/plain": [
       "(12, 22)"
      ]
     },
     "execution_count": 77,
     "metadata": {},
     "output_type": "execute_result"
    }
   ],
   "source": [
    "grid_cv_result.shape"
   ]
  },
  {
   "cell_type": "markdown",
   "metadata": {},
   "source": [
    "mean_train_score, mean_test_score 칼럼 추출해서 모델 성능 비교"
   ]
  },
  {
   "cell_type": "markdown",
   "metadata": {},
   "source": [
    "####  주요 피쳐 시각화"
   ]
  },
  {
   "cell_type": "code",
   "execution_count": 78,
   "metadata": {},
   "outputs": [
    {
     "name": "stdout",
     "output_type": "stream",
     "text": [
      "[best_model.max_depth] 4\n",
      "[best_model.min_samples_leaf] 2\n"
     ]
    }
   ],
   "source": [
    "best_model = grid_CV.best_estimator_\n",
    "print(f'[best_model.max_depth] {best_model.max_depth}')\n",
    "print(f'[best_model.min_samples_leaf] {best_model.min_samples_leaf}')"
   ]
  },
  {
   "cell_type": "code",
   "execution_count": 79,
   "metadata": {},
   "outputs": [
    {
     "data": {
      "text/plain": [
       "(array([0.01321873, 0.        , 0.59964451, 0.38713677]), 4)"
      ]
     },
     "execution_count": 79,
     "metadata": {},
     "output_type": "execute_result"
    }
   ],
   "source": [
    "# 피쳐 중요도 및 개수\n",
    "best_model.feature_importances_, best_model.n_features_in_"
   ]
  },
  {
   "cell_type": "code",
   "execution_count": 80,
   "metadata": {},
   "outputs": [
    {
     "data": {
      "image/png": "[encoded data removed]",
      "text/plain": [
       "<Figure size 640x480 with 1 Axes>"
      ]
     },
     "metadata": {},
     "output_type": "display_data"
    }
   ],
   "source": [
    "import matplotlib.pyplot as plt\n",
    "\n",
    "plt.barh(range(best_model.n_features_in_), best_model.feature_importances_, align='center')\n",
    "plt.yticks(np.arange(best_model.n_features_in_), best_model.feature_names_in_)\n",
    "plt.xlabel(\"[Feature Importance]\")\n",
    "plt.ylabel(\"Feature\")\n",
    "plt.show()"
   ]
  },
  {
   "cell_type": "markdown",
   "metadata": {},
   "source": [
    "#### DT 그래프 시각화 w/ Graphviz\n",
    "- Graphviz 프로그램 다운 & 설치\t\t=> C++/C# (이미지 처리 특화)\n",
    "- python용 패키지 (wraper) 설치\n",
    "- .dot 파일로 저장된 DT 결과를 graphviz로 읽어 시각화"
   ]
  },
  {
   "cell_type": "code",
   "execution_count": 81,
   "metadata": {},
   "outputs": [
    {
     "name": "stdout",
     "output_type": "stream",
     "text": [
      "dict_keys(['data', 'target', 'frame', 'target_names', 'DESCR', 'feature_names', 'filename', 'data_module'])\n"
     ]
    },
    {
     "data": {
      "text/plain": [
       "array(['setosa', 'versicolor', 'virginica'], dtype='<U10')"
      ]
     },
     "execution_count": 81,
     "metadata": {},
     "output_type": "execute_result"
    }
   ],
   "source": [
    "from sklearn.datasets import load_iris\n",
    "iris = load_iris()\n",
    "print(iris.keys())\n",
    "iris.target_names"
   ]
  },
  {
   "cell_type": "code",
   "execution_count": 84,
   "metadata": {},
   "outputs": [],
   "source": [
    "from sklearn.tree import export_graphviz\n",
    "\n",
    "# DT 모델 결과를 .dot 파일로 저장 => export_graphviz\n",
    "export_graphviz(best_model, out_file='tree.dot', class_names=['setosa', 'versicolor', 'virginica'],\n",
    "                feature_names=best_model.feature_names_in_,\n",
    "                impurity=True,\n",
    "                filled=True,\n",
    "                rotate=True\t\t\t\t\t\t# 가로방향으로 회전\n",
    "                )"
   ]
  },
  {
   "cell_type": "code",
   "execution_count": 85,
   "metadata": {},
   "outputs": [
    {
     "data": {
      "image/svg+xml": [
       "<?xml version=\"1.0\" encoding=\"UTF-8\" standalone=\"no\"?>\n",
       "<!DOCTYPE svg PUBLIC \"-//W3C//DTD SVG 1.1//EN\"\n",
       " \"http://www.w3.org/Graphics/SVG/1.1/DTD/svg11.dtd\">\n",
       "<!-- Generated by graphviz version 12.1.0 (20240811.2233)\n",
       " -->\n",
       "<!-- Title: Tree Pages: 1 -->\n",
       "<svg width=\"925pt\" height=\"459pt\"\n",
       " viewBox=\"0.00 0.00 925.00 459.00\" xmlns=\"http://www.w3.org/2000/svg\" xmlns:xlink=\"http://www.w3.org/1999/xlink\">\n",
       "<g id=\"graph0\" class=\"graph\" transform=\"scale(1 1) rotate(0) translate(4 455)\">\n",
       "<title>Tree</title>\n",
       "<polygon fill=\"white\" stroke=\"none\" points=\"-4,4 -4,-455 921,-455 921,4 -4,4\"/>\n",
       "<!-- 0 -->\n",
       "<g id=\"node1\" class=\"node\">\n",
       "<title>0</title>\n",
       "<polygon fill=\"#fffdfc\" stroke=\"black\" points=\"160,-265.88 0,-265.88 0,-179.12 160,-179.12 160,-265.88\"/>\n",
       "<text text-anchor=\"middle\" x=\"80\" y=\"-248.57\" font-family=\"Helvetica,sans-Serif\" font-size=\"14.00\">petal length (cm) &lt;= 2.7</text>\n",
       "<text text-anchor=\"middle\" x=\"80\" y=\"-232.82\" font-family=\"Helvetica,sans-Serif\" font-size=\"14.00\">gini = 0.667</text>\n",
       "<text text-anchor=\"middle\" x=\"80\" y=\"-217.07\" font-family=\"Helvetica,sans-Serif\" font-size=\"14.00\">samples = 112</text>\n",
       "<text text-anchor=\"middle\" x=\"80\" y=\"-201.32\" font-family=\"Helvetica,sans-Serif\" font-size=\"14.00\">value = [38, 37, 37]</text>\n",
       "<text text-anchor=\"middle\" x=\"80\" y=\"-185.57\" font-family=\"Helvetica,sans-Serif\" font-size=\"14.00\">class = setosa</text>\n",
       "</g>\n",
       "<!-- 1 -->\n",
       "<g id=\"node2\" class=\"node\">\n",
       "<title>1</title>\n",
       "<polygon fill=\"#e58139\" stroke=\"black\" points=\"335.38,-307 218.88,-307 218.88,-236 335.38,-236 335.38,-307\"/>\n",
       "<text text-anchor=\"middle\" x=\"277.12\" y=\"-289.7\" font-family=\"Helvetica,sans-Serif\" font-size=\"14.00\">gini = 0.0</text>\n",
       "<text text-anchor=\"middle\" x=\"277.12\" y=\"-273.95\" font-family=\"Helvetica,sans-Serif\" font-size=\"14.00\">samples = 38</text>\n",
       "<text text-anchor=\"middle\" x=\"277.12\" y=\"-258.2\" font-family=\"Helvetica,sans-Serif\" font-size=\"14.00\">value = [38, 0, 0]</text>\n",
       "<text text-anchor=\"middle\" x=\"277.12\" y=\"-242.45\" font-family=\"Helvetica,sans-Serif\" font-size=\"14.00\">class = setosa</text>\n",
       "</g>\n",
       "<!-- 0&#45;&gt;1 -->\n",
       "<g id=\"edge1\" class=\"edge\">\n",
       "<title>0&#45;&gt;1</title>\n",
       "<path fill=\"none\" stroke=\"black\" d=\"M160.36,-242.43C176.07,-246.37 192.43,-250.48 207.74,-254.33\"/>\n",
       "<polygon fill=\"black\" stroke=\"black\" points=\"206.65,-257.66 217.2,-256.7 208.35,-250.87 206.65,-257.66\"/>\n",
       "<text text-anchor=\"middle\" x=\"197.22\" y=\"-264.49\" font-family=\"Helvetica,sans-Serif\" font-size=\"14.00\">True</text>\n",
       "</g>\n",
       "<!-- 2 -->\n",
       "<g id=\"node3\" class=\"node\">\n",
       "<title>2</title>\n",
       "<polygon fill=\"#ffffff\" stroke=\"black\" points=\"358.25,-217.88 196,-217.88 196,-131.12 358.25,-131.12 358.25,-217.88\"/>\n",
       "<text text-anchor=\"middle\" x=\"277.12\" y=\"-200.57\" font-family=\"Helvetica,sans-Serif\" font-size=\"14.00\">petal width (cm) &lt;= 1.75</text>\n",
       "<text text-anchor=\"middle\" x=\"277.12\" y=\"-184.82\" font-family=\"Helvetica,sans-Serif\" font-size=\"14.00\">gini = 0.5</text>\n",
       "<text text-anchor=\"middle\" x=\"277.12\" y=\"-169.07\" font-family=\"Helvetica,sans-Serif\" font-size=\"14.00\">samples = 74</text>\n",
       "<text text-anchor=\"middle\" x=\"277.12\" y=\"-153.32\" font-family=\"Helvetica,sans-Serif\" font-size=\"14.00\">value = [0, 37, 37]</text>\n",
       "<text text-anchor=\"middle\" x=\"277.12\" y=\"-137.57\" font-family=\"Helvetica,sans-Serif\" font-size=\"14.00\">class = versicolor</text>\n",
       "</g>\n",
       "<!-- 0&#45;&gt;2 -->\n",
       "<g id=\"edge2\" class=\"edge\">\n",
       "<title>0&#45;&gt;2</title>\n",
       "<path fill=\"none\" stroke=\"black\" d=\"M160.36,-202.98C168.34,-201.01 176.49,-199.01 184.58,-197.02\"/>\n",
       "<polygon fill=\"black\" stroke=\"black\" points=\"185.22,-200.47 194.09,-194.68 183.55,-193.67 185.22,-200.47\"/>\n",
       "<text text-anchor=\"middle\" x=\"174.17\" y=\"-175.95\" font-family=\"Helvetica,sans-Serif\" font-size=\"14.00\">False</text>\n",
       "</g>\n",
       "<!-- 3 -->\n",
       "<g id=\"node4\" class=\"node\">\n",
       "<title>3</title>\n",
       "<polygon fill=\"#54e992\" stroke=\"black\" points=\"561.75,-270.88 394.25,-270.88 394.25,-184.12 561.75,-184.12 561.75,-270.88\"/>\n",
       "<text text-anchor=\"middle\" x=\"478\" y=\"-253.57\" font-family=\"Helvetica,sans-Serif\" font-size=\"14.00\">petal length (cm) &lt;= 4.95</text>\n",
       "<text text-anchor=\"middle\" x=\"478\" y=\"-237.82\" font-family=\"Helvetica,sans-Serif\" font-size=\"14.00\">gini = 0.214</text>\n",
       "<text text-anchor=\"middle\" x=\"478\" y=\"-222.07\" font-family=\"Helvetica,sans-Serif\" font-size=\"14.00\">samples = 41</text>\n",
       "<text text-anchor=\"middle\" x=\"478\" y=\"-206.32\" font-family=\"Helvetica,sans-Serif\" font-size=\"14.00\">value = [0, 36, 5]</text>\n",
       "<text text-anchor=\"middle\" x=\"478\" y=\"-190.57\" font-family=\"Helvetica,sans-Serif\" font-size=\"14.00\">class = versicolor</text>\n",
       "</g>\n",
       "<!-- 2&#45;&gt;3 -->\n",
       "<g id=\"edge3\" class=\"edge\">\n",
       "<title>2&#45;&gt;3</title>\n",
       "<path fill=\"none\" stroke=\"black\" d=\"M358.73,-195.98C366.72,-198.11 374.89,-200.29 383,-202.45\"/>\n",
       "<polygon fill=\"black\" stroke=\"black\" points=\"381.99,-205.8 392.55,-205 383.79,-199.04 381.99,-205.8\"/>\n",
       "</g>\n",
       "<!-- 10 -->\n",
       "<g id=\"node11\" class=\"node\">\n",
       "<title>10</title>\n",
       "<polygon fill=\"#853fe6\" stroke=\"black\" points=\"561.75,-165.88 394.25,-165.88 394.25,-79.12 561.75,-79.12 561.75,-165.88\"/>\n",
       "<text text-anchor=\"middle\" x=\"478\" y=\"-148.57\" font-family=\"Helvetica,sans-Serif\" font-size=\"14.00\">petal length (cm) &lt;= 4.85</text>\n",
       "<text text-anchor=\"middle\" x=\"478\" y=\"-132.82\" font-family=\"Helvetica,sans-Serif\" font-size=\"14.00\">gini = 0.059</text>\n",
       "<text text-anchor=\"middle\" x=\"478\" y=\"-117.08\" font-family=\"Helvetica,sans-Serif\" font-size=\"14.00\">samples = 33</text>\n",
       "<text text-anchor=\"middle\" x=\"478\" y=\"-101.33\" font-family=\"Helvetica,sans-Serif\" font-size=\"14.00\">value = [0, 1, 32]</text>\n",
       "<text text-anchor=\"middle\" x=\"478\" y=\"-85.58\" font-family=\"Helvetica,sans-Serif\" font-size=\"14.00\">class = virginica</text>\n",
       "</g>\n",
       "<!-- 2&#45;&gt;10 -->\n",
       "<g id=\"edge10\" class=\"edge\">\n",
       "<title>2&#45;&gt;10</title>\n",
       "<path fill=\"none\" stroke=\"black\" d=\"M358.73,-153.42C366.72,-151.33 374.89,-149.2 383,-147.08\"/>\n",
       "<polygon fill=\"black\" stroke=\"black\" points=\"383.76,-150.5 392.55,-144.58 381.99,-143.72 383.76,-150.5\"/>\n",
       "</g>\n",
       "<!-- 4 -->\n",
       "<g id=\"node5\" class=\"node\">\n",
       "<title>4</title>\n",
       "<polygon fill=\"#3fe685\" stroke=\"black\" points=\"760.75,-373.88 597.75,-373.88 597.75,-287.12 760.75,-287.12 760.75,-373.88\"/>\n",
       "<text text-anchor=\"middle\" x=\"679.25\" y=\"-356.57\" font-family=\"Helvetica,sans-Serif\" font-size=\"14.00\">sepal length (cm) &lt;= 5.1</text>\n",
       "<text text-anchor=\"middle\" x=\"679.25\" y=\"-340.82\" font-family=\"Helvetica,sans-Serif\" font-size=\"14.00\">gini = 0.056</text>\n",
       "<text text-anchor=\"middle\" x=\"679.25\" y=\"-325.07\" font-family=\"Helvetica,sans-Serif\" font-size=\"14.00\">samples = 35</text>\n",
       "<text text-anchor=\"middle\" x=\"679.25\" y=\"-309.32\" font-family=\"Helvetica,sans-Serif\" font-size=\"14.00\">value = [0, 34, 1]</text>\n",
       "<text text-anchor=\"middle\" x=\"679.25\" y=\"-293.57\" font-family=\"Helvetica,sans-Serif\" font-size=\"14.00\">class = versicolor</text>\n",
       "</g>\n",
       "<!-- 3&#45;&gt;4 -->\n",
       "<g id=\"edge4\" class=\"edge\">\n",
       "<title>3&#45;&gt;4</title>\n",
       "<path fill=\"none\" stroke=\"black\" d=\"M562.06,-270.44C570.41,-274.75 578.92,-279.15 587.34,-283.51\"/>\n",
       "<polygon fill=\"black\" stroke=\"black\" points=\"585.73,-286.61 596.22,-288.1 588.94,-280.39 585.73,-286.61\"/>\n",
       "</g>\n",
       "<!-- 7 -->\n",
       "<g id=\"node8\" class=\"node\">\n",
       "<title>7</title>\n",
       "<polygon fill=\"#c09cf2\" stroke=\"black\" points=\"760.38,-268.88 598.12,-268.88 598.12,-182.12 760.38,-182.12 760.38,-268.88\"/>\n",
       "<text text-anchor=\"middle\" x=\"679.25\" y=\"-251.57\" font-family=\"Helvetica,sans-Serif\" font-size=\"14.00\">petal width (cm) &lt;= 1.55</text>\n",
       "<text text-anchor=\"middle\" x=\"679.25\" y=\"-235.82\" font-family=\"Helvetica,sans-Serif\" font-size=\"14.00\">gini = 0.444</text>\n",
       "<text text-anchor=\"middle\" x=\"679.25\" y=\"-220.07\" font-family=\"Helvetica,sans-Serif\" font-size=\"14.00\">samples = 6</text>\n",
       "<text text-anchor=\"middle\" x=\"679.25\" y=\"-204.32\" font-family=\"Helvetica,sans-Serif\" font-size=\"14.00\">value = [0, 2, 4]</text>\n",
       "<text text-anchor=\"middle\" x=\"679.25\" y=\"-188.57\" font-family=\"Helvetica,sans-Serif\" font-size=\"14.00\">class = virginica</text>\n",
       "</g>\n",
       "<!-- 3&#45;&gt;7 -->\n",
       "<g id=\"edge7\" class=\"edge\">\n",
       "<title>3&#45;&gt;7</title>\n",
       "<path fill=\"none\" stroke=\"black\" d=\"M562.06,-226.67C570.11,-226.59 578.32,-226.5 586.45,-226.42\"/>\n",
       "<polygon fill=\"black\" stroke=\"black\" points=\"586.41,-229.92 596.37,-226.32 586.34,-222.92 586.41,-229.92\"/>\n",
       "</g>\n",
       "<!-- 5 -->\n",
       "<g id=\"node6\" class=\"node\">\n",
       "<title>5</title>\n",
       "<polygon fill=\"#ffffff\" stroke=\"black\" points=\"917,-451 796.75,-451 796.75,-380 917,-380 917,-451\"/>\n",
       "<text text-anchor=\"middle\" x=\"856.88\" y=\"-433.7\" font-family=\"Helvetica,sans-Serif\" font-size=\"14.00\">gini = 0.5</text>\n",
       "<text text-anchor=\"middle\" x=\"856.88\" y=\"-417.95\" font-family=\"Helvetica,sans-Serif\" font-size=\"14.00\">samples = 2</text>\n",
       "<text text-anchor=\"middle\" x=\"856.88\" y=\"-402.2\" font-family=\"Helvetica,sans-Serif\" font-size=\"14.00\">value = [0, 1, 1]</text>\n",
       "<text text-anchor=\"middle\" x=\"856.88\" y=\"-386.45\" font-family=\"Helvetica,sans-Serif\" font-size=\"14.00\">class = versicolor</text>\n",
       "</g>\n",
       "<!-- 4&#45;&gt;5 -->\n",
       "<g id=\"edge5\" class=\"edge\">\n",
       "<title>4&#45;&gt;5</title>\n",
       "<path fill=\"none\" stroke=\"black\" d=\"M761.12,-369.64C769.48,-373.69 777.92,-377.77 786.14,-381.75\"/>\n",
       "<polygon fill=\"black\" stroke=\"black\" points=\"784.52,-384.85 795.04,-386.06 787.57,-378.55 784.52,-384.85\"/>\n",
       "</g>\n",
       "<!-- 6 -->\n",
       "<g id=\"node7\" class=\"node\">\n",
       "<title>6</title>\n",
       "<polygon fill=\"#39e581\" stroke=\"black\" points=\"917,-362 796.75,-362 796.75,-291 917,-291 917,-362\"/>\n",
       "<text text-anchor=\"middle\" x=\"856.88\" y=\"-344.7\" font-family=\"Helvetica,sans-Serif\" font-size=\"14.00\">gini = 0.0</text>\n",
       "<text text-anchor=\"middle\" x=\"856.88\" y=\"-328.95\" font-family=\"Helvetica,sans-Serif\" font-size=\"14.00\">samples = 33</text>\n",
       "<text text-anchor=\"middle\" x=\"856.88\" y=\"-313.2\" font-family=\"Helvetica,sans-Serif\" font-size=\"14.00\">value = [0, 33, 0]</text>\n",
       "<text text-anchor=\"middle\" x=\"856.88\" y=\"-297.45\" font-family=\"Helvetica,sans-Serif\" font-size=\"14.00\">class = versicolor</text>\n",
       "</g>\n",
       "<!-- 4&#45;&gt;6 -->\n",
       "<g id=\"edge6\" class=\"edge\">\n",
       "<title>4&#45;&gt;6</title>\n",
       "<path fill=\"none\" stroke=\"black\" d=\"M761.12,-328.66C769.11,-328.48 777.17,-328.29 785.04,-328.11\"/>\n",
       "<polygon fill=\"black\" stroke=\"black\" points=\"784.98,-331.62 794.89,-327.89 784.82,-324.62 784.98,-331.62\"/>\n",
       "</g>\n",
       "<!-- 8 -->\n",
       "<g id=\"node9\" class=\"node\">\n",
       "<title>8</title>\n",
       "<polygon fill=\"#8139e5\" stroke=\"black\" points=\"912.88,-265 800.88,-265 800.88,-194 912.88,-194 912.88,-265\"/>\n",
       "<text text-anchor=\"middle\" x=\"856.88\" y=\"-247.7\" font-family=\"Helvetica,sans-Serif\" font-size=\"14.00\">gini = 0.0</text>\n",
       "<text text-anchor=\"middle\" x=\"856.88\" y=\"-231.95\" font-family=\"Helvetica,sans-Serif\" font-size=\"14.00\">samples = 3</text>\n",
       "<text text-anchor=\"middle\" x=\"856.88\" y=\"-216.2\" font-family=\"Helvetica,sans-Serif\" font-size=\"14.00\">value = [0, 0, 3]</text>\n",
       "<text text-anchor=\"middle\" x=\"856.88\" y=\"-200.45\" font-family=\"Helvetica,sans-Serif\" font-size=\"14.00\">class = virginica</text>\n",
       "</g>\n",
       "<!-- 7&#45;&gt;8 -->\n",
       "<g id=\"edge8\" class=\"edge\">\n",
       "<title>7&#45;&gt;8</title>\n",
       "<path fill=\"none\" stroke=\"black\" d=\"M760.87,-227.34C770.31,-227.55 779.87,-227.77 789.1,-227.98\"/>\n",
       "<polygon fill=\"black\" stroke=\"black\" points=\"788.99,-231.48 799.07,-228.21 789.15,-224.48 788.99,-231.48\"/>\n",
       "</g>\n",
       "<!-- 9 -->\n",
       "<g id=\"node10\" class=\"node\">\n",
       "<title>9</title>\n",
       "<polygon fill=\"#9cf2c0\" stroke=\"black\" points=\"917,-176 796.75,-176 796.75,-105 917,-105 917,-176\"/>\n",
       "<text text-anchor=\"middle\" x=\"856.88\" y=\"-158.7\" font-family=\"Helvetica,sans-Serif\" font-size=\"14.00\">gini = 0.444</text>\n",
       "<text text-anchor=\"middle\" x=\"856.88\" y=\"-142.95\" font-family=\"Helvetica,sans-Serif\" font-size=\"14.00\">samples = 3</text>\n",
       "<text text-anchor=\"middle\" x=\"856.88\" y=\"-127.2\" font-family=\"Helvetica,sans-Serif\" font-size=\"14.00\">value = [0, 2, 1]</text>\n",
       "<text text-anchor=\"middle\" x=\"856.88\" y=\"-111.45\" font-family=\"Helvetica,sans-Serif\" font-size=\"14.00\">class = versicolor</text>\n",
       "</g>\n",
       "<!-- 7&#45;&gt;9 -->\n",
       "<g id=\"edge9\" class=\"edge\">\n",
       "<title>7&#45;&gt;9</title>\n",
       "<path fill=\"none\" stroke=\"black\" d=\"M760.87,-186.48C769.39,-182.36 778.01,-178.19 786.39,-174.13\"/>\n",
       "<polygon fill=\"black\" stroke=\"black\" points=\"787.64,-177.41 795.12,-169.9 784.6,-171.11 787.64,-177.41\"/>\n",
       "</g>\n",
       "<!-- 11 -->\n",
       "<g id=\"node12\" class=\"node\">\n",
       "<title>11</title>\n",
       "<polygon fill=\"#ffffff\" stroke=\"black\" points=\"739.38,-160 619.12,-160 619.12,-89 739.38,-89 739.38,-160\"/>\n",
       "<text text-anchor=\"middle\" x=\"679.25\" y=\"-142.7\" font-family=\"Helvetica,sans-Serif\" font-size=\"14.00\">gini = 0.5</text>\n",
       "<text text-anchor=\"middle\" x=\"679.25\" y=\"-126.95\" font-family=\"Helvetica,sans-Serif\" font-size=\"14.00\">samples = 2</text>\n",
       "<text text-anchor=\"middle\" x=\"679.25\" y=\"-111.2\" font-family=\"Helvetica,sans-Serif\" font-size=\"14.00\">value = [0, 1, 1]</text>\n",
       "<text text-anchor=\"middle\" x=\"679.25\" y=\"-95.45\" font-family=\"Helvetica,sans-Serif\" font-size=\"14.00\">class = versicolor</text>\n",
       "</g>\n",
       "<!-- 10&#45;&gt;11 -->\n",
       "<g id=\"edge11\" class=\"edge\">\n",
       "<title>10&#45;&gt;11</title>\n",
       "<path fill=\"none\" stroke=\"black\" d=\"M562.06,-123.33C577.05,-123.48 592.57,-123.64 607.19,-123.79\"/>\n",
       "<polygon fill=\"black\" stroke=\"black\" points=\"607.14,-127.29 617.18,-123.89 607.21,-120.29 607.14,-127.29\"/>\n",
       "</g>\n",
       "<!-- 12 -->\n",
       "<g id=\"node13\" class=\"node\">\n",
       "<title>12</title>\n",
       "<polygon fill=\"#8139e5\" stroke=\"black\" points=\"737.5,-71 621,-71 621,0 737.5,0 737.5,-71\"/>\n",
       "<text text-anchor=\"middle\" x=\"679.25\" y=\"-53.7\" font-family=\"Helvetica,sans-Serif\" font-size=\"14.00\">gini = 0.0</text>\n",
       "<text text-anchor=\"middle\" x=\"679.25\" y=\"-37.95\" font-family=\"Helvetica,sans-Serif\" font-size=\"14.00\">samples = 31</text>\n",
       "<text text-anchor=\"middle\" x=\"679.25\" y=\"-22.2\" font-family=\"Helvetica,sans-Serif\" font-size=\"14.00\">value = [0, 0, 31]</text>\n",
       "<text text-anchor=\"middle\" x=\"679.25\" y=\"-6.45\" font-family=\"Helvetica,sans-Serif\" font-size=\"14.00\">class = virginica</text>\n",
       "</g>\n",
       "<!-- 10&#45;&gt;12 -->\n",
       "<g id=\"edge12\" class=\"edge\">\n",
       "<title>10&#45;&gt;12</title>\n",
       "<path fill=\"none\" stroke=\"black\" d=\"M562.06,-86.23C578.11,-79.23 594.75,-71.96 610.25,-65.19\"/>\n",
       "<polygon fill=\"black\" stroke=\"black\" points=\"611.63,-68.41 619.39,-61.2 608.83,-61.99 611.63,-68.41\"/>\n",
       "</g>\n",
       "</g>\n",
       "</svg>\n"
      ],
      "text/plain": [
       "<graphviz.sources.Source at 0x2178705fd60>"
      ]
     },
     "execution_count": 85,
     "metadata": {},
     "output_type": "execute_result"
    }
   ],
   "source": [
    "# .dot 파일 출력\n",
    "import graphviz\n",
    "\n",
    "with open('tree.dot') as f:\n",
    "    \n",
    "\t# 파일 내용 읽기\n",
    "    dot_data = f.read()\n",
    "    \n",
    "graphviz.Source(dot_data)\n",
    "    \n"
   ]
  },
  {
   "cell_type": "markdown",
   "metadata": {},
   "source": [
    "#### p.198 check!!"
   ]
  },
  {
   "cell_type": "code",
   "execution_count": null,
   "metadata": {},
   "outputs": [],
   "source": []
  }
 ],
 "metadata": {
  "kernelspec": {
   "display_name": "base",
   "language": "python",
   "name": "python3"
  },
  "language_info": {
   "codemirror_mode": {
    "name": "ipython",
    "version": 3
   },
   "file_extension": ".py",
   "mimetype": "text/x-python",
   "name": "python",
   "nbconvert_exporter": "python",
   "pygments_lexer": "ipython3",
   "version": "3.8.19"
  }
 },
 "nbformat": 4,
 "nbformat_minor": 2
}
