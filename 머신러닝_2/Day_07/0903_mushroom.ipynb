{
 "cells": [
  {
   "cell_type": "markdown",
   "metadata": {},
   "source": [
    "### 독버섯 분류\n",
    "- 데이터셋: mushroom.csv\n",
    "- 알고리즘: 지도학습 >> 분류\n",
    "- 학습알고리즘:\tlogisticRegression, DecisionTreeClassifier, VotingClassifier\n",
    "\n",
    "- 3개 알고리좀으로 구현 후 성능 비교"
   ]
  },
  {
   "cell_type": "code",
   "execution_count": 1,
   "metadata": {},
   "outputs": [],
   "source": [
    "import pandas as pd\n",
    "import numpy as np\n"
   ]
  },
  {
   "cell_type": "code",
   "execution_count": 2,
   "metadata": {},
   "outputs": [
    {
     "data": {
      "text/html": [
       "<div>\n",
       "<style scoped>\n",
       "    .dataframe tbody tr th:only-of-type {\n",
       "        vertical-align: middle;\n",
       "    }\n",
       "\n",
       "    .dataframe tbody tr th {\n",
       "        vertical-align: top;\n",
       "    }\n",
       "\n",
       "    .dataframe thead th {\n",
       "        text-align: right;\n",
       "    }\n",
       "</style>\n",
       "<table border=\"1\" class=\"dataframe\">\n",
       "  <thead>\n",
       "    <tr style=\"text-align: right;\">\n",
       "      <th></th>\n",
       "      <th>class</th>\n",
       "      <th>cap-shape</th>\n",
       "      <th>cap-surface</th>\n",
       "      <th>cap-color</th>\n",
       "      <th>bruises</th>\n",
       "      <th>odor</th>\n",
       "      <th>gill-attachment</th>\n",
       "      <th>gill-spacing</th>\n",
       "      <th>gill-size</th>\n",
       "      <th>gill-color</th>\n",
       "      <th>...</th>\n",
       "      <th>stalk-surface-below-ring</th>\n",
       "      <th>stalk-color-above-ring</th>\n",
       "      <th>stalk-color-below-ring</th>\n",
       "      <th>veil-type</th>\n",
       "      <th>veil-color</th>\n",
       "      <th>ring-number</th>\n",
       "      <th>ring-type</th>\n",
       "      <th>spore-print-color</th>\n",
       "      <th>population</th>\n",
       "      <th>habitat</th>\n",
       "    </tr>\n",
       "  </thead>\n",
       "  <tbody>\n",
       "    <tr>\n",
       "      <th>0</th>\n",
       "      <td>p</td>\n",
       "      <td>x</td>\n",
       "      <td>s</td>\n",
       "      <td>n</td>\n",
       "      <td>t</td>\n",
       "      <td>p</td>\n",
       "      <td>f</td>\n",
       "      <td>c</td>\n",
       "      <td>n</td>\n",
       "      <td>k</td>\n",
       "      <td>...</td>\n",
       "      <td>s</td>\n",
       "      <td>w</td>\n",
       "      <td>w</td>\n",
       "      <td>p</td>\n",
       "      <td>w</td>\n",
       "      <td>o</td>\n",
       "      <td>p</td>\n",
       "      <td>k</td>\n",
       "      <td>s</td>\n",
       "      <td>u</td>\n",
       "    </tr>\n",
       "    <tr>\n",
       "      <th>1</th>\n",
       "      <td>e</td>\n",
       "      <td>x</td>\n",
       "      <td>s</td>\n",
       "      <td>y</td>\n",
       "      <td>t</td>\n",
       "      <td>a</td>\n",
       "      <td>f</td>\n",
       "      <td>c</td>\n",
       "      <td>b</td>\n",
       "      <td>k</td>\n",
       "      <td>...</td>\n",
       "      <td>s</td>\n",
       "      <td>w</td>\n",
       "      <td>w</td>\n",
       "      <td>p</td>\n",
       "      <td>w</td>\n",
       "      <td>o</td>\n",
       "      <td>p</td>\n",
       "      <td>n</td>\n",
       "      <td>n</td>\n",
       "      <td>g</td>\n",
       "    </tr>\n",
       "    <tr>\n",
       "      <th>2</th>\n",
       "      <td>e</td>\n",
       "      <td>b</td>\n",
       "      <td>s</td>\n",
       "      <td>w</td>\n",
       "      <td>t</td>\n",
       "      <td>l</td>\n",
       "      <td>f</td>\n",
       "      <td>c</td>\n",
       "      <td>b</td>\n",
       "      <td>n</td>\n",
       "      <td>...</td>\n",
       "      <td>s</td>\n",
       "      <td>w</td>\n",
       "      <td>w</td>\n",
       "      <td>p</td>\n",
       "      <td>w</td>\n",
       "      <td>o</td>\n",
       "      <td>p</td>\n",
       "      <td>n</td>\n",
       "      <td>n</td>\n",
       "      <td>m</td>\n",
       "    </tr>\n",
       "  </tbody>\n",
       "</table>\n",
       "<p>3 rows × 23 columns</p>\n",
       "</div>"
      ],
      "text/plain": [
       "  class cap-shape cap-surface cap-color bruises odor gill-attachment  \\\n",
       "0     p         x           s         n       t    p               f   \n",
       "1     e         x           s         y       t    a               f   \n",
       "2     e         b           s         w       t    l               f   \n",
       "\n",
       "  gill-spacing gill-size gill-color  ... stalk-surface-below-ring  \\\n",
       "0            c         n          k  ...                        s   \n",
       "1            c         b          k  ...                        s   \n",
       "2            c         b          n  ...                        s   \n",
       "\n",
       "  stalk-color-above-ring stalk-color-below-ring veil-type veil-color  \\\n",
       "0                      w                      w         p          w   \n",
       "1                      w                      w         p          w   \n",
       "2                      w                      w         p          w   \n",
       "\n",
       "  ring-number ring-type spore-print-color population habitat  \n",
       "0           o         p                 k          s       u  \n",
       "1           o         p                 n          n       g  \n",
       "2           o         p                 n          n       m  \n",
       "\n",
       "[3 rows x 23 columns]"
      ]
     },
     "execution_count": 2,
     "metadata": {},
     "output_type": "execute_result"
    }
   ],
   "source": [
    "DATA_PATH = r'C:\\Users\\KDP-43\\Desktop\\머신러닝_2\\data\\mushrooms.csv'\n",
    "\n",
    "mushmushDF = pd.read_csv(DATA_PATH)\n",
    "mushmushDF.head(3)"
   ]
  },
  {
   "cell_type": "code",
   "execution_count": 3,
   "metadata": {},
   "outputs": [
    {
     "data": {
      "text/plain": [
       "((8124, 23), 2)"
      ]
     },
     "execution_count": 3,
     "metadata": {},
     "output_type": "execute_result"
    }
   ],
   "source": [
    "mushmushDF.shape, mushmushDF.ndim"
   ]
  },
  {
   "cell_type": "code",
   "execution_count": 4,
   "metadata": {},
   "outputs": [
    {
     "data": {
      "text/plain": [
       "'\\n     1. cap-shape:                bell=b,conical=c,convex=x,flat=f, knobbed=k,sunken=s\\n     2. cap-surface:              fibrous=f,grooves=g,scaly=y,smooth=s\\n     3. cap-color:                brown=n,buff=b,cinnamon=c,gray=g,green=r, pink=p,purple=u,red=e,white=w,yellow=y\\n     4. bruises?:                 bruises=t,no=f\\n     5. odor:                     almond=a,anise=l,creosote=c,fishy=y,foul=f, musty=m,none=n,pungent=p,spicy=s\\n     6. gill-attachment:          attached=a,descending=d,free=f,notched=n\\n     7. gill-spacing:             close=c,crowded=w,distant=d\\n     8. gill-size:                broad=b,narrow=n\\n     9. gill-color:               black=k,brown=n,buff=b,chocolate=h,gray=g, green=r,orange=o,pink=p,purple=u,red=e, white=w,yellow=y\\n    10. stalk-shape:              enlarging=e,tapering=t\\n    11. stalk-root:               bulbous=b,club=c,cup=u,equal=e, rhizomorphs=z,rooted=r,missing=?\\n    12. stalk-surface-above-ring: fibrous=f,scaly=y,silky=k,smooth=s\\n    13. stalk-surface-below-ring: fibrous=f,scaly=y,silky=k,smooth=s\\n    14. stalk-color-above-ring:   brown=n,buff=b,cinnamon=c,gray=g,orange=o, pink=p,red=e,white=w,yellow=y\\n    15. stalk-color-below-ring:   brown=n,buff=b,cinnamon=c,gray=g,orange=o, pink=p,red=e,white=w,yellow=y\\n    16. veil-type:                partial=p,universal=u\\n    17. veil-color:               brown=n,orange=o,white=w,yellow=y\\n    18. ring-number:              none=n,one=o,two=t\\n    19. ring-type:                cobwebby=c,evanescent=e,flaring=f,large=l, none=n,pendant=p,sheathing=s,zone=z\\n    20. spore-print-color:        black=k,brown=n,buff=b,chocolate=h,green=r, orange=o,purple=u,white=w,yellow=y\\n    21. population:               abundant=a,clustered=c,numerous=n, scattered=s,several=v,solitary=y\\n    22. habitat:                  grasses=g,leaves=l,meadows=m,paths=p, urban=u,waste=w,woods=d\\n'"
      ]
     },
     "execution_count": 4,
     "metadata": {},
     "output_type": "execute_result"
    }
   ],
   "source": [
    "'''\n",
    "     1. cap-shape:                bell=b,conical=c,convex=x,flat=f, knobbed=k,sunken=s\n",
    "     2. cap-surface:              fibrous=f,grooves=g,scaly=y,smooth=s\n",
    "     3. cap-color:                brown=n,buff=b,cinnamon=c,gray=g,green=r, pink=p,purple=u,red=e,white=w,yellow=y\n",
    "     4. bruises?:                 bruises=t,no=f\n",
    "     5. odor:                     almond=a,anise=l,creosote=c,fishy=y,foul=f, musty=m,none=n,pungent=p,spicy=s\n",
    "     6. gill-attachment:          attached=a,descending=d,free=f,notched=n\n",
    "     7. gill-spacing:             close=c,crowded=w,distant=d\n",
    "     8. gill-size:                broad=b,narrow=n\n",
    "     9. gill-color:               black=k,brown=n,buff=b,chocolate=h,gray=g, green=r,orange=o,pink=p,purple=u,red=e, white=w,yellow=y\n",
    "    10. stalk-shape:              enlarging=e,tapering=t\n",
    "    11. stalk-root:               bulbous=b,club=c,cup=u,equal=e, rhizomorphs=z,rooted=r,missing=?\n",
    "    12. stalk-surface-above-ring: fibrous=f,scaly=y,silky=k,smooth=s\n",
    "    13. stalk-surface-below-ring: fibrous=f,scaly=y,silky=k,smooth=s\n",
    "    14. stalk-color-above-ring:   brown=n,buff=b,cinnamon=c,gray=g,orange=o, pink=p,red=e,white=w,yellow=y\n",
    "    15. stalk-color-below-ring:   brown=n,buff=b,cinnamon=c,gray=g,orange=o, pink=p,red=e,white=w,yellow=y\n",
    "    16. veil-type:                partial=p,universal=u\n",
    "    17. veil-color:               brown=n,orange=o,white=w,yellow=y\n",
    "    18. ring-number:              none=n,one=o,two=t\n",
    "    19. ring-type:                cobwebby=c,evanescent=e,flaring=f,large=l, none=n,pendant=p,sheathing=s,zone=z\n",
    "    20. spore-print-color:        black=k,brown=n,buff=b,chocolate=h,green=r, orange=o,purple=u,white=w,yellow=y\n",
    "    21. population:               abundant=a,clustered=c,numerous=n, scattered=s,several=v,solitary=y\n",
    "    22. habitat:                  grasses=g,leaves=l,meadows=m,paths=p, urban=u,waste=w,woods=d\n",
    "'''\n"
   ]
  },
  {
   "cell_type": "markdown",
   "metadata": {},
   "source": [
    "#### 결측치,중복값,이상치 확인"
   ]
  },
  {
   "cell_type": "code",
   "execution_count": 5,
   "metadata": {},
   "outputs": [
    {
     "name": "stdout",
     "output_type": "stream",
     "text": [
      "<class 'pandas.core.frame.DataFrame'>\n",
      "RangeIndex: 8124 entries, 0 to 8123\n",
      "Data columns (total 23 columns):\n",
      " #   Column                    Non-Null Count  Dtype \n",
      "---  ------                    --------------  ----- \n",
      " 0   class                     8124 non-null   object\n",
      " 1   cap-shape                 8124 non-null   object\n",
      " 2   cap-surface               8124 non-null   object\n",
      " 3   cap-color                 8124 non-null   object\n",
      " 4   bruises                   8124 non-null   object\n",
      " 5   odor                      8124 non-null   object\n",
      " 6   gill-attachment           8124 non-null   object\n",
      " 7   gill-spacing              8124 non-null   object\n",
      " 8   gill-size                 8124 non-null   object\n",
      " 9   gill-color                8124 non-null   object\n",
      " 10  stalk-shape               8124 non-null   object\n",
      " 11  stalk-root                8124 non-null   object\n",
      " 12  stalk-surface-above-ring  8124 non-null   object\n",
      " 13  stalk-surface-below-ring  8124 non-null   object\n",
      " 14  stalk-color-above-ring    8124 non-null   object\n",
      " 15  stalk-color-below-ring    8124 non-null   object\n",
      " 16  veil-type                 8124 non-null   object\n",
      " 17  veil-color                8124 non-null   object\n",
      " 18  ring-number               8124 non-null   object\n",
      " 19  ring-type                 8124 non-null   object\n",
      " 20  spore-print-color         8124 non-null   object\n",
      " 21  population                8124 non-null   object\n",
      " 22  habitat                   8124 non-null   object\n",
      "dtypes: object(23)\n",
      "memory usage: 1.4+ MB\n"
     ]
    }
   ],
   "source": [
    "mushmushDF.info()"
   ]
  },
  {
   "cell_type": "code",
   "execution_count": 6,
   "metadata": {},
   "outputs": [
    {
     "name": "stdout",
     "output_type": "stream",
     "text": [
      "[class]\t=> ['p' 'e']\n",
      "[cap-shape]\t=> ['x' 'b' 's' 'f' 'k' 'c']\n",
      "[cap-surface]\t=> ['s' 'y' 'f' 'g']\n",
      "[cap-color]\t=> ['n' 'y' 'w' 'g' 'e' 'p' 'b' 'u' 'c' 'r']\n",
      "[bruises]\t=> ['t' 'f']\n",
      "[odor]\t=> ['p' 'a' 'l' 'n' 'f' 'c' 'y' 's' 'm']\n",
      "[gill-attachment]\t=> ['f' 'a']\n",
      "[gill-spacing]\t=> ['c' 'w']\n",
      "[gill-size]\t=> ['n' 'b']\n",
      "[gill-color]\t=> ['k' 'n' 'g' 'p' 'w' 'h' 'u' 'e' 'b' 'r' 'y' 'o']\n",
      "[stalk-shape]\t=> ['e' 't']\n",
      "[stalk-root]\t=> ['e' 'c' 'b' 'r' '?']\n",
      "[stalk-surface-above-ring]\t=> ['s' 'f' 'k' 'y']\n",
      "[stalk-surface-below-ring]\t=> ['s' 'f' 'y' 'k']\n",
      "[stalk-color-above-ring]\t=> ['w' 'g' 'p' 'n' 'b' 'e' 'o' 'c' 'y']\n",
      "[stalk-color-below-ring]\t=> ['w' 'p' 'g' 'b' 'n' 'e' 'y' 'o' 'c']\n",
      "[veil-type]\t=> ['p']\n",
      "[veil-color]\t=> ['w' 'n' 'o' 'y']\n",
      "[ring-number]\t=> ['o' 't' 'n']\n",
      "[ring-type]\t=> ['p' 'e' 'l' 'f' 'n']\n",
      "[spore-print-color]\t=> ['k' 'n' 'u' 'h' 'w' 'r' 'o' 'y' 'b']\n",
      "[population]\t=> ['s' 'n' 'a' 'v' 'y' 'c']\n",
      "[habitat]\t=> ['u' 'g' 'm' 'd' 'p' 'w' 'l']\n"
     ]
    }
   ],
   "source": [
    "# 각 칼럼별 unique 값 확인\n",
    "for col in mushmushDF.columns:\n",
    "    \tprint(f'[{col}]\t=> {mushmushDF[col].unique()}')\n",
    "    "
   ]
  },
  {
   "cell_type": "code",
   "execution_count": 7,
   "metadata": {},
   "outputs": [
    {
     "data": {
      "text/plain": [
       "stalk-root\n",
       "b    3776\n",
       "?    2480\n",
       "e    1120\n",
       "c     556\n",
       "r     192\n",
       "Name: count, dtype: int64"
      ]
     },
     "execution_count": 7,
     "metadata": {},
     "output_type": "execute_result"
    }
   ],
   "source": [
    "# stalk_root '?' 개수 확인\n",
    "mushmushDF['stalk-root'].value_counts()"
   ]
  },
  {
   "cell_type": "code",
   "execution_count": 8,
   "metadata": {},
   "outputs": [],
   "source": [
    "# stalk-root == ?인 집단 특성???\n",
    "mask = (mushmushDF['stalk-root'] =='?')\n",
    "# mushmushDF[mask,:].value_counts()"
   ]
  },
  {
   "cell_type": "markdown",
   "metadata": {},
   "source": [
    "전체 8124개 중 2480개 => '?'\t==> '?'행 삭제\n"
   ]
  },
  {
   "cell_type": "code",
   "execution_count": 9,
   "metadata": {},
   "outputs": [
    {
     "name": "stdout",
     "output_type": "stream",
     "text": [
      "[class]\t=> ['p' 'e']\n",
      "[cap-shape]\t=> ['x' 'b' 's' 'f' 'k' 'c']\n",
      "[cap-surface]\t=> ['s' 'y' 'f' 'g']\n",
      "[cap-color]\t=> ['n' 'y' 'w' 'g' 'e' 'p' 'b' 'c']\n",
      "[bruises]\t=> ['t' 'f']\n",
      "[odor]\t=> ['p' 'a' 'l' 'n' 'f' 'c' 'm']\n",
      "[gill-attachment]\t=> ['f' 'a']\n",
      "[gill-spacing]\t=> ['c' 'w']\n",
      "[gill-size]\t=> ['n' 'b']\n",
      "[gill-color]\t=> ['k' 'n' 'g' 'p' 'w' 'h' 'u' 'r' 'y']\n",
      "[stalk-shape]\t=> ['e' 't']\n",
      "[stalk-root]\t=> ['e' 'c' 'b' 'r']\n",
      "[stalk-surface-above-ring]\t=> ['s' 'f' 'k' 'y']\n",
      "[stalk-surface-below-ring]\t=> ['s' 'f' 'y' 'k']\n",
      "[stalk-color-above-ring]\t=> ['w' 'g' 'p' 'n' 'b' 'c' 'y']\n",
      "[stalk-color-below-ring]\t=> ['w' 'p' 'g' 'b' 'n' 'c' 'y']\n",
      "[veil-type]\t=> ['p']\n",
      "[veil-color]\t=> ['w' 'y']\n",
      "[ring-number]\t=> ['o' 't' 'n']\n",
      "[ring-type]\t=> ['p' 'e' 'l' 'n']\n",
      "[spore-print-color]\t=> ['k' 'n' 'u' 'h' 'r' 'w']\n",
      "[population]\t=> ['s' 'n' 'a' 'v' 'y' 'c']\n",
      "[habitat]\t=> ['u' 'g' 'm' 'd' 'p' 'l']\n"
     ]
    }
   ],
   "source": [
    "# mask = ~(mushmushDF.str.isin({'stalk-root':['?']}))\n",
    "mask = ~(mushmushDF['stalk-root'] == '?')\n",
    "less_mushDF = mushmushDF.loc[mask, :].copy()\n",
    "\n",
    "# 각 칼럼별 unique 값 확인\n",
    "for col in less_mushDF.columns:\n",
    "    \tprint(f'[{col}]\t=> {less_mushDF[col].unique()}')"
   ]
  },
  {
   "cell_type": "code",
   "execution_count": 10,
   "metadata": {},
   "outputs": [
    {
     "data": {
      "text/plain": [
       "((5644, 23), 2)"
      ]
     },
     "execution_count": 10,
     "metadata": {},
     "output_type": "execute_result"
    }
   ],
   "source": [
    "less_mushDF.shape, less_mushDF.ndim"
   ]
  },
  {
   "cell_type": "code",
   "execution_count": 11,
   "metadata": {},
   "outputs": [],
   "source": [
    "from sklearn.preprocessing import OneHotEncoder"
   ]
  },
  {
   "cell_type": "markdown",
   "metadata": {},
   "source": [
    "#### 피쳐/타겟"
   ]
  },
  {
   "cell_type": "code",
   "execution_count": 12,
   "metadata": {},
   "outputs": [
    {
     "name": "stdout",
     "output_type": "stream",
     "text": [
      "featureDF:\t=> (5644, 22), 2D\n",
      "targetSR:\t=> (5644,), 1D\n"
     ]
    }
   ],
   "source": [
    "featureDF = less_mushDF[less_mushDF.columns[1:]]\n",
    "targetSR = less_mushDF['class']\n",
    "\n",
    "print(f'featureDF:\t=> {featureDF.shape}, {featureDF.ndim}D')\n",
    "print(f'targetSR:\t=> {targetSR.shape}, {targetSR.ndim}D')"
   ]
  },
  {
   "cell_type": "code",
   "execution_count": null,
   "metadata": {},
   "outputs": [],
   "source": []
  },
  {
   "cell_type": "markdown",
   "metadata": {},
   "source": [
    "#### 인코딩\n",
    "- LabelEncoder()\n",
    "- pd.get_dummies()"
   ]
  },
  {
   "cell_type": "code",
   "execution_count": 13,
   "metadata": {},
   "outputs": [],
   "source": [
    "from sklearn.preprocessing import LabelEncoder\n",
    "\n",
    "Label_encoder = LabelEncoder()\n",
    "\n",
    "feature_dum_DF = pd.get_dummies(featureDF).copy()"
   ]
  },
  {
   "cell_type": "markdown",
   "metadata": {},
   "source": [
    "#### 훈련/테스트 DS 분리"
   ]
  },
  {
   "cell_type": "code",
   "execution_count": 14,
   "metadata": {},
   "outputs": [],
   "source": [
    "# one_hot_encoding Ver\n",
    "from sklearn.model_selection import train_test_split\n",
    "X_train, X_test, y_train, y_test = train_test_split(feature_dum_DF, targetSR,\n",
    "                                                    test_size=0.2,\n",
    "                                                    random_state=0,\n",
    "                                                    stratify=targetSR)"
   ]
  },
  {
   "cell_type": "code",
   "execution_count": 15,
   "metadata": {},
   "outputs": [],
   "source": [
    "# # Raw Ver\n",
    "# from sklearn.model_selection import train_test_split\n",
    "# X_train, X_test, y_train, y_test = train_test_split(featureDF, targetSR,\n",
    "#                                                     test_size=0.2,\n",
    "#                                                     random_state=0,\n",
    "#                                                     stratify=targetSR)"
   ]
  },
  {
   "cell_type": "code",
   "execution_count": null,
   "metadata": {},
   "outputs": [],
   "source": []
  },
  {
   "cell_type": "markdown",
   "metadata": {},
   "source": [
    "#### DT model "
   ]
  },
  {
   "cell_type": "code",
   "execution_count": 16,
   "metadata": {},
   "outputs": [
    {
     "data": {
      "text/html": [
       "<style>#sk-container-id-1 {color: black;}#sk-container-id-1 pre{padding: 0;}#sk-container-id-1 div.sk-toggleable {background-color: white;}#sk-container-id-1 label.sk-toggleable__label {cursor: pointer;display: block;width: 100%;margin-bottom: 0;padding: 0.3em;box-sizing: border-box;text-align: center;}#sk-container-id-1 label.sk-toggleable__label-arrow:before {content: \"▸\";float: left;margin-right: 0.25em;color: #696969;}#sk-container-id-1 label.sk-toggleable__label-arrow:hover:before {color: black;}#sk-container-id-1 div.sk-estimator:hover label.sk-toggleable__label-arrow:before {color: black;}#sk-container-id-1 div.sk-toggleable__content {max-height: 0;max-width: 0;overflow: hidden;text-align: left;background-color: #f0f8ff;}#sk-container-id-1 div.sk-toggleable__content pre {margin: 0.2em;color: black;border-radius: 0.25em;background-color: #f0f8ff;}#sk-container-id-1 input.sk-toggleable__control:checked~div.sk-toggleable__content {max-height: 200px;max-width: 100%;overflow: auto;}#sk-container-id-1 input.sk-toggleable__control:checked~label.sk-toggleable__label-arrow:before {content: \"▾\";}#sk-container-id-1 div.sk-estimator input.sk-toggleable__control:checked~label.sk-toggleable__label {background-color: #d4ebff;}#sk-container-id-1 div.sk-label input.sk-toggleable__control:checked~label.sk-toggleable__label {background-color: #d4ebff;}#sk-container-id-1 input.sk-hidden--visually {border: 0;clip: rect(1px 1px 1px 1px);clip: rect(1px, 1px, 1px, 1px);height: 1px;margin: -1px;overflow: hidden;padding: 0;position: absolute;width: 1px;}#sk-container-id-1 div.sk-estimator {font-family: monospace;background-color: #f0f8ff;border: 1px dotted black;border-radius: 0.25em;box-sizing: border-box;margin-bottom: 0.5em;}#sk-container-id-1 div.sk-estimator:hover {background-color: #d4ebff;}#sk-container-id-1 div.sk-parallel-item::after {content: \"\";width: 100%;border-bottom: 1px solid gray;flex-grow: 1;}#sk-container-id-1 div.sk-label:hover label.sk-toggleable__label {background-color: #d4ebff;}#sk-container-id-1 div.sk-serial::before {content: \"\";position: absolute;border-left: 1px solid gray;box-sizing: border-box;top: 0;bottom: 0;left: 50%;z-index: 0;}#sk-container-id-1 div.sk-serial {display: flex;flex-direction: column;align-items: center;background-color: white;padding-right: 0.2em;padding-left: 0.2em;position: relative;}#sk-container-id-1 div.sk-item {position: relative;z-index: 1;}#sk-container-id-1 div.sk-parallel {display: flex;align-items: stretch;justify-content: center;background-color: white;position: relative;}#sk-container-id-1 div.sk-item::before, #sk-container-id-1 div.sk-parallel-item::before {content: \"\";position: absolute;border-left: 1px solid gray;box-sizing: border-box;top: 0;bottom: 0;left: 50%;z-index: -1;}#sk-container-id-1 div.sk-parallel-item {display: flex;flex-direction: column;z-index: 1;position: relative;background-color: white;}#sk-container-id-1 div.sk-parallel-item:first-child::after {align-self: flex-end;width: 50%;}#sk-container-id-1 div.sk-parallel-item:last-child::after {align-self: flex-start;width: 50%;}#sk-container-id-1 div.sk-parallel-item:only-child::after {width: 0;}#sk-container-id-1 div.sk-dashed-wrapped {border: 1px dashed gray;margin: 0 0.4em 0.5em 0.4em;box-sizing: border-box;padding-bottom: 0.4em;background-color: white;}#sk-container-id-1 div.sk-label label {font-family: monospace;font-weight: bold;display: inline-block;line-height: 1.2em;}#sk-container-id-1 div.sk-label-container {text-align: center;}#sk-container-id-1 div.sk-container {/* jupyter's `normalize.less` sets `[hidden] { display: none; }` but bootstrap.min.css set `[hidden] { display: none !important; }` so we also need the `!important` here to be able to override the default hidden behavior on the sphinx rendered scikit-learn.org. See: https://github.com/scikit-learn/scikit-learn/issues/21755 */display: inline-block !important;position: relative;}#sk-container-id-1 div.sk-text-repr-fallback {display: none;}</style><div id=\"sk-container-id-1\" class=\"sk-top-container\"><div class=\"sk-text-repr-fallback\"><pre>DecisionTreeClassifier(random_state=10)</pre><b>In a Jupyter environment, please rerun this cell to show the HTML representation or trust the notebook. <br />On GitHub, the HTML representation is unable to render, please try loading this page with nbviewer.org.</b></div><div class=\"sk-container\" hidden><div class=\"sk-item\"><div class=\"sk-estimator sk-toggleable\"><input class=\"sk-toggleable__control sk-hidden--visually\" id=\"sk-estimator-id-1\" type=\"checkbox\" checked><label for=\"sk-estimator-id-1\" class=\"sk-toggleable__label sk-toggleable__label-arrow\">DecisionTreeClassifier</label><div class=\"sk-toggleable__content\"><pre>DecisionTreeClassifier(random_state=10)</pre></div></div></div></div></div>"
      ],
      "text/plain": [
       "DecisionTreeClassifier(random_state=10)"
      ]
     },
     "execution_count": 16,
     "metadata": {},
     "output_type": "execute_result"
    }
   ],
   "source": [
    "from sklearn.tree import DecisionTreeClassifier\n",
    "dt_model = DecisionTreeClassifier(random_state=10)\n",
    "\n",
    "dt_model.fit(X_train, y_train)"
   ]
  },
  {
   "cell_type": "code",
   "execution_count": 17,
   "metadata": {},
   "outputs": [
    {
     "name": "stdout",
     "output_type": "stream",
     "text": [
      "[dt_model.classes_]\t\t=>\t['e' 'p']\n",
      "[dt_model.n_classes_]\t\t=>\t2\n",
      "[dt_model.max_features_]\t\t=>\t98개\n"
     ]
    }
   ],
   "source": [
    "# 모델 파라미터: 학습 fit()후 train DS 기반 설정된 값\n",
    "print(f'[dt_model.classes_]\t\t=>\t{dt_model.classes_}')\n",
    "print(f'[dt_model.n_classes_]\t\t=>\t{dt_model.n_classes_}')\n",
    "print(f'[dt_model.max_features_]\t\t=>\t{dt_model.max_features_}개')\n",
    "# print(f'[dt_model.feature_importances_]\t\t=>\t{dt_model.feature_importances_}')\n",
    "# print(f'[dt_model.feature_names_in_]\t\t=>\t{dt_model.feature_names_in_}')"
   ]
  },
  {
   "cell_type": "code",
   "execution_count": 18,
   "metadata": {},
   "outputs": [
    {
     "name": "stdout",
     "output_type": "stream",
     "text": [
      "train_score\t=> 1.0\n",
      "test_score\t=> 1.0\n"
     ]
    }
   ],
   "source": [
    "# 학습용 데이터셋에 대한 성능\n",
    "train_score = dt_model.score(X_train, y_train)\n",
    "test_score = dt_model.score(X_test, y_test)\n",
    "\n",
    "print(f'train_score\t=> {train_score}')\n",
    "print(f'test_score\t=> {test_score}')"
   ]
  },
  {
   "cell_type": "markdown",
   "metadata": {},
   "source": [
    "#### 교차검증"
   ]
  },
  {
   "cell_type": "code",
   "execution_count": 19,
   "metadata": {},
   "outputs": [
    {
     "data": {
      "text/html": [
       "<div>\n",
       "<style scoped>\n",
       "    .dataframe tbody tr th:only-of-type {\n",
       "        vertical-align: middle;\n",
       "    }\n",
       "\n",
       "    .dataframe tbody tr th {\n",
       "        vertical-align: top;\n",
       "    }\n",
       "\n",
       "    .dataframe thead th {\n",
       "        text-align: right;\n",
       "    }\n",
       "</style>\n",
       "<table border=\"1\" class=\"dataframe\">\n",
       "  <thead>\n",
       "    <tr style=\"text-align: right;\">\n",
       "      <th></th>\n",
       "      <th>fit_time</th>\n",
       "      <th>score_time</th>\n",
       "      <th>estimator</th>\n",
       "      <th>test_score</th>\n",
       "      <th>train_score</th>\n",
       "    </tr>\n",
       "  </thead>\n",
       "  <tbody>\n",
       "    <tr>\n",
       "      <th>0</th>\n",
       "      <td>0.010023</td>\n",
       "      <td>0.003697</td>\n",
       "      <td>DecisionTreeClassifier(random_state=10)</td>\n",
       "      <td>1.0</td>\n",
       "      <td>1.0</td>\n",
       "    </tr>\n",
       "    <tr>\n",
       "      <th>1</th>\n",
       "      <td>0.008999</td>\n",
       "      <td>0.003087</td>\n",
       "      <td>DecisionTreeClassifier(random_state=10)</td>\n",
       "      <td>1.0</td>\n",
       "      <td>1.0</td>\n",
       "    </tr>\n",
       "    <tr>\n",
       "      <th>2</th>\n",
       "      <td>0.008543</td>\n",
       "      <td>0.003030</td>\n",
       "      <td>DecisionTreeClassifier(random_state=10)</td>\n",
       "      <td>1.0</td>\n",
       "      <td>1.0</td>\n",
       "    </tr>\n",
       "  </tbody>\n",
       "</table>\n",
       "</div>"
      ],
      "text/plain": [
       "   fit_time  score_time                                estimator  test_score  \\\n",
       "0  0.010023    0.003697  DecisionTreeClassifier(random_state=10)         1.0   \n",
       "1  0.008999    0.003087  DecisionTreeClassifier(random_state=10)         1.0   \n",
       "2  0.008543    0.003030  DecisionTreeClassifier(random_state=10)         1.0   \n",
       "\n",
       "   train_score  \n",
       "0          1.0  \n",
       "1          1.0  \n",
       "2          1.0  "
      ]
     },
     "execution_count": 19,
     "metadata": {},
     "output_type": "execute_result"
    }
   ],
   "source": [
    "from sklearn.model_selection import cross_validate\n",
    "\n",
    "dt_model_cross = DecisionTreeClassifier(random_state=10)\n",
    "\n",
    "result = cross_validate(dt_model_cross, X_train, y_train,\n",
    "                        return_train_score=True,\n",
    "                        return_estimator=True)\n",
    "\n",
    "resultDF = pd.DataFrame(result)\n",
    "resultDF.head(3)"
   ]
  },
  {
   "cell_type": "markdown",
   "metadata": {},
   "source": [
    "#### 하이퍼-파라미터 튜닝"
   ]
  },
  {
   "cell_type": "code",
   "execution_count": 20,
   "metadata": {},
   "outputs": [
    {
     "data": {
      "text/html": [
       "<style>#sk-container-id-2 {color: black;}#sk-container-id-2 pre{padding: 0;}#sk-container-id-2 div.sk-toggleable {background-color: white;}#sk-container-id-2 label.sk-toggleable__label {cursor: pointer;display: block;width: 100%;margin-bottom: 0;padding: 0.3em;box-sizing: border-box;text-align: center;}#sk-container-id-2 label.sk-toggleable__label-arrow:before {content: \"▸\";float: left;margin-right: 0.25em;color: #696969;}#sk-container-id-2 label.sk-toggleable__label-arrow:hover:before {color: black;}#sk-container-id-2 div.sk-estimator:hover label.sk-toggleable__label-arrow:before {color: black;}#sk-container-id-2 div.sk-toggleable__content {max-height: 0;max-width: 0;overflow: hidden;text-align: left;background-color: #f0f8ff;}#sk-container-id-2 div.sk-toggleable__content pre {margin: 0.2em;color: black;border-radius: 0.25em;background-color: #f0f8ff;}#sk-container-id-2 input.sk-toggleable__control:checked~div.sk-toggleable__content {max-height: 200px;max-width: 100%;overflow: auto;}#sk-container-id-2 input.sk-toggleable__control:checked~label.sk-toggleable__label-arrow:before {content: \"▾\";}#sk-container-id-2 div.sk-estimator input.sk-toggleable__control:checked~label.sk-toggleable__label {background-color: #d4ebff;}#sk-container-id-2 div.sk-label input.sk-toggleable__control:checked~label.sk-toggleable__label {background-color: #d4ebff;}#sk-container-id-2 input.sk-hidden--visually {border: 0;clip: rect(1px 1px 1px 1px);clip: rect(1px, 1px, 1px, 1px);height: 1px;margin: -1px;overflow: hidden;padding: 0;position: absolute;width: 1px;}#sk-container-id-2 div.sk-estimator {font-family: monospace;background-color: #f0f8ff;border: 1px dotted black;border-radius: 0.25em;box-sizing: border-box;margin-bottom: 0.5em;}#sk-container-id-2 div.sk-estimator:hover {background-color: #d4ebff;}#sk-container-id-2 div.sk-parallel-item::after {content: \"\";width: 100%;border-bottom: 1px solid gray;flex-grow: 1;}#sk-container-id-2 div.sk-label:hover label.sk-toggleable__label {background-color: #d4ebff;}#sk-container-id-2 div.sk-serial::before {content: \"\";position: absolute;border-left: 1px solid gray;box-sizing: border-box;top: 0;bottom: 0;left: 50%;z-index: 0;}#sk-container-id-2 div.sk-serial {display: flex;flex-direction: column;align-items: center;background-color: white;padding-right: 0.2em;padding-left: 0.2em;position: relative;}#sk-container-id-2 div.sk-item {position: relative;z-index: 1;}#sk-container-id-2 div.sk-parallel {display: flex;align-items: stretch;justify-content: center;background-color: white;position: relative;}#sk-container-id-2 div.sk-item::before, #sk-container-id-2 div.sk-parallel-item::before {content: \"\";position: absolute;border-left: 1px solid gray;box-sizing: border-box;top: 0;bottom: 0;left: 50%;z-index: -1;}#sk-container-id-2 div.sk-parallel-item {display: flex;flex-direction: column;z-index: 1;position: relative;background-color: white;}#sk-container-id-2 div.sk-parallel-item:first-child::after {align-self: flex-end;width: 50%;}#sk-container-id-2 div.sk-parallel-item:last-child::after {align-self: flex-start;width: 50%;}#sk-container-id-2 div.sk-parallel-item:only-child::after {width: 0;}#sk-container-id-2 div.sk-dashed-wrapped {border: 1px dashed gray;margin: 0 0.4em 0.5em 0.4em;box-sizing: border-box;padding-bottom: 0.4em;background-color: white;}#sk-container-id-2 div.sk-label label {font-family: monospace;font-weight: bold;display: inline-block;line-height: 1.2em;}#sk-container-id-2 div.sk-label-container {text-align: center;}#sk-container-id-2 div.sk-container {/* jupyter's `normalize.less` sets `[hidden] { display: none; }` but bootstrap.min.css set `[hidden] { display: none !important; }` so we also need the `!important` here to be able to override the default hidden behavior on the sphinx rendered scikit-learn.org. See: https://github.com/scikit-learn/scikit-learn/issues/21755 */display: inline-block !important;position: relative;}#sk-container-id-2 div.sk-text-repr-fallback {display: none;}</style><div id=\"sk-container-id-2\" class=\"sk-top-container\"><div class=\"sk-text-repr-fallback\"><pre>GridSearchCV(estimator=DecisionTreeClassifier(random_state=10),\n",
       "             param_grid={&#x27;max_depth&#x27;: [10, 11, 8, 7, 6, 5],\n",
       "                         &#x27;min_samples_leaf&#x27;: [10, 30, 50, 100]},\n",
       "             return_train_score=True)</pre><b>In a Jupyter environment, please rerun this cell to show the HTML representation or trust the notebook. <br />On GitHub, the HTML representation is unable to render, please try loading this page with nbviewer.org.</b></div><div class=\"sk-container\" hidden><div class=\"sk-item sk-dashed-wrapped\"><div class=\"sk-label-container\"><div class=\"sk-label sk-toggleable\"><input class=\"sk-toggleable__control sk-hidden--visually\" id=\"sk-estimator-id-2\" type=\"checkbox\" ><label for=\"sk-estimator-id-2\" class=\"sk-toggleable__label sk-toggleable__label-arrow\">GridSearchCV</label><div class=\"sk-toggleable__content\"><pre>GridSearchCV(estimator=DecisionTreeClassifier(random_state=10),\n",
       "             param_grid={&#x27;max_depth&#x27;: [10, 11, 8, 7, 6, 5],\n",
       "                         &#x27;min_samples_leaf&#x27;: [10, 30, 50, 100]},\n",
       "             return_train_score=True)</pre></div></div></div><div class=\"sk-parallel\"><div class=\"sk-parallel-item\"><div class=\"sk-item\"><div class=\"sk-label-container\"><div class=\"sk-label sk-toggleable\"><input class=\"sk-toggleable__control sk-hidden--visually\" id=\"sk-estimator-id-3\" type=\"checkbox\" ><label for=\"sk-estimator-id-3\" class=\"sk-toggleable__label sk-toggleable__label-arrow\">estimator: DecisionTreeClassifier</label><div class=\"sk-toggleable__content\"><pre>DecisionTreeClassifier(random_state=10)</pre></div></div></div><div class=\"sk-serial\"><div class=\"sk-item\"><div class=\"sk-estimator sk-toggleable\"><input class=\"sk-toggleable__control sk-hidden--visually\" id=\"sk-estimator-id-4\" type=\"checkbox\" ><label for=\"sk-estimator-id-4\" class=\"sk-toggleable__label sk-toggleable__label-arrow\">DecisionTreeClassifier</label><div class=\"sk-toggleable__content\"><pre>DecisionTreeClassifier(random_state=10)</pre></div></div></div></div></div></div></div></div></div></div>"
      ],
      "text/plain": [
       "GridSearchCV(estimator=DecisionTreeClassifier(random_state=10),\n",
       "             param_grid={'max_depth': [10, 11, 8, 7, 6, 5],\n",
       "                         'min_samples_leaf': [10, 30, 50, 100]},\n",
       "             return_train_score=True)"
      ]
     },
     "execution_count": 20,
     "metadata": {},
     "output_type": "execute_result"
    }
   ],
   "source": [
    "from sklearn.model_selection import GridSearchCV\n",
    "\n",
    "params = {'max_depth':[10,11,8,7,6,5],\n",
    "          'min_samples_leaf':[10,30,50,100]}\t\t\t# min_leaf 기준 max_depth 결정?!?!\n",
    "\n",
    "grid_CV = GridSearchCV( dt_model_cross, param_grid=params,\n",
    "                       return_train_score = True)\n",
    "\n",
    "grid_CV.fit(X_train, y_train)"
   ]
  },
  {
   "cell_type": "code",
   "execution_count": 21,
   "metadata": {},
   "outputs": [
    {
     "name": "stdout",
     "output_type": "stream",
     "text": [
      "[grid_CV.grid_CV.best_params_]\t\t{'max_depth': 10, 'min_samples_leaf': 10}\n",
      "[grid_CV.grid_CV.best_score_]\t\t0.9977851605758582\n",
      "[grid_CV.grid_CV.best_estimator_]\t\tDecisionTreeClassifier(max_depth=10, min_samples_leaf=10, random_state=10)\n"
     ]
    }
   ],
   "source": [
    "# 모델 파라미터\n",
    "print(f'[grid_CV.grid_CV.best_params_]\t\t{grid_CV.best_params_}')\n",
    "print(f'[grid_CV.grid_CV.best_score_]\t\t{grid_CV.best_score_}')\n",
    "print(f'[grid_CV.grid_CV.best_estimator_]\t\t{grid_CV.best_estimator_}')\n",
    "# print(f'[grid_CV.grid_CV.cv_results_]\\n\t\t{grid_CV.cv_results_}')"
   ]
  },
  {
   "cell_type": "markdown",
   "metadata": {},
   "source": [
    "#### 주요 피쳐 시각화|"
   ]
  },
  {
   "cell_type": "code",
   "execution_count": 22,
   "metadata": {},
   "outputs": [
    {
     "name": "stdout",
     "output_type": "stream",
     "text": [
      "[best_model.max_depth] 10\n",
      "[best_model.min_samples_leaf] 10\n"
     ]
    }
   ],
   "source": [
    "best_model = grid_CV.best_estimator_\n",
    "print(f'[best_model.max_depth] {best_model.max_depth}')\n",
    "print(f'[best_model.min_samples_leaf] {best_model.min_samples_leaf}')"
   ]
  },
  {
   "cell_type": "code",
   "execution_count": 23,
   "metadata": {},
   "outputs": [
    {
     "data": {
      "text/plain": [
       "(array([0.        , 0.        , 0.        , 0.        , 0.        ,\n",
       "        0.        , 0.        , 0.        , 0.        , 0.        ,\n",
       "        0.        , 0.        , 0.        , 0.        , 0.00177241,\n",
       "        0.        , 0.        , 0.        , 0.        , 0.        ,\n",
       "        0.        , 0.        , 0.        , 0.        , 0.        ,\n",
       "        0.04847172, 0.        , 0.        , 0.        , 0.        ,\n",
       "        0.        , 0.        , 0.17632729, 0.        , 0.        ,\n",
       "        0.        , 0.        , 0.        , 0.        , 0.        ,\n",
       "        0.        , 0.        , 0.05719225, 0.        , 0.        ,\n",
       "        0.        , 0.        , 0.        , 0.        , 0.        ,\n",
       "        0.        , 0.        , 0.        , 0.        , 0.        ,\n",
       "        0.        , 0.        , 0.        , 0.        , 0.        ,\n",
       "        0.        , 0.        , 0.        , 0.        , 0.        ,\n",
       "        0.        , 0.        , 0.        , 0.        , 0.        ,\n",
       "        0.        , 0.        , 0.        , 0.        , 0.05881594,\n",
       "        0.        , 0.        , 0.        , 0.        , 0.        ,\n",
       "        0.62691481, 0.        , 0.        , 0.        , 0.        ,\n",
       "        0.        , 0.        , 0.01096595, 0.        , 0.        ,\n",
       "        0.        , 0.        , 0.        , 0.        , 0.        ,\n",
       "        0.        , 0.01953964, 0.        ]),\n",
       " 98)"
      ]
     },
     "execution_count": 23,
     "metadata": {},
     "output_type": "execute_result"
    }
   ],
   "source": [
    "# 피쳐 중요도 및 개수\n",
    "best_model.feature_importances_, best_model.n_features_in_"
   ]
  },
  {
   "cell_type": "code",
   "execution_count": 44,
   "metadata": {},
   "outputs": [
    {
     "name": "stdout",
     "output_type": "stream",
     "text": [
      "[0.0, 0.0, 0.0, 0.0, 0.0, 0.0, 0.0, 0.0, 0.0, 0.0, 0.0, 0.0, 0.0, 0.0, 0.0017724144748857687, 0.0, 0.0, 0.0, 0.0, 0.0, 0.0, 0.0, 0.0, 0.0, 0.0, 0.04847171556005662, 0.0, 0.0, 0.0, 0.0, 0.0, 0.0, 0.1763272865669497, 0.0, 0.0, 0.0, 0.0, 0.0, 0.0, 0.0, 0.0, 0.0, 0.05719224797067526, 0.0, 0.0, 0.0, 0.0, 0.0, 0.0, 0.0, 0.0, 0.0, 0.0, 0.0, 0.0, 0.0, 0.0, 0.0, 0.0, 0.0, 0.0, 0.0, 0.0, 0.0, 0.0, 0.0, 0.0, 0.0, 0.0, 0.0, 0.0, 0.0, 0.0, 0.0, 0.05881593571420873, 0.0, 0.0, 0.0, 0.0, 0.0, 0.6269148074348312, 0.0, 0.0, 0.0, 0.0, 0.0, 0.0, 0.010965952372574549, 0.0, 0.0, 0.0, 0.0, 0.0, 0.0, 0.0, 0.0, 0.019539639905818258, 0.0]\n",
      "[0.6269148074348312, 0.1763272865669497, 0.05881593571420873, 0.05719224797067526, 0.04847171556005662, 0.019539639905818258]\n"
     ]
    }
   ],
   "source": [
    "aaa = best_model.feature_importances_.tolist()\n",
    "print(aaa)\n",
    "bbb=sorted(aaa,reverse=True)[:6]\n",
    "print(bbb)\n",
    "# print(type(aaa))\n"
   ]
  },
  {
   "cell_type": "code",
   "execution_count": 47,
   "metadata": {},
   "outputs": [
    {
     "name": "stdout",
     "output_type": "stream",
     "text": [
      "[0.62691481 0.17632729 0.05881594 0.05719225 0.04847172 0.01953964]\n",
      "[80 32 74 42 25 96]\n"
     ]
    }
   ],
   "source": [
    "print(-np.sort(-best_model.feature_importances_)[:6])\n",
    "print(np.argsort(-best_model.feature_importances_)[:6])\n",
    "\n",
    "bbb = -np.sort(-best_model.feature_importances_)[:6]\n",
    "bbb_idx = np.argsort(-best_model.feature_importances_)[:6]"
   ]
  },
  {
   "cell_type": "code",
   "execution_count": null,
   "metadata": {},
   "outputs": [],
   "source": []
  },
  {
   "cell_type": "code",
   "execution_count": 49,
   "metadata": {},
   "outputs": [
    {
     "data": {
      "image/png": "[encoded data removed]",
      "text/plain": [
       "<Figure size 640x480 with 1 Axes>"
      ]
     },
     "metadata": {},
     "output_type": "display_data"
    }
   ],
   "source": [
    "import matplotlib.pyplot as plt\n",
    "\n",
    "plt.barh(range(len(bbb)), bbb, align='center')\n",
    "plt.yticks(np.arange(len(bbb)), best_model.feature_names_in_[bbb_idx])\n",
    "plt.xlabel(\"[Feature Importance]\")\n",
    "plt.ylabel(\"Feature\")\n",
    "plt.show()"
   ]
  },
  {
   "cell_type": "markdown",
   "metadata": {},
   "source": [
    "#### DT 그래프 시각화 w/ Graphviz"
   ]
  },
  {
   "cell_type": "code",
   "execution_count": 26,
   "metadata": {},
   "outputs": [
    {
     "data": {
      "image/svg+xml": [
       "<?xml version=\"1.0\" encoding=\"UTF-8\" standalone=\"no\"?>\n",
       "<!DOCTYPE svg PUBLIC \"-//W3C//DTD SVG 1.1//EN\"\n",
       " \"http://www.w3.org/Graphics/SVG/1.1/DTD/svg11.dtd\">\n",
       "<!-- Generated by graphviz version 12.1.0 (20240811.2233)\n",
       " -->\n",
       "<!-- Title: Tree Pages: 1 -->\n",
       "<svg width=\"848pt\" height=\"693pt\"\n",
       " viewBox=\"0.00 0.00 848.25 692.75\" xmlns=\"http://www.w3.org/2000/svg\" xmlns:xlink=\"http://www.w3.org/1999/xlink\">\n",
       "<g id=\"graph0\" class=\"graph\" transform=\"scale(1 1) rotate(0) translate(4 688.75)\">\n",
       "<title>Tree</title>\n",
       "<polygon fill=\"white\" stroke=\"none\" points=\"-4,4 -4,-688.75 844.25,-688.75 844.25,4 -4,4\"/>\n",
       "<!-- 0 -->\n",
       "<g id=\"node1\" class=\"node\">\n",
       "<title>0</title>\n",
       "<polygon fill=\"#f5cfb3\" stroke=\"black\" points=\"597.12,-684.75 425.12,-684.75 425.12,-598 597.12,-598 597.12,-684.75\"/>\n",
       "<text text-anchor=\"middle\" x=\"511.12\" y=\"-667.45\" font-family=\"Helvetica,sans-Serif\" font-size=\"14.00\">spore&#45;print&#45;color_h &lt;= 0.5</text>\n",
       "<text text-anchor=\"middle\" x=\"511.12\" y=\"-651.7\" font-family=\"Helvetica,sans-Serif\" font-size=\"14.00\">gini = 0.472</text>\n",
       "<text text-anchor=\"middle\" x=\"511.12\" y=\"-635.95\" font-family=\"Helvetica,sans-Serif\" font-size=\"14.00\">samples = 4515</text>\n",
       "<text text-anchor=\"middle\" x=\"511.12\" y=\"-620.2\" font-family=\"Helvetica,sans-Serif\" font-size=\"14.00\">value = [2790, 1725]</text>\n",
       "<text text-anchor=\"middle\" x=\"511.12\" y=\"-604.45\" font-family=\"Helvetica,sans-Serif\" font-size=\"14.00\">class = enable</text>\n",
       "</g>\n",
       "<!-- 1 -->\n",
       "<g id=\"node2\" class=\"node\">\n",
       "<title>1</title>\n",
       "<polygon fill=\"#e9965a\" stroke=\"black\" points=\"505.88,-562 374.38,-562 374.38,-475.25 505.88,-475.25 505.88,-562\"/>\n",
       "<text text-anchor=\"middle\" x=\"440.12\" y=\"-544.7\" font-family=\"Helvetica,sans-Serif\" font-size=\"14.00\">gill&#45;size_n &lt;= 0.5</text>\n",
       "<text text-anchor=\"middle\" x=\"440.12\" y=\"-528.95\" font-family=\"Helvetica,sans-Serif\" font-size=\"14.00\">gini = 0.246</text>\n",
       "<text text-anchor=\"middle\" x=\"440.12\" y=\"-513.2\" font-family=\"Helvetica,sans-Serif\" font-size=\"14.00\">samples = 3257</text>\n",
       "<text text-anchor=\"middle\" x=\"440.12\" y=\"-497.45\" font-family=\"Helvetica,sans-Serif\" font-size=\"14.00\">value = [2790, 467]</text>\n",
       "<text text-anchor=\"middle\" x=\"440.12\" y=\"-481.7\" font-family=\"Helvetica,sans-Serif\" font-size=\"14.00\">class = enable</text>\n",
       "</g>\n",
       "<!-- 0&#45;&gt;1 -->\n",
       "<g id=\"edge1\" class=\"edge\">\n",
       "<title>0&#45;&gt;1</title>\n",
       "<path fill=\"none\" stroke=\"black\" d=\"M486.09,-597.8C481.21,-589.51 476.05,-580.72 471.01,-572.14\"/>\n",
       "<polygon fill=\"black\" stroke=\"black\" points=\"474.02,-570.37 465.94,-563.52 467.99,-573.92 474.02,-570.37\"/>\n",
       "<text text-anchor=\"middle\" x=\"458.89\" y=\"-580.99\" font-family=\"Helvetica,sans-Serif\" font-size=\"14.00\">True</text>\n",
       "</g>\n",
       "<!-- 16 -->\n",
       "<g id=\"node17\" class=\"node\">\n",
       "<title>16</title>\n",
       "<polygon fill=\"#399de5\" stroke=\"black\" points=\"640.38,-554.12 523.88,-554.12 523.88,-483.12 640.38,-483.12 640.38,-554.12\"/>\n",
       "<text text-anchor=\"middle\" x=\"582.12\" y=\"-536.83\" font-family=\"Helvetica,sans-Serif\" font-size=\"14.00\">gini = 0.0</text>\n",
       "<text text-anchor=\"middle\" x=\"582.12\" y=\"-521.08\" font-family=\"Helvetica,sans-Serif\" font-size=\"14.00\">samples = 1258</text>\n",
       "<text text-anchor=\"middle\" x=\"582.12\" y=\"-505.32\" font-family=\"Helvetica,sans-Serif\" font-size=\"14.00\">value = [0, 1258]</text>\n",
       "<text text-anchor=\"middle\" x=\"582.12\" y=\"-489.57\" font-family=\"Helvetica,sans-Serif\" font-size=\"14.00\">class = poison</text>\n",
       "</g>\n",
       "<!-- 0&#45;&gt;16 -->\n",
       "<g id=\"edge16\" class=\"edge\">\n",
       "<title>0&#45;&gt;16</title>\n",
       "<path fill=\"none\" stroke=\"black\" d=\"M536.16,-597.8C542.58,-586.89 549.5,-575.12 555.97,-564.11\"/>\n",
       "<polygon fill=\"black\" stroke=\"black\" points=\"558.94,-565.95 561,-555.56 552.91,-562.4 558.94,-565.95\"/>\n",
       "<text text-anchor=\"middle\" x=\"568.04\" y=\"-573.03\" font-family=\"Helvetica,sans-Serif\" font-size=\"14.00\">False</text>\n",
       "</g>\n",
       "<!-- 2 -->\n",
       "<g id=\"node3\" class=\"node\">\n",
       "<title>2</title>\n",
       "<polygon fill=\"#e68540\" stroke=\"black\" points=\"436.75,-439.25 289.5,-439.25 289.5,-352.5 436.75,-352.5 436.75,-439.25\"/>\n",
       "<text text-anchor=\"middle\" x=\"363.12\" y=\"-421.95\" font-family=\"Helvetica,sans-Serif\" font-size=\"14.00\">ring&#45;number_o &lt;= 0.5</text>\n",
       "<text text-anchor=\"middle\" x=\"363.12\" y=\"-406.2\" font-family=\"Helvetica,sans-Serif\" font-size=\"14.00\">gini = 0.066</text>\n",
       "<text text-anchor=\"middle\" x=\"363.12\" y=\"-390.45\" font-family=\"Helvetica,sans-Serif\" font-size=\"14.00\">samples = 2697</text>\n",
       "<text text-anchor=\"middle\" x=\"363.12\" y=\"-374.7\" font-family=\"Helvetica,sans-Serif\" font-size=\"14.00\">value = [2605, 92]</text>\n",
       "<text text-anchor=\"middle\" x=\"363.12\" y=\"-358.95\" font-family=\"Helvetica,sans-Serif\" font-size=\"14.00\">class = enable</text>\n",
       "</g>\n",
       "<!-- 1&#45;&gt;2 -->\n",
       "<g id=\"edge2\" class=\"edge\">\n",
       "<title>1&#45;&gt;2</title>\n",
       "<path fill=\"none\" stroke=\"black\" d=\"M412.98,-475.05C407.63,-466.67 401.96,-457.78 396.44,-449.11\"/>\n",
       "<polygon fill=\"black\" stroke=\"black\" points=\"399.43,-447.3 391.1,-440.75 393.53,-451.06 399.43,-447.3\"/>\n",
       "</g>\n",
       "<!-- 9 -->\n",
       "<g id=\"node10\" class=\"node\">\n",
       "<title>9</title>\n",
       "<polygon fill=\"#9bcdf2\" stroke=\"black\" points=\"579.12,-439.25 455.12,-439.25 455.12,-352.5 579.12,-352.5 579.12,-439.25\"/>\n",
       "<text text-anchor=\"middle\" x=\"517.12\" y=\"-421.95\" font-family=\"Helvetica,sans-Serif\" font-size=\"14.00\">odor_n &lt;= 0.5</text>\n",
       "<text text-anchor=\"middle\" x=\"517.12\" y=\"-406.2\" font-family=\"Helvetica,sans-Serif\" font-size=\"14.00\">gini = 0.442</text>\n",
       "<text text-anchor=\"middle\" x=\"517.12\" y=\"-390.45\" font-family=\"Helvetica,sans-Serif\" font-size=\"14.00\">samples = 560</text>\n",
       "<text text-anchor=\"middle\" x=\"517.12\" y=\"-374.7\" font-family=\"Helvetica,sans-Serif\" font-size=\"14.00\">value = [185, 375]</text>\n",
       "<text text-anchor=\"middle\" x=\"517.12\" y=\"-358.95\" font-family=\"Helvetica,sans-Serif\" font-size=\"14.00\">class = poison</text>\n",
       "</g>\n",
       "<!-- 1&#45;&gt;9 -->\n",
       "<g id=\"edge9\" class=\"edge\">\n",
       "<title>1&#45;&gt;9</title>\n",
       "<path fill=\"none\" stroke=\"black\" d=\"M467.27,-475.05C472.62,-466.67 478.29,-457.78 483.81,-449.11\"/>\n",
       "<polygon fill=\"black\" stroke=\"black\" points=\"486.72,-451.06 489.15,-440.75 480.82,-447.3 486.72,-451.06\"/>\n",
       "</g>\n",
       "<!-- 3 -->\n",
       "<g id=\"node4\" class=\"node\">\n",
       "<title>3</title>\n",
       "<polygon fill=\"#89c4ef\" stroke=\"black\" points=\"289.25,-316.5 175,-316.5 175,-229.75 289.25,-229.75 289.25,-316.5\"/>\n",
       "<text text-anchor=\"middle\" x=\"232.12\" y=\"-299.2\" font-family=\"Helvetica,sans-Serif\" font-size=\"14.00\">habitat_p &lt;= 0.5</text>\n",
       "<text text-anchor=\"middle\" x=\"232.12\" y=\"-283.45\" font-family=\"Helvetica,sans-Serif\" font-size=\"14.00\">gini = 0.409</text>\n",
       "<text text-anchor=\"middle\" x=\"232.12\" y=\"-267.7\" font-family=\"Helvetica,sans-Serif\" font-size=\"14.00\">samples = 129</text>\n",
       "<text text-anchor=\"middle\" x=\"232.12\" y=\"-251.95\" font-family=\"Helvetica,sans-Serif\" font-size=\"14.00\">value = [37, 92]</text>\n",
       "<text text-anchor=\"middle\" x=\"232.12\" y=\"-236.2\" font-family=\"Helvetica,sans-Serif\" font-size=\"14.00\">class = poison</text>\n",
       "</g>\n",
       "<!-- 2&#45;&gt;3 -->\n",
       "<g id=\"edge3\" class=\"edge\">\n",
       "<title>2&#45;&gt;3</title>\n",
       "<path fill=\"none\" stroke=\"black\" d=\"M316.94,-352.3C307.16,-343.29 296.74,-333.69 286.68,-324.41\"/>\n",
       "<polygon fill=\"black\" stroke=\"black\" points=\"289.17,-321.95 279.45,-317.75 284.43,-327.1 289.17,-321.95\"/>\n",
       "</g>\n",
       "<!-- 8 -->\n",
       "<g id=\"node9\" class=\"node\">\n",
       "<title>8</title>\n",
       "<polygon fill=\"#e58139\" stroke=\"black\" points=\"423.38,-308.62 306.88,-308.62 306.88,-237.62 423.38,-237.62 423.38,-308.62\"/>\n",
       "<text text-anchor=\"middle\" x=\"365.12\" y=\"-291.32\" font-family=\"Helvetica,sans-Serif\" font-size=\"14.00\">gini = 0.0</text>\n",
       "<text text-anchor=\"middle\" x=\"365.12\" y=\"-275.57\" font-family=\"Helvetica,sans-Serif\" font-size=\"14.00\">samples = 2568</text>\n",
       "<text text-anchor=\"middle\" x=\"365.12\" y=\"-259.82\" font-family=\"Helvetica,sans-Serif\" font-size=\"14.00\">value = [2568, 0]</text>\n",
       "<text text-anchor=\"middle\" x=\"365.12\" y=\"-244.07\" font-family=\"Helvetica,sans-Serif\" font-size=\"14.00\">class = enable</text>\n",
       "</g>\n",
       "<!-- 2&#45;&gt;8 -->\n",
       "<g id=\"edge8\" class=\"edge\">\n",
       "<title>2&#45;&gt;8</title>\n",
       "<path fill=\"none\" stroke=\"black\" d=\"M363.83,-352.3C364,-341.83 364.19,-330.58 364.37,-319.96\"/>\n",
       "<polygon fill=\"black\" stroke=\"black\" points=\"367.86,-320.32 364.53,-310.27 360.86,-320.21 367.86,-320.32\"/>\n",
       "</g>\n",
       "<!-- 4 -->\n",
       "<g id=\"node5\" class=\"node\">\n",
       "<title>4</title>\n",
       "<polygon fill=\"#46a3e7\" stroke=\"black\" points=\"175.75,-193.75 46.5,-193.75 46.5,-107 175.75,-107 175.75,-193.75\"/>\n",
       "<text text-anchor=\"middle\" x=\"111.12\" y=\"-176.45\" font-family=\"Helvetica,sans-Serif\" font-size=\"14.00\">cap&#45;color_n &lt;= 0.5</text>\n",
       "<text text-anchor=\"middle\" x=\"111.12\" y=\"-160.7\" font-family=\"Helvetica,sans-Serif\" font-size=\"14.00\">gini = 0.115</text>\n",
       "<text text-anchor=\"middle\" x=\"111.12\" y=\"-144.95\" font-family=\"Helvetica,sans-Serif\" font-size=\"14.00\">samples = 98</text>\n",
       "<text text-anchor=\"middle\" x=\"111.12\" y=\"-129.2\" font-family=\"Helvetica,sans-Serif\" font-size=\"14.00\">value = [6, 92]</text>\n",
       "<text text-anchor=\"middle\" x=\"111.12\" y=\"-113.45\" font-family=\"Helvetica,sans-Serif\" font-size=\"14.00\">class = poison</text>\n",
       "</g>\n",
       "<!-- 3&#45;&gt;4 -->\n",
       "<g id=\"edge4\" class=\"edge\">\n",
       "<title>3&#45;&gt;4</title>\n",
       "<path fill=\"none\" stroke=\"black\" d=\"M189.46,-229.55C180.52,-220.63 171,-211.13 161.8,-201.94\"/>\n",
       "<polygon fill=\"black\" stroke=\"black\" points=\"164.43,-199.62 154.88,-195.04 159.49,-204.58 164.43,-199.62\"/>\n",
       "</g>\n",
       "<!-- 7 -->\n",
       "<g id=\"node8\" class=\"node\">\n",
       "<title>7</title>\n",
       "<polygon fill=\"#e58139\" stroke=\"black\" points=\"296.62,-185.88 193.62,-185.88 193.62,-114.88 296.62,-114.88 296.62,-185.88\"/>\n",
       "<text text-anchor=\"middle\" x=\"245.12\" y=\"-168.57\" font-family=\"Helvetica,sans-Serif\" font-size=\"14.00\">gini = 0.0</text>\n",
       "<text text-anchor=\"middle\" x=\"245.12\" y=\"-152.82\" font-family=\"Helvetica,sans-Serif\" font-size=\"14.00\">samples = 31</text>\n",
       "<text text-anchor=\"middle\" x=\"245.12\" y=\"-137.07\" font-family=\"Helvetica,sans-Serif\" font-size=\"14.00\">value = [31, 0]</text>\n",
       "<text text-anchor=\"middle\" x=\"245.12\" y=\"-121.33\" font-family=\"Helvetica,sans-Serif\" font-size=\"14.00\">class = enable</text>\n",
       "</g>\n",
       "<!-- 3&#45;&gt;7 -->\n",
       "<g id=\"edge7\" class=\"edge\">\n",
       "<title>3&#45;&gt;7</title>\n",
       "<path fill=\"none\" stroke=\"black\" d=\"M236.71,-229.55C237.84,-219.08 239.05,-207.83 240.19,-197.21\"/>\n",
       "<polygon fill=\"black\" stroke=\"black\" points=\"243.64,-197.83 241.23,-187.51 236.68,-197.08 243.64,-197.83\"/>\n",
       "</g>\n",
       "<!-- 5 -->\n",
       "<g id=\"node6\" class=\"node\">\n",
       "<title>5</title>\n",
       "<polygon fill=\"#399de5\" stroke=\"black\" points=\"102.25,-71 0,-71 0,0 102.25,0 102.25,-71\"/>\n",
       "<text text-anchor=\"middle\" x=\"51.12\" y=\"-53.7\" font-family=\"Helvetica,sans-Serif\" font-size=\"14.00\">gini = 0.0</text>\n",
       "<text text-anchor=\"middle\" x=\"51.12\" y=\"-37.95\" font-family=\"Helvetica,sans-Serif\" font-size=\"14.00\">samples = 82</text>\n",
       "<text text-anchor=\"middle\" x=\"51.12\" y=\"-22.2\" font-family=\"Helvetica,sans-Serif\" font-size=\"14.00\">value = [0, 82]</text>\n",
       "<text text-anchor=\"middle\" x=\"51.12\" y=\"-6.45\" font-family=\"Helvetica,sans-Serif\" font-size=\"14.00\">class = poison</text>\n",
       "</g>\n",
       "<!-- 4&#45;&gt;5 -->\n",
       "<g id=\"edge5\" class=\"edge\">\n",
       "<title>4&#45;&gt;5</title>\n",
       "<path fill=\"none\" stroke=\"black\" d=\"M88.44,-106.7C84.01,-98.36 79.34,-89.59 74.87,-81.18\"/>\n",
       "<polygon fill=\"black\" stroke=\"black\" points=\"78.04,-79.68 70.26,-72.49 71.86,-82.97 78.04,-79.68\"/>\n",
       "</g>\n",
       "<!-- 6 -->\n",
       "<g id=\"node7\" class=\"node\">\n",
       "<title>6</title>\n",
       "<polygon fill=\"#b0d8f5\" stroke=\"black\" points=\"222.25,-71 120,-71 120,0 222.25,0 222.25,-71\"/>\n",
       "<text text-anchor=\"middle\" x=\"171.12\" y=\"-53.7\" font-family=\"Helvetica,sans-Serif\" font-size=\"14.00\">gini = 0.469</text>\n",
       "<text text-anchor=\"middle\" x=\"171.12\" y=\"-37.95\" font-family=\"Helvetica,sans-Serif\" font-size=\"14.00\">samples = 16</text>\n",
       "<text text-anchor=\"middle\" x=\"171.12\" y=\"-22.2\" font-family=\"Helvetica,sans-Serif\" font-size=\"14.00\">value = [6, 10]</text>\n",
       "<text text-anchor=\"middle\" x=\"171.12\" y=\"-6.45\" font-family=\"Helvetica,sans-Serif\" font-size=\"14.00\">class = poison</text>\n",
       "</g>\n",
       "<!-- 4&#45;&gt;6 -->\n",
       "<g id=\"edge6\" class=\"edge\">\n",
       "<title>4&#45;&gt;6</title>\n",
       "<path fill=\"none\" stroke=\"black\" d=\"M133.81,-106.7C138.24,-98.36 142.91,-89.59 147.38,-81.18\"/>\n",
       "<polygon fill=\"black\" stroke=\"black\" points=\"150.39,-82.97 151.99,-72.49 144.21,-79.68 150.39,-82.97\"/>\n",
       "</g>\n",
       "<!-- 10 -->\n",
       "<g id=\"node11\" class=\"node\">\n",
       "<title>10</title>\n",
       "<polygon fill=\"#61b1ea\" stroke=\"black\" points=\"587.5,-316.5 444.75,-316.5 444.75,-229.75 587.5,-229.75 587.5,-316.5\"/>\n",
       "<text text-anchor=\"middle\" x=\"516.12\" y=\"-299.2\" font-family=\"Helvetica,sans-Serif\" font-size=\"14.00\">stalk&#45;shape_e &lt;= 0.5</text>\n",
       "<text text-anchor=\"middle\" x=\"516.12\" y=\"-283.45\" font-family=\"Helvetica,sans-Serif\" font-size=\"14.00\">gini = 0.279</text>\n",
       "<text text-anchor=\"middle\" x=\"516.12\" y=\"-267.7\" font-family=\"Helvetica,sans-Serif\" font-size=\"14.00\">samples = 435</text>\n",
       "<text text-anchor=\"middle\" x=\"516.12\" y=\"-251.95\" font-family=\"Helvetica,sans-Serif\" font-size=\"14.00\">value = [73, 362]</text>\n",
       "<text text-anchor=\"middle\" x=\"516.12\" y=\"-236.2\" font-family=\"Helvetica,sans-Serif\" font-size=\"14.00\">class = poison</text>\n",
       "</g>\n",
       "<!-- 9&#45;&gt;10 -->\n",
       "<g id=\"edge10\" class=\"edge\">\n",
       "<title>9&#45;&gt;10</title>\n",
       "<path fill=\"none\" stroke=\"black\" d=\"M516.77,-352.3C516.71,-344.46 516.64,-336.17 516.57,-328.04\"/>\n",
       "<polygon fill=\"black\" stroke=\"black\" points=\"520.07,-328.2 516.49,-318.23 513.07,-328.26 520.07,-328.2\"/>\n",
       "</g>\n",
       "<!-- 13 -->\n",
       "<g id=\"node14\" class=\"node\">\n",
       "<title>13</title>\n",
       "<polygon fill=\"#e89050\" stroke=\"black\" points=\"740.75,-316.5 605.5,-316.5 605.5,-229.75 740.75,-229.75 740.75,-316.5\"/>\n",
       "<text text-anchor=\"middle\" x=\"673.12\" y=\"-299.2\" font-family=\"Helvetica,sans-Serif\" font-size=\"14.00\">population_c &lt;= 0.5</text>\n",
       "<text text-anchor=\"middle\" x=\"673.12\" y=\"-283.45\" font-family=\"Helvetica,sans-Serif\" font-size=\"14.00\">gini = 0.186</text>\n",
       "<text text-anchor=\"middle\" x=\"673.12\" y=\"-267.7\" font-family=\"Helvetica,sans-Serif\" font-size=\"14.00\">samples = 125</text>\n",
       "<text text-anchor=\"middle\" x=\"673.12\" y=\"-251.95\" font-family=\"Helvetica,sans-Serif\" font-size=\"14.00\">value = [112, 13]</text>\n",
       "<text text-anchor=\"middle\" x=\"673.12\" y=\"-236.2\" font-family=\"Helvetica,sans-Serif\" font-size=\"14.00\">class = enable</text>\n",
       "</g>\n",
       "<!-- 9&#45;&gt;13 -->\n",
       "<g id=\"edge13\" class=\"edge\">\n",
       "<title>9&#45;&gt;13</title>\n",
       "<path fill=\"none\" stroke=\"black\" d=\"M572.12,-352.3C584.05,-343.07 596.77,-333.23 609.02,-323.75\"/>\n",
       "<polygon fill=\"black\" stroke=\"black\" points=\"610.87,-326.74 616.64,-317.85 606.59,-321.2 610.87,-326.74\"/>\n",
       "</g>\n",
       "<!-- 11 -->\n",
       "<g id=\"node12\" class=\"node\">\n",
       "<title>11</title>\n",
       "<polygon fill=\"#e58139\" stroke=\"black\" points=\"451.62,-185.88 348.62,-185.88 348.62,-114.88 451.62,-114.88 451.62,-185.88\"/>\n",
       "<text text-anchor=\"middle\" x=\"400.12\" y=\"-168.57\" font-family=\"Helvetica,sans-Serif\" font-size=\"14.00\">gini = 0.0</text>\n",
       "<text text-anchor=\"middle\" x=\"400.12\" y=\"-152.82\" font-family=\"Helvetica,sans-Serif\" font-size=\"14.00\">samples = 73</text>\n",
       "<text text-anchor=\"middle\" x=\"400.12\" y=\"-137.07\" font-family=\"Helvetica,sans-Serif\" font-size=\"14.00\">value = [73, 0]</text>\n",
       "<text text-anchor=\"middle\" x=\"400.12\" y=\"-121.33\" font-family=\"Helvetica,sans-Serif\" font-size=\"14.00\">class = enable</text>\n",
       "</g>\n",
       "<!-- 10&#45;&gt;11 -->\n",
       "<g id=\"edge11\" class=\"edge\">\n",
       "<title>10&#45;&gt;11</title>\n",
       "<path fill=\"none\" stroke=\"black\" d=\"M475.23,-229.55C464.21,-218.08 452.28,-205.66 441.24,-194.18\"/>\n",
       "<polygon fill=\"black\" stroke=\"black\" points=\"443.89,-191.88 434.44,-187.1 438.84,-196.73 443.89,-191.88\"/>\n",
       "</g>\n",
       "<!-- 12 -->\n",
       "<g id=\"node13\" class=\"node\">\n",
       "<title>12</title>\n",
       "<polygon fill=\"#399de5\" stroke=\"black\" points=\"578.62,-185.88 469.62,-185.88 469.62,-114.88 578.62,-114.88 578.62,-185.88\"/>\n",
       "<text text-anchor=\"middle\" x=\"524.12\" y=\"-168.57\" font-family=\"Helvetica,sans-Serif\" font-size=\"14.00\">gini = 0.0</text>\n",
       "<text text-anchor=\"middle\" x=\"524.12\" y=\"-152.82\" font-family=\"Helvetica,sans-Serif\" font-size=\"14.00\">samples = 362</text>\n",
       "<text text-anchor=\"middle\" x=\"524.12\" y=\"-137.07\" font-family=\"Helvetica,sans-Serif\" font-size=\"14.00\">value = [0, 362]</text>\n",
       "<text text-anchor=\"middle\" x=\"524.12\" y=\"-121.33\" font-family=\"Helvetica,sans-Serif\" font-size=\"14.00\">class = poison</text>\n",
       "</g>\n",
       "<!-- 10&#45;&gt;12 -->\n",
       "<g id=\"edge12\" class=\"edge\">\n",
       "<title>10&#45;&gt;12</title>\n",
       "<path fill=\"none\" stroke=\"black\" d=\"M518.95,-229.55C519.64,-219.08 520.39,-207.83 521.09,-197.21\"/>\n",
       "<polygon fill=\"black\" stroke=\"black\" points=\"524.56,-197.72 521.73,-187.51 517.58,-197.26 524.56,-197.72\"/>\n",
       "</g>\n",
       "<!-- 14 -->\n",
       "<g id=\"node15\" class=\"node\">\n",
       "<title>14</title>\n",
       "<polygon fill=\"#e58139\" stroke=\"black\" points=\"720.25,-185.88 612,-185.88 612,-114.88 720.25,-114.88 720.25,-185.88\"/>\n",
       "<text text-anchor=\"middle\" x=\"666.12\" y=\"-168.57\" font-family=\"Helvetica,sans-Serif\" font-size=\"14.00\">gini = 0.0</text>\n",
       "<text text-anchor=\"middle\" x=\"666.12\" y=\"-152.82\" font-family=\"Helvetica,sans-Serif\" font-size=\"14.00\">samples = 112</text>\n",
       "<text text-anchor=\"middle\" x=\"666.12\" y=\"-137.07\" font-family=\"Helvetica,sans-Serif\" font-size=\"14.00\">value = [112, 0]</text>\n",
       "<text text-anchor=\"middle\" x=\"666.12\" y=\"-121.33\" font-family=\"Helvetica,sans-Serif\" font-size=\"14.00\">class = enable</text>\n",
       "</g>\n",
       "<!-- 13&#45;&gt;14 -->\n",
       "<g id=\"edge14\" class=\"edge\">\n",
       "<title>13&#45;&gt;14</title>\n",
       "<path fill=\"none\" stroke=\"black\" d=\"M670.66,-229.55C670.05,-219.08 669.4,-207.83 668.78,-197.21\"/>\n",
       "<polygon fill=\"black\" stroke=\"black\" points=\"672.29,-197.3 668.22,-187.51 665.3,-197.7 672.29,-197.3\"/>\n",
       "</g>\n",
       "<!-- 15 -->\n",
       "<g id=\"node16\" class=\"node\">\n",
       "<title>15</title>\n",
       "<polygon fill=\"#399de5\" stroke=\"black\" points=\"840.25,-185.88 738,-185.88 738,-114.88 840.25,-114.88 840.25,-185.88\"/>\n",
       "<text text-anchor=\"middle\" x=\"789.12\" y=\"-168.57\" font-family=\"Helvetica,sans-Serif\" font-size=\"14.00\">gini = 0.0</text>\n",
       "<text text-anchor=\"middle\" x=\"789.12\" y=\"-152.82\" font-family=\"Helvetica,sans-Serif\" font-size=\"14.00\">samples = 13</text>\n",
       "<text text-anchor=\"middle\" x=\"789.12\" y=\"-137.07\" font-family=\"Helvetica,sans-Serif\" font-size=\"14.00\">value = [0, 13]</text>\n",
       "<text text-anchor=\"middle\" x=\"789.12\" y=\"-121.33\" font-family=\"Helvetica,sans-Serif\" font-size=\"14.00\">class = poison</text>\n",
       "</g>\n",
       "<!-- 13&#45;&gt;15 -->\n",
       "<g id=\"edge15\" class=\"edge\">\n",
       "<title>13&#45;&gt;15</title>\n",
       "<path fill=\"none\" stroke=\"black\" d=\"M714.02,-229.55C725.04,-218.08 736.97,-205.66 748.01,-194.18\"/>\n",
       "<polygon fill=\"black\" stroke=\"black\" points=\"750.41,-196.73 754.81,-187.1 745.36,-191.88 750.41,-196.73\"/>\n",
       "</g>\n",
       "</g>\n",
       "</svg>\n"
      ],
      "text/plain": [
       "<graphviz.sources.Source at 0x1e0c4c6d9a0>"
      ]
     },
     "execution_count": 26,
     "metadata": {},
     "output_type": "execute_result"
    }
   ],
   "source": [
    "from sklearn.tree import export_graphviz\n",
    "\n",
    "# DT 모델 결과를 .dot 파일로 저장 => export_graphviz\n",
    "export_graphviz(best_model, out_file='mush_mush.dot', class_names=['enable','poison'],\n",
    "                feature_names=best_model.feature_names_in_,\n",
    "                impurity=True,\n",
    "                filled=True\n",
    "                # rotate=True\t\t\t\t\t\t# 가로방향으로 회전\n",
    "                )\n",
    "\n",
    "import graphviz\n",
    "\n",
    "with open('mush_mush.dot') as f:\n",
    "    \n",
    "\t# 파일 내용 읽기\n",
    "    dot_data = f.read()\n",
    "    \n",
    "graphviz.Source(dot_data)"
   ]
  },
  {
   "cell_type": "code",
   "execution_count": 27,
   "metadata": {},
   "outputs": [
    {
     "name": "stdout",
     "output_type": "stream",
     "text": [
      "predict\t=> ['e' 'p' 'p' ... 'p' 'e' 'e']\n",
      "<class 'numpy.ndarray'>\n",
      "1127\n",
      "(1129,)\n"
     ]
    }
   ],
   "source": [
    "# new_data = featureDF.iloc[[0]] + 0.21\t\t\t\t# 1D => 2D\n",
    "\n",
    "print('predict\t=>', best_model.predict(X_test) )\n",
    "y_predict = best_model.predict(X_test)\n",
    "print(type(y_predict))\n",
    "print((y_predict == y_test).sum())\n",
    "print(y_test.shape)"
   ]
  },
  {
   "cell_type": "code",
   "execution_count": 28,
   "metadata": {},
   "outputs": [
    {
     "name": "stdout",
     "output_type": "stream",
     "text": [
      "train_score 0.998671096345515\n",
      "test_score 0.9982285208148804\n"
     ]
    }
   ],
   "source": [
    "print(\"train_score\",best_model.score(X_train,y_train))\n",
    "print(\"test_score\",best_model.score(X_test,y_test))"
   ]
  },
  {
   "cell_type": "markdown",
   "metadata": {},
   "source": [
    "#### Logistic 회귀"
   ]
  },
  {
   "cell_type": "code",
   "execution_count": 35,
   "metadata": {},
   "outputs": [
    {
     "data": {
      "text/html": [
       "<style>#sk-container-id-4 {color: black;}#sk-container-id-4 pre{padding: 0;}#sk-container-id-4 div.sk-toggleable {background-color: white;}#sk-container-id-4 label.sk-toggleable__label {cursor: pointer;display: block;width: 100%;margin-bottom: 0;padding: 0.3em;box-sizing: border-box;text-align: center;}#sk-container-id-4 label.sk-toggleable__label-arrow:before {content: \"▸\";float: left;margin-right: 0.25em;color: #696969;}#sk-container-id-4 label.sk-toggleable__label-arrow:hover:before {color: black;}#sk-container-id-4 div.sk-estimator:hover label.sk-toggleable__label-arrow:before {color: black;}#sk-container-id-4 div.sk-toggleable__content {max-height: 0;max-width: 0;overflow: hidden;text-align: left;background-color: #f0f8ff;}#sk-container-id-4 div.sk-toggleable__content pre {margin: 0.2em;color: black;border-radius: 0.25em;background-color: #f0f8ff;}#sk-container-id-4 input.sk-toggleable__control:checked~div.sk-toggleable__content {max-height: 200px;max-width: 100%;overflow: auto;}#sk-container-id-4 input.sk-toggleable__control:checked~label.sk-toggleable__label-arrow:before {content: \"▾\";}#sk-container-id-4 div.sk-estimator input.sk-toggleable__control:checked~label.sk-toggleable__label {background-color: #d4ebff;}#sk-container-id-4 div.sk-label input.sk-toggleable__control:checked~label.sk-toggleable__label {background-color: #d4ebff;}#sk-container-id-4 input.sk-hidden--visually {border: 0;clip: rect(1px 1px 1px 1px);clip: rect(1px, 1px, 1px, 1px);height: 1px;margin: -1px;overflow: hidden;padding: 0;position: absolute;width: 1px;}#sk-container-id-4 div.sk-estimator {font-family: monospace;background-color: #f0f8ff;border: 1px dotted black;border-radius: 0.25em;box-sizing: border-box;margin-bottom: 0.5em;}#sk-container-id-4 div.sk-estimator:hover {background-color: #d4ebff;}#sk-container-id-4 div.sk-parallel-item::after {content: \"\";width: 100%;border-bottom: 1px solid gray;flex-grow: 1;}#sk-container-id-4 div.sk-label:hover label.sk-toggleable__label {background-color: #d4ebff;}#sk-container-id-4 div.sk-serial::before {content: \"\";position: absolute;border-left: 1px solid gray;box-sizing: border-box;top: 0;bottom: 0;left: 50%;z-index: 0;}#sk-container-id-4 div.sk-serial {display: flex;flex-direction: column;align-items: center;background-color: white;padding-right: 0.2em;padding-left: 0.2em;position: relative;}#sk-container-id-4 div.sk-item {position: relative;z-index: 1;}#sk-container-id-4 div.sk-parallel {display: flex;align-items: stretch;justify-content: center;background-color: white;position: relative;}#sk-container-id-4 div.sk-item::before, #sk-container-id-4 div.sk-parallel-item::before {content: \"\";position: absolute;border-left: 1px solid gray;box-sizing: border-box;top: 0;bottom: 0;left: 50%;z-index: -1;}#sk-container-id-4 div.sk-parallel-item {display: flex;flex-direction: column;z-index: 1;position: relative;background-color: white;}#sk-container-id-4 div.sk-parallel-item:first-child::after {align-self: flex-end;width: 50%;}#sk-container-id-4 div.sk-parallel-item:last-child::after {align-self: flex-start;width: 50%;}#sk-container-id-4 div.sk-parallel-item:only-child::after {width: 0;}#sk-container-id-4 div.sk-dashed-wrapped {border: 1px dashed gray;margin: 0 0.4em 0.5em 0.4em;box-sizing: border-box;padding-bottom: 0.4em;background-color: white;}#sk-container-id-4 div.sk-label label {font-family: monospace;font-weight: bold;display: inline-block;line-height: 1.2em;}#sk-container-id-4 div.sk-label-container {text-align: center;}#sk-container-id-4 div.sk-container {/* jupyter's `normalize.less` sets `[hidden] { display: none; }` but bootstrap.min.css set `[hidden] { display: none !important; }` so we also need the `!important` here to be able to override the default hidden behavior on the sphinx rendered scikit-learn.org. See: https://github.com/scikit-learn/scikit-learn/issues/21755 */display: inline-block !important;position: relative;}#sk-container-id-4 div.sk-text-repr-fallback {display: none;}</style><div id=\"sk-container-id-4\" class=\"sk-top-container\"><div class=\"sk-text-repr-fallback\"><pre>LogisticRegression()</pre><b>In a Jupyter environment, please rerun this cell to show the HTML representation or trust the notebook. <br />On GitHub, the HTML representation is unable to render, please try loading this page with nbviewer.org.</b></div><div class=\"sk-container\" hidden><div class=\"sk-item\"><div class=\"sk-estimator sk-toggleable\"><input class=\"sk-toggleable__control sk-hidden--visually\" id=\"sk-estimator-id-8\" type=\"checkbox\" checked><label for=\"sk-estimator-id-8\" class=\"sk-toggleable__label sk-toggleable__label-arrow\">LogisticRegression</label><div class=\"sk-toggleable__content\"><pre>LogisticRegression()</pre></div></div></div></div></div>"
      ],
      "text/plain": [
       "LogisticRegression()"
      ]
     },
     "execution_count": 35,
     "metadata": {},
     "output_type": "execute_result"
    }
   ],
   "source": [
    "from sklearn.linear_model import LogisticRegression\n",
    "\n",
    "lr = LogisticRegression()\n",
    "lr.fit(X_train, y_train)"
   ]
  },
  {
   "cell_type": "code",
   "execution_count": 36,
   "metadata": {},
   "outputs": [
    {
     "name": "stdout",
     "output_type": "stream",
     "text": [
      "classes_ : ['e' 'p']  2개\n",
      "n_features_in_ : 98\n",
      "n_iter_ : [60]\n",
      "\n",
      "coef_ : [[ 8.64529609e-02  3.58722401e-01  8.37120075e-02  1.25953408e-02\n",
      "  -5.43312072e-01  2.21658057e-03 -9.52438269e-01  3.98127157e-01\n",
      "   3.96737589e-01  1.57960742e-01  9.26095432e-01 -6.37358891e-01\n",
      "  -2.43190523e-01 -4.35596476e-02 -6.23275353e-01  7.42446003e-01\n",
      "   3.73189207e-01 -4.93959008e-01 -8.22868915e-02  8.26741100e-02\n",
      "  -2.50388737e+00  2.28419060e+00  2.37382232e+00 -2.48524659e+00\n",
      "   4.15132343e-01 -2.84943504e+00  2.76581096e+00  1.85039944e-01\n",
      "  -1.84652726e-01  3.62023096e-01 -3.61635877e-01 -1.37747155e+00\n",
      "   1.37785877e+00  4.11456476e-03  4.03607402e-01 -3.90734956e-01\n",
      "  -3.99655768e-01 -8.96441976e-02  4.48861985e-01  1.13676884e-01\n",
      "  -3.91966089e-01  3.02127393e-01  1.42654843e+00 -1.42616121e+00\n",
      "   1.84099069e+00 -1.35853356e+00  2.67546851e-01 -7.49616758e-01\n",
      "  -3.51865112e-01  1.04940281e+00 -9.90513852e-01  2.93363375e-01\n",
      "  -1.26476089e-01  6.34270464e-01 -4.66286117e-01 -4.11210399e-02\n",
      "   1.72104922e-01  4.15132343e-01 -3.63134939e-01 -1.90686411e-01\n",
      "  -1.86325660e-01 -5.54528974e-01  7.07825938e-01  1.04555390e-01\n",
      "   4.15132343e-01 -2.61067260e-01 -1.22303581e+00 -1.61460997e-01\n",
      "   4.18437614e-01  7.07825938e-01  3.87218482e-04 -7.07438720e-01\n",
      "   7.07825938e-01  4.15132343e-01 -8.87115208e-01  4.72370084e-01\n",
      "  -8.27762280e-01  6.34270464e-01  4.15132343e-01 -2.21253308e-01\n",
      "   2.37382232e+00 -1.19258778e+00 -1.29124012e+00  2.16523314e+00\n",
      "  -1.03664767e+00 -1.01819267e+00 -1.35770700e-01  1.88564995e+00\n",
      "  -6.74095814e-01  2.50314798e-01 -1.07754044e-01 -1.21795697e+00\n",
      "  -2.48552540e-01  5.59835666e-01  2.59538036e-01  2.59344474e-01\n",
      "  -1.13809512e+00  3.08316702e-01]]\n",
      "intercept_ : [2.64380301]\n"
     ]
    }
   ],
   "source": [
    "## 모델 파라미터\n",
    "print(f'classes_ : {lr.classes_}  {len(lr.classes_)}개')\n",
    "print(f'n_features_in_ : {lr.n_features_in_}')\n",
    "print(f'n_iter_ : {lr.n_iter_}')\n",
    "print()\n",
    "print(f'coef_ : {lr.coef_}')\t\t\t\t\t\t# => f1, f2, f3, f4, f5\n",
    "print(f'intercept_ : {lr.intercept_}')"
   ]
  },
  {
   "cell_type": "code",
   "execution_count": 38,
   "metadata": {},
   "outputs": [
    {
     "name": "stdout",
     "output_type": "stream",
     "text": [
      "train score => 1.0\n",
      "test score => 1.0\n"
     ]
    }
   ],
   "source": [
    "# 모델 성능 평가\n",
    "train_score = lr.score(X_train, y_train)\n",
    "test_score = lr.score(X_test, y_test)\n",
    "\n",
    "print(f'train score => {train_score}')\n",
    "print(f'test score => {test_score}')"
   ]
  },
  {
   "cell_type": "code",
   "execution_count": null,
   "metadata": {},
   "outputs": [],
   "source": []
  },
  {
   "cell_type": "code",
   "execution_count": null,
   "metadata": {},
   "outputs": [],
   "source": []
  },
  {
   "cell_type": "markdown",
   "metadata": {},
   "source": [
    "#### 학습 진행 w/ 앙상블 Voting\n",
    "-질문)\n",
    "\t- 위에서 추출한 각 모델에 대한 최적 하이퍼-파라미터 값을 앙상블에 어떻게 반영??!?!"
   ]
  },
  {
   "cell_type": "code",
   "execution_count": 29,
   "metadata": {},
   "outputs": [
    {
     "data": {
      "text/html": [
       "<style>#sk-container-id-3 {color: black;}#sk-container-id-3 pre{padding: 0;}#sk-container-id-3 div.sk-toggleable {background-color: white;}#sk-container-id-3 label.sk-toggleable__label {cursor: pointer;display: block;width: 100%;margin-bottom: 0;padding: 0.3em;box-sizing: border-box;text-align: center;}#sk-container-id-3 label.sk-toggleable__label-arrow:before {content: \"▸\";float: left;margin-right: 0.25em;color: #696969;}#sk-container-id-3 label.sk-toggleable__label-arrow:hover:before {color: black;}#sk-container-id-3 div.sk-estimator:hover label.sk-toggleable__label-arrow:before {color: black;}#sk-container-id-3 div.sk-toggleable__content {max-height: 0;max-width: 0;overflow: hidden;text-align: left;background-color: #f0f8ff;}#sk-container-id-3 div.sk-toggleable__content pre {margin: 0.2em;color: black;border-radius: 0.25em;background-color: #f0f8ff;}#sk-container-id-3 input.sk-toggleable__control:checked~div.sk-toggleable__content {max-height: 200px;max-width: 100%;overflow: auto;}#sk-container-id-3 input.sk-toggleable__control:checked~label.sk-toggleable__label-arrow:before {content: \"▾\";}#sk-container-id-3 div.sk-estimator input.sk-toggleable__control:checked~label.sk-toggleable__label {background-color: #d4ebff;}#sk-container-id-3 div.sk-label input.sk-toggleable__control:checked~label.sk-toggleable__label {background-color: #d4ebff;}#sk-container-id-3 input.sk-hidden--visually {border: 0;clip: rect(1px 1px 1px 1px);clip: rect(1px, 1px, 1px, 1px);height: 1px;margin: -1px;overflow: hidden;padding: 0;position: absolute;width: 1px;}#sk-container-id-3 div.sk-estimator {font-family: monospace;background-color: #f0f8ff;border: 1px dotted black;border-radius: 0.25em;box-sizing: border-box;margin-bottom: 0.5em;}#sk-container-id-3 div.sk-estimator:hover {background-color: #d4ebff;}#sk-container-id-3 div.sk-parallel-item::after {content: \"\";width: 100%;border-bottom: 1px solid gray;flex-grow: 1;}#sk-container-id-3 div.sk-label:hover label.sk-toggleable__label {background-color: #d4ebff;}#sk-container-id-3 div.sk-serial::before {content: \"\";position: absolute;border-left: 1px solid gray;box-sizing: border-box;top: 0;bottom: 0;left: 50%;z-index: 0;}#sk-container-id-3 div.sk-serial {display: flex;flex-direction: column;align-items: center;background-color: white;padding-right: 0.2em;padding-left: 0.2em;position: relative;}#sk-container-id-3 div.sk-item {position: relative;z-index: 1;}#sk-container-id-3 div.sk-parallel {display: flex;align-items: stretch;justify-content: center;background-color: white;position: relative;}#sk-container-id-3 div.sk-item::before, #sk-container-id-3 div.sk-parallel-item::before {content: \"\";position: absolute;border-left: 1px solid gray;box-sizing: border-box;top: 0;bottom: 0;left: 50%;z-index: -1;}#sk-container-id-3 div.sk-parallel-item {display: flex;flex-direction: column;z-index: 1;position: relative;background-color: white;}#sk-container-id-3 div.sk-parallel-item:first-child::after {align-self: flex-end;width: 50%;}#sk-container-id-3 div.sk-parallel-item:last-child::after {align-self: flex-start;width: 50%;}#sk-container-id-3 div.sk-parallel-item:only-child::after {width: 0;}#sk-container-id-3 div.sk-dashed-wrapped {border: 1px dashed gray;margin: 0 0.4em 0.5em 0.4em;box-sizing: border-box;padding-bottom: 0.4em;background-color: white;}#sk-container-id-3 div.sk-label label {font-family: monospace;font-weight: bold;display: inline-block;line-height: 1.2em;}#sk-container-id-3 div.sk-label-container {text-align: center;}#sk-container-id-3 div.sk-container {/* jupyter's `normalize.less` sets `[hidden] { display: none; }` but bootstrap.min.css set `[hidden] { display: none !important; }` so we also need the `!important` here to be able to override the default hidden behavior on the sphinx rendered scikit-learn.org. See: https://github.com/scikit-learn/scikit-learn/issues/21755 */display: inline-block !important;position: relative;}#sk-container-id-3 div.sk-text-repr-fallback {display: none;}</style><div id=\"sk-container-id-3\" class=\"sk-top-container\"><div class=\"sk-text-repr-fallback\"><pre>VotingClassifier(estimators=[(&#x27;dt_modle&#x27;,\n",
       "                              DecisionTreeClassifier(random_state=10)),\n",
       "                             (&#x27;lr_model&#x27;,\n",
       "                              LogisticRegression(solver=&#x27;liblinear&#x27;))],\n",
       "                 voting=&#x27;soft&#x27;)</pre><b>In a Jupyter environment, please rerun this cell to show the HTML representation or trust the notebook. <br />On GitHub, the HTML representation is unable to render, please try loading this page with nbviewer.org.</b></div><div class=\"sk-container\" hidden><div class=\"sk-item sk-dashed-wrapped\"><div class=\"sk-label-container\"><div class=\"sk-label sk-toggleable\"><input class=\"sk-toggleable__control sk-hidden--visually\" id=\"sk-estimator-id-5\" type=\"checkbox\" ><label for=\"sk-estimator-id-5\" class=\"sk-toggleable__label sk-toggleable__label-arrow\">VotingClassifier</label><div class=\"sk-toggleable__content\"><pre>VotingClassifier(estimators=[(&#x27;dt_modle&#x27;,\n",
       "                              DecisionTreeClassifier(random_state=10)),\n",
       "                             (&#x27;lr_model&#x27;,\n",
       "                              LogisticRegression(solver=&#x27;liblinear&#x27;))],\n",
       "                 voting=&#x27;soft&#x27;)</pre></div></div></div><div class=\"sk-parallel\"><div class=\"sk-parallel-item\"><div class=\"sk-item\"><div class=\"sk-label-container\"><div class=\"sk-label sk-toggleable\"><label>dt_modle</label></div></div><div class=\"sk-serial\"><div class=\"sk-item\"><div class=\"sk-estimator sk-toggleable\"><input class=\"sk-toggleable__control sk-hidden--visually\" id=\"sk-estimator-id-6\" type=\"checkbox\" ><label for=\"sk-estimator-id-6\" class=\"sk-toggleable__label sk-toggleable__label-arrow\">DecisionTreeClassifier</label><div class=\"sk-toggleable__content\"><pre>DecisionTreeClassifier(random_state=10)</pre></div></div></div></div></div></div><div class=\"sk-parallel-item\"><div class=\"sk-item\"><div class=\"sk-label-container\"><div class=\"sk-label sk-toggleable\"><label>lr_model</label></div></div><div class=\"sk-serial\"><div class=\"sk-item\"><div class=\"sk-estimator sk-toggleable\"><input class=\"sk-toggleable__control sk-hidden--visually\" id=\"sk-estimator-id-7\" type=\"checkbox\" ><label for=\"sk-estimator-id-7\" class=\"sk-toggleable__label sk-toggleable__label-arrow\">LogisticRegression</label><div class=\"sk-toggleable__content\"><pre>LogisticRegression(solver=&#x27;liblinear&#x27;)</pre></div></div></div></div></div></div></div></div></div></div>"
      ],
      "text/plain": [
       "VotingClassifier(estimators=[('dt_modle',\n",
       "                              DecisionTreeClassifier(random_state=10)),\n",
       "                             ('lr_model',\n",
       "                              LogisticRegression(solver='liblinear'))],\n",
       "                 voting='soft')"
      ]
     },
     "execution_count": 29,
     "metadata": {},
     "output_type": "execute_result"
    }
   ],
   "source": [
    "from sklearn.linear_model import LogisticRegression\n",
    "\n",
    "from sklearn.ensemble import VotingClassifier\n",
    "\n",
    "dt_model = DecisionTreeClassifier(random_state=10)\n",
    "lr_model = LogisticRegression(solver='liblinear')\n",
    "\n",
    "# Hard Ver\n",
    "hard_vmodel = VotingClassifier(estimators=[('dt_modle',dt_model),\n",
    "                                           ('lr_model',lr_model)],\n",
    "                                           voting = 'hard')\n",
    "\n",
    "\n",
    "# Hard Ver\n",
    "soft_vmodel = VotingClassifier(estimators=[('dt_modle',dt_model),\n",
    "                                           ('lr_model',lr_model)],\n",
    "                                           voting = 'soft')\n",
    "hard_vmodel.fit(X_train, y_train)\n",
    "soft_vmodel.fit(X_train, y_train)"
   ]
  },
  {
   "cell_type": "code",
   "execution_count": null,
   "metadata": {},
   "outputs": [],
   "source": []
  },
  {
   "cell_type": "code",
   "execution_count": 30,
   "metadata": {},
   "outputs": [
    {
     "name": "stdout",
     "output_type": "stream",
     "text": [
      "[hard_vmodel.classes_] ['e' 'p']\n",
      "[hard_vmodel.estimators_] [DecisionTreeClassifier(random_state=10), LogisticRegression(solver='liblinear')]]\n",
      "[hard_vmodel.named_estimators_] {'dt_modle': DecisionTreeClassifier(random_state=10), 'lr_model': LogisticRegression(solver='liblinear')}\n",
      "\n",
      "[hard_vmodel.n_features_in_] 98개\n"
     ]
    }
   ],
   "source": [
    "# VotingClassifier 모델 파라미터\n",
    "\n",
    "print(f'[hard_vmodel.classes_] {hard_vmodel.classes_}')\n",
    "print(f'[hard_vmodel.estimators_] {hard_vmodel.estimators_}]')\n",
    "print(f'[hard_vmodel.named_estimators_] {hard_vmodel.named_estimators_}')\n",
    "print()\n",
    "print(f'[hard_vmodel.n_features_in_] {hard_vmodel.n_features_in_}개')"
   ]
  },
  {
   "cell_type": "code",
   "execution_count": 31,
   "metadata": {},
   "outputs": [
    {
     "name": "stdout",
     "output_type": "stream",
     "text": [
      "[soft_vmodel.classes_] ['e' 'p']\n",
      "[soft_vmodel.estimators_] [DecisionTreeClassifier(random_state=10), LogisticRegression(solver='liblinear')]]\n",
      "[soft_vmodel.named_estimators_] {'dt_modle': DecisionTreeClassifier(random_state=10), 'lr_model': LogisticRegression(solver='liblinear')}\n",
      "\n",
      "[soft_vmodel.n_features_in_] 98개\n"
     ]
    }
   ],
   "source": [
    "# VotingClassifier 모델 파라미터\n",
    "\n",
    "print(f'[soft_vmodel.classes_] {soft_vmodel.classes_}')\n",
    "print(f'[soft_vmodel.estimators_] {soft_vmodel.estimators_}]')\n",
    "print(f'[soft_vmodel.named_estimators_] {soft_vmodel.named_estimators_}')\n",
    "print()\n",
    "print(f'[soft_vmodel.n_features_in_] {soft_vmodel.n_features_in_}개')"
   ]
  },
  {
   "cell_type": "code",
   "execution_count": 32,
   "metadata": {},
   "outputs": [
    {
     "name": "stdout",
     "output_type": "stream",
     "text": [
      "[Hard Voting]\ttrain_score: 1.0, test_score 1.0\n",
      "[Soft Voting]\ttrain_score: 1.0, test_score 1.0\n"
     ]
    }
   ],
   "source": [
    "# votingclassifier score => mean accuracy!!!\n",
    "\n",
    "train_score = hard_vmodel.score(X_train, y_train)\t\t\t# KNN DF issue로 ndarray로 값만 입력\n",
    "test_score = hard_vmodel.score(X_test, y_test)\n",
    "print(f'[Hard Voting]\ttrain_score: {train_score}, test_score {test_score}')\n",
    "\n",
    "soft_train_score = soft_vmodel.score(X_train, y_train)\t\t\t\n",
    "soft_test_score = soft_vmodel.score(X_test, y_test)\n",
    "print(f'[Soft Voting]\ttrain_score: {soft_train_score}, test_score {soft_test_score}')"
   ]
  },
  {
   "cell_type": "code",
   "execution_count": 33,
   "metadata": {},
   "outputs": [
    {
     "data": {
      "text/plain": [
       "<bound method _BaseHeterogeneousEnsemble.get_params of VotingClassifier(estimators=[('dt_modle',\n",
       "                              DecisionTreeClassifier(random_state=10)),\n",
       "                             ('lr_model',\n",
       "                              LogisticRegression(solver='liblinear'))])>"
      ]
     },
     "execution_count": 33,
     "metadata": {},
     "output_type": "execute_result"
    }
   ],
   "source": [
    "hard_vmodel.get_params"
   ]
  },
  {
   "cell_type": "code",
   "execution_count": 34,
   "metadata": {},
   "outputs": [
    {
     "data": {
      "text/plain": [
       "<bound method _BaseHeterogeneousEnsemble.set_params of VotingClassifier(estimators=[('dt_modle',\n",
       "                              DecisionTreeClassifier(random_state=10)),\n",
       "                             ('lr_model',\n",
       "                              LogisticRegression(solver='liblinear'))])>"
      ]
     },
     "execution_count": 34,
     "metadata": {},
     "output_type": "execute_result"
    }
   ],
   "source": [
    "hard_vmodel.set_params"
   ]
  },
  {
   "cell_type": "code",
   "execution_count": null,
   "metadata": {},
   "outputs": [],
   "source": []
  }
 ],
 "metadata": {
  "kernelspec": {
   "display_name": "ml_38",
   "language": "python",
   "name": "python3"
  },
  "language_info": {
   "codemirror_mode": {
    "name": "ipython",
    "version": 3
   },
   "file_extension": ".py",
   "mimetype": "text/x-python",
   "name": "python",
   "nbconvert_exporter": "python",
   "pygments_lexer": "ipython3",
   "version": "3.8.19"
  }
 },
 "nbformat": 4,
 "nbformat_minor": 2
}
