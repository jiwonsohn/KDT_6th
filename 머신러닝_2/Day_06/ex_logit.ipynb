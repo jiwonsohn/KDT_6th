{
 "cells": [
  {
   "cell_type": "markdown",
   "metadata": {},
   "source": [
    "### 로지스틱 회귀\n",
    "- 선형 회귀 기반 분류 모델\n",
    "- 타겟(종속변수)가 범주형\n",
    "- 알고리즘 결과 확률 (어떤 범주에 속할지) 반환\n",
    "- 종류\n",
    "\t* 2진 분류: 타겟의 클래스가 2개\n",
    "\t* 다중분류: 타겟의 클래스가 3개 이상"
   ]
  },
  {
   "cell_type": "code",
   "execution_count": 40,
   "metadata": {},
   "outputs": [],
   "source": [
    "import pandas as pd\n",
    "\n",
    "# 판다스 지수표기법 정지 설정\n",
    "pd.options.display.float_format = '{:.5f}'.format\n",
    "\n",
    "# \n",
    "DATA_FILE = '../data/fish.csv'"
   ]
  },
  {
   "cell_type": "code",
   "execution_count": 41,
   "metadata": {},
   "outputs": [
    {
     "data": {
      "text/html": [
       "<div>\n",
       "<style scoped>\n",
       "    .dataframe tbody tr th:only-of-type {\n",
       "        vertical-align: middle;\n",
       "    }\n",
       "\n",
       "    .dataframe tbody tr th {\n",
       "        vertical-align: top;\n",
       "    }\n",
       "\n",
       "    .dataframe thead th {\n",
       "        text-align: right;\n",
       "    }\n",
       "</style>\n",
       "<table border=\"1\" class=\"dataframe\">\n",
       "  <thead>\n",
       "    <tr style=\"text-align: right;\">\n",
       "      <th></th>\n",
       "      <th>Species</th>\n",
       "      <th>Weight</th>\n",
       "      <th>Length</th>\n",
       "      <th>Diagonal</th>\n",
       "      <th>Height</th>\n",
       "      <th>Width</th>\n",
       "    </tr>\n",
       "  </thead>\n",
       "  <tbody>\n",
       "    <tr>\n",
       "      <th>0</th>\n",
       "      <td>Bream</td>\n",
       "      <td>242.00000</td>\n",
       "      <td>25.40000</td>\n",
       "      <td>30.00000</td>\n",
       "      <td>11.52000</td>\n",
       "      <td>4.02000</td>\n",
       "    </tr>\n",
       "    <tr>\n",
       "      <th>1</th>\n",
       "      <td>Bream</td>\n",
       "      <td>290.00000</td>\n",
       "      <td>26.30000</td>\n",
       "      <td>31.20000</td>\n",
       "      <td>12.48000</td>\n",
       "      <td>4.30560</td>\n",
       "    </tr>\n",
       "    <tr>\n",
       "      <th>2</th>\n",
       "      <td>Bream</td>\n",
       "      <td>340.00000</td>\n",
       "      <td>26.50000</td>\n",
       "      <td>31.10000</td>\n",
       "      <td>12.37780</td>\n",
       "      <td>4.69610</td>\n",
       "    </tr>\n",
       "  </tbody>\n",
       "</table>\n",
       "</div>"
      ],
      "text/plain": [
       "  Species    Weight   Length  Diagonal   Height   Width\n",
       "0   Bream 242.00000 25.40000  30.00000 11.52000 4.02000\n",
       "1   Bream 290.00000 26.30000  31.20000 12.48000 4.30560\n",
       "2   Bream 340.00000 26.50000  31.10000 12.37780 4.69610"
      ]
     },
     "execution_count": 41,
     "metadata": {},
     "output_type": "execute_result"
    }
   ],
   "source": [
    "fishDF = pd.read_csv(DATA_FILE)\n",
    "fishDF.head(3)"
   ]
  },
  {
   "cell_type": "code",
   "execution_count": 42,
   "metadata": {},
   "outputs": [
    {
     "name": "stdout",
     "output_type": "stream",
     "text": [
      "['Bream' 'Roach' 'Whitefish' 'Parkki' 'Perch' 'Pike' 'Smelt']\n"
     ]
    }
   ],
   "source": [
    "print(pd.unique(fishDF['Species']))\n",
    "# 타겟의 클래스 수: 7개"
   ]
  },
  {
   "cell_type": "code",
   "execution_count": 43,
   "metadata": {},
   "outputs": [
    {
     "name": "stdout",
     "output_type": "stream",
     "text": [
      "featureDF => (159, 5), 2D\n",
      "[[242.      25.4     30.      11.52     4.02  ]\n",
      " [290.      26.3     31.2     12.48     4.3056]\n",
      " [340.      26.5     31.1     12.3778   4.6961]\n",
      " [363.      29.      33.5     12.73     4.4555]\n",
      " [430.      29.      34.      12.444    5.134 ]]\n"
     ]
    }
   ],
   "source": [
    "# 피쳐 데이터셋 추출\n",
    "featureDF = fishDF[fishDF.columns[1:]].to_numpy()\n",
    "\n",
    "print(f'featureDF => {featureDF.shape}, {featureDF.ndim}D')\n",
    "print(featureDF[:5])"
   ]
  },
  {
   "cell_type": "code",
   "execution_count": 44,
   "metadata": {},
   "outputs": [
    {
     "name": "stdout",
     "output_type": "stream",
     "text": [
      "targetSR => (159,), 1D\n",
      "['Bream' 'Bream' 'Bream' 'Bream' 'Bream']\n"
     ]
    }
   ],
   "source": [
    "# 타겟 추출\n",
    "targetSR = fishDF['Species'].to_numpy()\n",
    "\n",
    "\n",
    "print(f'targetSR => {targetSR.shape}, {targetSR.ndim}D')\n",
    "print(targetSR[:5])"
   ]
  },
  {
   "cell_type": "markdown",
   "metadata": {},
   "source": [
    "#### 학습용/테스트용 데이터셋 준비"
   ]
  },
  {
   "cell_type": "code",
   "execution_count": 45,
   "metadata": {},
   "outputs": [],
   "source": [
    "from sklearn.model_selection import train_test_split\n",
    "\n",
    "X_train, X_test, y_train, y_test = train_test_split(featureDF, targetSR,\n",
    "                                                     random_state=10,\n",
    "                                                    stratify=targetSR\t\t\t# 클래스 비율에 맞추어 데이터셋 분리\n",
    "                                                    )"
   ]
  },
  {
   "cell_type": "markdown",
   "metadata": {},
   "source": [
    "#### 표준화 진행 \n",
    "=> 정규분포\t\tQ) 선형회귀여서 StandardScaler????"
   ]
  },
  {
   "cell_type": "code",
   "execution_count": 46,
   "metadata": {},
   "outputs": [],
   "source": [
    "from sklearn.preprocessing import StandardScaler\n",
    "\n",
    "# 학습용\n",
    "ss = StandardScaler()\n",
    "ss.fit(X_train)\n",
    "\n",
    "train_scaled = ss.transform(X_train)\n",
    "test_scaled = ss.transform(X_test)"
   ]
  },
  {
   "cell_type": "markdown",
   "metadata": {},
   "source": [
    "#### 학습 진행\n",
    "- 학습방법: 지도학습>>>분류\n",
    "- 알고리즘: 로지스틱 회귀\n",
    "\t* 피쳐에 가중치 곱한 수 합계한 결과 (종속변수=> 인코딩한 클래스???) >>> 확률값 (연속된 수치로 변환)\n",
    "\t(f1*w1 + f2*w2 + ...+ fn*wn + b )"
   ]
  },
  {
   "cell_type": "code",
   "execution_count": 47,
   "metadata": {},
   "outputs": [
    {
     "name": "stdout",
     "output_type": "stream",
     "text": [
      "z => [-5.  -4.9 -4.8 -4.7 -4.6 -4.5 -4.4 -4.3 -4.2 -4.1 -4.  -3.9 -3.8 -3.7\n",
      " -3.6 -3.5 -3.4 -3.3 -3.2 -3.1 -3.  -2.9 -2.8 -2.7 -2.6 -2.5 -2.4 -2.3\n",
      " -2.2 -2.1 -2.  -1.9 -1.8 -1.7 -1.6 -1.5 -1.4 -1.3 -1.2 -1.1 -1.  -0.9\n",
      " -0.8 -0.7 -0.6 -0.5 -0.4 -0.3 -0.2 -0.1 -0.   0.1  0.2  0.3  0.4  0.5\n",
      "  0.6  0.7  0.8  0.9  1.   1.1  1.2  1.3  1.4  1.5  1.6  1.7  1.8  1.9\n",
      "  2.   2.1  2.2  2.3  2.4  2.5  2.6  2.7  2.8  2.9  3.   3.1  3.2  3.3\n",
      "  3.4  3.5  3.6  3.7  3.8  3.9  4.   4.1  4.2  4.3  4.4  4.5  4.6  4.7\n",
      "  4.8  4.9]\n",
      "\n",
      " phi= [0.006693 0.007392 0.008163 0.009013 0.009952 0.010987 0.012128 0.013387\n",
      " 0.014774 0.016302 0.017986 0.01984  0.021881 0.024127 0.026597 0.029312\n",
      " 0.032295 0.035571 0.039166 0.043107 0.047426 0.052154 0.057324 0.062973\n",
      " 0.069138 0.075858 0.083173 0.091123 0.09975  0.109097 0.119203 0.130108\n",
      " 0.141851 0.154465 0.167982 0.182426 0.197816 0.214165 0.231475 0.24974\n",
      " 0.268941 0.28905  0.310026 0.331812 0.354344 0.377541 0.401312 0.425557\n",
      " 0.450166 0.475021 0.5      0.524979 0.549834 0.574443 0.598688 0.622459\n",
      " 0.645656 0.668188 0.689974 0.71095  0.731059 0.75026  0.768525 0.785835\n",
      " 0.802184 0.817574 0.832018 0.845535 0.858149 0.869892 0.880797 0.890903\n",
      " 0.90025  0.908877 0.916827 0.924142 0.930862 0.937027 0.942676 0.947846\n",
      " 0.952574 0.956893 0.960834 0.964429 0.967705 0.970688 0.973403 0.975873\n",
      " 0.978119 0.98016  0.982014 0.983698 0.985226 0.986613 0.987872 0.989013\n",
      " 0.990048 0.990987 0.991837 0.992608]\n"
     ]
    }
   ],
   "source": [
    "import numpy as np\n",
    "import matplotlib.pyplot as plt\n",
    "\n",
    "# 지수표기법 대신 소수점 6자리 출력\n",
    "np.set_printoptions(precision=6, suppress=True)\n",
    "\n",
    "z = np.arange(-5,5,0.1)\t\t\t\t\t\t# y=x???\n",
    "phi = 1 / (1+np.exp(-z))\t\t\t\t\t# 선형식의 결과값 >> 0.0~1.0 확률 값 변환하는 식\n",
    "\n",
    "print(f'z => {z}\\n\\n phi= {phi}')"
   ]
  },
  {
   "cell_type": "code",
   "execution_count": 48,
   "metadata": {},
   "outputs": [
    {
     "data": {
      "image/png": "[encoded data removed]",
      "text/plain": [
       "<Figure size 640x480 with 1 Axes>"
      ]
     },
     "metadata": {},
     "output_type": "display_data"
    }
   ],
   "source": [
    "plt.plot(z, phi)\n",
    "plt.title('Sigmoid Function')\n",
    "plt.xlabel('z')\n",
    "plt.ylabel('phi')\n",
    "plt.show()"
   ]
  },
  {
   "cell_type": "markdown",
   "metadata": {},
   "source": [
    "#### 이진 분류 w/ 로지스틱 회귀 "
   ]
  },
  {
   "cell_type": "code",
   "execution_count": 49,
   "metadata": {},
   "outputs": [
    {
     "name": "stdout",
     "output_type": "stream",
     "text": [
      "['A' 'C']\n"
     ]
    }
   ],
   "source": [
    "char_arr = np.array( ['A','B','C','D','E'])\n",
    "print(char_arr[[True,False,True,False, False]])"
   ]
  },
  {
   "cell_type": "code",
   "execution_count": 50,
   "metadata": {},
   "outputs": [],
   "source": [
    "# 이진 분류 => 2개 품종 데이터셋 추출\n",
    "mask = (y_train == 'Bream') | (y_train=='Smelt')\n",
    "\n",
    "train_bream_smelt = train_scaled[mask]\n",
    "target_bream_smelt = y_train[mask]\n",
    "\n",
    "mask = (y_test == 'Bream') | (y_test=='Smelt')\n",
    "test_bream_smelt = test_scaled[mask]\n",
    "test_target_bream_smelt = y_test[mask]\n"
   ]
  },
  {
   "cell_type": "markdown",
   "metadata": {},
   "source": [
    "#### 학습진행"
   ]
  },
  {
   "cell_type": "code",
   "execution_count": 51,
   "metadata": {},
   "outputs": [
    {
     "data": {
      "text/html": [
       "<style>#sk-container-id-2 {color: black;}#sk-container-id-2 pre{padding: 0;}#sk-container-id-2 div.sk-toggleable {background-color: white;}#sk-container-id-2 label.sk-toggleable__label {cursor: pointer;display: block;width: 100%;margin-bottom: 0;padding: 0.3em;box-sizing: border-box;text-align: center;}#sk-container-id-2 label.sk-toggleable__label-arrow:before {content: \"▸\";float: left;margin-right: 0.25em;color: #696969;}#sk-container-id-2 label.sk-toggleable__label-arrow:hover:before {color: black;}#sk-container-id-2 div.sk-estimator:hover label.sk-toggleable__label-arrow:before {color: black;}#sk-container-id-2 div.sk-toggleable__content {max-height: 0;max-width: 0;overflow: hidden;text-align: left;background-color: #f0f8ff;}#sk-container-id-2 div.sk-toggleable__content pre {margin: 0.2em;color: black;border-radius: 0.25em;background-color: #f0f8ff;}#sk-container-id-2 input.sk-toggleable__control:checked~div.sk-toggleable__content {max-height: 200px;max-width: 100%;overflow: auto;}#sk-container-id-2 input.sk-toggleable__control:checked~label.sk-toggleable__label-arrow:before {content: \"▾\";}#sk-container-id-2 div.sk-estimator input.sk-toggleable__control:checked~label.sk-toggleable__label {background-color: #d4ebff;}#sk-container-id-2 div.sk-label input.sk-toggleable__control:checked~label.sk-toggleable__label {background-color: #d4ebff;}#sk-container-id-2 input.sk-hidden--visually {border: 0;clip: rect(1px 1px 1px 1px);clip: rect(1px, 1px, 1px, 1px);height: 1px;margin: -1px;overflow: hidden;padding: 0;position: absolute;width: 1px;}#sk-container-id-2 div.sk-estimator {font-family: monospace;background-color: #f0f8ff;border: 1px dotted black;border-radius: 0.25em;box-sizing: border-box;margin-bottom: 0.5em;}#sk-container-id-2 div.sk-estimator:hover {background-color: #d4ebff;}#sk-container-id-2 div.sk-parallel-item::after {content: \"\";width: 100%;border-bottom: 1px solid gray;flex-grow: 1;}#sk-container-id-2 div.sk-label:hover label.sk-toggleable__label {background-color: #d4ebff;}#sk-container-id-2 div.sk-serial::before {content: \"\";position: absolute;border-left: 1px solid gray;box-sizing: border-box;top: 0;bottom: 0;left: 50%;z-index: 0;}#sk-container-id-2 div.sk-serial {display: flex;flex-direction: column;align-items: center;background-color: white;padding-right: 0.2em;padding-left: 0.2em;position: relative;}#sk-container-id-2 div.sk-item {position: relative;z-index: 1;}#sk-container-id-2 div.sk-parallel {display: flex;align-items: stretch;justify-content: center;background-color: white;position: relative;}#sk-container-id-2 div.sk-item::before, #sk-container-id-2 div.sk-parallel-item::before {content: \"\";position: absolute;border-left: 1px solid gray;box-sizing: border-box;top: 0;bottom: 0;left: 50%;z-index: -1;}#sk-container-id-2 div.sk-parallel-item {display: flex;flex-direction: column;z-index: 1;position: relative;background-color: white;}#sk-container-id-2 div.sk-parallel-item:first-child::after {align-self: flex-end;width: 50%;}#sk-container-id-2 div.sk-parallel-item:last-child::after {align-self: flex-start;width: 50%;}#sk-container-id-2 div.sk-parallel-item:only-child::after {width: 0;}#sk-container-id-2 div.sk-dashed-wrapped {border: 1px dashed gray;margin: 0 0.4em 0.5em 0.4em;box-sizing: border-box;padding-bottom: 0.4em;background-color: white;}#sk-container-id-2 div.sk-label label {font-family: monospace;font-weight: bold;display: inline-block;line-height: 1.2em;}#sk-container-id-2 div.sk-label-container {text-align: center;}#sk-container-id-2 div.sk-container {/* jupyter's `normalize.less` sets `[hidden] { display: none; }` but bootstrap.min.css set `[hidden] { display: none !important; }` so we also need the `!important` here to be able to override the default hidden behavior on the sphinx rendered scikit-learn.org. See: https://github.com/scikit-learn/scikit-learn/issues/21755 */display: inline-block !important;position: relative;}#sk-container-id-2 div.sk-text-repr-fallback {display: none;}</style><div id=\"sk-container-id-2\" class=\"sk-top-container\"><div class=\"sk-text-repr-fallback\"><pre>LogisticRegression()</pre><b>In a Jupyter environment, please rerun this cell to show the HTML representation or trust the notebook. <br />On GitHub, the HTML representation is unable to render, please try loading this page with nbviewer.org.</b></div><div class=\"sk-container\" hidden><div class=\"sk-item\"><div class=\"sk-estimator sk-toggleable\"><input class=\"sk-toggleable__control sk-hidden--visually\" id=\"sk-estimator-id-4\" type=\"checkbox\" checked><label for=\"sk-estimator-id-4\" class=\"sk-toggleable__label sk-toggleable__label-arrow\">LogisticRegression</label><div class=\"sk-toggleable__content\"><pre>LogisticRegression()</pre></div></div></div></div></div>"
      ],
      "text/plain": [
       "LogisticRegression()"
      ]
     },
     "execution_count": 51,
     "metadata": {},
     "output_type": "execute_result"
    }
   ],
   "source": [
    "from sklearn.linear_model import LogisticRegression\n",
    "\n",
    "lr = LogisticRegression()\n",
    "lr.fit(train_bream_smelt, target_bream_smelt)"
   ]
  },
  {
   "cell_type": "code",
   "execution_count": 52,
   "metadata": {},
   "outputs": [
    {
     "name": "stdout",
     "output_type": "stream",
     "text": [
      "classes_ : ['Bream' 'Smelt']  2개\n",
      "n_features_in_ : 5\n",
      "n_iter_ : [13]\n",
      "\n",
      "coef_ : [[-0.443163 -0.600773 -0.684162 -1.027121 -0.767243]]\n",
      "intercept_ : [-2.230105]\n"
     ]
    }
   ],
   "source": [
    "## 모델 파라미터\n",
    "print(f'classes_ : {lr.classes_}  {len(lr.classes_)}개')\n",
    "print(f'n_features_in_ : {lr.n_features_in_}')\n",
    "print(f'n_iter_ : {lr.n_iter_}')\n",
    "print()\n",
    "print(f'coef_ : {lr.coef_}')\t\t\t\t\t\t# => f1, f2, f3, f4, f5\n",
    "print(f'intercept_ : {lr.intercept_}')"
   ]
  },
  {
   "cell_type": "markdown",
   "metadata": {},
   "source": [
    "#### 모델 성능 평가\n",
    "- accuracy\n",
    "- score"
   ]
  },
  {
   "cell_type": "code",
   "execution_count": 53,
   "metadata": {},
   "outputs": [
    {
     "name": "stdout",
     "output_type": "stream",
     "text": [
      "train score => 1.0\n",
      "test score => 1.0\n"
     ]
    }
   ],
   "source": [
    "train_score = lr.score(train_bream_smelt, target_bream_smelt)\n",
    "test_score = lr.score(test_bream_smelt, test_target_bream_smelt)\n",
    "\n",
    "print(f'train score => {train_score}')\n",
    "print(f'test score => {test_score}')"
   ]
  },
  {
   "cell_type": "markdown",
   "metadata": {},
   "source": [
    "#### 모델 테스팅 진행 => predict(피쳐2D)\n",
    "* predict() : 예측 클래스 반환\n",
    "* predict_proba() : 각 클래스별 확률값\n",
    "* decision_function: sum(피쳐*Coef_) + intercept_ 의 결과값"
   ]
  },
  {
   "cell_type": "code",
   "execution_count": 54,
   "metadata": {},
   "outputs": [
    {
     "name": "stdout",
     "output_type": "stream",
     "text": [
      "['Smelt' 'Smelt' 'Bream' 'Bream' 'Bream']\n"
     ]
    }
   ],
   "source": [
    "print(lr.predict(train_bream_smelt[:5]))"
   ]
  },
  {
   "cell_type": "code",
   "execution_count": 55,
   "metadata": {},
   "outputs": [
    {
     "name": "stdout",
     "output_type": "stream",
     "text": [
      "클래스 => ['Bream' 'Smelt']\n",
      "\n",
      "[[0.03185  0.96815 ]\n",
      " [0.070079 0.929921]\n",
      " [0.999494 0.000506]\n",
      " [0.934717 0.065283]\n",
      " [0.994045 0.005955]]\n"
     ]
    },
    {
     "data": {
      "text/plain": [
       "' \\n[Bream 확률][Smelt 확률]\\t\\t=> 합하면 1 (이진분류니까)\\n[[0.03185  0.96815 ]\\t\\t\\n [0.070079 0.929921]\\n [0.999494 0.000506]\\n [0.934717 0.065283]\\n [0.994045 0.005955]]\\n'"
      ]
     },
     "execution_count": 55,
     "metadata": {},
     "output_type": "execute_result"
    }
   ],
   "source": [
    "print(f'클래스 => {lr.classes_}\\n')\n",
    "print(lr.predict_proba(train_bream_smelt[:5]))\n",
    "\n",
    "''' \n",
    "[Bream 확률][Smelt 확률]\t\t=> 합하면 1 (이진분류니까)\n",
    "[[0.03185  0.96815 ]\t\t\n",
    " [0.070079 0.929921]\n",
    " [0.999494 0.000506]\n",
    " [0.934717 0.065283]\n",
    " [0.994045 0.005955]]\n",
    "'''"
   ]
  },
  {
   "cell_type": "code",
   "execution_count": 56,
   "metadata": {},
   "outputs": [
    {
     "data": {
      "text/plain": [
       "array([ 3.414347,  2.585481, -7.588453, -2.66151 , -5.117616])"
      ]
     },
     "execution_count": 56,
     "metadata": {},
     "output_type": "execute_result"
    }
   ],
   "source": [
    "#  sum(피쳐*Coef_) + intercept_ 의 결과값\n",
    "# \ty = 'Weight'*coef_[0] + 'Length'*coef_[1] + 'Diagonal'*coef_[2] + 'Height'*coef_[3] + 'Width'*coef_[4] + intercept_\n",
    "\n",
    "decisions = lr.decision_function(train_bream_smelt[:5])\n",
    "decisions"
   ]
  },
  {
   "cell_type": "code",
   "execution_count": 58,
   "metadata": {},
   "outputs": [
    {
     "name": "stdout",
     "output_type": "stream",
     "text": [
      "[0.96815  0.929921 0.000506 0.065283 0.005955]\n",
      "\n",
      "[[0.03185  0.96815 ]\n",
      " [0.070079 0.929921]\n",
      " [0.999494 0.000506]\n",
      " [0.934717 0.065283]\n",
      " [0.994045 0.005955]]\n",
      "['Smelt' 'Smelt' 'Bream' 'Bream' 'Bream']\n"
     ]
    }
   ],
   "source": [
    "from scipy.special import expit\n",
    "\n",
    "print(expit(decisions))\t\t\t\t\t# 선형식 결과값 (위의 decisions)  >>> 확률 변환\n",
    "\t\t\t\t\t\t\t\t\t\t# 클래스==1 에 대한 확률 결과\n",
    "print()                                        \n",
    "print(lr.predict_proba(train_bream_smelt[:5]))\n",
    "print(lr.predict(train_bream_smelt[:5]))"
   ]
  },
  {
   "cell_type": "code",
   "execution_count": null,
   "metadata": {},
   "outputs": [],
   "source": []
  },
  {
   "cell_type": "markdown",
   "metadata": {},
   "source": []
  }
 ],
 "metadata": {
  "kernelspec": {
   "display_name": "ml_38",
   "language": "python",
   "name": "python3"
  },
  "language_info": {
   "codemirror_mode": {
    "name": "ipython",
    "version": 3
   },
   "file_extension": ".py",
   "mimetype": "text/x-python",
   "name": "python",
   "nbconvert_exporter": "python",
   "pygments_lexer": "ipython3",
   "version": "3.8.19"
  }
 },
 "nbformat": 4,
 "nbformat_minor": 2
}
