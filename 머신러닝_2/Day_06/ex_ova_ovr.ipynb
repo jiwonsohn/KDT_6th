{
 "cells": [
  {
   "cell_type": "markdown",
   "metadata": {},
   "source": [
    "#### 다중 분류 w/ 로지스틱 회귀 \n",
    "\n",
    "* **OvR (One vs Rest)** 분류\n",
    "\n",
    "- 예시)\n",
    "\n",
    "\t- [0,1,2,3,4] \t=> 5개\t\t\t=> 2진 분류기 5개\n",
    "\n",
    "\t\t0\t=> 0  vs [1,2,3,4]\t\t2진분류\t\t=> 0일  확률<br></br>\n",
    "\t\t1\t=> 1 vs [0,2,3,4]\t\t2진분류\t\t=> 1일  확률<br></br>\n",
    "\t\t2\t=> 1 vs [0,1,3,4]\t\t2진분류\t\t=> 2일  확률<br></br>\n",
    "\t\t3\t=> 1 vs [0,2,1,4]\t\t2진분류\t\t=> 3일 \t확률<br></br>\n",
    "\t\t4\t=> 1 vs [0,2,3,1]\t\t2진분류\t\t=> 4일 \t확률\n",
    "\n",
    "* **OvO (One vs One)** 분류\n",
    "\n",
    "- 예시)\n",
    "\n",
    "\t- [0,1,2,3,4] \t=> 5개\t\t\t=> 2진 분류기 10개 \t\t=> 5* (5-1)/2*1\n",
    "\n",
    "\t\t- 0\t=> \t\t0 vs 1\t0 vs 2\t0 vs 3\t0 vs 4\t\t<br></br>\n",
    "\t\t- 1\t=>\t \t\t\t1 vs 2\t1 vs 3\t1 vs 4\t\t<br></br>\n",
    "\t\t- 2\t=>\t\t\t\t\t\t2 vs 3\t2 vs 4\t\t<br></br>\n",
    "\t\t- 3\t=> \t\t\t\t\t\t\t\t3 vs 4\t\t<br></br>\n",
    "\t\t- 4\t=> \t\t"
   ]
  },
  {
   "cell_type": "markdown",
   "metadata": {},
   "source": [
    "### 다중분류를 위한 OVR(OVA)\n",
    "- 분류 클래스 개수 만큼 2진 분류기 생성 & 다중 분류 진행\n"
   ]
  },
  {
   "cell_type": "code",
   "execution_count": 69,
   "metadata": {},
   "outputs": [],
   "source": [
    "import pandas as pd\n",
    "import numpy as np\n",
    "\n",
    "from sklearn.datasets import load_digits\n",
    "from sklearn.model_selection import train_test_split\n",
    "\n",
    "\n",
    "\n",
    "# 판다스 지수표기법 정지 설정\n",
    "pd.options.display.float_format = '{:.5f}'.format\n"
   ]
  },
  {
   "cell_type": "markdown",
   "metadata": {},
   "source": [
    "- 데이터셋 load_digits\n",
    "\t* 내장 데이터셋\n",
    "\t* 이미지 데이터셋 \t=> 8*8 크기 이미지\t\t=> 피쳐가 64개!!!\n",
    "\t* 이미지 라벨/타겟 \t=> 숫자 0~9까지 총 10개 클래스"
   ]
  },
  {
   "cell_type": "code",
   "execution_count": 70,
   "metadata": {},
   "outputs": [
    {
     "name": "stdout",
     "output_type": "stream",
     "text": [
      "featureDF => (1797, 64), 2D \n",
      " targetSR => (1797,), 1D\n"
     ]
    }
   ],
   "source": [
    "featureDF, targetSR = load_digits(as_frame=True, return_X_y=True)\n",
    "\n",
    "# 이미지 픽셀: 0~255\n",
    "# 픽셀값 스케일링!!\n",
    "# 색상값 (이미지데이터)는 보통 픽셀크기로 나누어버림!!\n",
    "\n",
    "featureDF = (featureDF/255)\n",
    "print(f'featureDF => {featureDF.shape}, {featureDF.ndim}D \\n targetSR => {targetSR.shape}, {targetSR.ndim}D')"
   ]
  },
  {
   "cell_type": "code",
   "execution_count": 71,
   "metadata": {},
   "outputs": [
    {
     "data": {
      "text/plain": [
       "RangeIndex(start=0, stop=1797, step=1)"
      ]
     },
     "execution_count": 71,
     "metadata": {},
     "output_type": "execute_result"
    }
   ],
   "source": [
    "targetSR.index"
   ]
  },
  {
   "cell_type": "code",
   "execution_count": 72,
   "metadata": {},
   "outputs": [
    {
     "data": {
      "text/plain": [
       "array([0, 1, 2, 3, 4, 5, 6, 7, 8, 9])"
      ]
     },
     "execution_count": 72,
     "metadata": {},
     "output_type": "execute_result"
    }
   ],
   "source": [
    "# 이미지 라벨 클래스 종류\n",
    "targetSR.unique()"
   ]
  },
  {
   "cell_type": "code",
   "execution_count": 73,
   "metadata": {},
   "outputs": [
    {
     "name": "stdout",
     "output_type": "stream",
     "text": [
      "============================================================ featureDF ============================================================\n",
      "   pixel_0_0  pixel_0_1  pixel_0_2  pixel_0_3  pixel_0_4  pixel_0_5  \\\n",
      "0    0.00000    0.00000    0.01961    0.05098    0.03529    0.00392   \n",
      "\n",
      "   pixel_0_6  pixel_0_7  pixel_1_0  pixel_1_1  ...  pixel_6_6  pixel_6_7  \\\n",
      "0    0.00000    0.00000    0.00000    0.00000  ...    0.00000    0.00000   \n",
      "\n",
      "   pixel_7_0  pixel_7_1  pixel_7_2  pixel_7_3  pixel_7_4  pixel_7_5  \\\n",
      "0    0.00000    0.00000    0.02353    0.05098    0.03922    0.00000   \n",
      "\n",
      "   pixel_7_6  pixel_7_7  \n",
      "0    0.00000    0.00000  \n",
      "\n",
      "[1 rows x 64 columns]\n",
      "\n",
      "============================================================ targetSR ============================================================\n",
      "0    0\n",
      "Name: target, dtype: int32\n"
     ]
    }
   ],
   "source": [
    "print('='*60,'featureDF','='*60)\n",
    "print(featureDF.head(1))\n",
    "print()\n",
    "print('='*60,'targetSR','='*60)\n",
    "print(targetSR.head(1))"
   ]
  },
  {
   "cell_type": "code",
   "execution_count": 74,
   "metadata": {},
   "outputs": [
    {
     "name": "stdout",
     "output_type": "stream",
     "text": [
      "image data shape=> (8, 8)\n"
     ]
    },
    {
     "data": {
      "text/plain": [
       "<function matplotlib.pyplot.show(close=None, block=None)>"
      ]
     },
     "execution_count": 74,
     "metadata": {},
     "output_type": "execute_result"
    },
    {
     "data": {
      "image/png": "[encoded data removed]",
      "text/plain": [
       "<Figure size 640x480 with 1 Axes>"
      ]
     },
     "metadata": {},
     "output_type": "display_data"
    }
   ],
   "source": [
    "# 이미지 데이터 시각화\n",
    "import matplotlib.pyplot as plt\n",
    "\n",
    "## 1D ==> 2D \n",
    "imgData = featureDF.iloc[-1].to_numpy().reshape(-1,8)\n",
    "print(f'image data shape=> {imgData.shape}')\n",
    "\n",
    "plt.imshow(imgData, cmap='binary')\n",
    "plt.title(f'[IMAGE Label=> {targetSR[1796]}]')\t\t\t\t\t# -1 인덱싱 불가\n",
    "plt.show"
   ]
  },
  {
   "cell_type": "markdown",
   "metadata": {},
   "source": [
    "#### 학습용/테스트용 데이터셋 분리"
   ]
  },
  {
   "cell_type": "code",
   "execution_count": 75,
   "metadata": {},
   "outputs": [],
   "source": [
    "X_train, X_test, y_train, y_test = train_test_split(featureDF, targetSR,\n",
    "                                                    random_state =10,\n",
    "                                                    stratify = targetSR)"
   ]
  },
  {
   "cell_type": "markdown",
   "metadata": {},
   "source": [
    "- 클래스 마다 이진 분류가 "
   ]
  },
  {
   "cell_type": "code",
   "execution_count": 76,
   "metadata": {},
   "outputs": [
    {
     "data": {
      "text/html": [
       "<style>#sk-container-id-4 {color: black;}#sk-container-id-4 pre{padding: 0;}#sk-container-id-4 div.sk-toggleable {background-color: white;}#sk-container-id-4 label.sk-toggleable__label {cursor: pointer;display: block;width: 100%;margin-bottom: 0;padding: 0.3em;box-sizing: border-box;text-align: center;}#sk-container-id-4 label.sk-toggleable__label-arrow:before {content: \"▸\";float: left;margin-right: 0.25em;color: #696969;}#sk-container-id-4 label.sk-toggleable__label-arrow:hover:before {color: black;}#sk-container-id-4 div.sk-estimator:hover label.sk-toggleable__label-arrow:before {color: black;}#sk-container-id-4 div.sk-toggleable__content {max-height: 0;max-width: 0;overflow: hidden;text-align: left;background-color: #f0f8ff;}#sk-container-id-4 div.sk-toggleable__content pre {margin: 0.2em;color: black;border-radius: 0.25em;background-color: #f0f8ff;}#sk-container-id-4 input.sk-toggleable__control:checked~div.sk-toggleable__content {max-height: 200px;max-width: 100%;overflow: auto;}#sk-container-id-4 input.sk-toggleable__control:checked~label.sk-toggleable__label-arrow:before {content: \"▾\";}#sk-container-id-4 div.sk-estimator input.sk-toggleable__control:checked~label.sk-toggleable__label {background-color: #d4ebff;}#sk-container-id-4 div.sk-label input.sk-toggleable__control:checked~label.sk-toggleable__label {background-color: #d4ebff;}#sk-container-id-4 input.sk-hidden--visually {border: 0;clip: rect(1px 1px 1px 1px);clip: rect(1px, 1px, 1px, 1px);height: 1px;margin: -1px;overflow: hidden;padding: 0;position: absolute;width: 1px;}#sk-container-id-4 div.sk-estimator {font-family: monospace;background-color: #f0f8ff;border: 1px dotted black;border-radius: 0.25em;box-sizing: border-box;margin-bottom: 0.5em;}#sk-container-id-4 div.sk-estimator:hover {background-color: #d4ebff;}#sk-container-id-4 div.sk-parallel-item::after {content: \"\";width: 100%;border-bottom: 1px solid gray;flex-grow: 1;}#sk-container-id-4 div.sk-label:hover label.sk-toggleable__label {background-color: #d4ebff;}#sk-container-id-4 div.sk-serial::before {content: \"\";position: absolute;border-left: 1px solid gray;box-sizing: border-box;top: 0;bottom: 0;left: 50%;z-index: 0;}#sk-container-id-4 div.sk-serial {display: flex;flex-direction: column;align-items: center;background-color: white;padding-right: 0.2em;padding-left: 0.2em;position: relative;}#sk-container-id-4 div.sk-item {position: relative;z-index: 1;}#sk-container-id-4 div.sk-parallel {display: flex;align-items: stretch;justify-content: center;background-color: white;position: relative;}#sk-container-id-4 div.sk-item::before, #sk-container-id-4 div.sk-parallel-item::before {content: \"\";position: absolute;border-left: 1px solid gray;box-sizing: border-box;top: 0;bottom: 0;left: 50%;z-index: -1;}#sk-container-id-4 div.sk-parallel-item {display: flex;flex-direction: column;z-index: 1;position: relative;background-color: white;}#sk-container-id-4 div.sk-parallel-item:first-child::after {align-self: flex-end;width: 50%;}#sk-container-id-4 div.sk-parallel-item:last-child::after {align-self: flex-start;width: 50%;}#sk-container-id-4 div.sk-parallel-item:only-child::after {width: 0;}#sk-container-id-4 div.sk-dashed-wrapped {border: 1px dashed gray;margin: 0 0.4em 0.5em 0.4em;box-sizing: border-box;padding-bottom: 0.4em;background-color: white;}#sk-container-id-4 div.sk-label label {font-family: monospace;font-weight: bold;display: inline-block;line-height: 1.2em;}#sk-container-id-4 div.sk-label-container {text-align: center;}#sk-container-id-4 div.sk-container {/* jupyter's `normalize.less` sets `[hidden] { display: none; }` but bootstrap.min.css set `[hidden] { display: none !important; }` so we also need the `!important` here to be able to override the default hidden behavior on the sphinx rendered scikit-learn.org. See: https://github.com/scikit-learn/scikit-learn/issues/21755 */display: inline-block !important;position: relative;}#sk-container-id-4 div.sk-text-repr-fallback {display: none;}</style><div id=\"sk-container-id-4\" class=\"sk-top-container\"><div class=\"sk-text-repr-fallback\"><pre>OneVsRestClassifier(estimator=LogisticRegression())</pre><b>In a Jupyter environment, please rerun this cell to show the HTML representation or trust the notebook. <br />On GitHub, the HTML representation is unable to render, please try loading this page with nbviewer.org.</b></div><div class=\"sk-container\" hidden><div class=\"sk-item sk-dashed-wrapped\"><div class=\"sk-label-container\"><div class=\"sk-label sk-toggleable\"><input class=\"sk-toggleable__control sk-hidden--visually\" id=\"sk-estimator-id-10\" type=\"checkbox\" ><label for=\"sk-estimator-id-10\" class=\"sk-toggleable__label sk-toggleable__label-arrow\">OneVsRestClassifier</label><div class=\"sk-toggleable__content\"><pre>OneVsRestClassifier(estimator=LogisticRegression())</pre></div></div></div><div class=\"sk-parallel\"><div class=\"sk-parallel-item\"><div class=\"sk-item\"><div class=\"sk-label-container\"><div class=\"sk-label sk-toggleable\"><input class=\"sk-toggleable__control sk-hidden--visually\" id=\"sk-estimator-id-11\" type=\"checkbox\" ><label for=\"sk-estimator-id-11\" class=\"sk-toggleable__label sk-toggleable__label-arrow\">estimator: LogisticRegression</label><div class=\"sk-toggleable__content\"><pre>LogisticRegression()</pre></div></div></div><div class=\"sk-serial\"><div class=\"sk-item\"><div class=\"sk-estimator sk-toggleable\"><input class=\"sk-toggleable__control sk-hidden--visually\" id=\"sk-estimator-id-12\" type=\"checkbox\" ><label for=\"sk-estimator-id-12\" class=\"sk-toggleable__label sk-toggleable__label-arrow\">LogisticRegression</label><div class=\"sk-toggleable__content\"><pre>LogisticRegression()</pre></div></div></div></div></div></div></div></div></div></div>"
      ],
      "text/plain": [
       "OneVsRestClassifier(estimator=LogisticRegression())"
      ]
     },
     "execution_count": 76,
     "metadata": {},
     "output_type": "execute_result"
    }
   ],
   "source": [
    "from sklearn.multiclass import OneVsRestClassifier\n",
    "from sklearn.linear_model import LogisticRegression\n",
    "\n",
    "# estimator는 분류 알고리즘이기만 하면 상관없음!!!!\n",
    "# 예시) KNN_Classifier(), SVC ...\n",
    "\n",
    "ovr_clf = OneVsRestClassifier(estimator=LogisticRegression())\n",
    "ovr_clf.fit(X_train, y_train)"
   ]
  },
  {
   "cell_type": "code",
   "execution_count": 77,
   "metadata": {},
   "outputs": [
    {
     "name": "stdout",
     "output_type": "stream",
     "text": [
      "ovr_clf.estimators_: 10개\n",
      "ovr_clf.classes_: [0 1 2 3 4 5 6 7 8 9]\n",
      "ovr_clf.n_classes_: 10\n",
      "ovr_clf.label_binarizer_: LabelBinarizer(sparse_output=True)\n"
     ]
    }
   ],
   "source": [
    "# 모델 파라미터\n",
    "print(f'ovr_clf.estimators_: {len(ovr_clf.estimators_)}개')\n",
    "print(f'ovr_clf.classes_: {ovr_clf.classes_}')\n",
    "print(f'ovr_clf.n_classes_: {ovr_clf.n_classes_}')\n",
    "print(f'ovr_clf.label_binarizer_: {ovr_clf.label_binarizer_}')"
   ]
  },
  {
   "cell_type": "code",
   "execution_count": 96,
   "metadata": {},
   "outputs": [
    {
     "data": {
      "text/plain": [
       "[LogisticRegression(),\n",
       " LogisticRegression(),\n",
       " LogisticRegression(),\n",
       " LogisticRegression(),\n",
       " LogisticRegression(),\n",
       " LogisticRegression(),\n",
       " LogisticRegression(),\n",
       " LogisticRegression(),\n",
       " LogisticRegression(),\n",
       " LogisticRegression()]"
      ]
     },
     "execution_count": 96,
     "metadata": {},
     "output_type": "execute_result"
    }
   ],
   "source": [
    "ovr_clf.estimators_"
   ]
  },
  {
   "cell_type": "code",
   "execution_count": 110,
   "metadata": {},
   "outputs": [
    {
     "name": "stdout",
     "output_type": "stream",
     "text": [
      "====================================================================================================\n",
      "[전체 분류기 선형식값]\n",
      "[0분류기 1분류기 2분류기 3분류기 4분류기 5분류기 6분류기 7분류기 8분류기 9분류기]\n",
      " [[-2.50438  -2.360388 -2.258641 -1.818556 -2.491658 -1.917085 -2.100526\n",
      "  -2.452999 -2.44828  -2.340241]]\n",
      "\n",
      "전체 분류기 확률변환값\n",
      "[0분류기 1분류기 2분류기 3분류기 4분류기 5분류기 6분류기 7분류기 8분류기 9분류기]\n",
      " [[0.079003 0.090183 0.098928 0.145985 0.079937 0.134043 0.114027 0.082838\n",
      "  0.083199 0.091857]]\n",
      "0 분류기 이진 분류 확률을 다시 전체 다중 분류에 대한 확률로 처리한 값\n",
      "\n",
      "[0 분류기 선형식값]\n",
      " [-2.50438]\n",
      "\n",
      "[0 분류기 확률변환값]\n",
      "[0일 확률] expit(decision_func)\n",
      " [0.075552]\n",
      "\n",
      "[0 분류기 확률변환값]\n",
      "[나머지일 확률 0일 확률] predict_proba\n",
      " [[0.924448 0.075552]]\n",
      "\n",
      "====================================================================================================\n",
      "[전체 분류기 선형식값]\n",
      "[0분류기 1분류기 2분류기 3분류기 4분류기 5분류기 6분류기 7분류기 8분류기 9분류기]\n",
      " [[-2.50438  -2.360388 -2.258641 -1.818556 -2.491658 -1.917085 -2.100526\n",
      "  -2.452999 -2.44828  -2.340241]]\n",
      "\n",
      "전체 분류기 확률변환값\n",
      "[0분류기 1분류기 2분류기 3분류기 4분류기 5분류기 6분류기 7분류기 8분류기 9분류기]\n",
      " [[0.079003 0.090183 0.098928 0.145985 0.079937 0.134043 0.114027 0.082838\n",
      "  0.083199 0.091857]]\n",
      "1 분류기 이진 분류 확률을 다시 전체 다중 분류에 대한 확률로 처리한 값\n",
      "\n",
      "[1 분류기 선형식값]\n",
      " [-2.360388]\n",
      "\n",
      "[1 분류기 확률변환값]\n",
      "[1일 확률] expit(decision_func)\n",
      " [0.086244]\n",
      "\n",
      "[1 분류기 확률변환값]\n",
      "[나머지일 확률 1일 확률] predict_proba\n",
      " [[0.913756 0.086244]]\n",
      "\n",
      "====================================================================================================\n",
      "[전체 분류기 선형식값]\n",
      "[0분류기 1분류기 2분류기 3분류기 4분류기 5분류기 6분류기 7분류기 8분류기 9분류기]\n",
      " [[-2.50438  -2.360388 -2.258641 -1.818556 -2.491658 -1.917085 -2.100526\n",
      "  -2.452999 -2.44828  -2.340241]]\n",
      "\n",
      "전체 분류기 확률변환값\n",
      "[0분류기 1분류기 2분류기 3분류기 4분류기 5분류기 6분류기 7분류기 8분류기 9분류기]\n",
      " [[0.079003 0.090183 0.098928 0.145985 0.079937 0.134043 0.114027 0.082838\n",
      "  0.083199 0.091857]]\n",
      "2 분류기 이진 분류 확률을 다시 전체 다중 분류에 대한 확률로 처리한 값\n",
      "\n",
      "[2 분류기 선형식값]\n",
      " [-2.258641]\n",
      "\n",
      "[2 분류기 확률변환값]\n",
      "[2일 확률] expit(decision_func)\n",
      " [0.094607]\n",
      "\n",
      "[2 분류기 확률변환값]\n",
      "[나머지일 확률 2일 확률] predict_proba\n",
      " [[0.905393 0.094607]]\n",
      "\n",
      "====================================================================================================\n",
      "[전체 분류기 선형식값]\n",
      "[0분류기 1분류기 2분류기 3분류기 4분류기 5분류기 6분류기 7분류기 8분류기 9분류기]\n",
      " [[-2.50438  -2.360388 -2.258641 -1.818556 -2.491658 -1.917085 -2.100526\n",
      "  -2.452999 -2.44828  -2.340241]]\n",
      "\n",
      "전체 분류기 확률변환값\n",
      "[0분류기 1분류기 2분류기 3분류기 4분류기 5분류기 6분류기 7분류기 8분류기 9분류기]\n",
      " [[0.079003 0.090183 0.098928 0.145985 0.079937 0.134043 0.114027 0.082838\n",
      "  0.083199 0.091857]]\n",
      "3 분류기 이진 분류 확률을 다시 전체 다중 분류에 대한 확률로 처리한 값\n",
      "\n",
      "[3 분류기 선형식값]\n",
      " [-1.818556]\n",
      "\n",
      "[3 분류기 확률변환값]\n",
      "[3일 확률] expit(decision_func)\n",
      " [0.139607]\n",
      "\n",
      "[3 분류기 확률변환값]\n",
      "[나머지일 확률 3일 확률] predict_proba\n",
      " [[0.860393 0.139607]]\n",
      "\n",
      "====================================================================================================\n",
      "[전체 분류기 선형식값]\n",
      "[0분류기 1분류기 2분류기 3분류기 4분류기 5분류기 6분류기 7분류기 8분류기 9분류기]\n",
      " [[-2.50438  -2.360388 -2.258641 -1.818556 -2.491658 -1.917085 -2.100526\n",
      "  -2.452999 -2.44828  -2.340241]]\n",
      "\n",
      "전체 분류기 확률변환값\n",
      "[0분류기 1분류기 2분류기 3분류기 4분류기 5분류기 6분류기 7분류기 8분류기 9분류기]\n",
      " [[0.079003 0.090183 0.098928 0.145985 0.079937 0.134043 0.114027 0.082838\n",
      "  0.083199 0.091857]]\n",
      "4 분류기 이진 분류 확률을 다시 전체 다중 분류에 대한 확률로 처리한 값\n",
      "\n",
      "[4 분류기 선형식값]\n",
      " [-2.491658]\n",
      "\n",
      "[4 분류기 확률변환값]\n",
      "[4일 확률] expit(decision_func)\n",
      " [0.076445]\n",
      "\n",
      "[4 분류기 확률변환값]\n",
      "[나머지일 확률 4일 확률] predict_proba\n",
      " [[0.923555 0.076445]]\n",
      "\n",
      "====================================================================================================\n",
      "[전체 분류기 선형식값]\n",
      "[0분류기 1분류기 2분류기 3분류기 4분류기 5분류기 6분류기 7분류기 8분류기 9분류기]\n",
      " [[-2.50438  -2.360388 -2.258641 -1.818556 -2.491658 -1.917085 -2.100526\n",
      "  -2.452999 -2.44828  -2.340241]]\n",
      "\n",
      "전체 분류기 확률변환값\n",
      "[0분류기 1분류기 2분류기 3분류기 4분류기 5분류기 6분류기 7분류기 8분류기 9분류기]\n",
      " [[0.079003 0.090183 0.098928 0.145985 0.079937 0.134043 0.114027 0.082838\n",
      "  0.083199 0.091857]]\n",
      "5 분류기 이진 분류 확률을 다시 전체 다중 분류에 대한 확률로 처리한 값\n",
      "\n",
      "[5 분류기 선형식값]\n",
      " [-1.917085]\n",
      "\n",
      "[5 분류기 확률변환값]\n",
      "[5일 확률] expit(decision_func)\n",
      " [0.128187]\n",
      "\n",
      "[5 분류기 확률변환값]\n",
      "[나머지일 확률 5일 확률] predict_proba\n",
      " [[0.871813 0.128187]]\n",
      "\n",
      "====================================================================================================\n",
      "[전체 분류기 선형식값]\n",
      "[0분류기 1분류기 2분류기 3분류기 4분류기 5분류기 6분류기 7분류기 8분류기 9분류기]\n",
      " [[-2.50438  -2.360388 -2.258641 -1.818556 -2.491658 -1.917085 -2.100526\n",
      "  -2.452999 -2.44828  -2.340241]]\n",
      "\n",
      "전체 분류기 확률변환값\n",
      "[0분류기 1분류기 2분류기 3분류기 4분류기 5분류기 6분류기 7분류기 8분류기 9분류기]\n",
      " [[0.079003 0.090183 0.098928 0.145985 0.079937 0.134043 0.114027 0.082838\n",
      "  0.083199 0.091857]]\n",
      "6 분류기 이진 분류 확률을 다시 전체 다중 분류에 대한 확률로 처리한 값\n",
      "\n",
      "[6 분류기 선형식값]\n",
      " [-2.100526]\n",
      "\n",
      "[6 분류기 확률변환값]\n",
      "[6일 확률] expit(decision_func)\n",
      " [0.109046]\n",
      "\n",
      "[6 분류기 확률변환값]\n",
      "[나머지일 확률 6일 확률] predict_proba\n",
      " [[0.890954 0.109046]]\n",
      "\n",
      "====================================================================================================\n",
      "[전체 분류기 선형식값]\n",
      "[0분류기 1분류기 2분류기 3분류기 4분류기 5분류기 6분류기 7분류기 8분류기 9분류기]\n",
      " [[-2.50438  -2.360388 -2.258641 -1.818556 -2.491658 -1.917085 -2.100526\n",
      "  -2.452999 -2.44828  -2.340241]]\n",
      "\n",
      "전체 분류기 확률변환값\n",
      "[0분류기 1분류기 2분류기 3분류기 4분류기 5분류기 6분류기 7분류기 8분류기 9분류기]\n",
      " [[0.079003 0.090183 0.098928 0.145985 0.079937 0.134043 0.114027 0.082838\n",
      "  0.083199 0.091857]]\n",
      "7 분류기 이진 분류 확률을 다시 전체 다중 분류에 대한 확률로 처리한 값\n",
      "\n",
      "[7 분류기 선형식값]\n",
      " [-2.452999]\n",
      "\n",
      "[7 분류기 확률변환값]\n",
      "[7일 확률] expit(decision_func)\n",
      " [0.07922]\n",
      "\n",
      "[7 분류기 확률변환값]\n",
      "[나머지일 확률 7일 확률] predict_proba\n",
      " [[0.92078 0.07922]]\n",
      "\n",
      "====================================================================================================\n",
      "[전체 분류기 선형식값]\n",
      "[0분류기 1분류기 2분류기 3분류기 4분류기 5분류기 6분류기 7분류기 8분류기 9분류기]\n",
      " [[-2.50438  -2.360388 -2.258641 -1.818556 -2.491658 -1.917085 -2.100526\n",
      "  -2.452999 -2.44828  -2.340241]]\n",
      "\n",
      "전체 분류기 확률변환값\n",
      "[0분류기 1분류기 2분류기 3분류기 4분류기 5분류기 6분류기 7분류기 8분류기 9분류기]\n",
      " [[0.079003 0.090183 0.098928 0.145985 0.079937 0.134043 0.114027 0.082838\n",
      "  0.083199 0.091857]]\n",
      "8 분류기 이진 분류 확률을 다시 전체 다중 분류에 대한 확률로 처리한 값\n",
      "\n",
      "[8 분류기 선형식값]\n",
      " [-2.44828]\n",
      "\n",
      "[8 분류기 확률변환값]\n",
      "[8일 확률] expit(decision_func)\n",
      " [0.079564]\n",
      "\n",
      "[8 분류기 확률변환값]\n",
      "[나머지일 확률 8일 확률] predict_proba\n",
      " [[0.920436 0.079564]]\n",
      "\n",
      "====================================================================================================\n",
      "[전체 분류기 선형식값]\n",
      "[0분류기 1분류기 2분류기 3분류기 4분류기 5분류기 6분류기 7분류기 8분류기 9분류기]\n",
      " [[-2.50438  -2.360388 -2.258641 -1.818556 -2.491658 -1.917085 -2.100526\n",
      "  -2.452999 -2.44828  -2.340241]]\n",
      "\n",
      "전체 분류기 확률변환값\n",
      "[0분류기 1분류기 2분류기 3분류기 4분류기 5분류기 6분류기 7분류기 8분류기 9분류기]\n",
      " [[0.079003 0.090183 0.098928 0.145985 0.079937 0.134043 0.114027 0.082838\n",
      "  0.083199 0.091857]]\n",
      "9 분류기 이진 분류 확률을 다시 전체 다중 분류에 대한 확률로 처리한 값\n",
      "\n",
      "[9 분류기 선형식값]\n",
      " [-2.340241]\n",
      "\n",
      "[9 분류기 확률변환값]\n",
      "[9일 확률] expit(decision_func)\n",
      " [0.087845]\n",
      "\n",
      "[9 분류기 확률변환값]\n",
      "[나머지일 확률 9일 확률] predict_proba\n",
      " [[0.912155 0.087845]]\n",
      "\n"
     ]
    }
   ],
   "source": [
    "np.set_printoptions(precision=6, suppress=True)\n",
    "\n",
    "from scipy.special import expit\n",
    "\n",
    "for idx in range(ovr_clf.n_classes_):\n",
    "    # 피쳐 64개에 대한 coef_ 리스트 반환\n",
    "    print(\"=\"*100)\n",
    "    # print(f'[{idx} 분류기]\\n', ovr_clf.estimators_[idx].coef_, ovr_clf.estimators_[idx].intercept_)\t\t\n",
    "    print(f'[전체 분류기 선형식값]\\n[0분류기 1분류기 2분류기 3분류기 4분류기 5분류기 6분류기 7분류기 8분류기 9분류기]\\n', ovr_clf.decision_function(X_train.iloc[:1]))\n",
    "    print()\n",
    "    print(f'전체 분류기 확률변환값\\n[0분류기 1분류기 2분류기 3분류기 4분류기 5분류기 6분류기 7분류기 8분류기 9분류기]\\n',ovr_clf.predict_proba(X_train.iloc[:1]))                                       \n",
    "    print(f'{idx} 분류기 이진 분류 확률을 다시 전체 다중 분류에 대한 확률로 처리한 값')\n",
    "    print()\n",
    "    print(f'[{idx} 분류기 선형식값]\\n', ovr_clf.estimators_[idx].decision_function(X_train.iloc[:1]))\n",
    "    print()\n",
    "    print(f'[{idx} 분류기 확률변환값]\\n[{idx}일 확률] expit(decision_func)\\n', expit(ovr_clf.estimators_[idx].decision_function(X_train.iloc[:1])))\n",
    "    print()\n",
    "    print(f'[{idx} 분류기 확률변환값]\\n[나머지일 확률 {idx}일 확률] predict_proba\\n', ovr_clf.estimators_[idx].predict_proba(X_train.iloc[:1]))\n",
    "    print()\n",
    "    \n",
    "    "
   ]
  },
  {
   "cell_type": "code",
   "execution_count": 79,
   "metadata": {},
   "outputs": [
    {
     "data": {
      "text/plain": [
       "array([3, 9, 7])"
      ]
     },
     "execution_count": 79,
     "metadata": {},
     "output_type": "execute_result"
    }
   ],
   "source": [
    "ovr_clf.predict(X_test[:3])"
   ]
  },
  {
   "cell_type": "code",
   "execution_count": 80,
   "metadata": {},
   "outputs": [
    {
     "data": {
      "text/plain": [
       "array([[0.078773, 0.07785 , 0.117592, 0.192254, 0.046543, 0.106452,\n",
       "        0.083023, 0.069872, 0.090864, 0.136776],\n",
       "       [0.118287, 0.06343 , 0.079839, 0.154541, 0.065147, 0.109963,\n",
       "        0.053017, 0.081382, 0.092324, 0.182071],\n",
       "       [0.084959, 0.088617, 0.068084, 0.082259, 0.115483, 0.119781,\n",
       "        0.059759, 0.182085, 0.093229, 0.105745]])"
      ]
     },
     "execution_count": 80,
     "metadata": {},
     "output_type": "execute_result"
    }
   ],
   "source": [
    "ovr_clf.predict_proba(X_test.iloc[:3])\n",
    "# [ 클래스 10개에 대한 확률 리스트 x 3개 ]\n"
   ]
  },
  {
   "cell_type": "code",
   "execution_count": 81,
   "metadata": {},
   "outputs": [
    {
     "data": {
      "text/plain": [
       "array([1.])"
      ]
     },
     "execution_count": 81,
     "metadata": {},
     "output_type": "execute_result"
    }
   ],
   "source": [
    "ovr_clf.predict_proba(X_test.iloc[:1]).sum(axis=1)\n",
    "# 총 10개 클래스 각각의 분류 확률 총합 => 1"
   ]
  },
  {
   "cell_type": "code",
   "execution_count": 82,
   "metadata": {},
   "outputs": [
    {
     "data": {
      "text/plain": [
       "3"
      ]
     },
     "execution_count": 82,
     "metadata": {},
     "output_type": "execute_result"
    }
   ],
   "source": [
    "np.argmax(ovr_clf.predict_proba(X_test.iloc[:1]))\t\t\t# 테스트 데이터셋 1번째 이미지 데이터에 대한 ovr_clf 확률값 중\n",
    "\t\t\t\t\t\t\t\t\t\t\t\t\t\t\t# 최대의 확률값을 가지는 인덱스!! \n",
    "\t\t\t\t\t\t\t\t\t\t\t\t\t\t\t# 여기서는 인덱스가 라벨에 해당함"
   ]
  },
  {
   "cell_type": "code",
   "execution_count": null,
   "metadata": {},
   "outputs": [],
   "source": [
    "np.argmax(ovr_clf.predict_proba(X_test.iloc[:1]))\t\t\t# 테스트 데이터셋 1번째 이미지 데이터에 대한 ovr_clf 확률값 중\n",
    "\t\t\t\t\t\t\t\t\t\t\t\t\t\t\t# 최대의 확률값을 가지는 인덱스!! \n",
    "\t\t\t\t\t\t\t\t\t\t\t\t\t\t\t# 여기서는 인덱스가 라벨에 해당함"
   ]
  },
  {
   "cell_type": "code",
   "execution_count": 83,
   "metadata": {},
   "outputs": [
    {
     "name": "stderr",
     "output_type": "stream",
     "text": [
      "c:\\Users\\KDP-43\\anaconda3\\envs\\ml_38\\lib\\site-packages\\sklearn\\base.py:465: UserWarning: X does not have valid feature names, but LogisticRegression was fitted with feature names\n",
      "  warnings.warn(\n",
      "c:\\Users\\KDP-43\\anaconda3\\envs\\ml_38\\lib\\site-packages\\sklearn\\base.py:465: UserWarning: X does not have valid feature names, but LogisticRegression was fitted with feature names\n",
      "  warnings.warn(\n",
      "c:\\Users\\KDP-43\\anaconda3\\envs\\ml_38\\lib\\site-packages\\sklearn\\base.py:465: UserWarning: X does not have valid feature names, but LogisticRegression was fitted with feature names\n",
      "  warnings.warn(\n",
      "c:\\Users\\KDP-43\\anaconda3\\envs\\ml_38\\lib\\site-packages\\sklearn\\base.py:465: UserWarning: X does not have valid feature names, but LogisticRegression was fitted with feature names\n",
      "  warnings.warn(\n",
      "c:\\Users\\KDP-43\\anaconda3\\envs\\ml_38\\lib\\site-packages\\sklearn\\base.py:465: UserWarning: X does not have valid feature names, but LogisticRegression was fitted with feature names\n",
      "  warnings.warn(\n",
      "c:\\Users\\KDP-43\\anaconda3\\envs\\ml_38\\lib\\site-packages\\sklearn\\base.py:465: UserWarning: X does not have valid feature names, but LogisticRegression was fitted with feature names\n",
      "  warnings.warn(\n",
      "c:\\Users\\KDP-43\\anaconda3\\envs\\ml_38\\lib\\site-packages\\sklearn\\base.py:465: UserWarning: X does not have valid feature names, but LogisticRegression was fitted with feature names\n",
      "  warnings.warn(\n",
      "c:\\Users\\KDP-43\\anaconda3\\envs\\ml_38\\lib\\site-packages\\sklearn\\base.py:465: UserWarning: X does not have valid feature names, but LogisticRegression was fitted with feature names\n",
      "  warnings.warn(\n",
      "c:\\Users\\KDP-43\\anaconda3\\envs\\ml_38\\lib\\site-packages\\sklearn\\base.py:465: UserWarning: X does not have valid feature names, but LogisticRegression was fitted with feature names\n",
      "  warnings.warn(\n",
      "c:\\Users\\KDP-43\\anaconda3\\envs\\ml_38\\lib\\site-packages\\sklearn\\base.py:465: UserWarning: X does not have valid feature names, but LogisticRegression was fitted with feature names\n",
      "  warnings.warn(\n"
     ]
    },
    {
     "data": {
      "text/plain": [
       "array([3])"
      ]
     },
     "execution_count": 83,
     "metadata": {},
     "output_type": "execute_result"
    }
   ],
   "source": [
    "ovr_clf.predict(np.array(X_test.iloc[:1]))"
   ]
  },
  {
   "cell_type": "code",
   "execution_count": 89,
   "metadata": {},
   "outputs": [
    {
     "name": "stdout",
     "output_type": "stream",
     "text": [
      "image data shape=> (8, 8)\n"
     ]
    },
    {
     "data": {
      "text/plain": [
       "<function matplotlib.pyplot.show(close=None, block=None)>"
      ]
     },
     "execution_count": 89,
     "metadata": {},
     "output_type": "execute_result"
    },
    {
     "data": {
      "image/png": "[encoded data removed]",
      "text/plain": [
       "<Figure size 640x480 with 1 Axes>"
      ]
     },
     "metadata": {},
     "output_type": "display_data"
    }
   ],
   "source": [
    "# 이미지 데이터 시각화\n",
    "import matplotlib.pyplot as plt\n",
    "\n",
    "## 1D ==> 2D \n",
    "imgData = X_test.iloc[:1].to_numpy().reshape(-1,8)\n",
    "print(f'image data shape=> {imgData.shape}')\n",
    "\n",
    "plt.imshow(imgData, cmap='binary')\n",
    "plt.title(f'[IMAGE Label=> {y_test.iloc[0]}]')\t\t\t\t\t\n",
    "plt.show"
   ]
  },
  {
   "cell_type": "code",
   "execution_count": 86,
   "metadata": {},
   "outputs": [
    {
     "data": {
      "text/plain": [
       "0"
      ]
     },
     "execution_count": 86,
     "metadata": {},
     "output_type": "execute_result"
    }
   ],
   "source": [
    "y_test[0]\t\t\t\t\t\t# y_test 데이터 중 인덱스 번호==0인 데이터의 라벨값"
   ]
  },
  {
   "cell_type": "code",
   "execution_count": 87,
   "metadata": {},
   "outputs": [
    {
     "data": {
      "text/plain": [
       "1310    3\n",
       "1249    9\n",
       "1523    7\n",
       "1596    8\n",
       "1607    4\n",
       "       ..\n",
       "544     8\n",
       "330     5\n",
       "1045    6\n",
       "1613    1\n",
       "1140    2\n",
       "Name: target, Length: 450, dtype: int32"
      ]
     },
     "execution_count": 87,
     "metadata": {},
     "output_type": "execute_result"
    }
   ],
   "source": [
    "y_test"
   ]
  },
  {
   "cell_type": "code",
   "execution_count": 88,
   "metadata": {},
   "outputs": [
    {
     "data": {
      "text/plain": [
       "3"
      ]
     },
     "execution_count": 88,
     "metadata": {},
     "output_type": "execute_result"
    }
   ],
   "source": [
    "y_test.iloc[0]\t\t\t# 0번째 값!!"
   ]
  },
  {
   "cell_type": "markdown",
   "metadata": {},
   "source": []
  }
 ],
 "metadata": {
  "kernelspec": {
   "display_name": "ml_38",
   "language": "python",
   "name": "python3"
  },
  "language_info": {
   "codemirror_mode": {
    "name": "ipython",
    "version": 3
   },
   "file_extension": ".py",
   "mimetype": "text/x-python",
   "name": "python",
   "nbconvert_exporter": "python",
   "pygments_lexer": "ipython3",
   "version": "3.8.19"
  }
 },
 "nbformat": 4,
 "nbformat_minor": 2
}
