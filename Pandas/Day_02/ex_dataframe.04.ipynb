{
 "cells": [
  {
   "cell_type": "markdown",
   "metadata": {},
   "source": [
    "#### DataFrame 행/열 인덱스 변경\n",
    "- method_1) 속성명으로 변경 ==> 전체 변경\n",
    "- method_2) 메서드명으로 변경 ==> 일부 변경    (원본 데이터 변경 X, 출력만!!, inplace_옵션으로 원본 변경 O)\n",
    "- inplace 매개변수<br>\n",
    "True -> 복사본 X -> 원본 데이터 변경\n",
    "False -> 복사본 O -> 원본 데이터 영향 X"
   ]
  },
  {
   "cell_type": "code",
   "execution_count": 1,
   "metadata": {},
   "outputs": [],
   "source": [
    "# 모듈 로딩\n",
    "import pandas as pd"
   ]
  },
  {
   "cell_type": "code",
   "execution_count": 2,
   "metadata": {},
   "outputs": [],
   "source": [
    "data = {'name': ['홍길동','마징가','원더우먼'], \n",
    "        'job':['의적','로봇', '영웅'],\n",
    "        'gender': ['남','남','여'],\n",
    "        'age': [100,200,300],\n",
    "        'height': [180,300,200] }"
   ]
  },
  {
   "cell_type": "code",
   "execution_count": 3,
   "metadata": {},
   "outputs": [
    {
     "name": "stdout",
     "output_type": "stream",
     "text": [
      "   name job gender  age  height\n",
      "0   홍길동  의적      남  100     180\n",
      "1   마징가  로봇      남  200     300\n",
      "2  원더우먼  영웅      여  300     200\n"
     ]
    }
   ],
   "source": [
    "# DF로 데이터 저장\n",
    "dataDF = pd.DataFrame(data)\n",
    "print(dataDF)"
   ]
  },
  {
   "cell_type": "code",
   "execution_count": 4,
   "metadata": {},
   "outputs": [
    {
     "name": "stdout",
     "output_type": "stream",
     "text": [
      "     이름  직업 성별   나이    키\n",
      "0   홍길동  의적  남  100  180\n",
      "1   마징가  로봇  남  200  300\n",
      "2  원더우먼  영웅  여  300  200\n"
     ]
    }
   ],
   "source": [
    "# [실습] 열 인덱스 전체를 변경  --> 이름, 직업, 성별, 나이, 키로 \n",
    "dataDF.columns = ['이름', '직업', '성별', '나이', '키']\n",
    "print(dataDF)"
   ]
  },
  {
   "cell_type": "code",
   "execution_count": 7,
   "metadata": {},
   "outputs": [
    {
     "name": "stdout",
     "output_type": "stream",
     "text": [
      "     이름  직업 성별   나이   신장\n",
      "0   홍길동  의적  남  100  180\n",
      "1   마징가  로봇  남  200  300\n",
      "2  원더우먼  영웅  여  300  200\n"
     ]
    }
   ],
   "source": [
    "# [실습] 열 인덱스 일부를 변경: 키 --> 신장\n",
    "dataDF.rename(columns={'키':'신장'}, inplace=True)\n",
    "print(dataDF)"
   ]
  },
  {
   "cell_type": "code",
   "execution_count": 9,
   "metadata": {},
   "outputs": [
    {
     "name": "stdout",
     "output_type": "stream",
     "text": [
      "      이름  직업 성별   나이   신장\n",
      "P0   홍길동  의적  남  100  180\n",
      "P1   마징가  로봇  남  200  300\n",
      "P2  원더우먼  영웅  여  300  200\n"
     ]
    }
   ],
   "source": [
    "## [실습] 행 인덱스 전체 변경:  0,1,2 ===> P0, P1, P2로 변경\n",
    "\n",
    "dataDF.index = ['P0','P1','P2']\n",
    "print(dataDF)"
   ]
  },
  {
   "cell_type": "code",
   "execution_count": 11,
   "metadata": {},
   "outputs": [
    {
     "name": "stdout",
     "output_type": "stream",
     "text": [
      "       이름  직업 성별   나이   신장\n",
      "P0    홍길동  의적  남  100  180\n",
      "P1    마징가  로봇  남  200  300\n",
      "END  원더우먼  영웅  여  300  200\n"
     ]
    }
   ],
   "source": [
    "## [실습] 행 인덱스 일부 변경:  P2 ==> END 로 변경\n",
    "dataDF.rename(index={'P2':'END'}, inplace=True)\n",
    "print(dataDF)"
   ]
  },
  {
   "cell_type": "code",
   "execution_count": null,
   "metadata": {},
   "outputs": [],
   "source": [
    "'w'"
   ]
  },
  {
   "cell_type": "code",
   "execution_count": null,
   "metadata": {},
   "outputs": [],
   "source": []
  },
  {
   "cell_type": "code",
   "execution_count": null,
   "metadata": {},
   "outputs": [],
   "source": []
  },
  {
   "cell_type": "code",
   "execution_count": null,
   "metadata": {},
   "outputs": [],
   "source": []
  }
 ],
 "metadata": {
  "kernelspec": {
   "display_name": "py_39",
   "language": "python",
   "name": "python3"
  },
  "language_info": {
   "codemirror_mode": {
    "name": "ipython",
    "version": 3
   },
   "file_extension": ".py",
   "mimetype": "text/x-python",
   "name": "python",
   "nbconvert_exporter": "python",
   "pygments_lexer": "ipython3",
   "version": "3.9.19"
  }
 },
 "nbformat": 4,
 "nbformat_minor": 2
}
