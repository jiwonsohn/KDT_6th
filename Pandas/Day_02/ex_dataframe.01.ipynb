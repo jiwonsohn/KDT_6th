{
 "cells": [
  {
   "cell_type": "markdown",
   "metadata": {},
   "source": [
    "#### DataFrame\n",
    "- 판다스에서 데이터를 저장하는 2차원 자료형\n",
    "- 구성: 2차원 데이터 (행&열)  /  Index + 열이름 + 데이터\n",
    "- 형식: pandas.DataFrame( 2D_데이터 )"
   ]
  },
  {
   "cell_type": "code",
   "execution_count": 1,
   "metadata": {},
   "outputs": [],
   "source": [
    "# 모듈 로딩\n",
    "import pandas as pd\n"
   ]
  },
  {
   "cell_type": "code",
   "execution_count": 2,
   "metadata": {},
   "outputs": [],
   "source": [
    "# 데이터 준비\n",
    "jumsu = [ [58,87,100], [67,82,79] ]"
   ]
  },
  {
   "cell_type": "code",
   "execution_count": 3,
   "metadata": {},
   "outputs": [
    {
     "data": {
      "text/html": [
       "<div>\n",
       "<style scoped>\n",
       "    .dataframe tbody tr th:only-of-type {\n",
       "        vertical-align: middle;\n",
       "    }\n",
       "\n",
       "    .dataframe tbody tr th {\n",
       "        vertical-align: top;\n",
       "    }\n",
       "\n",
       "    .dataframe thead th {\n",
       "        text-align: right;\n",
       "    }\n",
       "</style>\n",
       "<table border=\"1\" class=\"dataframe\">\n",
       "  <thead>\n",
       "    <tr style=\"text-align: right;\">\n",
       "      <th></th>\n",
       "      <th>0</th>\n",
       "      <th>1</th>\n",
       "      <th>2</th>\n",
       "    </tr>\n",
       "  </thead>\n",
       "  <tbody>\n",
       "    <tr>\n",
       "      <th>0</th>\n",
       "      <td>58</td>\n",
       "      <td>87</td>\n",
       "      <td>100</td>\n",
       "    </tr>\n",
       "    <tr>\n",
       "      <th>1</th>\n",
       "      <td>67</td>\n",
       "      <td>82</td>\n",
       "      <td>79</td>\n",
       "    </tr>\n",
       "  </tbody>\n",
       "</table>\n",
       "</div>"
      ],
      "text/plain": [
       "    0   1    2\n",
       "0  58  87  100\n",
       "1  67  82   79"
      ]
     },
     "execution_count": 3,
     "metadata": {},
     "output_type": "execute_result"
    }
   ],
   "source": [
    "# DF 데이터 저장하기\n",
    "jumsuDF = pd.DataFrame(jumsu)\n",
    "jumsuDF"
   ]
  },
  {
   "cell_type": "code",
   "execution_count": 6,
   "metadata": {},
   "outputs": [
    {
     "name": "stdout",
     "output_type": "stream",
     "text": [
      "index: RangeIndex(start=0, stop=2, step=1)\n",
      "columns: RangeIndex(start=0, stop=3, step=1)\n",
      "values: [[ 58  87 100]\n",
      " [ 67  82  79]]\n",
      "ndim: 2\n",
      "====================\n",
      "dtypes: <class 'pandas.core.series.Series'>\n",
      "0    int64\n",
      "1    int64\n",
      "2    int64\n",
      "dtype: object\n",
      "shape:   (2, 3)\n"
     ]
    }
   ],
   "source": [
    "## DF 속성 읽기\n",
    "## - index, columns, values, ndim, dtypes\n",
    "print(f'index: {jumsuDF.index}')\n",
    "print(f'columns: {jumsuDF.columns}')\n",
    "print(f'values: {jumsuDF.values}')\n",
    "print(f'ndim: {jumsuDF.ndim}')\n",
    "print(\"=\"*20)\n",
    "print(f'dtypes: {type(jumsuDF.dtypes)}\\n{jumsuDF.dtypes}')\n",
    "print(f'shape:   {jumsuDF.shape}')\n"
   ]
  },
  {
   "cell_type": "code",
   "execution_count": 8,
   "metadata": {},
   "outputs": [
    {
     "name": "stdout",
     "output_type": "stream",
     "text": [
      "0 0\n",
      "0 1\n",
      "0 2\n",
      "1 0\n",
      "1 1\n",
      "1 2\n"
     ]
    }
   ],
   "source": [
    "## DF 안 모든 원소 하나씩 출력\n",
    "for row in jumsuDF.index:              # range(0,2,1)  행\n",
    "    for col in jumsuDF.columns:        # range(0,3,1)  열\n",
    "        print( row, col )"
   ]
  },
  {
   "cell_type": "markdown",
   "metadata": {},
   "source": [
    "- DataFrame 생성 시 인덱스 & 컬럼 지정 <hr>"
   ]
  },
  {
   "cell_type": "code",
   "execution_count": 12,
   "metadata": {},
   "outputs": [],
   "source": [
    "index_value=['A','B']\n",
    "column_value = ['국어', '과학', '미술']\n",
    "\n",
    "df2 = pd.DataFrame(jumsu, index=index_value, columns=column_value)"
   ]
  },
  {
   "cell_type": "code",
   "execution_count": 13,
   "metadata": {},
   "outputs": [
    {
     "name": "stdout",
     "output_type": "stream",
     "text": [
      "   국어  과학   미술\n",
      "A  58  87  100\n",
      "B  67  82   79\n"
     ]
    }
   ],
   "source": [
    "# 지정 인덱스로 생성한 DF 확인\n",
    "print(df2)"
   ]
  },
  {
   "cell_type": "code",
   "execution_count": 15,
   "metadata": {},
   "outputs": [
    {
     "name": "stdout",
     "output_type": "stream",
     "text": [
      "df2 인덱스& 인덱스 타입 \n",
      " Index(['A', 'B'], dtype='object')\n",
      " <class 'pandas.core.indexes.base.Index'>\n"
     ]
    }
   ],
   "source": [
    "# DF 인덱스 속성 읽기 ==> 변수명.index\n",
    "print(f'df2 인덱스& 인덱스 타입 \\n {df2.index}\\n {type(df2.index)}')"
   ]
  },
  {
   "cell_type": "code",
   "execution_count": 16,
   "metadata": {},
   "outputs": [
    {
     "name": "stdout",
     "output_type": "stream",
     "text": [
      "df2 인덱스& 인덱스 타입 \n",
      " Index(['국어', '과학', '미술'], dtype='object')\n",
      " <class 'pandas.core.indexes.base.Index'>\n"
     ]
    }
   ],
   "source": [
    "# DF 인덱스 속성 읽기 ==> 변수명.columns\n",
    "print(f'df2 인덱스& 인덱스 타입 \\n {df2.columns}\\n {type(df2.columns)}')"
   ]
  },
  {
   "cell_type": "code",
   "execution_count": null,
   "metadata": {},
   "outputs": [],
   "source": [
    "# 저장한 값 가져오는 속성 ==> values\n",
    "#                       ==> 값/데이터 변경은 불가!\n",
    "\n",
    "# df1.values = [ [87,78,100], [92,90,98] ]"
   ]
  }
 ],
 "metadata": {
  "kernelspec": {
   "display_name": "py_39",
   "language": "python",
   "name": "python3"
  },
  "language_info": {
   "codemirror_mode": {
    "name": "ipython",
    "version": 3
   },
   "file_extension": ".py",
   "mimetype": "text/x-python",
   "name": "python",
   "nbconvert_exporter": "python",
   "pygments_lexer": "ipython3",
   "version": "3.9.19"
  }
 },
 "nbformat": 4,
 "nbformat_minor": 2
}
