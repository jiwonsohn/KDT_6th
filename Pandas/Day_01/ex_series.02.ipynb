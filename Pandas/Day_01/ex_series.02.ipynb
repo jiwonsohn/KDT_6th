{
 "cells": [
  {
   "cell_type": "markdown",
   "metadata": {},
   "source": [
    "### Series 데이터 자료형\n",
    "- Pandas에서 1줄 데이터를 저장하는 자료형/데이터 타입\n",
    "<br/>\n",
    "- 형식: pandas.Series()\n",
    "- 구성: Index + Data "
   ]
  },
  {
   "cell_type": "code",
   "execution_count": 1,
   "metadata": {},
   "outputs": [],
   "source": [
    "# 모듈 로딩\n",
    "import pandas as pd"
   ]
  },
  {
   "cell_type": "code",
   "execution_count": 2,
   "metadata": {},
   "outputs": [],
   "source": [
    "# 데이터 준비\n",
    "data1 = ['A', 'B', 'C']\n",
    "data2 = {'name':'hong', 'age':10}"
   ]
  },
  {
   "cell_type": "code",
   "execution_count": 3,
   "metadata": {},
   "outputs": [],
   "source": [
    "# 시리즈 객체 생성\n",
    "sr1 = pd.Series(data1)\n",
    "sr2 = pd.Series(data2)"
   ]
  },
  {
   "cell_type": "code",
   "execution_count": 4,
   "metadata": {},
   "outputs": [
    {
     "data": {
      "text/plain": [
       "0    A\n",
       "1    B\n",
       "2    C\n",
       "dtype: object"
      ]
     },
     "execution_count": 4,
     "metadata": {},
     "output_type": "execute_result"
    }
   ],
   "source": [
    "# 생성 데이터 확인 \n",
    "sr1"
   ]
  },
  {
   "cell_type": "code",
   "execution_count": 5,
   "metadata": {},
   "outputs": [
    {
     "data": {
      "text/plain": [
       "name    hong\n",
       "age       10\n",
       "dtype: object"
      ]
     },
     "execution_count": 5,
     "metadata": {},
     "output_type": "execute_result"
    }
   ],
   "source": [
    "sr2"
   ]
  },
  {
   "cell_type": "code",
   "execution_count": 7,
   "metadata": {},
   "outputs": [
    {
     "name": "stdout",
     "output_type": "stream",
     "text": [
      "Index :  RangeIndex(start=0, stop=3, step=1)\n",
      "Values : ['A' 'B' 'C']\n",
      "dtype : object\n",
      "ndim : 1\n"
     ]
    }
   ],
   "source": [
    "# [List Data]  생성된 시리즈 객체 속성확인\n",
    "print(\"Index : \", sr1.index )\n",
    "print(\"Values :\", sr1.values)\n",
    "print(\"dtype :\", sr1.dtype)\n",
    "print(\"ndim :\", sr1.ndim)"
   ]
  },
  {
   "cell_type": "code",
   "execution_count": 8,
   "metadata": {},
   "outputs": [
    {
     "name": "stdout",
     "output_type": "stream",
     "text": [
      "Index :  Index(['name', 'age'], dtype='object')\n",
      "Values : ['hong' 10]\n",
      "dtype : object\n",
      "ndim : 1\n"
     ]
    }
   ],
   "source": [
    "# [List Data]  생성된 시리즈 객체 속성확인\n",
    "print(\"Index : \", sr2.index )\n",
    "print(\"Values :\", sr2.values)\n",
    "print(\"dtype :\", sr2.dtype)\n",
    "print(\"ndim :\", sr2.ndim)"
   ]
  },
  {
   "cell_type": "code",
   "execution_count": 20,
   "metadata": {},
   "outputs": [],
   "source": [
    "## 시리즈 객체 원소/요소 읽기  w/ 변수명[index]\n",
    "##      - 음수 index는 사용 불가 ex. sr1[-1]\n",
    "\n",
    "#       - 정수 인덱스인 경우 => [start, end+1]\n",
    "#       - 글자 인덱스인 경우 => [시작:끝]"
   ]
  },
  {
   "cell_type": "code",
   "execution_count": 9,
   "metadata": {},
   "outputs": [
    {
     "name": "stdout",
     "output_type": "stream",
     "text": [
      "A B C\n"
     ]
    }
   ],
   "source": [
    "print(sr1[0], sr1[1], sr1[2])"
   ]
  },
  {
   "cell_type": "code",
   "execution_count": 10,
   "metadata": {},
   "outputs": [
    {
     "name": "stdout",
     "output_type": "stream",
     "text": [
      "hong 10\n"
     ]
    }
   ],
   "source": [
    "print(sr2[\"name\"], sr2[\"age\"])"
   ]
  },
  {
   "cell_type": "code",
   "execution_count": 14,
   "metadata": {},
   "outputs": [
    {
     "name": "stdout",
     "output_type": "stream",
     "text": [
      "A C\n",
      "<class 'str'>\n",
      "====================\n",
      "0    A\n",
      "2    C\n",
      "dtype: object\n",
      "<class 'pandas.core.series.Series'>\n"
     ]
    }
   ],
   "source": [
    "## sr1 객체에서 2개 원소 한번에 읽기\n",
    "\n",
    "# - 0번 원소 & 2번 원소 읽기\n",
    "print(sr1[0], sr1[2])              # 1개씩 따로 따로\n",
    "print(type(sr1[0]))\n",
    "\n",
    "print(\"=\"*20)\n",
    "print(sr1[[0,2]])                  # 2개 한꺼번에\n",
    "print(type(sr1[[0,2]]))"
   ]
  },
  {
   "cell_type": "code",
   "execution_count": 15,
   "metadata": {},
   "outputs": [
    {
     "data": {
      "text/plain": [
       "0    A\n",
       "1    B\n",
       "dtype: object"
      ]
     },
     "execution_count": 15,
     "metadata": {},
     "output_type": "execute_result"
    }
   ],
   "source": [
    "## 시리즈 객체 원소/요소 슬라이싱 w/ 변수명[start: end+1]\n",
    "#                                  변수명[start: end+1: step]\n",
    "\n",
    "sr1[0:2]"
   ]
  },
  {
   "cell_type": "code",
   "execution_count": 16,
   "metadata": {},
   "outputs": [
    {
     "data": {
      "text/plain": [
       "0    A\n",
       "dtype: object"
      ]
     },
     "execution_count": 16,
     "metadata": {},
     "output_type": "execute_result"
    }
   ],
   "source": [
    "sr1[0:2:2]"
   ]
  },
  {
   "cell_type": "code",
   "execution_count": 17,
   "metadata": {},
   "outputs": [
    {
     "data": {
      "text/plain": [
       "0    A\n",
       "1    B\n",
       "dtype: object"
      ]
     },
     "execution_count": 17,
     "metadata": {},
     "output_type": "execute_result"
    }
   ],
   "source": [
    "sr1[:2]"
   ]
  },
  {
   "cell_type": "code",
   "execution_count": 18,
   "metadata": {},
   "outputs": [
    {
     "data": {
      "text/plain": [
       "0    A\n",
       "1    B\n",
       "2    C\n",
       "dtype: object"
      ]
     },
     "execution_count": 18,
     "metadata": {},
     "output_type": "execute_result"
    }
   ],
   "source": [
    "sr1[:]"
   ]
  }
 ],
 "metadata": {
  "kernelspec": {
   "display_name": "py_39",
   "language": "python",
   "name": "python3"
  },
  "language_info": {
   "codemirror_mode": {
    "name": "ipython",
    "version": 3
   },
   "file_extension": ".py",
   "mimetype": "text/x-python",
   "name": "python",
   "nbconvert_exporter": "python",
   "pygments_lexer": "ipython3",
   "version": "3.9.19"
  }
 },
 "nbformat": 4,
 "nbformat_minor": 2
}
