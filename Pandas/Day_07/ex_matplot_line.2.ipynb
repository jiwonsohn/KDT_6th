{
 "cells": [
  {
   "cell_type": "markdown",
   "metadata": {},
   "source": [
    "### matplotlib.pyplot\n",
    "\n",
    "- pd.NA , np.nan   ==> 서로 다른 결측치로 판다스는 인식 ==> 통일해야!!!\n",
    "\n",
    "- rcParams --> resource configure Parameters ==> 기본값 세팅 모음\n",
    "<!--                                         --> 기본값 설정 가능\n"
   ]
  },
  {
   "cell_type": "markdown",
   "metadata": {},
   "source": [
    "### [남북한 발전 전력량 분석 및 시각화]\n",
    "\n",
    "<br>\n",
    "- 데이터셋      : 남북한 발전전력량.xlsx <br>\n",
    "- 데이터구성<br>\n",
    "                * 1990 ~ 2016년까지 수력,화력,원자력,신재생 에너지 데이터\n",
    "\n",
    "- 분석          : 남한과 북한의 에너지 데이터 변화 분석"
   ]
  },
  {
   "cell_type": "code",
   "execution_count": null,
   "metadata": {},
   "outputs": [],
   "source": [
    "import pandas as pd\n",
    "import matplotlib.pyplot as plt\n",
    "\n",
    "%matplotlib inline"
   ]
  },
  {
   "cell_type": "code",
   "execution_count": null,
   "metadata": {},
   "outputs": [],
   "source": [
    "file_path = r'C:\\Users\\KDP-43\\Desktop\\KDT_Pandas\\과제\\DATA\\남북한발전전력량.xlsx'"
   ]
  },
  {
   "cell_type": "code",
   "execution_count": null,
   "metadata": {},
   "outputs": [],
   "source": [
    "# excel --> DF 저장\n",
    "dataDF = pd.read_excel(file_path)"
   ]
  },
  {
   "cell_type": "code",
   "execution_count": null,
   "metadata": {},
   "outputs": [],
   "source": [
    "# 데이터 확인\n",
    "dataDF.info()"
   ]
  },
  {
   "cell_type": "markdown",
   "metadata": {},
   "source": [
    "##### 데이터 전처리 및 가공\n",
    "- 전력량, 발전 전력별 칼럼 -> 멀티인덱스:  행 인덱스화<br>\n",
    "\n",
    "- 전력량 컬럼의 NaN값 처리 방안 모색 "
   ]
  },
  {
   "cell_type": "code",
   "execution_count": null,
   "metadata": {},
   "outputs": [],
   "source": [
    "# [1] 컬럼의 NaN값 처리\n",
    "dataDF.columns"
   ]
  },
  {
   "cell_type": "code",
   "execution_count": null,
   "metadata": {},
   "outputs": [],
   "source": [
    "dataDF[dataDF.columns[0]]"
   ]
  },
  {
   "cell_type": "code",
   "execution_count": null,
   "metadata": {},
   "outputs": [],
   "source": [
    "# NaN값을 '남한' '북한'으로 대체\n",
    "dataDF[dataDF.columns[0]].ffill(inplace=True)\n",
    "\n",
    "# FutureWanring\n",
    "# dataDF[dataDF.columns[0]].fillna( method='ffill')"
   ]
  },
  {
   "cell_type": "code",
   "execution_count": null,
   "metadata": {},
   "outputs": [],
   "source": [
    "dataDF.head()"
   ]
  },
  {
   "cell_type": "code",
   "execution_count": null,
   "metadata": {},
   "outputs": [],
   "source": [
    "# [2] 2개 칼럼 행인덱스로 설정\n",
    "dataDF.set_index( [dataDF.columns[0], dataDF.columns[1]],  inplace=True)\n",
    "\n",
    "''' \n",
    "other ver.\n",
    "\n",
    "dataDF.set_index( dataDF.columns[:2].to_list(), inplace=True )\n",
    "'''\n",
    "\n",
    "dataDF.head(10)"
   ]
  },
  {
   "cell_type": "code",
   "execution_count": null,
   "metadata": {},
   "outputs": [],
   "source": [
    "# 행 인덱스 names 속성 수정\n",
    "idx_names = dataDF.index.names\n",
    "print(idx_names,\"\\n\")\n",
    "\n",
    "dataDF.index.set_names( {idx_names[0] : \"구분\", idx_names[1] : \"전력\"}, inplace=True)\n",
    "print(f'[확인]\\n {dataDF.head()}')\n",
    "\n"
   ]
  },
  {
   "cell_type": "code",
   "execution_count": null,
   "metadata": {},
   "outputs": [],
   "source": [
    "dataDF.index"
   ]
  },
  {
   "cell_type": "code",
   "execution_count": null,
   "metadata": {},
   "outputs": [],
   "source": [
    "# \"-\" --> 결측치 <NA> --> 0 으로 변환\n",
    "\n",
    "dataDF.replace(\"-\", pd.NA, inplace=True)\n",
    "print(f'[확인]\\n {dataDF.head()}')"
   ]
  },
  {
   "cell_type": "code",
   "execution_count": null,
   "metadata": {},
   "outputs": [],
   "source": [
    "dataDF.isna().T.sum()"
   ]
  },
  {
   "cell_type": "code",
   "execution_count": null,
   "metadata": {},
   "outputs": [],
   "source": [
    "dataDF.fillna(0, inplace=True)\n",
    "dataDF.isna().T.sum()"
   ]
  },
  {
   "cell_type": "code",
   "execution_count": null,
   "metadata": {},
   "outputs": [],
   "source": [
    "# object --> int16 형변환\n",
    "dataDF = dataDF.astype('int16')\n",
    "dataDF.dtypes"
   ]
  },
  {
   "cell_type": "code",
   "execution_count": null,
   "metadata": {},
   "outputs": [],
   "source": [
    "# 한글폰트 설정\n",
    "from matplotlib import font_manager as fm, rc\n",
    "\n",
    "# 적용 폰트 파일\n",
    "FONT_FILE = r'C:\\Windows\\Fonts\\malgun.ttf'\n",
    "\n",
    "# 폰트 패밀리 이름 가져오기\n",
    "font_name = fm.FontProperties(fname=FONT_FILE).get_name()\n",
    "\n",
    "# 새로운 폰트 패밀리 이름 지정\n",
    "rc( 'font', family = font_name )\n"
   ]
  },
  {
   "cell_type": "code",
   "execution_count": null,
   "metadata": {},
   "outputs": [],
   "source": [
    "# 폰트 설정 함수 선언\n",
    "\n",
    "def set_customFont(font_path):\n",
    "    from matplotlib import font_manager as fm\n",
    "    from matplotlib import rc\n",
    "\n",
    "    # 폰트 패밀리 이름 가져오기\n",
    "    font_name = fm.FontProperties(fname=font_path).get_name()\n",
    "\n",
    "    # 새로운 폰트 패밀리 이름 지정\n",
    "    rc( 'font', family = font_name )\n",
    "\n",
    "set_customFont(r'C:\\Windows\\Fonts\\malgun.ttf')"
   ]
  },
  {
   "cell_type": "code",
   "execution_count": null,
   "metadata": {},
   "outputs": [],
   "source": [
    "# 범례 한글 패치\n",
    "plt.rcParams['font.family'] ='Malgun Gothic'\n",
    "plt.rcParams['axes.unicode_minus'] =False\n",
    "\n",
    "\n",
    "label_1 = dataDF.index[0][0]\n",
    "label_2 = dataDF.index[5][0]\n",
    "\n",
    "\n",
    "plt.plot(dataDF.loc[ ('남한','합계')], label=label_1, ms=6)\n",
    "plt.plot(dataDF.loc[ ('남한','합계')][::5], 'b^-')\n",
    "plt.plot(dataDF.loc[ ('북한','합계')],  'r^-', label=label_2, ms=6)\n",
    "plt.xlabel(\"년도\")\n",
    "plt.ylabel(\"합계 전력\")\n",
    "plt.legend()\n",
    "plt.show()"
   ]
  },
  {
   "cell_type": "code",
   "execution_count": null,
   "metadata": {},
   "outputs": [],
   "source": [
    "# 그래프 plot 함수화\n",
    "def drawLineGraph( title, columns, labels, xlable, ylabel, fms_list):\n",
    "    \n",
    "    # for col in columns:\n",
    "    #      plt.plot(dataDF.loc[col], 'bo-', label=f'{col}' )\n",
    "\n",
    "    #      plt.title(f'----[{title}]----')\n",
    "    #      plt.xlabel(xlable)\n",
    "    #      plt.ylabel(ylabel)\n",
    "    #      plt.legend(labels)\n",
    "    #      plt.show()\n",
    "\n",
    "    for idx, col in enumerate(columns):\n",
    "         plt.plot(dataDF.loc[col], fms_list[idx], label=labels[idx] )\n",
    "\n",
    "    plt.title(f'----[{title}]----')\n",
    "    plt.xlabel(xlable)\n",
    "    plt.ylabel(ylabel)\n",
    "    plt.legend()\n",
    "    plt.show()\n",
    "    "
   ]
  },
  {
   "cell_type": "code",
   "execution_count": null,
   "metadata": {},
   "outputs": [],
   "source": [
    "drawLineGraph( 'TEST', \n",
    "              [ ('남한','수력'), ('북한','수력'), ('남한','합계'), ('북한','합계') ], \n",
    "              [ '남한-수력', '북한-수력', '남한-합계', '북한-합계'],\n",
    "              '년도','발전량',\n",
    "              ['b^-', 'r*-', 'ko-', 'ms-'])"
   ]
  },
  {
   "cell_type": "markdown",
   "metadata": {},
   "source": [
    "##### 하나의 Figure에 여러 개 그래프 넣기"
   ]
  },
  {
   "cell_type": "code",
   "execution_count": null,
   "metadata": {},
   "outputs": [],
   "source": [
    "## 하나의 figure 안에 수력,화력,원자력,합계 그래프넣기\n",
    "\n",
    "# - figure 객체 생성\n",
    "# - 생성된 figure 객체 안에 subplot 객체 생성\n",
    "# * 그래프 표시 방식 지정:   \n",
    "#                       가로/세로 각 몇개 넣을 지\n",
    "# - 각 subplot에 그래프 넣기\n",
    "\n"
   ]
  },
  {
   "cell_type": "code",
   "execution_count": null,
   "metadata": {},
   "outputs": [],
   "source": [
    "# - figure 객체 생성\n",
    "fig = plt.figure()\n",
    "\n",
    "# - 생성된 figure 객체 안에 subplot 객체 생성\n",
    "ax1 = fig.add_subplot(2,2,1)\n",
    "ax2 = fig.add_subplot(2,2,2)\n",
    "ax3 = fig.add_subplot(2,2,3)\n",
    "ax4 = fig.add_subplot(2,2,4)"
   ]
  },
  {
   "cell_type": "code",
   "execution_count": null,
   "metadata": {},
   "outputs": [],
   "source": [
    "# - figure 객체 생성\n",
    "fig = plt.figure()\n",
    "\n",
    "# - 생성된 figure 객체 안에 subplot 객체 생성\n",
    "ax1 = fig.add_subplot(2,2,1)\n",
    "ax2 = fig.add_subplot(2,2,2)\n",
    "ax3 = fig.add_subplot(2,2,3)\n",
    "ax4 = fig.add_subplot(2,2,4)\n",
    "\n",
    "# - 각 subplot에 그래프 넣기\n",
    "ax1.plot( dataDF.loc[('남한','수력')], 'bo-', label='남한-수력')\n",
    "ax2.plot( dataDF.loc[('남한','화력')], 'bo-', label='남한-화력')\n",
    "ax3.plot( dataDF.loc[('남한','원자력')], 'bo-', label='남한-원자력')\n",
    "ax4.plot( dataDF.loc[('남한','합계')], 'bo-', label='남한-합계')\n",
    "\n",
    "\n",
    "# 각 subplot별 설정\n",
    "ax1.set_title(\"-------남한 수력 발전량-------\")\n",
    "ax1.set_xlabel(\"년도\")\n",
    "\n",
    "ax2.set_title(\"-------남한 화력 발전량-------\")\n",
    "ax2.set_xlabel(\"년도\")\n",
    "\n",
    "ax3.set_title(\"-------남한 원자력 발전량-------\")\n",
    "ax3.set_xlabel(\"년도\")\n",
    "\n",
    "ax4.set_title(\"-------남한 합계 발전량-------\")\n",
    "ax4.set_xlabel(\"년도\")\n",
    "\n",
    "# 화면에 띄우기\n",
    "plt.tight_layout()\n",
    "# plt.legend()\n",
    "plt.show()"
   ]
  },
  {
   "cell_type": "code",
   "execution_count": null,
   "metadata": {},
   "outputs": [],
   "source": [
    "# subplots() 객체 응용   --> axes 객체를 배열에 담아 반환\n",
    "#                       --> 행단위로 axes 담아서 반환\n",
    "#                       --> 반복문으로 subplot 값 할당\n",
    "\n",
    "fig = plt.figure(figsize=(12,6))\n",
    "axes = fig.subplots(1,4)\n",
    "\n",
    "index_list = [('남한','수력'), ('남한','화력'), ('남한','원자력'),('남한','합계') ]\n",
    "# dataDF.index.to_list()[:4]\n",
    "\n",
    "fms_list = ['bo-','rs-', 'go-', 'ks--']\n",
    "\n",
    "for idx in range(4):\n",
    "    axes[idx].plot(dataDF.loc[index_list[idx]], fms_list[idx])\n",
    "    axes[idx].set_title(f'{index_list[idx][0]} {index_list[idx][1]}량')\n",
    "\n",
    "''' \n",
    "for idx, ax in enumerate(axes):\n",
    "    ax.plot( dataDF.loc[ data[idx]], fmfs[idx] )\n",
    "'''\n",
    "\n",
    "# 전체 fig에 대한 제목 선언\n",
    "fig.suptitle(\"남한의 에너지 발전량 변화 동향\", fontsize=12)\n",
    "\n",
    "# plot 출력\n",
    "plt.tight_layout()\n",
    "plt.show()\n",
    "\n",
    "\n",
    "''' \n",
    "axes[0].plot(dataDF.loc[('남한','수력')], 'bo-')\n",
    "axes[1].plot(dataDF.loc[('남한','화력')], 'bo-')\n",
    "'''\n"
   ]
  },
  {
   "cell_type": "code",
   "execution_count": null,
   "metadata": {},
   "outputs": [],
   "source": [
    "print()\n",
    "axes = fig.subplots(2,2)\n",
    "print(axes, axes[0], axes[0,0])\n"
   ]
  },
  {
   "cell_type": "code",
   "execution_count": null,
   "metadata": {},
   "outputs": [],
   "source": []
  }
 ],
 "metadata": {
  "kernelspec": {
   "display_name": "py_39",
   "language": "python",
   "name": "python3"
  },
  "language_info": {
   "codemirror_mode": {
    "name": "ipython",
    "version": 3
   },
   "file_extension": ".py",
   "mimetype": "text/x-python",
   "name": "python",
   "nbconvert_exporter": "python",
   "pygments_lexer": "ipython3",
   "version": "3.9.19"
  }
 },
 "nbformat": 4,
 "nbformat_minor": 2
}
