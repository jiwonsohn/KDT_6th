{
 "cells": [
  {
   "cell_type": "markdown",
   "metadata": {},
   "source": [
    "* IRIS (회귀)\n",
    "- 피쳐: 3개\tSepal Length, Sepal Width, Petal  Length\n",
    "- 타겟: 1개 Petal Width\n",
    "\n",
    "* IRIS (2진 분류)\n",
    "- 피쳐: 4개\n",
    "- 타겟: 1개\n",
    "- Class: 품종 2개만 선택 <- (Setosa & 나머지) => 불균형 데이터 (50 & 100)\n",
    "\n",
    "* IRIS (다중 분류)\n",
    "- 피쳐: 4개\n",
    "- 타겟: 1개\n",
    "- Class: 품종 3개\n",
    "<hr>\n",
    "* MNIST-DIGIT\n",
    "- 피쳐: 64개\n",
    "- 타겟: 1개\n",
    "- Class: 0~9 10개, \n",
    "\n",
    "* MNIST-fashion"
   ]
  },
  {
   "cell_type": "markdown",
   "metadata": {},
   "source": [
    "### DNN 기반 회귀 모델 구현\n",
    "- 데이터셋: iris.csv\n",
    "- 피쳐: 3개 Sepal Length, Sepal Width, Petal Length, Petal  Width\n",
    "- 타겟: 1개 Setosa Versicolor Verginica\n",
    "- 학습방법: 지도학습 >> 분류\n",
    "- 알고리즘: 인공신경망(ANN), MLP, 심층신경망(DNN)\n",
    "- 프레임워크: Pytorch"
   ]
  },
  {
   "cell_type": "markdown",
   "metadata": {},
   "source": [
    "#### [1] 모듈 로딩 & 데이터 준비\n"
   ]
  },
  {
   "cell_type": "code",
   "execution_count": 1,
   "metadata": {},
   "outputs": [],
   "source": [
    "# 모듈 관련\n",
    "import torch\n",
    "import torch.nn as nn\n",
    "import torch.nn.functional as F\n",
    "from torch.utils.data import Dataset, DataLoader\n",
    "import torch.optim as optim\n",
    "\n",
    "from torchmetrics.classification import MulticlassF1Score\n",
    "from torchinfo import summary\n",
    "\n",
    "# DF 로드 및 시각화 모듈\n",
    "import pandas as pd\n",
    "import matplotlib.pyplot as plt\n",
    "import seaborn as sns\n",
    "\n",
    "# 데이터 전처리용 모듈\n",
    "from sklearn.preprocessing import *\n",
    "from sklearn.model_selection import train_test_split"
   ]
  },
  {
   "cell_type": "code",
   "execution_count": 2,
   "metadata": {},
   "outputs": [
    {
     "name": "stdout",
     "output_type": "stream",
     "text": [
      "torch v.2.4.1\n",
      "pandas v.2.0.3\n"
     ]
    }
   ],
   "source": [
    "# 모듈 버전 확인\t\t\t\t=> 사용자 정의 함수로 구현하기!!\n",
    "print(f'torch v.{torch.__version__}')\n",
    "print(f'pandas v.{pd.__version__}')"
   ]
  },
  {
   "cell_type": "code",
   "execution_count": 3,
   "metadata": {},
   "outputs": [
    {
     "data": {
      "text/html": [
       "<div>\n",
       "<style scoped>\n",
       "    .dataframe tbody tr th:only-of-type {\n",
       "        vertical-align: middle;\n",
       "    }\n",
       "\n",
       "    .dataframe tbody tr th {\n",
       "        vertical-align: top;\n",
       "    }\n",
       "\n",
       "    .dataframe thead th {\n",
       "        text-align: right;\n",
       "    }\n",
       "</style>\n",
       "<table border=\"1\" class=\"dataframe\">\n",
       "  <thead>\n",
       "    <tr style=\"text-align: right;\">\n",
       "      <th></th>\n",
       "      <th>sepal.length</th>\n",
       "      <th>sepal.width</th>\n",
       "      <th>petal.length</th>\n",
       "      <th>petal.width</th>\n",
       "      <th>variety</th>\n",
       "    </tr>\n",
       "  </thead>\n",
       "  <tbody>\n",
       "    <tr>\n",
       "      <th>0</th>\n",
       "      <td>5.1</td>\n",
       "      <td>3.5</td>\n",
       "      <td>1.4</td>\n",
       "      <td>0.2</td>\n",
       "      <td>Setosa</td>\n",
       "    </tr>\n",
       "    <tr>\n",
       "      <th>1</th>\n",
       "      <td>4.9</td>\n",
       "      <td>3.0</td>\n",
       "      <td>1.4</td>\n",
       "      <td>0.2</td>\n",
       "      <td>Setosa</td>\n",
       "    </tr>\n",
       "    <tr>\n",
       "      <th>2</th>\n",
       "      <td>4.7</td>\n",
       "      <td>3.2</td>\n",
       "      <td>1.3</td>\n",
       "      <td>0.2</td>\n",
       "      <td>Setosa</td>\n",
       "    </tr>\n",
       "  </tbody>\n",
       "</table>\n",
       "</div>"
      ],
      "text/plain": [
       "   sepal.length  sepal.width  petal.length  petal.width variety\n",
       "0           5.1          3.5           1.4          0.2  Setosa\n",
       "1           4.9          3.0           1.4          0.2  Setosa\n",
       "2           4.7          3.2           1.3          0.2  Setosa"
      ]
     },
     "execution_count": 3,
     "metadata": {},
     "output_type": "execute_result"
    }
   ],
   "source": [
    "# 데이터 로딩\n",
    "DATA_FILE = DATA_FILE = r'C:\\Users\\KDP-43\\Desktop\\머신러닝_1\\data\\iris.csv'\n",
    "\n",
    "irisDF = pd.read_csv(DATA_FILE, usecols=[0,1,2,3,4])\n",
    "irisDF.head(3)"
   ]
  },
  {
   "cell_type": "code",
   "execution_count": 4,
   "metadata": {},
   "outputs": [
    {
     "data": {
      "text/html": [
       "<div>\n",
       "<style scoped>\n",
       "    .dataframe tbody tr th:only-of-type {\n",
       "        vertical-align: middle;\n",
       "    }\n",
       "\n",
       "    .dataframe tbody tr th {\n",
       "        vertical-align: top;\n",
       "    }\n",
       "\n",
       "    .dataframe thead th {\n",
       "        text-align: right;\n",
       "    }\n",
       "</style>\n",
       "<table border=\"1\" class=\"dataframe\">\n",
       "  <thead>\n",
       "    <tr style=\"text-align: right;\">\n",
       "      <th></th>\n",
       "      <th>sepal.length</th>\n",
       "      <th>sepal.width</th>\n",
       "      <th>petal.length</th>\n",
       "      <th>petal.width</th>\n",
       "      <th>variety</th>\n",
       "    </tr>\n",
       "  </thead>\n",
       "  <tbody>\n",
       "    <tr>\n",
       "      <th>0</th>\n",
       "      <td>5.1</td>\n",
       "      <td>3.5</td>\n",
       "      <td>1.4</td>\n",
       "      <td>0.2</td>\n",
       "      <td>0</td>\n",
       "    </tr>\n",
       "    <tr>\n",
       "      <th>1</th>\n",
       "      <td>4.9</td>\n",
       "      <td>3.0</td>\n",
       "      <td>1.4</td>\n",
       "      <td>0.2</td>\n",
       "      <td>0</td>\n",
       "    </tr>\n",
       "    <tr>\n",
       "      <th>2</th>\n",
       "      <td>4.7</td>\n",
       "      <td>3.2</td>\n",
       "      <td>1.3</td>\n",
       "      <td>0.2</td>\n",
       "      <td>0</td>\n",
       "    </tr>\n",
       "  </tbody>\n",
       "</table>\n",
       "</div>"
      ],
      "text/plain": [
       "   sepal.length  sepal.width  petal.length  petal.width  variety\n",
       "0           5.1          3.5           1.4          0.2        0\n",
       "1           4.9          3.0           1.4          0.2        0\n",
       "2           4.7          3.2           1.3          0.2        0"
      ]
     },
     "execution_count": 4,
     "metadata": {},
     "output_type": "execute_result"
    }
   ],
   "source": [
    "labels = dict(zip(irisDF['variety'].unique().tolist(), range(3)))\n",
    "\n",
    "irisDF['variety'] = irisDF['variety'].replace(labels)\n",
    "irisDF.head(3)"
   ]
  },
  {
   "cell_type": "markdown",
   "metadata": {},
   "source": [
    "#### [2] 모델 클래스 설계 및 정의\n",
    "- 클래스 목적:\tiris 데이터 학습 및 예측(추론)\n",
    "- 클래스 이름:\tIrisMCFModel\n",
    "- 부모클래스 :\tnn.Module\n",
    "- 매개 변수\t : 층별 입출력 개수 고정하기에 필요 X\n",
    "- 속성/필드  :\t\n",
    "- 기능/역할  :\t__init__(): 모델 구조, forward(): 순방향 학습 <= 오버라이딩!!\n",
    "- 클래스구조\n",
    "\t* 입력층: 입력 4개(피쳐)\t출력 10개 \t-> 퍼셉트론/뉴런 10개 존재\n",
    "\t* 은닉층: 입력 10개\t\t\t출력 5개   -> 퍼셉트론/뉴런 5개 존재\n",
    "\t* 출력층: 입력 5개\t\t\t\t출력 3개 (다중 분류)\n",
    "<br>\n",
    "- 손실함수/활성화함수\n",
    "\t* 클래스 형태\t==> nn.MSELoss, nn.ReLU\t   ==> \\___init___ 메서드\n",
    "\t* 함수 형태 ==> torch.nn.fucntional 아래에 ==> forward() 메서드"
   ]
  },
  {
   "cell_type": "code",
   "execution_count": 5,
   "metadata": {},
   "outputs": [],
   "source": [
    "class IrisMCFModel( nn.Module):\n",
    "    \n",
    "\t# 모델 인스턴스 생성 메서드\n",
    "\tdef __init__(self):\n",
    "\t\tsuper().__init__()\n",
    "\n",
    "\t\tself.in_layer = nn.Linear(4, 10)\n",
    "\t\tself.hidden_layer = nn.Linear(10, 5)\n",
    "\t\tself.out_layer = nn.Linear(5, 3)\n",
    "\n",
    "\t# 순방향 학습 진행 메서드\n",
    "\tdef forward(self, input_data):\n",
    "\t\t# 입력층\n",
    "\t\ty = F.relu( self.in_layer(input_data) )\t\t\n",
    "\n",
    "\t\t# 은닉층: 10개의 숫자 값 (>=0)\n",
    "\t\ty = F.relu( self.hidden_layer(y))\t\t\t\n",
    "\n",
    "\t\t# 출력층: 5개의 숫자 값 (>=0)\n",
    "\t\treturn self.out_layer(y)\t\t\t\t\t# 다중분류 => 손실함수 crossEntropyLoss가 내부에서 softmax 진행행\n"
   ]
  },
  {
   "cell_type": "code",
   "execution_count": 6,
   "metadata": {},
   "outputs": [
    {
     "name": "stdout",
     "output_type": "stream",
     "text": [
      "IrisMCFModel(\n",
      "  (in_layer): Linear(in_features=4, out_features=10, bias=True)\n",
      "  (hidden_layer): Linear(in_features=10, out_features=5, bias=True)\n",
      "  (out_layer): Linear(in_features=5, out_features=3, bias=True)\n",
      ")\n",
      "\n"
     ]
    },
    {
     "data": {
      "text/plain": [
       "==========================================================================================\n",
       "Layer (type:depth-idx)                   Output Shape              Param #\n",
       "==========================================================================================\n",
       "IrisMCFModel                             [10000, 3]                --\n",
       "├─Linear: 1-1                            [10000, 10]               50\n",
       "├─Linear: 1-2                            [10000, 5]                55\n",
       "├─Linear: 1-3                            [10000, 3]                18\n",
       "==========================================================================================\n",
       "Total params: 123\n",
       "Trainable params: 123\n",
       "Non-trainable params: 0\n",
       "Total mult-adds (M): 1.23\n",
       "==========================================================================================\n",
       "Input size (MB): 0.16\n",
       "Forward/backward pass size (MB): 1.44\n",
       "Params size (MB): 0.00\n",
       "Estimated Total Size (MB): 1.60\n",
       "=========================================================================================="
      ]
     },
     "execution_count": 6,
     "metadata": {},
     "output_type": "execute_result"
    }
   ],
   "source": [
    "# 모델 인스턴스 생성\n",
    "model = IrisMCFModel()\n",
    "\n",
    "print(model)\n",
    "print()\n",
    "summary(model, input_size=(10000,4))\t\t\t\t# 실제 학습할 데이터 크기 할당량 체크!"
   ]
  },
  {
   "cell_type": "markdown",
   "metadata": {},
   "source": [
    "#### [3] 데이터셋 클래스 설계 및 정의 <hr>\n",
    "- 데이터셋: iris.csv\n",
    "- 피쳐_개수: 4개\n",
    "- 타겟_개수: 3개\n",
    "- 클래스 이름: IrisDataset\n",
    "- 부모클래스: utils.data.Dataset\n",
    "- 속성_필드: featureDF, targetDF, n_rows, n_features\n",
    "- 필수 메서드:\n",
    "\t* _ \\___init_ _(self): 데이터 저장 및 전처리, 개발자가 필요한 속성 설정\n",
    "\t* _ _len_ _(self): 데이터 개수 반환\n",
    "\t* _ _getitem_ _(self, idx): 특정 인덱스의 피쳐 타겟 반환"
   ]
  },
  {
   "cell_type": "code",
   "execution_count": 7,
   "metadata": {},
   "outputs": [],
   "source": [
    "class IrisDataset(Dataset):\n",
    "    \n",
    "\tdef __init__(self, featureDF, targetDF):\n",
    "\t\tself.featureDF = featureDF\n",
    "\t\tself.targetDF = targetDF\n",
    "\t\tself.n_rows = featureDF.shape[0]\n",
    "\t\tself.n_features = featureDF.shape[1]\n",
    "\n",
    "\tdef __len__(self):\n",
    "\t\treturn self.n_rows\n",
    "\n",
    "\tdef __getitem__(self,idx):\n",
    "\n",
    "\t\t# 텐서화\n",
    "\t\tfeatureTS = torch.FloatTensor( self.featureDF.iloc[idx].values)\n",
    "\t\ttargetTS = torch.FloatTensor( self.targetDF.iloc[idx].values)\n",
    "\n",
    "\n",
    "\t\treturn featureTS, targetTS"
   ]
  },
  {
   "cell_type": "code",
   "execution_count": 8,
   "metadata": {},
   "outputs": [
    {
     "name": "stdout",
     "output_type": "stream",
     "text": [
      "torch.Size([1, 4]) torch.Size([1, 1]) tensor([[5.1000, 3.5000, 1.4000, 0.2000]]) tensor([[0.]])\n"
     ]
    }
   ],
   "source": [
    "# [테스트] 데이터셋 인스턴스 생성\n",
    "\n",
    "featureDF = irisDF[irisDF.columns[:-1]]\n",
    "targetDF = irisDF[irisDF.columns[-1:]]\n",
    "\n",
    "# 커스텀 데이터셋 인스턴스 생성\n",
    "irisDS = IrisDataset(featureDF, targetDF)\n",
    "\n",
    "# 데이터로더 인스턴스 생성\n",
    "irisDL = DataLoader(irisDS)\n",
    "\n",
    "for feature, label in irisDL:\n",
    "    print(feature.shape, label.shape, feature, label)\n",
    "    break"
   ]
  },
  {
   "cell_type": "markdown",
   "metadata": {},
   "source": [
    "#### [4] 학습 준비 <hr>\n",
    "- 학습 횟수: EPOCH\t\t\t<- 처음 ~ 끝까지 공부하는 단위\n",
    "- 배치 크기: BATCH_SIZE\t\t<- 한 번에 학습할 데이터셋 양\n",
    "- 위치 지정: DEVICE\t\t\t<- 텐서 저장 및 실행 위치 (GPU/CPU)\n",
    "- 학습률(lr): 가중치 & 절편 업데이트 시 경사하강법 이동(업데이트) 간격 설정 0.0001~0.1"
   ]
  },
  {
   "cell_type": "code",
   "execution_count": 9,
   "metadata": {},
   "outputs": [],
   "source": [
    "### 학습 진행 관련 설정\n",
    "EPOCH = 100\n",
    "BATCH_SIZE = 10\n",
    "DEVICE = 'cuda' if torch.cuda.is_available() else 'cpu'\n",
    "LR = 0.001"
   ]
  },
  {
   "cell_type": "markdown",
   "metadata": {},
   "source": [
    "- 인스턴스/객체: 모델, 데이터셋, 최적화(손실함수, 성능지표)"
   ]
  },
  {
   "cell_type": "code",
   "execution_count": 10,
   "metadata": {},
   "outputs": [
    {
     "name": "stdout",
     "output_type": "stream",
     "text": [
      "(84, 4) (38, 4) (28, 4)\n",
      "(84, 1) (38, 1) (28, 1)\n",
      "<class 'pandas.core.frame.DataFrame'> <class 'pandas.core.frame.DataFrame'> <class 'pandas.core.frame.DataFrame'>\n"
     ]
    }
   ],
   "source": [
    "# 모델 인스턴스\n",
    "model = IrisMCFModel()\n",
    "\n",
    "# DS & DL 인스턴스\n",
    "# - 학습용, 검증용, 테스트용 데이터 분리터 분리\n",
    "X_train, X_test, y_train, y_test = train_test_split(featureDF, targetDF, random_state=10)\n",
    "X_train, X_val, y_train, y_val = train_test_split(X_train, y_train, random_state=10)\n",
    "\n",
    "print(f'{X_train.shape} {X_test.shape} {X_val.shape}')\n",
    "print(f'{y_train.shape} {y_test.shape} {y_val.shape}')\n",
    "print(f'{type(X_train)} {type(X_test)} {type(X_val)}')\n",
    "\n",
    "\n",
    "trainDS = IrisDataset(X_train, y_train)\n",
    "testDS = IrisDataset(X_test, y_test)\n",
    "valDS = IrisDataset(X_val, y_val)\n",
    "\n",
    "# 데이터로더 인스턴스\n",
    "trainDL = DataLoader(trainDS, batch_size = BATCH_SIZE)\n",
    "# trainDL = DataLoader(trainDS, batch_size = BATCH_SIZE, drop_last=True)\t# 나머지는 버려려"
   ]
  },
  {
   "cell_type": "markdown",
   "metadata": {},
   "source": [
    "- 최적화, 손실함수, 성능지표 "
   ]
  },
  {
   "cell_type": "code",
   "execution_count": 11,
   "metadata": {},
   "outputs": [],
   "source": [
    "# 최적화 인스턴스 => Weight, bias 텐서 w.m, model.parameters() 전달\n",
    "optimizer = optim.Adam(model.parameters(), lr=LR)\n",
    "\n",
    "# 손실함수 인스턴스 => 다중분류 -> CrossEntropyLoss\n",
    "# \t\t\t\t\t=> 예측값은 선형식 결과 값 전달 ==> sigmoid() AF 처리 X\n",
    "crossLoss = nn.CrossEntropyLoss()"
   ]
  },
  {
   "cell_type": "markdown",
   "metadata": {},
   "source": [
    "#### [5] 학습 진행"
   ]
  },
  {
   "cell_type": "code",
   "execution_count": 12,
   "metadata": {},
   "outputs": [
    {
     "name": "stdout",
     "output_type": "stream",
     "text": [
      "[0/100]\n",
      "- [Train] LOSS: 1.29382 Score: 0.15135\n",
      "- [Valid] LOSS: 1.23221 Score: 1.23221\n",
      "[50/100]\n",
      "- [Train] LOSS: 0.59203 Score: 0.58970\n",
      "- [Valid] LOSS: 0.59900 Score: 0.59900\n"
     ]
    }
   ],
   "source": [
    "## 학습 효과 확인 손실값과 성능평가값 저장 필요\n",
    "\n",
    "LOSS_history  = {'Train':[], 'Val':[] }\n",
    "SCORE_history = {'Train':[], 'Val':[] }\n",
    "\n",
    "BATCH_CNT = len(trainDL)\t\t\t\t# trainDS.n_rows/BATCH_SIZE\n",
    "\n",
    "for epoch in range(EPOCH):\n",
    "    \n",
    "\t\n",
    "\t# 학습 모드로 모델 설정\n",
    "    model.train()\n",
    "    \n",
    "    loss_total=0\n",
    "    score_total =0\n",
    "\n",
    "\t# 배치크기만큼 데이터 로딩 & 학습 진행\n",
    "    for featureTS, targetTS in trainDL:\n",
    "        \n",
    "\t\t# 1 epoch 학습\n",
    "        pre_y = model(featureTS)\n",
    "        \n",
    "\t\t# 손실계산\n",
    "        loss = crossLoss(pre_y, targetTS.reshape(-1).long())\t\t# long() \n",
    "        \t\t\t\t\t\t\t\t\t\t\t\t\t\t\t# \t-> crossLoss(): scalar(0D) or 1D 데이터만 & long 타입만!\n",
    "        loss_total += loss.item()\n",
    "        \n",
    "\t\t# 성능평가 계산\n",
    "        score = MulticlassF1Score(num_classes=3)(pre_y, targetTS.reshape(-1))\n",
    "        score_total += score.item()\n",
    "        \n",
    "\t\t# 최적화 진행\n",
    "        optimizer.zero_grad()\n",
    "        loss.backward()\n",
    "        optimizer.step()\n",
    "        \n",
    "\t# 한 에포크에 대해 검증\n",
    "    # 모델 -> 검증 모드로 설정\n",
    "    model.eval()\n",
    "    \n",
    "    with torch.no_grad():\t\t\t# required_grade= True 로 설정된 파라미터 해제!!\n",
    "        # 검증 데이터셋\n",
    "        val_featureTS = torch.FloatTensor( valDS.featureDF.values )\n",
    "        val_targetTS = torch.FloatTensor( valDS.targetDF.values )\n",
    "        \n",
    "\t\t# 평가\n",
    "        pre_val = model(val_featureTS)\n",
    "        \n",
    "\t\t# 손실\n",
    "        loss_val = crossLoss(pre_val, val_targetTS.reshape(-1).long())\n",
    "        # 성능평가\n",
    "        score_val = MulticlassF1Score(num_classes=3)(pre_val, val_targetTS.reshape(-1))\n",
    "        \n",
    "\t# 한 에포크 당 손실값과 성능평가값 저장\n",
    "    LOSS_history['Train'].append(loss_total/BATCH_CNT)\n",
    "    SCORE_history['Train'].append(score_total/BATCH_CNT)\n",
    "    \n",
    "    LOSS_history['Val'].append(loss_val)\n",
    "    SCORE_history['Val'].append(score_val)\n",
    "    \n",
    "    if epoch%50 ==0: \n",
    "        print(f\"[{epoch}/{EPOCH}]\\n- [Train] LOSS: {LOSS_history['Train'][-1]:.5f} Score: {SCORE_history['Train'][-1]:.5f}\")\n",
    "        print(f\"- [Valid] LOSS: {LOSS_history['Val'][-1]:.5f} Score: {LOSS_history['Val'][-1]:.5f}\")"
   ]
  },
  {
   "cell_type": "code",
   "execution_count": 15,
   "metadata": {},
   "outputs": [
    {
     "name": "stdout",
     "output_type": "stream",
     "text": [
      "test_loss tensor(0.3335) test_score tensor(0.9505)\n"
     ]
    }
   ],
   "source": [
    "    # 테스트\n",
    "    # 모델 -> 검증 모드로 설정\n",
    "model.eval()\n",
    "    \n",
    "loss_test_tot = []\n",
    "score_test_tot = []\n",
    "\n",
    "with torch.no_grad():\t\t\t# required_grade= True 로 설정된 파라미터 해제!!\n",
    "\t# 검증 데이터셋\n",
    "\ttest_featureTS = torch.FloatTensor( testDS.featureDF.values )\n",
    "\ttest_targetTS = torch.FloatTensor( testDS.targetDF.values )\n",
    "\t\n",
    "\t# 평가\n",
    "\tpre_test = model(test_featureTS)\n",
    "\t\n",
    "\t# 손실\n",
    "\tloss_test = crossLoss(pre_test, test_targetTS.reshape(-1).long())\n",
    "\t\n",
    "\t# 성능평가\n",
    "\tscore_test = MulticlassF1Score(num_classes=3)(pre_test, test_targetTS.reshape(-1))\n",
    "\n",
    "\tprint(\"test_loss\",loss_test, \"test_score\", score_test)"
   ]
  },
  {
   "cell_type": "code",
   "execution_count": null,
   "metadata": {},
   "outputs": [],
   "source": [
    "    "
   ]
  },
  {
   "cell_type": "code",
   "execution_count": 13,
   "metadata": {},
   "outputs": [
    {
     "data": {
      "text/plain": [
       "Text(0.5, 1.0, 'f1-score')"
      ]
     },
     "execution_count": 13,
     "metadata": {},
     "output_type": "execute_result"
    },
    {
     "data": {
      "image/png": "[encoded data removed]",
      "text/plain": [
       "<Figure size 1000x500 with 2 Axes>"
      ]
     },
     "metadata": {},
     "output_type": "display_data"
    }
   ],
   "source": [
    "import matplotlib.pyplot as plt\n",
    "\n",
    "fig, axes = plt.subplots(1,2, figsize=(10,5))\n",
    "\n",
    "axes[0].plot(range(1, EPOCH+1), LOSS_history['Train'],label=\"Train\")\n",
    "axes[0].plot(range(1, EPOCH+1), LOSS_history['Val'],label=\"Valid\")\n",
    "axes[0].grid()\n",
    "axes[0].legend()\n",
    "axes[0].set_xlabel(\"Epoch\")\n",
    "axes[0].set_ylabel(\"LOSS\")\n",
    "axes[0].set_title(\"LOSS\")\n",
    "\n",
    "axes[1].plot(range(1, EPOCH+1), SCORE_history['Train'],label=\"Train\")\n",
    "axes[1].plot(range(1, EPOCH+1), SCORE_history['Val'],label=\"Valid\")\n",
    "axes[1].grid()\n",
    "axes[1].legend()\n",
    "axes[1].set_xlabel(\"Epoch\")\n",
    "axes[1].set_ylabel(\"f1-score\")\n",
    "axes[1].set_title(\"f1-score\")"
   ]
  },
  {
   "cell_type": "code",
   "execution_count": null,
   "metadata": {},
   "outputs": [],
   "source": []
  },
  {
   "cell_type": "code",
   "execution_count": null,
   "metadata": {},
   "outputs": [],
   "source": []
  },
  {
   "cell_type": "code",
   "execution_count": null,
   "metadata": {},
   "outputs": [],
   "source": []
  },
  {
   "cell_type": "code",
   "execution_count": null,
   "metadata": {},
   "outputs": [],
   "source": []
  }
 ],
 "metadata": {
  "kernelspec": {
   "display_name": "torch_38",
   "language": "python",
   "name": "python3"
  },
  "language_info": {
   "codemirror_mode": {
    "name": "ipython",
    "version": 3
   },
   "file_extension": ".py",
   "mimetype": "text/x-python",
   "name": "python",
   "nbconvert_exporter": "python",
   "pygments_lexer": "ipython3",
   "version": "3.8.19"
  }
 },
 "nbformat": 4,
 "nbformat_minor": 2
}
