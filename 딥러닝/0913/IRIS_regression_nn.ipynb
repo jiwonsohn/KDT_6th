{
 "cells": [
  {
   "cell_type": "markdown",
   "metadata": {},
   "source": [
    "* IRIS (회귀)\n",
    "- 피쳐: 3개\tSepal Length, Sepal Width, Petal  Length\n",
    "- 타겟: 1개 Petal Width\n",
    "\n",
    "* IRIS (2진 분류)\n",
    "- 피쳐: 4개\n",
    "- 타겟: 1개\n",
    "- Class: 품종 2개만 선택 <- (Setosa & 나머지) => 불균형 데이터 (50 & 100)\n",
    "\n",
    "* IRIS (다중 분류)\n",
    "- 피쳐: 4개\n",
    "- 타겟: 1개\n",
    "- Class: 품종 3개\n",
    "<hr>\n",
    "* MNIST-DIGIT\n",
    "- 피쳐: 64개\n",
    "- 타겟: 1개\n",
    "- Class: 0~9 10개, \n",
    "\n",
    "* MNIST-fashion"
   ]
  },
  {
   "cell_type": "markdown",
   "metadata": {},
   "source": [
    "### DNN 기반 회귀 모델 구현\n",
    "- 데이터셋: iris.csv\n",
    "- 피쳐: 3개 Sepal Length, Sepal Width, Petal Length\n",
    "- 타겟: 1개 Petal  Width\n",
    "- 학습방법: 지도학습 >> 회귀\n",
    "- 알고리즘: 인공신경망(ANN), MLP, 심층신경망(DNN)\n",
    "- 프레임워크: Pytorch"
   ]
  },
  {
   "cell_type": "markdown",
   "metadata": {},
   "source": [
    "#### [1] 모듈 로딩 & 데이터 준비\n"
   ]
  },
  {
   "cell_type": "code",
   "execution_count": 1,
   "metadata": {},
   "outputs": [],
   "source": [
    "# 모듈 관련\n",
    "import torch\n",
    "import torch.nn as nn\n",
    "import torch.nn.functional as F\n",
    "from torch.utils.data import Dataset, DataLoader\n",
    "import torch.optim as optim\n",
    "\n",
    "from torchmetrics.regression import R2Score, MeanSquaredError\n",
    "from torchinfo import summary\n",
    "\n",
    "# DF 로드 및 시각화 모듈\n",
    "import pandas as pd\n",
    "import matplotlib.pyplot as plt\n",
    "import seaborn as sns\n",
    "\n",
    "# 데이터 전처리용 모듈\n",
    "from sklearn.preprocessing import *\n",
    "from sklearn.model_selection import train_test_split"
   ]
  },
  {
   "cell_type": "code",
   "execution_count": 2,
   "metadata": {},
   "outputs": [
    {
     "name": "stdout",
     "output_type": "stream",
     "text": [
      "torch v.2.4.1\n",
      "pandas v.2.0.3\n"
     ]
    }
   ],
   "source": [
    "# 모듈 버전 확인\t\t\t\t=> 사용자 정의 함수로 구현하기!!\n",
    "print(f'torch v.{torch.__version__}')\n",
    "print(f'pandas v.{pd.__version__}')"
   ]
  },
  {
   "cell_type": "code",
   "execution_count": 3,
   "metadata": {},
   "outputs": [
    {
     "data": {
      "text/html": [
       "<div>\n",
       "<style scoped>\n",
       "    .dataframe tbody tr th:only-of-type {\n",
       "        vertical-align: middle;\n",
       "    }\n",
       "\n",
       "    .dataframe tbody tr th {\n",
       "        vertical-align: top;\n",
       "    }\n",
       "\n",
       "    .dataframe thead th {\n",
       "        text-align: right;\n",
       "    }\n",
       "</style>\n",
       "<table border=\"1\" class=\"dataframe\">\n",
       "  <thead>\n",
       "    <tr style=\"text-align: right;\">\n",
       "      <th></th>\n",
       "      <th>sepal.length</th>\n",
       "      <th>sepal.width</th>\n",
       "      <th>petal.length</th>\n",
       "      <th>petal.width</th>\n",
       "    </tr>\n",
       "  </thead>\n",
       "  <tbody>\n",
       "    <tr>\n",
       "      <th>0</th>\n",
       "      <td>5.1</td>\n",
       "      <td>3.5</td>\n",
       "      <td>1.4</td>\n",
       "      <td>0.2</td>\n",
       "    </tr>\n",
       "    <tr>\n",
       "      <th>1</th>\n",
       "      <td>4.9</td>\n",
       "      <td>3.0</td>\n",
       "      <td>1.4</td>\n",
       "      <td>0.2</td>\n",
       "    </tr>\n",
       "    <tr>\n",
       "      <th>2</th>\n",
       "      <td>4.7</td>\n",
       "      <td>3.2</td>\n",
       "      <td>1.3</td>\n",
       "      <td>0.2</td>\n",
       "    </tr>\n",
       "  </tbody>\n",
       "</table>\n",
       "</div>"
      ],
      "text/plain": [
       "   sepal.length  sepal.width  petal.length  petal.width\n",
       "0           5.1          3.5           1.4          0.2\n",
       "1           4.9          3.0           1.4          0.2\n",
       "2           4.7          3.2           1.3          0.2"
      ]
     },
     "execution_count": 3,
     "metadata": {},
     "output_type": "execute_result"
    }
   ],
   "source": [
    "# 데이터 로딩\n",
    "DATA_FILE = r'C:\\Users\\KDP-43\\Desktop\\머신러닝_1\\data\\iris.csv'\n",
    "\n",
    "irisDF = pd.read_csv(DATA_FILE, usecols=[0,1,2,3])\n",
    "irisDF.head(3)"
   ]
  },
  {
   "cell_type": "markdown",
   "metadata": {},
   "source": [
    "#### [2] 모델 클래스 설계 및 정의\n",
    "- 클래스 목적:\tiris 데이터 학습 및 예측(추론)\n",
    "- 클래스 이름:\tIrisRegModel\n",
    "- 부모클래스 :\tnn.Module\n",
    "- 매개 변수\t : 층별 입출력 개수 고정하기에 필요 X\n",
    "- 속성/필드  :\t\n",
    "- 기능/역할  :\t__init__(): 모델 구조, forward(): 순방향 학습 <= 오버라이딩!!\n",
    "- 클래스구조\n",
    "\t* 입력층: 입력 3개(피쳐)\t출력 10개 \t-> 퍼셉트론/뉴런 10개 존재\n",
    "\t* 은닉층: 입력 10개\t\t\t출력 30개   -> 퍼셉트론/뉴런 30개 존재\n",
    "\t* 출력층: 입력 30개\t\t\t\t출력 1개(너비값)\n",
    "<br>\n",
    "- 손실함수/활성화함수\n",
    "\t* 클래스 형태\t==> nn.MSELoss, nn.ReLU\t   ==> \\___init___ 메서드\n",
    "\t* 함수 형태 ==> torch.nn.fucntional 아래에 ==> forward() 메서드"
   ]
  },
  {
   "cell_type": "code",
   "execution_count": 4,
   "metadata": {},
   "outputs": [],
   "source": [
    "class IrisRegModel( nn.Module):\n",
    "    \n",
    "\t# 모델 인스턴스 생성 메서드\n",
    "\tdef __init__(self):\n",
    "\t\tsuper().__init__()\n",
    "\n",
    "\t\tself.in_layer = nn.Linear(3, 10)\n",
    "\t\tself.hidden_layer = nn.Linear(10, 30)\n",
    "\t\tself.out_layer = nn.Linear(30, 1)\n",
    "\n",
    "\t# 순방향 학습 진행 메서드\n",
    "\tdef forward(self, input_data):\n",
    "\t\t# 입력층\n",
    "\t\ty = F.relu( self.in_layer(input_data) )\t\t# (f11w11 + f12w12 + f13w13 +b), ...  \n",
    "\t\t\t\t\t\t\t\t\t\t\t\t\t# \t\t\t, (f10_1w10_1 + f10_2w10_2 f10_3w10_3 + b)\n",
    "\t\t\t\t\t\t\t\t\t\t\t\t\t#\t\t\t\t=> 총 10개\n",
    "\t\t\t\t\t\t\t\t\t\t\t\t\t# relu => y값 범위 0<= y\n",
    "\n",
    "\t\t# 은닉층: 10개의 숫자 값 (>=0)\n",
    "\t\ty = F.relu( self.hidden_layer(y))\t\t\t# (f21w11 + f22w12 + f210w210 +b), ...  \n",
    "\t\t\t\t\t\t\t\t\t\t\t\t\t# \t\t\t, (f230_1w230_1 + f10_2w10_2 f10_3w10_3 + b)\n",
    "\n",
    "\t\t# 출력층: 30개의 숫자 값 (>=0)\n",
    "\t\treturn self.out_layer(y)\t\t\t\t\t# 회귀여서 바로 반환\n",
    "\t# f31w31 + ... + f33w330 + b"
   ]
  },
  {
   "cell_type": "code",
   "execution_count": 5,
   "metadata": {},
   "outputs": [
    {
     "name": "stdout",
     "output_type": "stream",
     "text": [
      "IrisRegModel(\n",
      "  (in_layer): Linear(in_features=3, out_features=10, bias=True)\n",
      "  (hidden_layer): Linear(in_features=10, out_features=30, bias=True)\n",
      "  (out_layer): Linear(in_features=30, out_features=1, bias=True)\n",
      ")\n",
      "\n"
     ]
    },
    {
     "data": {
      "text/plain": [
       "==========================================================================================\n",
       "Layer (type:depth-idx)                   Output Shape              Param #\n",
       "==========================================================================================\n",
       "IrisRegModel                             [10000, 1]                --\n",
       "├─Linear: 1-1                            [10000, 10]               40\n",
       "├─Linear: 1-2                            [10000, 30]               330\n",
       "├─Linear: 1-3                            [10000, 1]                31\n",
       "==========================================================================================\n",
       "Total params: 401\n",
       "Trainable params: 401\n",
       "Non-trainable params: 0\n",
       "Total mult-adds (M): 4.01\n",
       "==========================================================================================\n",
       "Input size (MB): 0.12\n",
       "Forward/backward pass size (MB): 3.28\n",
       "Params size (MB): 0.00\n",
       "Estimated Total Size (MB): 3.40\n",
       "=========================================================================================="
      ]
     },
     "execution_count": 5,
     "metadata": {},
     "output_type": "execute_result"
    }
   ],
   "source": [
    "# 모델 인스턴스 생성\n",
    "model = IrisRegModel()\n",
    "\n",
    "print(model)\n",
    "print()\n",
    "summary(model, input_size=(10000,3))\t\t\t\t# 실제 학습할 데이터 크기 할당량 체크!"
   ]
  },
  {
   "cell_type": "markdown",
   "metadata": {},
   "source": [
    "#### [3] 데이터셋 클래스 설계 및 정의 <hr>\n",
    "- 데이터셋: iris.csv\n",
    "- 피쳐_개수: 3개\n",
    "- 타겟_개수: 1개\n",
    "- 클래스 이름: IrisDataset\n",
    "- 부모클래스: utils.data.Dataset\n",
    "- 속성_필드: featureDF, targetDF, n_rows, n_features\n",
    "- 필수 메서드:\n",
    "\t* _ \\___init_ _(self): 데이터 저장 및 전처리, 개발자가 필요한 속성 설정\n",
    "\t* _ _len_ _(self): 데이터 개수 반환\n",
    "\t* _ _getitem_ _(self, idx): 특정 인덱스의 피쳐 타겟 반환"
   ]
  },
  {
   "cell_type": "code",
   "execution_count": 6,
   "metadata": {},
   "outputs": [],
   "source": [
    "class IrisDataset(Dataset):\n",
    "    \n",
    "\tdef __init__(self, featureDF, targetDF):\n",
    "\t\tself.featureDF = featureDF\n",
    "\t\tself.targetDF = targetDF\n",
    "\t\tself.n_rows = featureDF.shape[0]\n",
    "\t\tself.n_features = featureDF.shape[1]\n",
    "\n",
    "\tdef __len__(self):\n",
    "\t\treturn self.n_rows\n",
    "\n",
    "\tdef __getitem__(self,idx):\n",
    "\n",
    "\t\t# 텐서화\n",
    "\t\tfeatureTS = torch.FloatTensor( self.featureDF.iloc[idx].values)\n",
    "\t\ttargetTS = torch.FloatTensor( self.targetDF.iloc[idx].values)\n",
    "\n",
    "\n",
    "\t\treturn featureTS, targetTS"
   ]
  },
  {
   "cell_type": "code",
   "execution_count": 7,
   "metadata": {},
   "outputs": [],
   "source": [
    "## feature & target 생성\n",
    "featureDF = irisDF[ irisDF.columns[:-1] ]\t\t\t# 2D (150,3)\n",
    "targetDF = irisDF[ irisDF.columns[-1:]]\t\t\t\t# 2D (150,1)\n",
    "\n",
    "\n",
    "## 사용자 정의 데이터셋 인스턴스 생성\n",
    "irisDS = IrisDataset(featureDF, targetDF)"
   ]
  },
  {
   "cell_type": "markdown",
   "metadata": {},
   "source": [
    "#### [4] 학습 준비\n",
    "- 학습 횟수: EPOCH\t\t\t<- 처음 ~ 끝까지 공부하는 단위\n",
    "- 배치 크기: BATCH_SIZE\t\t<- 한 번에 학습할 데이터셋 양\n",
    "- 위치 지정: DEVICE\t\t\t<- 텐서 저장 및 실행 위치 (GPU/CPU)\n",
    "- 학습률(lr): 가중치 & 절편 업데이트 시 경사하강법 이동(업데이트) 간격 설정 0.0001~0.1"
   ]
  },
  {
   "cell_type": "code",
   "execution_count": 8,
   "metadata": {},
   "outputs": [],
   "source": [
    "### 학습 진행 관련 설정\n",
    "EPOCH = 1\n",
    "BATCH_SIZE = 10\n",
    "BATCH_CNT = irisDF.shape[0] // BATCH_SIZE\n",
    "DEVICE = 'cuda' if torch.cuda.is_available() else 'cpu'\n",
    "\n",
    "LR = 0.001"
   ]
  },
  {
   "cell_type": "markdown",
   "metadata": {},
   "source": [
    "##### [4_1] 모델\n",
    "- 인스턴스/객체: 모델, 데이터셋, 최적화 (손실함수, 성능지표)"
   ]
  },
  {
   "cell_type": "code",
   "execution_count": 9,
   "metadata": {},
   "outputs": [
    {
     "name": "stdout",
     "output_type": "stream",
     "text": [
      "(84, 3) (38, 3) (28, 3)\n",
      "(84, 1) (38, 1) (28, 1)\n",
      "<class 'pandas.core.frame.DataFrame'> <class 'pandas.core.frame.DataFrame'> <class 'pandas.core.frame.DataFrame'>\n"
     ]
    }
   ],
   "source": [
    "# 모델 인스턴스\n",
    "model = IrisRegModel()\n",
    "\n",
    "# 데이터셋 인스턴스\n",
    "X_train, X_test, y_train, y_test = train_test_split(featureDF, targetDF, random_state=10)\n",
    "X_train, X_val, y_train, y_val = train_test_split(X_train, y_train, random_state=10)\n",
    "\n",
    "print(f'{X_train.shape} {X_test.shape} {X_val.shape}')\n",
    "print(f'{y_train.shape} {y_test.shape} {y_val.shape}')\n",
    "print(f'{type(X_train)} {type(X_test)} {type(X_val)}')\n",
    "\n",
    "\n",
    "trainDS = IrisDataset(X_train, y_train)\n",
    "testDS = IrisDataset(X_test, y_test)\n",
    "valDS = IrisDataset(X_val, y_val)\n",
    "\n",
    "# 데이터로더 인스턴스\n",
    "trainDL = DataLoader(trainDS, batch_size = BATCH_SIZE)\n"
   ]
  },
  {
   "cell_type": "code",
   "execution_count": 10,
   "metadata": {},
   "outputs": [
    {
     "name": "stdout",
     "output_type": "stream",
     "text": [
      "torch.Size([10, 3]) torch.Size([10, 1])\n"
     ]
    }
   ],
   "source": [
    "## 데이터로더 체크\n",
    "for featureTS, targetTS in trainDL:\n",
    "\tprint(featureTS.shape, targetTS.shape)\n",
    "\tbreak"
   ]
  },
  {
   "cell_type": "code",
   "execution_count": 11,
   "metadata": {},
   "outputs": [],
   "source": [
    "# 최적화 인스턴스 => Weight, bias 텐서 w.m, model.parameters() 전달\n",
    "optimizer = optim.Adam(model.parameters(), lr=LR)\n",
    "\n",
    "# 손실함수 인스턴스 => 회귀 -> MSE,MAE,RMSE, ...\n",
    "regLoss = nn.MSELoss()"
   ]
  },
  {
   "cell_type": "markdown",
   "metadata": {},
   "source": [
    "#### [5] 학습 진행"
   ]
  },
  {
   "cell_type": "code",
   "execution_count": 12,
   "metadata": {},
   "outputs": [],
   "source": [
    "## 학습 효과 확인 손실값과 성능평가값 저장 필요\n",
    "\n",
    "LOSS_history  = {'Train':[], 'Val':[] }\n",
    "SCORE_history = {'Train':[], 'Val':[] }\n",
    "# BATCH_CNT = irisDS.n_rows/BATCH_SIZE\n",
    "\n",
    "\n",
    "\n",
    "\n",
    "for epoch in range(EPOCH):\n",
    "    \n",
    "\t\n",
    "\t# 학습 모드로 모델 설정\n",
    "    model.train()\n",
    "    \n",
    "    loss_total=0\n",
    "    score_total =0\n",
    "\n",
    "\t# 배치크기만큼 데이터 로딩 & 학습 진행\n",
    "    for featureTS, targetTS in trainDL:\n",
    "        \n",
    "\t\t# 1 epoch 학습\n",
    "        pre_y = model(featureTS)\n",
    "        \n",
    "\t\t# 손실계산\n",
    "        loss = regLoss(pre_y, targetTS)\n",
    "        loss_total += loss.item()\n",
    "        \n",
    "\t\t# 성능평가 계산\n",
    "        score = R2Score()(pre_y, targetTS)\n",
    "        score_total += score.item()\n",
    "        \n",
    "\t\t# 최적화 진행\n",
    "        optimizer.zero_grad()\n",
    "        loss.backward()\n",
    "        optimizer.step()\n",
    "        \n",
    "\t# 한 에포크에 대해 검증\n",
    "    # 모델 -> 검증 모드로 설정\n",
    "    model.eval()\n",
    "    \n",
    "    with torch.no_grad():\t\t\t# required_grade= True 로 설정된 파라미터 해제!!\n",
    "        # 검증 데이터셋\n",
    "        val_featureTS = torch.FloatTensor( valDS.featureDF.values )\n",
    "        val_targetTS = torch.FloatTensor( valDS.targetDF.values )\n",
    "        \n",
    "\t\t# 평가\n",
    "        pre_val = model(val_featureTS)\n",
    "        \n",
    "\t\t# 손실\n",
    "        loss_val = regLoss(pre_val, val_targetTS)\n",
    "        # 성능평가\n",
    "        score_val = R2Score()(pre_val, val_targetTS)\n",
    "        \n",
    "\t# 한 에포크 당 손실값과 성능평가값 저장\n",
    "    LOSS_history['Train'].append(loss_total/BATCH_CNT)\n",
    "    SCORE_history['Train'].append(score_total/BATCH_CNT)\n",
    "    \n",
    "    LOSS_history['Val'].append(loss_val)\n",
    "    SCORE_history['Val'].append(score_val)\n",
    "        "
   ]
  },
  {
   "cell_type": "code",
   "execution_count": null,
   "metadata": {},
   "outputs": [],
   "source": []
  },
  {
   "cell_type": "code",
   "execution_count": null,
   "metadata": {},
   "outputs": [],
   "source": []
  },
  {
   "cell_type": "code",
   "execution_count": null,
   "metadata": {},
   "outputs": [],
   "source": []
  },
  {
   "cell_type": "code",
   "execution_count": null,
   "metadata": {},
   "outputs": [],
   "source": []
  },
  {
   "cell_type": "code",
   "execution_count": null,
   "metadata": {},
   "outputs": [],
   "source": []
  },
  {
   "cell_type": "code",
   "execution_count": null,
   "metadata": {},
   "outputs": [],
   "source": []
  }
 ],
 "metadata": {
  "kernelspec": {
   "display_name": "torch_38",
   "language": "python",
   "name": "python3"
  },
  "language_info": {
   "codemirror_mode": {
    "name": "ipython",
    "version": 3
   },
   "file_extension": ".py",
   "mimetype": "text/x-python",
   "name": "python",
   "nbconvert_exporter": "python",
   "pygments_lexer": "ipython3",
   "version": "3.8.19"
  }
 },
 "nbformat": 4,
 "nbformat_minor": 2
}
