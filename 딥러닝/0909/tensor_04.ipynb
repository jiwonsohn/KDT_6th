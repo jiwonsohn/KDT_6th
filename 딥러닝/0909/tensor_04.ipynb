{
 "cells": [
  {
   "cell_type": "markdown",
   "metadata": {},
   "source": [
    "### Tensor 변환  \n",
    "- torch.as_tensor()  \n",
    "  \n",
    "    * 동일 타입과 디바이스를 가진 데이터 존재 ==> view 즉, 공유  \n",
    "\n",
    "    * 다른 타입 또는 다른 디바이스 가진 데이터 존재 ==> copy 즉, 생성  \n",
    "      \n",
    "    * view tensor 또는 copy tensor 반환  \n",
    "    "
   ]
  },
  {
   "cell_type": "code",
   "execution_count": 103,
   "metadata": {},
   "outputs": [],
   "source": [
    "## 모듈 로딩 \n",
    "import torch"
   ]
  },
  {
   "cell_type": "markdown",
   "metadata": {},
   "source": [
    "- Python 객체 ==> Tensor 변환"
   ]
  },
  {
   "cell_type": "code",
   "execution_count": 104,
   "metadata": {},
   "outputs": [],
   "source": [
    "## List ==> Tensor \n",
    "data = list(range(1,10))"
   ]
  },
  {
   "cell_type": "code",
   "execution_count": 105,
   "metadata": {},
   "outputs": [],
   "source": [
    "## torch.as_tensor()\n",
    "dataTS = torch.as_tensor(data, dtype=torch.int8)"
   ]
  },
  {
   "cell_type": "code",
   "execution_count": 106,
   "metadata": {},
   "outputs": [
    {
     "data": {
      "text/plain": [
       "(tensor([1, 2, 3, 4, 5, 6, 7, 8, 9], dtype=torch.int8),\n",
       " torch.Size([9]),\n",
       " 1,\n",
       " torch.int8)"
      ]
     },
     "execution_count": 106,
     "metadata": {},
     "output_type": "execute_result"
    }
   ],
   "source": [
    "dataTS, dataTS.shape, dataTS.ndim, dataTS.dtype"
   ]
  },
  {
   "cell_type": "code",
   "execution_count": 107,
   "metadata": {},
   "outputs": [],
   "source": [
    "data[0] = 100"
   ]
  },
  {
   "cell_type": "code",
   "execution_count": 108,
   "metadata": {},
   "outputs": [
    {
     "data": {
      "text/plain": [
       "([100, 2, 3, 4, 5, 6, 7, 8, 9],\n",
       " tensor([1, 2, 3, 4, 5, 6, 7, 8, 9], dtype=torch.int8))"
      ]
     },
     "execution_count": 108,
     "metadata": {},
     "output_type": "execute_result"
    }
   ],
   "source": [
    "data, dataTS"
   ]
  },
  {
   "cell_type": "markdown",
   "metadata": {},
   "source": [
    "- Numpy ndarray 객체 ==> Tensor 변환 "
   ]
  },
  {
   "cell_type": "code",
   "execution_count": 109,
   "metadata": {},
   "outputs": [],
   "source": [
    "import numpy as np"
   ]
  },
  {
   "cell_type": "code",
   "execution_count": 110,
   "metadata": {},
   "outputs": [
    {
     "data": {
      "text/plain": [
       "array([1, 2, 3])"
      ]
     },
     "execution_count": 110,
     "metadata": {},
     "output_type": "execute_result"
    }
   ],
   "source": [
    "arr1 = np.array([1,2,3])\n",
    "arr1 "
   ]
  },
  {
   "cell_type": "code",
   "execution_count": 111,
   "metadata": {},
   "outputs": [
    {
     "data": {
      "text/plain": [
       "(tensor([1, 2, 3], dtype=torch.int32), dtype('int32'), 1)"
      ]
     },
     "execution_count": 111,
     "metadata": {},
     "output_type": "execute_result"
    }
   ],
   "source": [
    "arrTS = torch.as_tensor(arr1)\n",
    "arrTS, arr1.dtype, arr1.ndim"
   ]
  },
  {
   "cell_type": "code",
   "execution_count": 112,
   "metadata": {},
   "outputs": [],
   "source": [
    "arr1[0] = 77"
   ]
  },
  {
   "cell_type": "code",
   "execution_count": 113,
   "metadata": {},
   "outputs": [],
   "source": [
    "arrTS[0] = 99"
   ]
  },
  {
   "cell_type": "code",
   "execution_count": 114,
   "metadata": {},
   "outputs": [
    {
     "data": {
      "text/plain": [
       "(array([99,  2,  3]), tensor([99,  2,  3], dtype=torch.int32))"
      ]
     },
     "execution_count": 114,
     "metadata": {},
     "output_type": "execute_result"
    }
   ],
   "source": [
    "# copy가 올지 view가 올지 모르는 상황 -> 이 경우는 \n",
    "arr1, arrTS"
   ]
  },
  {
   "cell_type": "markdown",
   "metadata": {},
   "source": [
    "- Numpy ndarray ==> Tensor 변환 : from_numpy()"
   ]
  },
  {
   "cell_type": "code",
   "execution_count": 115,
   "metadata": {},
   "outputs": [
    {
     "data": {
      "text/plain": [
       "(array([5., 7., 9.], dtype=float32), <memory at 0x00000000086C11C0>, 3, 4)"
      ]
     },
     "execution_count": 115,
     "metadata": {},
     "output_type": "execute_result"
    }
   ],
   "source": [
    "arr1 = np.array([5,7,9], dtype= np.float32)\n",
    "#         데이터 메모리 주소     데이터 개수      데이터 1개 크기 \n",
    "arr1,         arr1.data,        arr1.size ,      arr1.itemsize"
   ]
  },
  {
   "cell_type": "code",
   "execution_count": 116,
   "metadata": {},
   "outputs": [
    {
     "name": "stdout",
     "output_type": "stream",
     "text": [
      "[5. 7. 9.]\n",
      "데이터 저장 메모리  : <memory at 0x00000000086C1400>\n",
      "원소/요소 개수      : 3\n",
      "원소/요소 1개 크기  : 4\n",
      "탄입               : float32\n",
      "방향               : (4,)\n"
     ]
    }
   ],
   "source": [
    "print(arr1)\n",
    "print(f'데이터 저장 메모리  : {arr1.data}')\n",
    "print(f'원소/요소 개수      : {arr1.size}')\n",
    "print(f'원소/요소 1개 크기  : {arr1.itemsize}')\n",
    "print(f'탄입               : {arr1.dtype}')\n",
    "print(f'방향               : {arr1.strides}')"
   ]
  },
  {
   "cell_type": "code",
   "execution_count": 117,
   "metadata": {},
   "outputs": [
    {
     "name": "stdout",
     "output_type": "stream",
     "text": [
      "[[5. 7. 9.]\n",
      " [1. 2. 3.]]\n",
      "데이터 저장 메모리  : <memory at 0x000000000ED9CA00>\n",
      "원소/요소 개수      : 6\n",
      "원소/요소 1개 크기  : 2\n",
      "탄입               : float16\n",
      "방향               : (6, 2)\n"
     ]
    }
   ],
   "source": [
    "# 2차원인 경우 \n",
    "arr1 = np.array([[5,7,9],[1,2,3]], dtype= np.float16)\n",
    "print(arr1)\n",
    "print(f'데이터 저장 메모리  : {arr1.data}')\n",
    "print(f'원소/요소 개수      : {arr1.size}')\n",
    "print(f'원소/요소 1개 크기  : {arr1.itemsize}')\n",
    "print(f'탄입               : {arr1.dtype}')\n",
    "print(f'방향               : {arr1.strides}')\n",
    "# 12 --> 0번행에서 1번행으로 가기까지 걸리는 칸수 "
   ]
  },
  {
   "cell_type": "code",
   "execution_count": 118,
   "metadata": {},
   "outputs": [
    {
     "data": {
      "text/plain": [
       "tensor([[5., 7., 9.],\n",
       "        [1., 2., 3.]], dtype=torch.float16)"
      ]
     },
     "execution_count": 118,
     "metadata": {},
     "output_type": "execute_result"
    }
   ],
   "source": [
    "arrTS = torch.from_numpy(arr1) \n",
    "arrTS"
   ]
  },
  {
   "cell_type": "markdown",
   "metadata": {},
   "source": [
    "#### Tensor 이해 - 형변환"
   ]
  },
  {
   "cell_type": "code",
   "execution_count": 119,
   "metadata": {},
   "outputs": [],
   "source": [
    "#### 모듈로딩\n",
    "import torch"
   ]
  },
  {
   "cell_type": "markdown",
   "metadata": {},
   "source": [
    "- 방법 [1] type(torch.XXXX)"
   ]
  },
  {
   "cell_type": "code",
   "execution_count": 120,
   "metadata": {},
   "outputs": [
    {
     "data": {
      "text/plain": [
       "(tensor([1, 3, 5]), torch.int64)"
      ]
     },
     "execution_count": 120,
     "metadata": {},
     "output_type": "execute_result"
    }
   ],
   "source": [
    "# tensor 생성\n",
    "dataTS1 = torch.tensor([1,3,5])\n",
    "dataTS1, dataTS1.dtype"
   ]
  },
  {
   "cell_type": "code",
   "execution_count": 121,
   "metadata": {},
   "outputs": [
    {
     "data": {
      "text/plain": [
       "(tensor([1., 3., 5.]), torch.float32)"
      ]
     },
     "execution_count": 121,
     "metadata": {},
     "output_type": "execute_result"
    }
   ],
   "source": [
    "# int64 -> float \n",
    "dataTS11 = dataTS1.type(torch.float32)\n",
    "dataTS11, dataTS11.dtype"
   ]
  },
  {
   "cell_type": "markdown",
   "metadata": {},
   "source": [
    "- 방법 [2] 타입명()"
   ]
  },
  {
   "cell_type": "code",
   "execution_count": 122,
   "metadata": {},
   "outputs": [
    {
     "data": {
      "text/plain": [
       "(tensor([1., 3., 5.]), torch.float32)"
      ]
     },
     "execution_count": 122,
     "metadata": {},
     "output_type": "execute_result"
    }
   ],
   "source": [
    "# int64 -> float\n",
    "dataTS11 = dataTS11.float()\n",
    "dataTS11, dataTS11.dtype"
   ]
  },
  {
   "cell_type": "code",
   "execution_count": 124,
   "metadata": {},
   "outputs": [
    {
     "data": {
      "text/plain": [
       "tensor([True, True, True])"
      ]
     },
     "execution_count": 124,
     "metadata": {},
     "output_type": "execute_result"
    }
   ],
   "source": [
    "# int64 --> bool\n",
    "dataTS1.bool()"
   ]
  },
  {
   "cell_type": "markdown",
   "metadata": {},
   "source": [
    "- 방법 [3] to(dtype=OOO,device=OOO)"
   ]
  },
  {
   "cell_type": "code",
   "execution_count": 125,
   "metadata": {},
   "outputs": [
    {
     "data": {
      "text/plain": [
       "tensor([1, 3, 5], dtype=torch.int8)"
      ]
     },
     "execution_count": 125,
     "metadata": {},
     "output_type": "execute_result"
    }
   ],
   "source": [
    "# int64 --> bool\n",
    "dataTS1.to(dtype=torch.int8)"
   ]
  },
  {
   "cell_type": "code",
   "execution_count": 128,
   "metadata": {},
   "outputs": [
    {
     "data": {
      "text/plain": [
       "tensor([1, 3, 5], dtype=torch.int8)"
      ]
     },
     "execution_count": 128,
     "metadata": {},
     "output_type": "execute_result"
    }
   ],
   "source": [
    "dataTS1.to(dtype=torch.int8, \n",
    "           device='cuda' if torch.cuda.is_available() else 'cpu')\n",
    "#          'cuda' 없으면 'cpu'해줘\n",
    "# cuda가 없어서 error 뜸"
   ]
  },
  {
   "cell_type": "code",
   "execution_count": 129,
   "metadata": {},
   "outputs": [
    {
     "data": {
      "text/plain": [
       "tensor(1)"
      ]
     },
     "execution_count": 129,
     "metadata": {},
     "output_type": "execute_result"
    }
   ],
   "source": [
    "dataTS1[0], dataTS1[-1]"
   ]
  },
  {
   "cell_type": "code",
   "execution_count": 131,
   "metadata": {},
   "outputs": [
    {
     "data": {
      "text/plain": [
       "(tensor([1, 3]), tensor([3, 5]))"
      ]
     },
     "execution_count": 131,
     "metadata": {},
     "output_type": "execute_result"
    }
   ],
   "source": [
    "dataTS1[:2], dataTS1[-2:]"
   ]
  },
  {
   "cell_type": "code",
   "execution_count": null,
   "metadata": {},
   "outputs": [],
   "source": []
  }
 ],
 "metadata": {
  "kernelspec": {
   "display_name": "TORCH_38",
   "language": "python",
   "name": "python3"
  },
  "language_info": {
   "codemirror_mode": {
    "name": "ipython",
    "version": 3
   },
   "file_extension": ".py",
   "mimetype": "text/x-python",
   "name": "python",
   "nbconvert_exporter": "python",
   "pygments_lexer": "ipython3",
   "version": "3.8.19"
  }
 },
 "nbformat": 4,
 "nbformat_minor": 2
}
