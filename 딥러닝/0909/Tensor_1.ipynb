{
 "cells": [
  {
   "cell_type": "markdown",
   "metadata": {},
   "source": [
    "### Tensor 이해 & 생성\n",
    "\n",
    "* Tensor란?\n",
    "\t- pytorch에서 데이터를 저장하는 객체\n",
    "\t- 모델에 입력/출력 데이터 형태\n",
    "\t- 그래프 출력 시에는 numpy로 변환해야!"
   ]
  },
  {
   "cell_type": "markdown",
   "metadata": {},
   "source": [
    "##### 데이터 타입 (데이터 자료형 범위)\n",
    "- 기본:\t숫자, 글자\t=> int, float, char, bool\n",
    "\t* C/c++/C#/Java ==> 스택에 저장\n",
    "\t* python \t\t==> 힙에 저장 (클래스 기반 객체)\n",
    "- 확장: 여러 개의 '기본' 데이터 타입이 모여 하나의 데이터 표현\n",
    "<br></br>\n",
    "- C => 구조체\n",
    "- Java 외 OOP => 구조체 + 함수 => 클래스\n",
    "\t* C/c++/C#/Java/python \t\t==> 힙에 저장 (클래스 기반 객체)"
   ]
  },
  {
   "cell_type": "markdown",
   "metadata": {},
   "source": [
    "##### Float\n",
    "- 3.12\t\t\t\t\t\t=> 정수부=3, 소수점부=0.12 \t와 같이 분리해서 컴퓨터가 저장\n",
    "- 소수점 이하 자릿수\n",
    "- float => 7/8 \t\t\t\t=> 4byte int32\n",
    "- double => float 소수점 2배 => 8byte double"
   ]
  },
  {
   "cell_type": "markdown",
   "metadata": {},
   "source": [
    "##### 메모리 관리 25p\n",
    "* **signed/unsigned**\n"
   ]
  },
  {
   "cell_type": "code",
   "execution_count": 3,
   "metadata": {},
   "outputs": [
    {
     "name": "stdout",
     "output_type": "stream",
     "text": [
      "torch v.2.4.1\n"
     ]
    }
   ],
   "source": [
    "import torch\n",
    "\n",
    "# import 패키지 버전 출력 습관!\n",
    "print(f'torch v.{torch.__version__}')\n",
    "\n",
    "#----------------------------------\n",
    "# 함수기능:  텐서 속성 정보 출력 함수\n",
    "#----------------------------------\n",
    "\n",
    "def printInfo(obj, obj_name):\n",
    "    print(f'\\n[{obj_name}]')\n",
    "    print(f'shape: {obj.shape}')\n",
    "    print(f'ndim: {obj.ndim}차원')\n",
    "    print(f'dtype: {obj.dtype}')\n",
    "    print(f'device: {obj.device}')\n",
    "    print(f'data: \\n{obj.data}')\n",
    "    "
   ]
  },
  {
   "cell_type": "markdown",
   "metadata": {},
   "source": [
    "#### 텐서 생성 [1] torch.tensor()"
   ]
  },
  {
   "cell_type": "code",
   "execution_count": 6,
   "metadata": {},
   "outputs": [
    {
     "name": "stdout",
     "output_type": "stream",
     "text": [
      "\n",
      "[dataTF]\n",
      "shape: torch.Size([])\n",
      "ndim: 0차원\n",
      "dtype: torch.int64\n",
      "device: cpu\n",
      "data: \n",
      "10\n",
      "\n",
      "[dataTF]\n",
      "shape: torch.Size([])\n",
      "ndim: 0차원\n",
      "dtype: torch.uint8\n",
      "device: cpu\n",
      "data: \n",
      "10\n"
     ]
    }
   ],
   "source": [
    "## 스칼라, 데이터 1개\n",
    "dataTF = torch.tensor(10)\n",
    "printInfo(dataTF, 'dataTF')\n",
    "\n",
    "dataTF = torch.tensor(10, dtype=torch.uint8)\t\t\t\t# 데이터 저장 메모리 설정\n",
    "printInfo(dataTF, 'dataTF')"
   ]
  },
  {
   "cell_type": "code",
   "execution_count": 7,
   "metadata": {},
   "outputs": [
    {
     "name": "stdout",
     "output_type": "stream",
     "text": [
      "\n",
      "[dataTF]\n",
      "shape: torch.Size([1])\n",
      "ndim: 1차원\n",
      "dtype: torch.int64\n",
      "device: cpu\n",
      "data: \n",
      "tensor([10])\n",
      "\n",
      "[dataTF]\n",
      "shape: torch.Size([0])\n",
      "ndim: 1차원\n",
      "dtype: torch.uint8\n",
      "device: cpu\n",
      "data: \n",
      "tensor([], dtype=torch.uint8)\n"
     ]
    }
   ],
   "source": [
    "## 행렬 1D, 데이터 1개\n",
    "dataTF = torch.tensor([10])\n",
    "printInfo(dataTF, 'dataTF')\n",
    "\n",
    "dataTF = torch.tensor([], dtype=torch.uint8)\t\t\t\t# 데이터 저장 메모리 설정\n",
    "printInfo(dataTF, 'dataTF')"
   ]
  },
  {
   "cell_type": "code",
   "execution_count": 8,
   "metadata": {},
   "outputs": [
    {
     "name": "stdout",
     "output_type": "stream",
     "text": [
      "\n",
      "[dataTF]\n",
      "shape: torch.Size([1, 1])\n",
      "ndim: 2차원\n",
      "dtype: torch.int64\n",
      "device: cpu\n",
      "data: \n",
      "tensor([[10]])\n",
      "\n",
      "[dataTF]\n",
      "shape: torch.Size([1, 2])\n",
      "ndim: 2차원\n",
      "dtype: torch.uint8\n",
      "device: cpu\n",
      "data: \n",
      "tensor([[10, 20]], dtype=torch.uint8)\n"
     ]
    }
   ],
   "source": [
    "## 행렬 2D, 데이터 1개\n",
    "dataTF = torch.tensor([ [10] ])\n",
    "printInfo(dataTF, 'dataTF')\n",
    "\n",
    "dataTF = torch.tensor([ [10,20] ], dtype=torch.uint8)\t\t\t\t# 데이터 저장 메모리 설정\n",
    "printInfo(dataTF, 'dataTF')"
   ]
  },
  {
   "cell_type": "code",
   "execution_count": 9,
   "metadata": {},
   "outputs": [
    {
     "name": "stdout",
     "output_type": "stream",
     "text": [
      "\n",
      "[dataTF]\n",
      "shape: torch.Size([1, 1, 1, 1])\n",
      "ndim: 4차원\n",
      "dtype: torch.int64\n",
      "device: cpu\n",
      "data: \n",
      "tensor([[[[10]]]])\n",
      "\n",
      "[dataTF]\n",
      "shape: torch.Size([1, 1, 1, 2])\n",
      "ndim: 4차원\n",
      "dtype: torch.uint8\n",
      "device: cpu\n",
      "data: \n",
      "tensor([[[[10, 20]]]], dtype=torch.uint8)\n"
     ]
    }
   ],
   "source": [
    "## 행렬 4D, 데이터 1개\n",
    "dataTF = torch.tensor([[[[10]]] ])\n",
    "printInfo(dataTF, 'dataTF')\n",
    "\n",
    "dataTF = torch.tensor([[[[10,20]]] ], dtype=torch.uint8)\t\t\t\t# 데이터 저장 메모리 설정\n",
    "printInfo(dataTF, 'dataTF')"
   ]
  },
  {
   "cell_type": "code",
   "execution_count": 10,
   "metadata": {},
   "outputs": [
    {
     "name": "stdout",
     "output_type": "stream",
     "text": [
      "\n",
      "[zten1]\n",
      "shape: torch.Size([2, 5])\n",
      "ndim: 2차원\n",
      "dtype: torch.float32\n",
      "device: cpu\n",
      "data: \n",
      "tensor([[0., 0., 0., 0., 0.],\n",
      "        [0., 0., 0., 0., 0.]])\n",
      "\n",
      "[zten2]\n",
      "shape: torch.Size([3])\n",
      "ndim: 1차원\n",
      "dtype: torch.float32\n",
      "device: cpu\n",
      "data: \n",
      "tensor([0., 0., 0.])\n"
     ]
    }
   ],
   "source": [
    "# ----------------------------------------------------\n",
    "# 0으로 채운 텐서 생성 : torch.zeros( 행 [, 열 ] )\n",
    "# ----------------------------------------------------\n",
    "zten1=torch.zeros(2,5)\n",
    "zten2=torch.zeros(3)\n",
    "printInfo(zten1, 'zten1')\n",
    "printInfo(zten2, 'zten2')"
   ]
  },
  {
   "cell_type": "code",
   "execution_count": 11,
   "metadata": {},
   "outputs": [
    {
     "name": "stdout",
     "output_type": "stream",
     "text": [
      "\n",
      "[oten1]\n",
      "shape: torch.Size([2, 3])\n",
      "ndim: 2차원\n",
      "dtype: torch.float32\n",
      "device: cpu\n",
      "data: \n",
      "tensor([[1., 1., 1.],\n",
      "        [1., 1., 1.]])\n",
      "\n",
      "[oten2]\n",
      "shape: torch.Size([3])\n",
      "ndim: 1차원\n",
      "dtype: torch.float32\n",
      "device: cpu\n",
      "data: \n",
      "tensor([1., 1., 1.])\n"
     ]
    }
   ],
   "source": [
    "# ----------------------------------------------------\n",
    "# 1로 채운 텐서 생성 : torch.ones( 행 [, 열 ] )\n",
    "# ----------------------------------------------------\n",
    "oten1=torch.ones(2,3)\n",
    "oten2=torch.ones(3)\n",
    "printInfo(oten1, 'oten1')\n",
    "printInfo(oten2, 'oten2')"
   ]
  },
  {
   "cell_type": "code",
   "execution_count": 12,
   "metadata": {},
   "outputs": [
    {
     "name": "stdout",
     "output_type": "stream",
     "text": [
      "\n",
      "[ften1]\n",
      "shape: torch.Size([3])\n",
      "ndim: 1차원\n",
      "dtype: torch.int64\n",
      "device: cpu\n",
      "data: \n",
      "tensor([10, 10, 10])\n",
      "\n",
      "[ften2]\n",
      "shape: torch.Size([3, 2])\n",
      "ndim: 2차원\n",
      "dtype: torch.int64\n",
      "device: cpu\n",
      "data: \n",
      "tensor([[10, 10],\n",
      "        [10, 10],\n",
      "        [10, 10]])\n"
     ]
    }
   ],
   "source": [
    "# ------------------------------------------------------------\n",
    "# 1로 채운 텐서 생성 : torch.full( (행, 열 ), 데이터 )\n",
    "# -------------------------------------------------------------\n",
    "ften1=torch.full((3, ), 10)\n",
    "ften2=torch.full((3,2), 10)\n",
    "printInfo(ften1, 'ften1')\n",
    "printInfo(ften2, 'ften2')"
   ]
  },
  {
   "cell_type": "code",
   "execution_count": 13,
   "metadata": {},
   "outputs": [
    {
     "name": "stdout",
     "output_type": "stream",
     "text": [
      "\n",
      "[eten1]\n",
      "shape: torch.Size([3, 3])\n",
      "ndim: 2차원\n",
      "dtype: torch.float32\n",
      "device: cpu\n",
      "data: \n",
      "tensor([[1., 0., 0.],\n",
      "        [0., 1., 0.],\n",
      "        [0., 0., 1.]])\n",
      "\n",
      "[eten2]\n",
      "shape: torch.Size([3, 5])\n",
      "ndim: 2차원\n",
      "dtype: torch.float32\n",
      "device: cpu\n",
      "data: \n",
      "tensor([[1., 0., 0., 0., 0.],\n",
      "        [0., 1., 0., 0., 0.],\n",
      "        [0., 0., 1., 0., 0.]])\n"
     ]
    }
   ],
   "source": [
    "# ------------------------------------------------------------\n",
    "# 1로 채운 텐서 생성 : torch.eye( (행 [, 열 ])\n",
    "# -------------------------------------------------------------\n",
    "eten1=torch.eye(3)\n",
    "eten2=torch.eye(3,5)\n",
    "printInfo(eten1, 'eten1')\n",
    "printInfo(eten2, 'eten2')"
   ]
  },
  {
   "cell_type": "code",
   "execution_count": null,
   "metadata": {},
   "outputs": [],
   "source": []
  },
  {
   "cell_type": "code",
   "execution_count": null,
   "metadata": {},
   "outputs": [],
   "source": []
  }
 ],
 "metadata": {
  "kernelspec": {
   "display_name": "torch_38",
   "language": "python",
   "name": "python3"
  },
  "language_info": {
   "codemirror_mode": {
    "name": "ipython",
    "version": 3
   },
   "file_extension": ".py",
   "mimetype": "text/x-python",
   "name": "python",
   "nbconvert_exporter": "python",
   "pygments_lexer": "ipython3",
   "version": "3.8.19"
  }
 },
 "nbformat": 4,
 "nbformat_minor": 2
}
