{
 "cells": [
  {
   "cell_type": "code",
   "execution_count": null,
   "metadata": {},
   "outputs": [],
   "source": []
  },
  {
   "cell_type": "code",
   "execution_count": 1,
   "metadata": {},
   "outputs": [],
   "source": [
    "import torch"
   ]
  },
  {
   "cell_type": "markdown",
   "metadata": {},
   "source": [
    "#### Tensor생성 [2] torch.rand()"
   ]
  },
  {
   "cell_type": "code",
   "execution_count": 5,
   "metadata": {},
   "outputs": [
    {
     "name": "stdout",
     "output_type": "stream",
     "text": [
      "tensor([0.7576, 0.2793, 0.4031]) 차원 =>  1\n"
     ]
    }
   ],
   "source": [
    "# randn\n",
    "# 0<= ~ <1 범위 임의의 숫자 1개 추출\n",
    "torch.manual_seed(1)\t\t\t\t# random_seed() 역할\n",
    "\n",
    "dataTS = torch.rand(3)\n",
    "print(dataTS, \"차원 => \", dataTS.ndim)"
   ]
  },
  {
   "cell_type": "code",
   "execution_count": 6,
   "metadata": {},
   "outputs": [
    {
     "name": "stdout",
     "output_type": "stream",
     "text": [
      "tensor([[0.7347, 0.0293, 0.7999],\n",
      "        [0.3971, 0.7544, 0.5695]]) 차원 =>  2\n"
     ]
    }
   ],
   "source": [
    "dataTS = torch.rand(2,3)\n",
    "print(dataTS, \"차원 => \", dataTS.ndim)"
   ]
  },
  {
   "cell_type": "code",
   "execution_count": 7,
   "metadata": {},
   "outputs": [
    {
     "name": "stdout",
     "output_type": "stream",
     "text": [
      "tensor([[[0.4388, 0.6387, 0.5247]],\n",
      "\n",
      "        [[0.6826, 0.3051, 0.4635]]]) 차원 =>  3\n"
     ]
    }
   ],
   "source": [
    "dataTS = torch.rand(2,1,3)\t\t\t\t# => 1행 3열 2개\n",
    "print(dataTS, \"차원 => \", dataTS.ndim)"
   ]
  },
  {
   "cell_type": "markdown",
   "metadata": {},
   "source": [
    "#### Tensor생성 [3] torch.randn()\n",
    "- n => normalized 준말"
   ]
  },
  {
   "cell_type": "code",
   "execution_count": 8,
   "metadata": {},
   "outputs": [
    {
     "name": "stdout",
     "output_type": "stream",
     "text": [
      "tensor([-1.8349, -2.2149,  0.0436])\n",
      "tensor([[ 1.3240, -0.1005,  0.6443],\n",
      "        [ 0.5244,  1.0157,  0.2571]])\n",
      "tensor([[[-0.9013,  0.8138,  0.3871]],\n",
      "\n",
      "        [[ 0.5417,  0.6646,  0.3248]]])\n"
     ]
    }
   ],
   "source": [
    "dataTS1 = torch.randn(3)\t\t# 1d vector\n",
    "dataTS2 = torch.randn(2,3)\t\t# 2d matrix\n",
    "dataTS3 = torch.randn(2,1,3)\t# 3d Tensor\n",
    "\n",
    "print(dataTS1, dataTS2, dataTS3, sep='\\n')"
   ]
  },
  {
   "cell_type": "markdown",
   "metadata": {},
   "source": [
    "#### Tensor생성 [3] torch.randint()\n",
    "- low => 최저값\n",
    "- high=> 최대값+1\n",
    "- size=> 차원 크기"
   ]
  },
  {
   "cell_type": "code",
   "execution_count": 9,
   "metadata": {},
   "outputs": [
    {
     "data": {
      "text/plain": [
       "tensor([[2, 2, 1, 1, 2],\n",
       "        [1, 1, 2, 4, 4],\n",
       "        [3, 2, 1, 3, 4]])"
      ]
     },
     "execution_count": 9,
     "metadata": {},
     "output_type": "execute_result"
    }
   ],
   "source": [
    "torch.randint(1, 5, (3,5))\t\t\t\t# 1에서 5미만!\t# 3행 5열"
   ]
  },
  {
   "cell_type": "code",
   "execution_count": 10,
   "metadata": {},
   "outputs": [
    {
     "data": {
      "text/plain": [
       "tensor([[40, 24,  4,  4, 17, 33],\n",
       "        [38, 44,  5, 39, 21, 18],\n",
       "        [ 8,  4, 21, 40, 45, 26],\n",
       "        [22, 28, 18,  1, 11, 16]])"
      ]
     },
     "execution_count": 10,
     "metadata": {},
     "output_type": "execute_result"
    }
   ],
   "source": [
    "# 2D vector\n",
    "dataTS1 = torch.randint(1,46, (4,6))\n",
    "dataTS1"
   ]
  },
  {
   "cell_type": "markdown",
   "metadata": {},
   "source": []
  },
  {
   "cell_type": "code",
   "execution_count": null,
   "metadata": {},
   "outputs": [],
   "source": []
  }
 ],
 "metadata": {
  "kernelspec": {
   "display_name": "torch_38",
   "language": "python",
   "name": "python3"
  },
  "language_info": {
   "codemirror_mode": {
    "name": "ipython",
    "version": 3
   },
   "file_extension": ".py",
   "mimetype": "text/x-python",
   "name": "python",
   "nbconvert_exporter": "python",
   "pygments_lexer": "ipython3",
   "version": "3.8.19"
  }
 },
 "nbformat": 4,
 "nbformat_minor": 2
}
