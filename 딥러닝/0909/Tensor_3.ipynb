{
 "cells": [
  {
   "cell_type": "markdown",
   "metadata": {},
   "source": [
    "### Tensor 이해\n",
    "- 특정 클래스 선정"
   ]
  },
  {
   "cell_type": "markdown",
   "metadata": {},
   "source": [
    "#### 타입지정 Tensor 클래스 지정 활용\n",
    "* 데이터 타입 설정 후 생성\n",
    "* 사용 목적\n",
    "\t- 데이터 사이즈 설정한 텐서 생성 시\n",
    "\t- 데이터 자료형 변환한 텐서 생성 시"
   ]
  },
  {
   "cell_type": "code",
   "execution_count": 2,
   "metadata": {},
   "outputs": [],
   "source": [
    "import torch"
   ]
  },
  {
   "cell_type": "code",
   "execution_count": 12,
   "metadata": {},
   "outputs": [
    {
     "name": "stdout",
     "output_type": "stream",
     "text": [
      "tensor([0, 2, 3], dtype=torch.int8)\n",
      "tensor([0, 2, 3], dtype=torch.int8)\n"
     ]
    },
    {
     "name": "stderr",
     "output_type": "stream",
     "text": [
      "C:\\Users\\KDP-43\\AppData\\Local\\Temp\\ipykernel_26952\\308677344.py:7: DeprecationWarning: an integer is required (got type float).  Implicit conversion to integers using __int__ is deprecated, and may be removed in a future version of Python.\n",
      "  dataTS1 = torch.CharTensor(data)\n",
      "C:\\Users\\KDP-43\\AppData\\Local\\Temp\\ipykernel_26952\\308677344.py:14: DeprecationWarning: an integer is required (got type float).  Implicit conversion to integers using __int__ is deprecated, and may be removed in a future version of Python.\n",
      "  dataTS1_1 = torch.tensor(data, dtype=torch.int8)\n"
     ]
    }
   ],
   "source": [
    "## 정수형 텐서 생성\n",
    "data = [0, 2.8, 3.1]\n",
    "\n",
    "## 1byte 정수형 텐서 생성\n",
    "# 소수점 아래 버림\n",
    "# \t\t\t=> 데이터 손실!\n",
    "dataTS1 = torch.CharTensor(data)\n",
    "print(dataTS1)\n",
    "\n",
    "## 텐서 함수 Ver.\n",
    "# 데이터 타입 지정 함수\n",
    "# 소수점 아래 버림\n",
    "# \t\t\t=> 데이터 손실!\n",
    "dataTS1_1 = torch.tensor(data, dtype=torch.int8)\n",
    "print(dataTS1_1)"
   ]
  },
  {
   "cell_type": "code",
   "execution_count": 13,
   "metadata": {},
   "outputs": [
    {
     "name": "stdout",
     "output_type": "stream",
     "text": [
      "tensor([0, 2, 3], dtype=torch.int16)\n",
      "tensor([0, 2, 3], dtype=torch.int16)\n"
     ]
    },
    {
     "name": "stderr",
     "output_type": "stream",
     "text": [
      "C:\\Users\\KDP-43\\AppData\\Local\\Temp\\ipykernel_26952\\44012743.py:4: DeprecationWarning: an integer is required (got type float).  Implicit conversion to integers using __int__ is deprecated, and may be removed in a future version of Python.\n",
      "  dataTS1 = torch.ShortTensor(data)\n",
      "C:\\Users\\KDP-43\\AppData\\Local\\Temp\\ipykernel_26952\\44012743.py:5: DeprecationWarning: an integer is required (got type float).  Implicit conversion to integers using __int__ is deprecated, and may be removed in a future version of Python.\n",
      "  dataTS1_1 = torch.tensor(data, dtype=torch.int16)\n"
     ]
    }
   ],
   "source": [
    "## 2byte 정수형 텐서 생성\n",
    "# 소수점 아래 버림\n",
    "# \t\t\t=> 데이터 손실!\n",
    "dataTS1 = torch.ShortTensor(data)\n",
    "dataTS1_1 = torch.tensor(data, dtype=torch.int16)\n",
    "\n",
    "print(dataTS1)\n",
    "print(dataTS1_1)"
   ]
  },
  {
   "cell_type": "code",
   "execution_count": 11,
   "metadata": {},
   "outputs": [
    {
     "name": "stdout",
     "output_type": "stream",
     "text": [
      "tensor([False,  True,  True])\n",
      "tensor([False,  True,  True])\n"
     ]
    }
   ],
   "source": [
    "## 논리형 텐서 생성\n",
    "\n",
    "dataTS1 = torch.BoolTensor(data)\n",
    "dataTS1_1 = torch.tensor(data, dtype=torch.bool)\n",
    "\n",
    "print(dataTS1)\n",
    "print(dataTS1_1)"
   ]
  },
  {
   "cell_type": "code",
   "execution_count": null,
   "metadata": {},
   "outputs": [],
   "source": [
    "##실수형 텐서 생성\n",
    "\n",
    "dataTS1 = torch.DoubleTensor(data)\n",
    "dataTS1_1 = torch.tensor(data, dtype=torch.float64)\n",
    "\n",
    "print(dataTS1)\n",
    "print(dataTS1_1)"
   ]
  },
  {
   "cell_type": "markdown",
   "metadata": {},
   "source": [
    "### 텐서 저장/실행 위치 지정\n",
    "- device 설정으로"
   ]
  },
  {
   "cell_type": "code",
   "execution_count": 16,
   "metadata": {},
   "outputs": [
    {
     "data": {
      "text/plain": [
       "'cpu'"
      ]
     },
     "execution_count": 16,
     "metadata": {},
     "output_type": "execute_result"
    }
   ],
   "source": [
    "## 실행 위치\n",
    "# => CPU/GPU\n",
    "\n",
    "DEVICE = 'cuda' if torch.cuda.is_available() else 'cpu'\n",
    "DEVICE"
   ]
  },
  {
   "cell_type": "code",
   "execution_count": 18,
   "metadata": {},
   "outputs": [],
   "source": [
    "#----------------------------------\n",
    "# 함수기능:  텐서 속성 정보 출력 함수\n",
    "#----------------------------------\n",
    "\n",
    "def printInfo(obj, obj_name):\n",
    "    print(f'\\n[{obj_name}]')\n",
    "    print(f'shape: {obj.shape}')\n",
    "    print(f'ndim: {obj.ndim}차원')\n",
    "    print(f'dtype: {obj.dtype}')\n",
    "    print(f'device: {obj.device}')\n",
    "    print(f'data: \\n{obj.data}')"
   ]
  },
  {
   "cell_type": "code",
   "execution_count": 21,
   "metadata": {},
   "outputs": [
    {
     "name": "stdout",
     "output_type": "stream",
     "text": [
      "\n",
      "[tmp1]\n",
      "shape: torch.Size([3])\n",
      "ndim: 1차원\n",
      "dtype: torch.float64\n",
      "device: cpu\n",
      "data: \n",
      "tensor([0.0000, 2.8000, 3.1000], dtype=torch.float64)\n",
      "\n",
      "[tmp1_1]\n",
      "shape: torch.Size([3])\n",
      "ndim: 1차원\n",
      "dtype: torch.float64\n",
      "device: cpu\n",
      "data: \n",
      "tensor([0.0000, 2.8000, 3.1000], dtype=torch.float64)\n"
     ]
    }
   ],
   "source": [
    "##실수형 텐서 생성\n",
    "\n",
    "dataTS1 = torch.DoubleTensor(data)\n",
    "dataTS1_1 = torch.tensor(data, dtype=torch.float64, device=DEVICE)\n",
    "\n",
    "printInfo(dataTS1, 'tmp1')\n",
    "printInfo(dataTS1_1, 'tmp1_1')"
   ]
  },
  {
   "cell_type": "code",
   "execution_count": null,
   "metadata": {},
   "outputs": [],
   "source": []
  },
  {
   "cell_type": "code",
   "execution_count": null,
   "metadata": {},
   "outputs": [],
   "source": []
  },
  {
   "cell_type": "code",
   "execution_count": null,
   "metadata": {},
   "outputs": [],
   "source": []
  }
 ],
 "metadata": {
  "kernelspec": {
   "display_name": "torch_38",
   "language": "python",
   "name": "python3"
  },
  "language_info": {
   "codemirror_mode": {
    "name": "ipython",
    "version": 3
   },
   "file_extension": ".py",
   "mimetype": "text/x-python",
   "name": "python",
   "nbconvert_exporter": "python",
   "pygments_lexer": "ipython3",
   "version": "3.8.19"
  }
 },
 "nbformat": 4,
 "nbformat_minor": 2
}
