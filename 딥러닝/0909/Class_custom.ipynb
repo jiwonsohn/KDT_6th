{
 "cells": [
  {
   "cell_type": "markdown",
   "metadata": {},
   "source": [
    "### 사용자 정의 클래스 & 상속\n",
    "- 사용자 정의 클래스: 개발자 필요에 의해 생성한 클래스"
   ]
  },
  {
   "cell_type": "code",
   "execution_count": null,
   "metadata": {},
   "outputs": [],
   "source": [
    "# -----------------------------------------------------\n",
    "# 저장 데이터: 사람 정보 저장 클래스\n",
    "# 클래스 이름: Person\n",
    "# 클래스 속성: name, age, gender\n",
    "# 클래스 기능: eat, sleep\n",
    "# -----------------------------------------------------"
   ]
  },
  {
   "cell_type": "markdown",
   "metadata": {},
   "source": [
    "#### 클래스 정의"
   ]
  },
  {
   "cell_type": "code",
   "execution_count": 12,
   "metadata": {},
   "outputs": [],
   "source": [
    "class Person:\n",
    "\n",
    "\t# 클래스 변수/속성\t\t\t\t\t\t# 객체/인스턴스 생성 없이 사용 가능 !\n",
    "\tborn = '대한민국'\t\t\t\t\t\t# 공통 속성값에 대해 선언\n",
    "\t\t\t\t\t\t\t\t\t\t   # 메모리 낭비 방지용\n",
    "\n",
    "\t# 인스턴스 생성 메서드\n",
    "\t# 인스턴스 생성 시 자동 호출, 콜백 메서드\n",
    "\n",
    "\t# self => 메모리 주소!\n",
    "\tdef __init__(self, name, age, gender) -> None:\n",
    "\t\tprint('__init__()')\n",
    "\n",
    "\t\tself.name = name\n",
    "\t\tself.age = age\n",
    "\t\tself.gender = gender\n",
    "\n",
    "\t\t# pass\n",
    "\n",
    "\t# 인스턴스 메서드\n",
    "\tdef eat(self, food):\n",
    "\t\tprint(f'{self.name}가 {food} 먹는다.')\n",
    "\n",
    "\tdef sleep(self, hour):\n",
    "\t\tprint(f'{self.name}가 {hour}시간 잔다.')\n",
    "\n",
    "\t### 정적 메서드\n",
    "\t# 인스턴스 생성 없이 바로 사용\n",
    "\t# self 없이!\n",
    "\t@staticmethod\n",
    "\tdef test(msg):\n",
    "\t\tprint(msg)\n",
    "\n",
    "\t@classmethod\n",
    "\tdef test(cls, msg):\n",
    "\t\tprint(msg)\n",
    "\n"
   ]
  },
  {
   "cell_type": "code",
   "execution_count": 4,
   "metadata": {},
   "outputs": [
    {
     "name": "stdout",
     "output_type": "stream",
     "text": [
      "__init__()\n"
     ]
    }
   ],
   "source": [
    "# 인스턴스 객체 생성\n",
    "kim = Person('마징가', 10, '남자')"
   ]
  },
  {
   "cell_type": "code",
   "execution_count": 6,
   "metadata": {},
   "outputs": [
    {
     "data": {
      "text/plain": [
       "'대한민국'"
      ]
     },
     "execution_count": 6,
     "metadata": {},
     "output_type": "execute_result"
    }
   ],
   "source": [
    "Person.born"
   ]
  },
  {
   "cell_type": "code",
   "execution_count": 8,
   "metadata": {},
   "outputs": [
    {
     "name": "stdout",
     "output_type": "stream",
     "text": [
      "type object 'Person' has no attribute 'name'\n"
     ]
    }
   ],
   "source": [
    "try:\n",
    "\tPerson.name\n",
    "except Exception as e :\n",
    "\tprint(e)"
   ]
  },
  {
   "cell_type": "code",
   "execution_count": 13,
   "metadata": {},
   "outputs": [
    {
     "name": "stdout",
     "output_type": "stream",
     "text": [
      "Good\n"
     ]
    }
   ],
   "source": [
    "Person.test('Good')"
   ]
  },
  {
   "cell_type": "markdown",
   "metadata": {},
   "source": [
    "#### 클래스 상속\n",
    "- 기존 클래스 속성 & 메서드 재사용\n",
    "- 추가 속성 & 메서드로 확장"
   ]
  },
  {
   "cell_type": "code",
   "execution_count": null,
   "metadata": {},
   "outputs": [],
   "source": [
    "# -----------------------------------------------------\n",
    "# 저장 데이터: 소방관 정보 저장 클래스\n",
    "# 클래스 이름: Fireman\t\t\t\t<= 자식 클래스, sub 클래스\n",
    "# 클래스 속성: name, age, gender, group, position\n",
    "# 클래스 기능: eat, sleep, extingush \n",
    "\n",
    "# 부모 클래스: Person\t\t\t\t<= 슈퍼_클래스\n",
    "# -----------------------------------------------------"
   ]
  },
  {
   "cell_type": "code",
   "execution_count": 33,
   "metadata": {},
   "outputs": [],
   "source": [
    "# class 자식_클래스(부모_클래스_1, 부모_클래스_2, ..., 부모_클래스_n )\n",
    "class Fireman(Person):\n",
    "\n",
    "\t# 인스턴스 생성 메서드\n",
    "\tdef __init__(self, name, age, gender, group, position):\n",
    "\t\t\n",
    "\t\t# 부모(슈퍼) 클래스 속성\n",
    "\t\tsuper().__init__(name, age, gender)\n",
    "\n",
    "\t\t# 자식(서브) 클래스 속성\n",
    "\t\tself.group = group\n",
    "\t\tself.position = position\n",
    "\n",
    "\t\n",
    "\t# 인스턴스 메서드\n",
    "\tdef extinguish(self, where):\n",
    "\t\tprint(f'{self.name}이/가 {where}에서 불을 끄고 있다.')\n",
    "\n",
    "\t# 부모_클래스 인스턴스 메서드 자식_클래스에서 변경 가능\n",
    "\t#\t\t=> overriding\n",
    "\t# 예시)\n",
    "\tdef eat(self, food):\t\t\t\t\t\t\t\t\t# => 정의는 그대로\n",
    "\t\tprint(f'{self.name}가 {food}을/를 전자레인지에 돌려 먹는다.')\t # => 구현부만 변경\n",
    "\n",
    "\n",
    "\n"
   ]
  },
  {
   "cell_type": "code",
   "execution_count": 34,
   "metadata": {},
   "outputs": [
    {
     "name": "stdout",
     "output_type": "stream",
     "text": [
      "__init__()\n"
     ]
    }
   ],
   "source": [
    "park = Fireman('홍길동',30,'남', '대구소방서', '주임')"
   ]
  },
  {
   "cell_type": "code",
   "execution_count": 35,
   "metadata": {},
   "outputs": [
    {
     "name": "stdout",
     "output_type": "stream",
     "text": [
      "홍길동가 8시간 잔다.\n"
     ]
    }
   ],
   "source": [
    "park.sleep(8)"
   ]
  },
  {
   "cell_type": "code",
   "execution_count": 36,
   "metadata": {},
   "outputs": [
    {
     "name": "stdout",
     "output_type": "stream",
     "text": [
      "홍길동가 칼국수을/를 전자레인지에 돌려 먹는다.\n"
     ]
    }
   ],
   "source": [
    "park.eat('칼국수')"
   ]
  },
  {
   "cell_type": "code",
   "execution_count": 27,
   "metadata": {},
   "outputs": [
    {
     "name": "stdout",
     "output_type": "stream",
     "text": [
      "홍길동이/가  대구시청에서 불을 끄고 있다.\n"
     ]
    }
   ],
   "source": [
    "park.extinguish('대구시청')"
   ]
  },
  {
   "cell_type": "code",
   "execution_count": null,
   "metadata": {},
   "outputs": [],
   "source": []
  }
 ],
 "metadata": {
  "kernelspec": {
   "display_name": "torch_38",
   "language": "python",
   "name": "python3"
  },
  "language_info": {
   "codemirror_mode": {
    "name": "ipython",
    "version": 3
   },
   "file_extension": ".py",
   "mimetype": "text/x-python",
   "name": "python",
   "nbconvert_exporter": "python",
   "pygments_lexer": "ipython3",
   "version": "3.8.19"
  }
 },
 "nbformat": 4,
 "nbformat_minor": 2
}
