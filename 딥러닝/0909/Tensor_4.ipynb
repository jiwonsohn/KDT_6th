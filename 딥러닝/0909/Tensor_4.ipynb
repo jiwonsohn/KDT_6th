{
 "cells": [
  {
   "cell_type": "markdown",
   "metadata": {},
   "source": [
    "### Tensor 변환\n",
    "- torch.as_tensor()\n",
    "\t* 동일 타입 & 디바이스 존재 \t==>) View w.m) 데이터 공유\t\t=> 하나라도 변경 시, 모두 변경\n",
    "\t* 다른 타입 or 다른 디바이스를 가진 데이터\t==> copy() 생성! \n",
    "\t* view tensor or copy tensor 반환"
   ]
  },
  {
   "cell_type": "code",
   "execution_count": 18,
   "metadata": {},
   "outputs": [],
   "source": [
    "import torch"
   ]
  },
  {
   "cell_type": "markdown",
   "metadata": {},
   "source": [
    "#### Python 객체 변환"
   ]
  },
  {
   "cell_type": "code",
   "execution_count": 19,
   "metadata": {},
   "outputs": [
    {
     "data": {
      "text/plain": [
       "(tensor([1, 2, 3, 4, 5, 6, 7, 8, 9], dtype=torch.int8),\n",
       " torch.Size([9]),\n",
       " 1,\n",
       " torch.int8)"
      ]
     },
     "execution_count": 19,
     "metadata": {},
     "output_type": "execute_result"
    }
   ],
   "source": [
    "# List => Tensor\n",
    "data = list( range(1,10))\n",
    "\n",
    "dataTS = torch.as_tensor(data, dtype=torch.int8)\n",
    "dataTS, dataTS.shape, dataTS.ndim, dataTS.dtype"
   ]
  },
  {
   "cell_type": "code",
   "execution_count": 20,
   "metadata": {},
   "outputs": [
    {
     "data": {
      "text/plain": [
       "([100, 2, 3, 4, 5, 6, 7, 8, 9],\n",
       " tensor([1, 2, 3, 4, 5, 6, 7, 8, 9], dtype=torch.int8))"
      ]
     },
     "execution_count": 20,
     "metadata": {},
     "output_type": "execute_result"
    }
   ],
   "source": [
    "data[0] = 100\n",
    "data,dataTS"
   ]
  },
  {
   "cell_type": "markdown",
   "metadata": {},
   "source": [
    "#### Numpy ndarray => Tensor"
   ]
  },
  {
   "cell_type": "code",
   "execution_count": 21,
   "metadata": {},
   "outputs": [],
   "source": [
    "import numpy as np"
   ]
  },
  {
   "cell_type": "code",
   "execution_count": 22,
   "metadata": {},
   "outputs": [
    {
     "data": {
      "text/plain": [
       "(array([1, 2, 3]), dtype('int32'), 1)"
      ]
     },
     "execution_count": 22,
     "metadata": {},
     "output_type": "execute_result"
    }
   ],
   "source": [
    "arr1 = np.array( [1,2,3] )\n",
    "arr1, arr1.dtype, arr1.ndim"
   ]
  },
  {
   "cell_type": "code",
   "execution_count": 23,
   "metadata": {},
   "outputs": [
    {
     "data": {
      "text/plain": [
       "tensor([1., 2., 3.])"
      ]
     },
     "execution_count": 23,
     "metadata": {},
     "output_type": "execute_result"
    }
   ],
   "source": [
    "arrTS = torch.as_tensor(arr1, dtype=torch.float32)\n",
    "arrTS"
   ]
  },
  {
   "cell_type": "code",
   "execution_count": 24,
   "metadata": {},
   "outputs": [],
   "source": [
    "arr1[0] = 77"
   ]
  },
  {
   "cell_type": "code",
   "execution_count": 25,
   "metadata": {},
   "outputs": [
    {
     "data": {
      "text/plain": [
       "(array([77,  2,  3]), tensor([1., 2., 3.]))"
      ]
     },
     "execution_count": 25,
     "metadata": {},
     "output_type": "execute_result"
    }
   ],
   "source": [
    "arr1, arrTS"
   ]
  },
  {
   "cell_type": "code",
   "execution_count": null,
   "metadata": {},
   "outputs": [],
   "source": [
    "arrTS[0] = 99"
   ]
  },
  {
   "cell_type": "markdown",
   "metadata": {},
   "source": [
    "- 저장된 위치가 같다면 'sharing'되어 'View'로써\n",
    "- 저장된 위치가 다르다면 'copy'되어 '복사본'으로써"
   ]
  },
  {
   "cell_type": "markdown",
   "metadata": {},
   "source": [
    "- Numpy ndarray => Tensor\n",
    "\t* from_numpy()"
   ]
  },
  {
   "cell_type": "code",
   "execution_count": 29,
   "metadata": {},
   "outputs": [
    {
     "name": "stdout",
     "output_type": "stream",
     "text": [
      "[5. 7. 9.]\n",
      "데이터 저장 메모리:\t<memory at 0x0000023519CF3E80>\n",
      "원소/요소 개수: 3\n",
      "원소/요소 1개 크기: 4\n",
      "타입: float32\n",
      "방향: (4,)\n"
     ]
    }
   ],
   "source": [
    "arr1 = np.array( [5,7,9], dtype=np.float32)\n",
    "print(arr1)\n",
    "print(f'데이터 저장 메모리:\t{arr1.data}')\n",
    "print(f'원소/요소 개수: {arr1.size}')\n",
    "print(f'원소/요소 1개 크기: {arr1.itemsize}')\n",
    "print(f'타입: {arr1.dtype}')\n",
    "print(f'방향: {arr1.strides}')"
   ]
  },
  {
   "cell_type": "code",
   "execution_count": 33,
   "metadata": {},
   "outputs": [
    {
     "name": "stdout",
     "output_type": "stream",
     "text": [
      "[[5. 7. 9.]\n",
      " [1. 2. 3.]]\n",
      "데이터 저장 메모리:\t<memory at 0x0000023519CB0930>\n",
      "원소/요소 개수: 6\n",
      "원소/요소 1개 크기: 4\n",
      "타입: float32\n",
      "방향: (12, 4)\n"
     ]
    }
   ],
   "source": [
    "arr1 = np.array( [[5,7,9],[1,2,3]], dtype=np.float32)\n",
    "print(arr1)\n",
    "print(f'데이터 저장 메모리:\t{arr1.data}')\n",
    "print(f'원소/요소 개수: {arr1.size}')\n",
    "print(f'원소/요소 1개 크기: {arr1.itemsize}')\n",
    "print(f'타입: {arr1.dtype}')\n",
    "print(f'방향: {arr1.strides}')\t\t\t\t\t# 방향: (12, 4) 1개 메모리 4칸 소요 => 4*3=12"
   ]
  },
  {
   "cell_type": "code",
   "execution_count": 34,
   "metadata": {},
   "outputs": [
    {
     "name": "stdout",
     "output_type": "stream",
     "text": [
      "[[5. 7. 9.]\n",
      " [1. 2. 3.]]\n",
      "데이터 저장 메모리:\t<memory at 0x0000023519CB0930>\n",
      "원소/요소 개수: 6\n",
      "원소/요소 1개 크기: 2\n",
      "타입: float16\n",
      "방향: (6, 2)\n"
     ]
    }
   ],
   "source": [
    "arr1 = np.array( [[5,7,9],[1,2,3]], dtype=np.float16)\n",
    "print(arr1)\n",
    "print(f'데이터 저장 메모리:\t{arr1.data}')\n",
    "print(f'원소/요소 개수: {arr1.size}')\n",
    "print(f'원소/요소 1개 크기: {arr1.itemsize}')\t# 원소/요소 1개 크기: 2 \t=> 메모리상 2칸 차지\n",
    "print(f'타입: {arr1.dtype}')\n",
    "print(f'방향: {arr1.strides}')\t\t\t\t\t# 방향: (12, 4) 1개 메모리 4칸 소요 => 4*3=12"
   ]
  },
  {
   "cell_type": "code",
   "execution_count": 36,
   "metadata": {},
   "outputs": [
    {
     "data": {
      "text/plain": [
       "tensor([[5., 7., 9.],\n",
       "        [1., 2., 3.]], dtype=torch.float16)"
      ]
     },
     "execution_count": 36,
     "metadata": {},
     "output_type": "execute_result"
    }
   ],
   "source": [
    "arrTS = torch.from_numpy(arr1)\n",
    "arrTS"
   ]
  },
  {
   "cell_type": "code",
   "execution_count": null,
   "metadata": {},
   "outputs": [],
   "source": []
  },
  {
   "cell_type": "code",
   "execution_count": null,
   "metadata": {},
   "outputs": [],
   "source": []
  }
 ],
 "metadata": {
  "kernelspec": {
   "display_name": "torch_38",
   "language": "python",
   "name": "python3"
  },
  "language_info": {
   "codemirror_mode": {
    "name": "ipython",
    "version": 3
   },
   "file_extension": ".py",
   "mimetype": "text/x-python",
   "name": "python",
   "nbconvert_exporter": "python",
   "pygments_lexer": "ipython3",
   "version": "3.8.19"
  }
 },
 "nbformat": 4,
 "nbformat_minor": 2
}
