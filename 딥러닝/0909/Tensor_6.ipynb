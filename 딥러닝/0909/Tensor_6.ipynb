{
 "cells": [
  {
   "cell_type": "markdown",
   "metadata": {},
   "source": [
    "### Tensor 저장 구조 이해\n",
    "- Storage 객체\n",
    "\t* 텐서 객체의 메모리 저장 관련 정보 저장\n",
    "\t* offset: 첫번째 원소 인덱스\n",
    "\t<br></br>\n",
    "\t* stride: 원소 이동 정보 저장\n",
    "\t\t- 다음 행 이동하기 위한 메모리 칸 수\n",
    "\t\t- 다음 열 이동하기 위한 메모리 칸 수"
   ]
  },
  {
   "cell_type": "code",
   "execution_count": 48,
   "metadata": {},
   "outputs": [],
   "source": [
    "import torch"
   ]
  },
  {
   "cell_type": "code",
   "execution_count": 49,
   "metadata": {},
   "outputs": [
    {
     "name": "stdout",
     "output_type": "stream",
     "text": [
      "tensor([[11, 22, 33],\n",
      "        [44, 55, 66]], dtype=torch.int8)\n",
      "(3, 1)\n",
      "2\n",
      "torch.int8\n"
     ]
    }
   ],
   "source": [
    "dataTS = torch.tensor( [[11,22,33], [44,55,66]], dtype=torch.int8)\n",
    "print(dataTS, dataTS.stride(), dataTS.ndim, dataTS.dtype, sep='\\n')"
   ]
  },
  {
   "cell_type": "code",
   "execution_count": 56,
   "metadata": {},
   "outputs": [
    {
     "name": "stdout",
     "output_type": "stream",
     "text": [
      " 11\n",
      " 22\n",
      " 33\n",
      " 44\n",
      " 55\n",
      " 66\n",
      "[torch.storage.TypedStorage(dtype=torch.int16, device=cpu) of size 6] 0\n",
      "\n",
      " 11\n",
      " 0\n",
      " 22\n",
      " 0\n",
      " 33\n",
      " 0\n",
      " 44\n",
      " 0\n",
      " 55\n",
      " 0\n",
      " 66\n",
      " 0\n",
      "[torch.storage.UntypedStorage(device=cpu) of size 12]\n"
     ]
    }
   ],
   "source": [
    "### storage 정보\n",
    "#\t\t=> 메모리 저장 형태 : 1D\n",
    "\n",
    "# 1byte\n",
    "print(dataTS.storage(), dataTS.storage_offset())\n",
    "# [torch.storage.TypedStorage(dtype=torch.int16, device=cpu) of size 6] 0\n",
    "# offset 위치가 dataTS 0번째 인덱스\n",
    "\n",
    "print()\n",
    "print(dataTS.untyped_storage())"
   ]
  },
  {
   "cell_type": "code",
   "execution_count": 51,
   "metadata": {},
   "outputs": [
    {
     "name": "stdout",
     "output_type": "stream",
     "text": [
      "tensor([[11, 22, 33],\n",
      "        [44, 55, 66]], dtype=torch.int16)\n",
      "(3, 1)\n",
      "2\n",
      "torch.int16\n",
      "\n",
      " 11\n",
      " 22\n",
      " 33\n",
      " 44\n",
      " 55\n",
      " 66\n",
      "[torch.storage.TypedStorage(dtype=torch.int16, device=cpu) of size 6]\n",
      "\n",
      " 11\n",
      " 0\n",
      " 22\n",
      " 0\n",
      " 33\n",
      " 0\n",
      " 44\n",
      " 0\n",
      " 55\n",
      " 0\n",
      " 66\n",
      " 0\n",
      "[torch.storage.UntypedStorage(device=cpu) of size 12]\n"
     ]
    }
   ],
   "source": [
    "# 2byte\n",
    "dataTS = torch.tensor( [[11,22,33], [44,55,66]], dtype=torch.int16)\n",
    "print(dataTS, dataTS.stride(), dataTS.ndim, dataTS.dtype, sep='\\n')\n",
    "\n",
    "# 2byte에서는 dataTS.stride() * dataTS.ndim 만큼 이동해야\n",
    "print()\n",
    "print(dataTS.storage())\n",
    "print()\n",
    "print(dataTS.untyped_storage())"
   ]
  },
  {
   "cell_type": "code",
   "execution_count": 52,
   "metadata": {},
   "outputs": [
    {
     "data": {
      "text/plain": [
       "(11, 0)"
      ]
     },
     "execution_count": 52,
     "metadata": {},
     "output_type": "execute_result"
    }
   ],
   "source": [
    "mem_storage = dataTS.untyped_storage()\n",
    "\n",
    "mem_storage[0], mem_storage[-1] "
   ]
  },
  {
   "cell_type": "code",
   "execution_count": 53,
   "metadata": {},
   "outputs": [
    {
     "data": {
      "text/plain": [
       "(torch.Size([2, 3]), torch.int16)"
      ]
     },
     "execution_count": 53,
     "metadata": {},
     "output_type": "execute_result"
    }
   ],
   "source": [
    "dataTS.shape, dataTS.dtype"
   ]
  },
  {
   "cell_type": "code",
   "execution_count": 54,
   "metadata": {},
   "outputs": [
    {
     "name": "stdout",
     "output_type": "stream",
     "text": [
      "[0]번 째 원소 => 11\t: 140716508458208\n",
      "[1]번 째 원소 => 0\t: 140716508457856\n",
      "[2]번 째 원소 => 22\t: 140716508458560\n",
      "[3]번 째 원소 => 0\t: 140716508457856\n",
      "[4]번 째 원소 => 33\t: 140716508458912\n",
      "[5]번 째 원소 => 0\t: 140716508457856\n"
     ]
    }
   ],
   "source": [
    "for idx in range(6):\n",
    "\tprint(f'[{idx}]번 째 원소 => {mem_storage[idx]}\t: {id(mem_storage[idx])}')"
   ]
  },
  {
   "cell_type": "code",
   "execution_count": 55,
   "metadata": {},
   "outputs": [
    {
     "data": {
      "text/plain": [
       "3719236223744"
      ]
     },
     "execution_count": 55,
     "metadata": {},
     "output_type": "execute_result"
    }
   ],
   "source": [
    "### data 1번째 원소 저장 메모리 주소\n",
    "dataTS.data_ptr()"
   ]
  },
  {
   "cell_type": "code",
   "execution_count": null,
   "metadata": {},
   "outputs": [],
   "source": []
  },
  {
   "cell_type": "code",
   "execution_count": null,
   "metadata": {},
   "outputs": [],
   "source": []
  },
  {
   "cell_type": "code",
   "execution_count": null,
   "metadata": {},
   "outputs": [],
   "source": []
  }
 ],
 "metadata": {
  "kernelspec": {
   "display_name": "torch_38",
   "language": "python",
   "name": "python3"
  },
  "language_info": {
   "codemirror_mode": {
    "name": "ipython",
    "version": 3
   },
   "file_extension": ".py",
   "mimetype": "text/x-python",
   "name": "python",
   "nbconvert_exporter": "python",
   "pygments_lexer": "ipython3",
   "version": "3.8.19"
  }
 },
 "nbformat": 4,
 "nbformat_minor": 2
}
