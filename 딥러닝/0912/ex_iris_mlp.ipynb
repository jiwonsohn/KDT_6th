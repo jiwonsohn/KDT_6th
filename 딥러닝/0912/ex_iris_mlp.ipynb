{
 "cells": [
  {
   "cell_type": "markdown",
   "metadata": {},
   "source": [
    "### IRIS 데이터셋 활용 꽃잎 너비 예측 모델\n",
    "- 데이터셋: iris.csv 2개 (1개 피쳐, 1개 타겟) feature 사용\n",
    "- Linear regression\n",
    "- 너비 예측\n",
    "- 구현_프레임워크: Pytorch\n",
    "- Train, test, Validation Dataset 생성"
   ]
  },
  {
   "cell_type": "code",
   "execution_count": 1,
   "metadata": {},
   "outputs": [],
   "source": [
    "import torch\t\t\t\t\t# 텐서 및 수치 계산 함수 관련 모듈\n",
    "import torch.nn as nn\t\t\t# 인공신경망 관련 모듈\n",
    "import torch.nn.functional as F \t# 손실, 거래 등 함수 관련 모듈\n",
    "import torch.optim as optimizer # 최적화 기법 관련 모듈\n",
    "\n",
    "from torchinfo import summary\t# 모델 정보 관련 모듈\t\t+) 추가 설치\n",
    "from torchmetrics.regression import R2Score\t\t# 성능지표 관련 모듈 +) 추가 설치\n",
    "import pandas as pd\t\t\t\t# 데이터 파일 분석 관련 모듈\n",
    "\n",
    "from sklearn.model_selection import train_test_split\t\t# trainDS, testDS 분할 관련 모듈듈"
   ]
  },
  {
   "cell_type": "code",
   "execution_count": 2,
   "metadata": {},
   "outputs": [
    {
     "name": "stdout",
     "output_type": "stream",
     "text": [
      "cpu\n"
     ]
    }
   ],
   "source": [
    "# 모델 가중치, 절편 초기값 고정\n",
    "torch.manual_seed(1)\n",
    "\n",
    "# 저장 및 실행 위치 고정\n",
    "DEVICE = 'cuda' if torch.cuda.is_available() else 'cpu'\n",
    "print(f'{DEVICE}')"
   ]
  },
  {
   "cell_type": "code",
   "execution_count": 3,
   "metadata": {},
   "outputs": [
    {
     "data": {
      "text/html": [
       "<div>\n",
       "<style scoped>\n",
       "    .dataframe tbody tr th:only-of-type {\n",
       "        vertical-align: middle;\n",
       "    }\n",
       "\n",
       "    .dataframe tbody tr th {\n",
       "        vertical-align: top;\n",
       "    }\n",
       "\n",
       "    .dataframe thead th {\n",
       "        text-align: right;\n",
       "    }\n",
       "</style>\n",
       "<table border=\"1\" class=\"dataframe\">\n",
       "  <thead>\n",
       "    <tr style=\"text-align: right;\">\n",
       "      <th></th>\n",
       "      <th>sepal.length</th>\n",
       "      <th>sepal.width</th>\n",
       "      <th>petal.length</th>\n",
       "      <th>petal.width</th>\n",
       "    </tr>\n",
       "  </thead>\n",
       "  <tbody>\n",
       "    <tr>\n",
       "      <th>0</th>\n",
       "      <td>5.1</td>\n",
       "      <td>3.5</td>\n",
       "      <td>1.4</td>\n",
       "      <td>0.2</td>\n",
       "    </tr>\n",
       "    <tr>\n",
       "      <th>1</th>\n",
       "      <td>4.9</td>\n",
       "      <td>3.0</td>\n",
       "      <td>1.4</td>\n",
       "      <td>0.2</td>\n",
       "    </tr>\n",
       "  </tbody>\n",
       "</table>\n",
       "</div>"
      ],
      "text/plain": [
       "   sepal.length  sepal.width  petal.length  petal.width\n",
       "0           5.1          3.5           1.4          0.2\n",
       "1           4.9          3.0           1.4          0.2"
      ]
     },
     "execution_count": 3,
     "metadata": {},
     "output_type": "execute_result"
    }
   ],
   "source": [
    "DATA_FILE = r'C:\\Users\\KDP-43\\Desktop\\머신러닝_1\\data\\iris.csv'\n",
    "\n",
    "irisDF = pd.read_csv(DATA_FILE, usecols=[0,1,2,3])\t\t\t# 컬럼 2개만 사용\n",
    "irisDF.head(2)"
   ]
  },
  {
   "cell_type": "markdown",
   "metadata": {},
   "source": [
    "[2] 모델 준비\n",
    "- 학습방법: 지도학습 >> 회귀\n",
    "- 알고리즘: 선형관계 >> 선형모델 >> nn.Linear\n",
    "\n",
    "* +) LeakyReLU => 기울기 소실 방지 (기울기=0이면 피쳐에 대한 가중치=0이 되어 모델에 피쳐 학습 불가!)"
   ]
  },
  {
   "cell_type": "code",
   "execution_count": 4,
   "metadata": {},
   "outputs": [],
   "source": [
    "## 모델 설계\n",
    "# 입쳑층에 입력값/피쳐\t: petal.length 3개\n",
    "# 출력층의 출력값/피쳐\t: petal.width  1개\n",
    "\n",
    "\n",
    "# 입력층: 입력 피쳐:3개,\t출력 입력층에 존재하는 퍼셉트론 개수 10\t\t=> AF(활성함수): ReLU\n",
    "#\t\t\t\t_________________|\n",
    "#\t\t\t   |\tReLU\n",
    "#\t\t\t   V\n",
    "# 은닉충: 입력 10, \t\t\t출력 은닉층에 존재하는 퍼셉트론 개수 5\t   => AF(활성함수): ReLU\n",
    "#\t\t\t  _________________|\n",
    "#\t\t\t |\tReLU\n",
    "#\t\t\t V\n",
    "\n",
    "\n",
    "# 멀티 layer 예시)\n",
    "nn_model = nn.Sequential( nn.Linear(3, 10),\t\t\n",
    "                         nn.ReLU(),\n",
    "              nn.Linear(10,5),\n",
    "         nn.ReLU(),\n",
    "      nn.Linear(5,1) )"
   ]
  },
  {
   "cell_type": "code",
   "execution_count": 5,
   "metadata": {},
   "outputs": [
    {
     "name": "stdout",
     "output_type": "stream",
     "text": [
      "Sequential(\n",
      "  (0): Linear(in_features=3, out_features=10, bias=True)\n",
      "  (1): ReLU()\n",
      "  (2): Linear(in_features=10, out_features=5, bias=True)\n",
      "  (3): ReLU()\n",
      "  (4): Linear(in_features=5, out_features=1, bias=True)\n",
      ")\n"
     ]
    },
    {
     "data": {
      "text/plain": [
       "==========================================================================================\n",
       "Layer (type:depth-idx)                   Output Shape              Param #\n",
       "==========================================================================================\n",
       "Sequential                               [150, 1]                  --\n",
       "├─Linear: 1-1                            [150, 10]                 40\n",
       "├─ReLU: 1-2                              [150, 10]                 --\n",
       "├─Linear: 1-3                            [150, 5]                  55\n",
       "├─ReLU: 1-4                              [150, 5]                  --\n",
       "├─Linear: 1-5                            [150, 1]                  6\n",
       "==========================================================================================\n",
       "Total params: 101\n",
       "Trainable params: 101\n",
       "Non-trainable params: 0\n",
       "Total mult-adds (M): 0.02\n",
       "==========================================================================================\n",
       "Input size (MB): 0.00\n",
       "Forward/backward pass size (MB): 0.02\n",
       "Params size (MB): 0.00\n",
       "Estimated Total Size (MB): 0.02\n",
       "=========================================================================================="
      ]
     },
     "execution_count": 5,
     "metadata": {},
     "output_type": "execute_result"
    }
   ],
   "source": [
    "# 모델 구조 확인\n",
    "print(nn_model)\n",
    "# summary( nn_model, input_size=(3,))\n",
    "summary( nn_model, input_size=(150,3))\n",
    "\n",
    "\n",
    "#----------------------------------------\n",
    "# Params (#)\n",
    "\n",
    "# \t\t==> (입력층 개수 + 1(절편,bias)) X (퍼셉트론 개수)\n",
    "\n",
    "#----------------------------------------"
   ]
  },
  {
   "cell_type": "code",
   "execution_count": 6,
   "metadata": {},
   "outputs": [
    {
     "name": "stdout",
     "output_type": "stream",
     "text": [
      "[0.weight] Parameter containing:\n",
      "tensor([[ 0.2975, -0.2548, -0.1119],\n",
      "        [ 0.2710, -0.5435,  0.3462],\n",
      "        [-0.1188,  0.2937,  0.0803],\n",
      "        [-0.0707,  0.1601,  0.0285],\n",
      "        [ 0.2109, -0.2250, -0.0421],\n",
      "        [-0.0520,  0.0837, -0.0023],\n",
      "        [ 0.5047,  0.1797, -0.2150],\n",
      "        [-0.3487, -0.0968, -0.2490],\n",
      "        [-0.1850,  0.0276,  0.3442],\n",
      "        [ 0.3138, -0.5644,  0.3579]], requires_grad=True)\n",
      "\n",
      "[0.bias] Parameter containing:\n",
      "tensor([ 0.1613,  0.5476,  0.3811, -0.5260, -0.5489, -0.2785,  0.5070, -0.0962,\n",
      "         0.2471, -0.2683], requires_grad=True)\n",
      "\n",
      "[2.weight] Parameter containing:\n",
      "tensor([[ 0.3103, -0.1338,  0.2371,  0.0037, -0.1666,  0.1625, -0.1679,  0.0930,\n",
      "         -0.0913, -0.0347],\n",
      "        [-0.3040, -0.1508,  0.1716, -0.0769,  0.3150,  0.2535, -0.0148, -0.2111,\n",
      "          0.1926,  0.0981],\n",
      "        [-0.2044,  0.2054,  0.1920,  0.2805, -0.1773, -0.0521, -0.0061,  0.0462,\n",
      "         -0.2400, -0.2244],\n",
      "        [ 0.1720, -0.0742,  0.1545,  0.0180,  0.1038,  0.0695,  0.1150,  0.1568,\n",
      "         -0.2929,  0.1592],\n",
      "        [-0.2223, -0.2386,  0.0192, -0.0539,  0.1857, -0.1831, -0.2811,  0.2301,\n",
      "         -0.0469,  0.1779]], requires_grad=True)\n",
      "\n",
      "[2.bias] Parameter containing:\n",
      "tensor([ 0.1017, -0.2371,  0.0635,  0.0760, -0.2117], requires_grad=True)\n",
      "\n",
      "[4.weight] Parameter containing:\n",
      "tensor([[-0.2122,  0.1525,  0.0801, -0.1902, -0.1354]], requires_grad=True)\n",
      "\n",
      "[4.bias] Parameter containing:\n",
      "tensor([0.4096], requires_grad=True)\n",
      "\n"
     ]
    }
   ],
   "source": [
    "# 가중치와 절편 확인\n",
    "for name, param in nn_model.named_parameters():\n",
    "\tprint(f'[{name}] {param}', end='\\n\\n')"
   ]
  },
  {
   "cell_type": "markdown",
   "metadata": {},
   "source": [
    "[3] 최적화 인스턴스 준비\n",
    "- 모델의 가중치 & 절편 최적화\n",
    "- 최적화 결과 인스턴스에 전달 \t\t=> optimizer.step()"
   ]
  },
  {
   "cell_type": "code",
   "execution_count": 7,
   "metadata": {},
   "outputs": [
    {
     "data": {
      "text/plain": [
       "' \\nAdam (\\nParameter Group 0\\n    amsgrad: False\\n    betas: (0.9, 0.999)\\n    capturable: False\\n    differentiable: False\\n    eps: 1e-08\\n    foreach: None\\n    fused: None\\n    lr: 0.1\\n    maximize: False\\n    weight_decay: 0\\n)\\n'"
      ]
     },
     "execution_count": 7,
     "metadata": {},
     "output_type": "execute_result"
    }
   ],
   "source": [
    "adam_optim = optimizer.Adam(nn_model.parameters(), lr = 0.1)\t\t# model.parameter() -> weight, bias\n",
    "\n",
    "''' \n",
    "Adam (\n",
    "Parameter Group 0\n",
    "    amsgrad: False\n",
    "    betas: (0.9, 0.999)\n",
    "    capturable: False\n",
    "    differentiable: False\n",
    "    eps: 1e-08\n",
    "    foreach: None\n",
    "    fused: None\n",
    "    lr: 0.1\n",
    "    maximize: False\n",
    "    weight_decay: 0\n",
    ")\n",
    "'''"
   ]
  },
  {
   "cell_type": "markdown",
   "metadata": {},
   "source": [
    "[4] 학습\n",
    "- 개발자가 구현 \n",
    "- 알아서 잘~~~~~~~~~~~~ 8ㅅ8"
   ]
  },
  {
   "cell_type": "markdown",
   "metadata": {},
   "source": [
    "- [4-1] 데이터셋 Tensor화 진행\n",
    "\t* 데이터 준비 시 or 학습 전"
   ]
  },
  {
   "cell_type": "code",
   "execution_count": 8,
   "metadata": {},
   "outputs": [
    {
     "data": {
      "text/html": [
       "<div>\n",
       "<style scoped>\n",
       "    .dataframe tbody tr th:only-of-type {\n",
       "        vertical-align: middle;\n",
       "    }\n",
       "\n",
       "    .dataframe tbody tr th {\n",
       "        vertical-align: top;\n",
       "    }\n",
       "\n",
       "    .dataframe thead th {\n",
       "        text-align: right;\n",
       "    }\n",
       "</style>\n",
       "<table border=\"1\" class=\"dataframe\">\n",
       "  <thead>\n",
       "    <tr style=\"text-align: right;\">\n",
       "      <th></th>\n",
       "      <th>petal.length</th>\n",
       "    </tr>\n",
       "  </thead>\n",
       "  <tbody>\n",
       "    <tr>\n",
       "      <th>0</th>\n",
       "      <td>1.4</td>\n",
       "    </tr>\n",
       "    <tr>\n",
       "      <th>1</th>\n",
       "      <td>1.4</td>\n",
       "    </tr>\n",
       "    <tr>\n",
       "      <th>2</th>\n",
       "      <td>1.3</td>\n",
       "    </tr>\n",
       "    <tr>\n",
       "      <th>3</th>\n",
       "      <td>1.5</td>\n",
       "    </tr>\n",
       "    <tr>\n",
       "      <th>4</th>\n",
       "      <td>1.4</td>\n",
       "    </tr>\n",
       "    <tr>\n",
       "      <th>5</th>\n",
       "      <td>1.7</td>\n",
       "    </tr>\n",
       "    <tr>\n",
       "      <th>6</th>\n",
       "      <td>1.4</td>\n",
       "    </tr>\n",
       "    <tr>\n",
       "      <th>7</th>\n",
       "      <td>1.5</td>\n",
       "    </tr>\n",
       "    <tr>\n",
       "      <th>8</th>\n",
       "      <td>1.4</td>\n",
       "    </tr>\n",
       "    <tr>\n",
       "      <th>9</th>\n",
       "      <td>1.5</td>\n",
       "    </tr>\n",
       "  </tbody>\n",
       "</table>\n",
       "</div>"
      ],
      "text/plain": [
       "   petal.length\n",
       "0           1.4\n",
       "1           1.4\n",
       "2           1.3\n",
       "3           1.5\n",
       "4           1.4\n",
       "5           1.7\n",
       "6           1.4\n",
       "7           1.5\n",
       "8           1.4\n",
       "9           1.5"
      ]
     },
     "execution_count": 8,
     "metadata": {},
     "output_type": "execute_result"
    }
   ],
   "source": [
    "irisDF[['petal.length']][:10]"
   ]
  },
  {
   "cell_type": "code",
   "execution_count": 9,
   "metadata": {},
   "outputs": [
    {
     "data": {
      "text/plain": [
       "array([[1.4],\n",
       "       [1.4],\n",
       "       [1.3],\n",
       "       [1.5],\n",
       "       [1.4],\n",
       "       [1.7],\n",
       "       [1.4],\n",
       "       [1.5],\n",
       "       [1.4],\n",
       "       [1.5]])"
      ]
     },
     "execution_count": 9,
     "metadata": {},
     "output_type": "execute_result"
    }
   ],
   "source": [
    "irisDF[['petal.length']][:10].values"
   ]
  },
  {
   "cell_type": "code",
   "execution_count": 10,
   "metadata": {},
   "outputs": [
    {
     "name": "stdout",
     "output_type": "stream",
     "text": [
      "(150, 3) (150, 1)\n"
     ]
    }
   ],
   "source": [
    "featureDF = irisDF[['sepal.length', 'sepal.width','petal.length']]\t\t\t# 2D\n",
    "targetDF = irisDF[['petal.width']]\t\t\t\t\t\t\t\t\t\t\t# 2D\n",
    "\n",
    "\n",
    "print( featureDF.shape, targetDF.shape)"
   ]
  },
  {
   "cell_type": "code",
   "execution_count": 11,
   "metadata": {},
   "outputs": [
    {
     "name": "stdout",
     "output_type": "stream",
     "text": [
      "[Feature] Train (96, 3), TEST (30, 3), Valid (24, 3)\n",
      "[Target]  Train (96, 1), TEST (30, 1), Valid (24, 1)\n"
     ]
    }
   ],
   "source": [
    "# Train & test 분할\n",
    "X_train, X_test, y_train, y_test = train_test_split(featureDF, targetDF,\n",
    "                                                    test_size = 0.2, random_state=10)\n",
    "\n",
    "# Train & Valid 분할\n",
    "X_train, X_val, y_train, y_val = train_test_split(X_train, y_train,\n",
    "                                                    test_size = 0.2, random_state=10)\n",
    "\n",
    "print(f'[Feature] Train {X_train.shape}, TEST {X_test.shape}, Valid {X_val.shape}')\n",
    "print(f'[Target]  Train {y_train.shape}, TEST {y_test.shape}, Valid {y_val.shape}')"
   ]
  },
  {
   "cell_type": "markdown",
   "metadata": {},
   "source": [
    "- [4-2] 학습진행 (p.27)\n",
    "\t* 학습횟수 결정\t\t=> epoch 설정\n",
    "\t* 배치 크기 결정\t=> BATCH_SIZE\n",
    "\t* 배치 개수 결정\t=> BATCH_CNT"
   ]
  },
  {
   "cell_type": "markdown",
   "metadata": {},
   "source": [
    "##### 테스트/검증 함수\n",
    "\t- => 가중치, 절편 업데이트 X, 최적화 미진행\n",
    "\t- 현재 가중치 & 절편값으로 테스트 진행"
   ]
  },
  {
   "cell_type": "code",
   "execution_count": 12,
   "metadata": {},
   "outputs": [],
   "source": [
    "# 학습한 모델 검증(Validation) 목적 함수\n",
    "def testing(testDF, targetDF, kind='Validation'):\n",
    "\n",
    "\t# 텐서화\n",
    "\ttestTS = torch.FloatTensor(testDF.values).to(DEVICE)\n",
    "\ttargetTS = torch.FloatTensor(targetDF.values).to(DEVICE)\n",
    "\n",
    "\tvali_history = []\t\t\t\t# epoch 횟수에 따른 loss 시각화 목적 저장 리스트!!\n",
    "\n",
    "\twith torch.no_grad():\t\t\t# 가중치 업데이트 없이 \n",
    "\t\t# (1) 학습진행 - forward\t\t\t\n",
    "\t\tpre_y = nn_model(testTS)\n",
    "\t\t# print(f'{pre_y.shape}')\n",
    "\t\n",
    "\t\t# (2) 오차계산 - 손실함수\n",
    "\t\tloss = F.mse_loss(pre_y, targetTS)\n",
    "\t\t\t\t\t\t\t\t\t\t\t\t\t\t\t\n",
    "\t\t# (3) 성능평가 - R2\n",
    "\t\tr2 = R2Score()(pre_y, targetTS)\n",
    "\t\n",
    "\t\t# (3) 학습결과 출력&저장 \n",
    "\t\t# print(f'[{kind} LOSS: {loss}, R2: {r2} ')\n",
    "\n",
    "\treturn loss, r2"
   ]
  },
  {
   "cell_type": "code",
   "execution_count": 13,
   "metadata": {},
   "outputs": [
    {
     "name": "stdout",
     "output_type": "stream",
     "text": [
      "EPOCH: 100, BATCH_SIZE: 10, BACTCH_CNT: 9\n"
     ]
    }
   ],
   "source": [
    "EPOCH = 100\t\t\t\t\t\t\t\t\t# 처음~끝 공부하는 횟수\n",
    "BATCH_SIZE = 10\t\t\t\t\t\t\t\t\t# 1 epoch에서 학습하는 크기(분량)\n",
    "BACTCH_CNT = X_train.shape[0] // BATCH_SIZE\t\t# 1 epoch에서 총 학습 횟수 & 업데이트 횟수수\n",
    "\n",
    "print(f'EPOCH: {EPOCH}, BATCH_SIZE: {BATCH_SIZE}, BACTCH_CNT: {BACTCH_CNT}')"
   ]
  },
  {
   "cell_type": "code",
   "execution_count": 14,
   "metadata": {},
   "outputs": [],
   "source": [
    "\n",
    "# 모델 학습 함수\t\n",
    "#\t\t \t  학습용\n",
    "def training(featureTS, targetTS, valTS, valTargetTS):\n",
    "\n",
    "\t#\t\t\t\ttrain, val\n",
    "\tloss_history = [ [], [] ]\t\t\t\t\t\t\t\n",
    "\tr2_history = [ [], [] ]\t\t\t\t\t\t\t\t\t\n",
    "\n",
    "\t# 모델 학습 EPOCH 만큼\n",
    "\tfor epoch in range(EPOCH):\n",
    "\n",
    "\t\t# 배치 손실 저장 변수\n",
    "\t\tbs_loss, bs_r2 = 0, 0\n",
    "\n",
    "\n",
    "\t\t# 배치 크기만큼 학습 진행\n",
    "\t\tfor i in range(BACTCH_CNT):\n",
    "\t\t\tstart = i * BATCH_SIZE\n",
    "\t\t\tend   = start + BATCH_SIZE\n",
    "\t\t\t# print(start, end)\n",
    "\n",
    "\t\t\t# (0) Batch_size만큼 데이터 추출 => Tensor화\n",
    "\t\t\tBS_X_Train = torch.FloatTensor(X_train[start:end].values).to(DEVICE)\n",
    "\t\t\tBS_y_Train = torch.FloatTensor(y_train[start:end].values).to(DEVICE)\n",
    "\n",
    "\t\t\t# print(\"[Train]\",BS_X_Train.shape, BS_X_Train.device, BS_X_Train.dtype)\n",
    "\t\t\t# print(\"[TEST]\", BS_y_Train.shape, BS_y_Train.device, BS_y_Train.dtype)\n",
    "\t\t\t\n",
    "\t\t\t\n",
    "\t\t\t# (1) 학습진행 - forward\t\t\t\n",
    "\t\t\tpre_y = nn_model(BS_X_Train)\n",
    "\t\t\t# print(f'pre_y.shape -> {pre_y.shape}')\n",
    "\t\t\t# print()\n",
    "\n",
    "\t\t\t# (2) 오차계산 - 손실함수\n",
    "\t\t\tloss = F.mse_loss(pre_y, BS_y_Train)\n",
    "\t\t\tbs_loss += loss.item()\t\t\t\t\t\t\t\t\t\n",
    "\t\t\tbs_r2 += R2Score()(pre_y, BS_y_Train).item()\t\t\t\t\n",
    "\n",
    "\n",
    "\t\t\t\t\t\t\t\t\t\t\t\t\t\t\t\t\n",
    "\t\t\t# (3) 최적화   \n",
    "\t\t\tadam_optim.zero_grad()\n",
    "\t\t\tloss.backward()\n",
    "\t\t\tadam_optim.step()\n",
    "\n",
    "\t\t\t# ====================END of 1 EPOCH===========================\n",
    "\n",
    "\t\t# (4) 모델 검증\n",
    "\t\tval_loss, val_r2 = testing(valTS, valTargetTS)\n",
    "\t\tloss_history[1].append(val_loss.item())\t\t\n",
    "\t\tr2_history[1].append(val_r2.item())\t\t\t\t\n",
    "\n",
    "\t\t# EPOCH 단위 손실 & 성능지표\t\t\n",
    "\t\tloss_history[0].append(bs_loss/BACTCH_CNT)\t\t# => 평균\n",
    "\t\tr2_history[0].append(bs_r2/BACTCH_CNT)\t\t\t# => 평균\n",
    "\t\t# loss_history['Val'] = val_loss.item()\n",
    "\t\t\n",
    "\t\t# (5) 학습결과 출력&저장 \n",
    "\t\t# print(f'[{epoch}/{EPOCH}]\\n-Train LOSS: {loss_history[0][-1]} R2: {r2_history[0][-1]} ')\n",
    "\t\t# print(f'-Valid LOSS: {loss_history[1][-1]} R2: {r2_history[1][-1]} ')\n",
    "\n",
    "\treturn loss_history, r2_history"
   ]
  },
  {
   "cell_type": "code",
   "execution_count": 15,
   "metadata": {},
   "outputs": [],
   "source": [
    "loss, r2 = training(X_train, y_train, X_val, y_val)\n",
    "# loss_per_epoch"
   ]
  },
  {
   "cell_type": "code",
   "execution_count": 16,
   "metadata": {},
   "outputs": [
    {
     "data": {
      "text/plain": [
       "Text(0.5, 1.0, 'r2')"
      ]
     },
     "execution_count": 16,
     "metadata": {},
     "output_type": "execute_result"
    },
    {
     "data": {
      "image/png": "[encoded data removed]",
      "text/plain": [
       "<Figure size 1000x500 with 2 Axes>"
      ]
     },
     "metadata": {},
     "output_type": "display_data"
    }
   ],
   "source": [
    "import matplotlib.pyplot as plt\n",
    "\n",
    "THRESHOLD = 100\n",
    "\n",
    "fig, axes = plt.subplots(1,2, figsize=(10,5))\n",
    "\n",
    "axes[0].plot(range(1, THRESHOLD+1), loss[0][:THRESHOLD],label=\"Train\")\n",
    "axes[0].plot(range(1, THRESHOLD+1), loss[1][:THRESHOLD],label=\"Valid\")\n",
    "axes[0].grid()\n",
    "axes[0].legend()\n",
    "axes[0].set_xlabel(\"Epoch\")\n",
    "axes[0].set_ylabel(\"LOSS\")\n",
    "axes[0].set_title(\"LOSS\")\n",
    "\n",
    "axes[1].plot(range(1, THRESHOLD+1), r2[0][:THRESHOLD],label=\"Train\")\n",
    "axes[1].plot(range(1, THRESHOLD+1), r2[1][:THRESHOLD],label=\"Valid\")\n",
    "axes[1].grid()\n",
    "axes[1].legend()\n",
    "axes[1].set_xlabel(\"Epoch\")\n",
    "axes[1].set_ylabel(\"r2\")\n",
    "axes[1].set_title(\"r2\")\n"
   ]
  },
  {
   "cell_type": "code",
   "execution_count": null,
   "metadata": {},
   "outputs": [],
   "source": []
  },
  {
   "cell_type": "code",
   "execution_count": null,
   "metadata": {},
   "outputs": [],
   "source": []
  },
  {
   "cell_type": "code",
   "execution_count": null,
   "metadata": {},
   "outputs": [],
   "source": []
  },
  {
   "cell_type": "code",
   "execution_count": null,
   "metadata": {},
   "outputs": [],
   "source": []
  },
  {
   "cell_type": "code",
   "execution_count": null,
   "metadata": {},
   "outputs": [],
   "source": []
  }
 ],
 "metadata": {
  "kernelspec": {
   "display_name": "torch_38",
   "language": "python",
   "name": "python3"
  },
  "language_info": {
   "codemirror_mode": {
    "name": "ipython",
    "version": 3
   },
   "file_extension": ".py",
   "mimetype": "text/x-python",
   "name": "python",
   "nbconvert_exporter": "python",
   "pygments_lexer": "ipython3",
   "version": "3.8.19"
  }
 },
 "nbformat": 4,
 "nbformat_minor": 2
}
