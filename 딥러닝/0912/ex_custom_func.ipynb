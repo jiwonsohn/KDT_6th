{
 "cells": [
  {
   "cell_type": "markdown",
   "metadata": {},
   "source": [
    "### 사용자 정의 함수"
   ]
  },
  {
   "cell_type": "markdown",
   "metadata": {},
   "source": [
    " - - -\n",
    "- 함수이름: training\n",
    "- 함수기능: 모델 학습 진행 함수\n",
    "- 매개변수: 함수 구동 시 필요한 재료; \n",
    "\t* 모델 인스턴스\n",
    "\t* 학습데이터셋: 피쳐 & 타겟 (학습전 Tensor화)\n",
    "\t* 손실함수 인스턴스\n",
    "\t* 최적화 인스턴스\n",
    "\t* 학습횟수: EPOCH\n",
    "\t* 배치크기: BATCH SIZE\n",
    "\t* 배치개수: BATCH CNT or iterator\n",
    "\t* 검증용 데이터셋: 피쳐 & 타겟 (학습전 Tensor화)\n",
    "- 함수결과: 에포크 당 손실값 & 성능지표값 & 검증 손실값 & 성능지표값   \n",
    "\t* =>=> list, dict\n",
    "- - -"
   ]
  },
  {
   "cell_type": "markdown",
   "metadata": {},
   "source": [
    " - - -\n",
    "- 함수이름: epochTraining\n",
    "- 함수기능: 에포크 단위 모델 학습 진행 함수\n",
    "- 매개변수: 함수 구동 시 필요한 재료; \n",
    "\t* 모델 인스턴스\n",
    "\t* 학습데이터셋: 피쳐 & 타겟 (학습전 Tensor화)\n",
    "\t* 손실함수 인스턴스\n",
    "\t* 최적화 인스턴스\n",
    "\t* 배치크기: BATCH SIZE\n",
    "\t* 배치개수: BATCH CNT or iterator\n",
    "\t* 검증용 데이터셋: 피쳐 & 타겟 (학습전 Tensor화)\n",
    "- 함수결과: 손실값 & 성능지표값\n",
    "\t* => tuple\n",
    "- - -"
   ]
  },
  {
   "cell_type": "code",
   "execution_count": 1,
   "metadata": {},
   "outputs": [],
   "source": [
    "import torch\n",
    "import torch.nn as nn\n",
    "import torch.nn.functional as F\n",
    "import torch.optim as optimizer\n",
    "from torchmetrics.regression import R2Score\n",
    "from torchmetrics.classification import F1Score\n"
   ]
  },
  {
   "cell_type": "code",
   "execution_count": null,
   "metadata": {},
   "outputs": [],
   "source": [
    "# 텐서 저장 및 실행 위치 설정\n",
    "DEVICE = 'cuda' if torch.cuda.is_available() else 'cpu'"
   ]
  },
  {
   "cell_type": "code",
   "execution_count": 2,
   "metadata": {},
   "outputs": [],
   "source": [
    "## 1번 에포크 당 손실값 & 성능지표값 반환 함수\n",
    "\n",
    "def Testing(model, feature, target, lossFunc, scoreFunc):\n",
    "\n",
    "\t### 최적화 기능 비활성화 후 데이터셋 추출 후 학습 진행\n",
    "\n",
    "\twith torch.no_grad():\n",
    "\n",
    "\t\t# 텐서화---------------------------------------------------------\n",
    "\t\t# json,csv => DF 로드 가정\n",
    "\t\t# .values  => array 반환\n",
    "\t\tfeatureTS = torch.FloatTensor(feature.values).to(DEVICE)\t\n",
    "\t\ttargetTS = torch.FloatTensor(target.values).to(DEVICE)\n",
    "\t\t\n",
    "\t\t# 학습-----------------------------------------------------------\n",
    "\t\tpre_y = model(featureTS).to(DEVICE)\n",
    "\n",
    "\t\t# 손실 계산------------------------------------------------------\n",
    "\t\tloss = lossFunc(pre_y, targetTS)\n",
    "\n",
    "\t\t# 모델 점수 계산 -------------------------------------------------\n",
    "\t\tscore = scoreFunc(pre_y, targetTS)\n",
    "\n",
    "\treturn loss, score\t\t\t# loss, r2"
   ]
  },
  {
   "cell_type": "code",
   "execution_count": 3,
   "metadata": {},
   "outputs": [],
   "source": [
    "## 1번 에포크 당 손실값 & 성능지표값 반환 함수\n",
    "\n",
    "def epochTraining(model, feature, target, lossFunc, optim, batchCnt, \n",
    "\t\t\t\t\t\t\t\t\tbatchSize=32, is_class=True):\n",
    "\n",
    "\t# \n",
    "\tloss_total, score_total = 0, 0\n",
    "\n",
    "\t# 에포크에서 배치크기만큼 데이터셋 추출 후 학습 진행\n",
    "\tfor batch in range(batchCnt):\n",
    "\n",
    "\t\t# 배치크기만큼 데이터셋 추출 및 텐서화------------------------------\n",
    "\t\tstart = batch * batchSize\t# 0, 32, 64, ...\n",
    "\t\tend = start + batchSize\t\t# 32, 64, 96, ...\n",
    "\n",
    "\t\t# 텐서화---------------------------------------------------------\n",
    "\t\t# json,csv => DF 로드 가정\n",
    "\t\t# .values  => array 반환\n",
    "\t\tX_train = torch.FloatTensor(feature[start:end].values).to(DEVICE)\t\n",
    "\t\ty_train = torch.FloatTensor(target[start:end].values).to(DEVICE)\n",
    "\t\t\n",
    "\t\t# 학습-----------------------------------------------------------\n",
    "\t\tpre_y = model(X_train)\n",
    "\n",
    "\t\t# 손실 계산------------------------------------------------------\n",
    "\t\tloss = lossFunc(pre_y, y_train)\n",
    "\t\tloss_total += loss.item()\t\t\t# loss는 텐서라 값만 저장하기 위해\n",
    "\n",
    "\t\t# 모델 점수 계산 (학습용)-------------------------------------------------\n",
    "\t\tscore = F1Score()(pre_y, y_train) if is_class else R2Score()(pre_y, y_train)\n",
    "\t\tscore_total += score\n",
    "\n",
    "\t\t# 최적화: W,b 업데이트-------------------------------------------\n",
    "\t\toptim.zero_grad()\n",
    "\t\tloss.backward()\n",
    "\n",
    "\t\toptim.step()\t\t\t# optimizer가 파라메터 가지고 있으므로\n",
    "\t\t\t\t\t\t\t\t# 업데이트는 optimizer가!\n",
    "\n",
    "\t# 에포크당 손실값 & 성능지표\n",
    "\t# 테스트 및 검증 함수 사용!\n",
    "\n",
    "\treturn loss_total/batchCnt, 0\t\t\t# loss, r2"
   ]
  },
  {
   "cell_type": "code",
   "execution_count": 4,
   "metadata": {},
   "outputs": [
    {
     "ename": "TypeError",
     "evalue": "epochTraining() missing 6 required positional arguments: 'model', 'feature', 'target', 'lossFunc', 'optim', and 'batchCnt'",
     "output_type": "error",
     "traceback": [
      "\u001b[1;31m---------------------------------------------------------------------------\u001b[0m",
      "\u001b[1;31mTypeError\u001b[0m                                 Traceback (most recent call last)",
      "Cell \u001b[1;32mIn[4], line 11\u001b[0m\n\u001b[0;32m      7\u001b[0m \u001b[38;5;66;03m# 전체 EPOCH 학습 진행\u001b[39;00m\n\u001b[0;32m      8\u001b[0m \u001b[38;5;28;01mfor\u001b[39;00m epoch \u001b[38;5;129;01min\u001b[39;00m \u001b[38;5;28mrange\u001b[39m(EPOCHS):\n\u001b[0;32m      9\u001b[0m \t\n\u001b[0;32m     10\u001b[0m \t\u001b[38;5;66;03m# EPOCH 1번 학습 진행\u001b[39;00m\n\u001b[1;32m---> 11\u001b[0m \ttrain_loss, train_score \u001b[38;5;241m=\u001b[39m \u001b[43mepochTraining\u001b[49m\u001b[43m(\u001b[49m\u001b[43m)\u001b[49m\n\u001b[0;32m     13\u001b[0m \t\u001b[38;5;66;03m# EPOCH 1번 검증 진행\u001b[39;00m\n\u001b[0;32m     14\u001b[0m \tval_loss, val_score \u001b[38;5;241m=\u001b[39m testing()\n",
      "\u001b[1;31mTypeError\u001b[0m: epochTraining() missing 6 required positional arguments: 'model', 'feature', 'target', 'lossFunc', 'optim', and 'batchCnt'"
     ]
    }
   ],
   "source": [
    "EPOCHS = 10\n",
    "\n",
    "# 모든 epoch에 대한 train, valid loss, score 저장\n",
    "TV_LOSS = {'Train': [], 'VAL':[]}\n",
    "TV_SCORE = {'Train':[], 'VAL':[]}\n",
    "\n",
    "# 전체 EPOCH 학습 진행\n",
    "for epoch in range(EPOCHS):\n",
    "\t\n",
    "\t# EPOCH 1번 학습 진행\n",
    "\ttrain_loss, train_score = epochTraining()\n",
    "\n",
    "\t# EPOCH 1번 검증 진행\n",
    "\tval_loss, val_score = testing()\n",
    "\n",
    "\t# 에포크당 학습 및 검증 결과 저장\n",
    "\tTV_LOSS['Train'].append(train_loss)\n",
    "\tTV_SCORE['Train'].append(train_score)\n",
    "\n",
    "\tTV_LOSS['VAL'].append(val_loss)\n",
    "\tTV_SCORE['VAL'].append(val_score)\n",
    "\n",
    "\t# 에포크당 학습 및 검증 결과 출력\n",
    "\tprint(f'[{epoch}.{EPOCHS}]\\n [Train] LOSS:  {train_loss} SCORE: {train_score}')\n",
    "\tprint(f'[VAL] LOSS:  {val_loss} SCORE: {val_score}')"
   ]
  },
  {
   "cell_type": "code",
   "execution_count": null,
   "metadata": {},
   "outputs": [],
   "source": []
  },
  {
   "cell_type": "code",
   "execution_count": null,
   "metadata": {},
   "outputs": [],
   "source": []
  },
  {
   "cell_type": "code",
   "execution_count": null,
   "metadata": {},
   "outputs": [],
   "source": []
  }
 ],
 "metadata": {
  "kernelspec": {
   "display_name": "torch_38",
   "language": "python",
   "name": "python3"
  },
  "language_info": {
   "codemirror_mode": {
    "name": "ipython",
    "version": 3
   },
   "file_extension": ".py",
   "mimetype": "text/x-python",
   "name": "python",
   "nbconvert_exporter": "python",
   "pygments_lexer": "ipython3",
   "version": "3.8.19"
  }
 },
 "nbformat": 4,
 "nbformat_minor": 2
}
