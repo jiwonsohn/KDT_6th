{
 "cells": [
  {
   "cell_type": "markdown",
   "metadata": {},
   "source": [
    "### 사용자 정의 모델 클래스\n",
    "- 부모 클래스: nn.Module\n",
    "- 필수 오버라이딩\n",
    "\t* __init__(): 모델 층 구성, 설계\n",
    "\t* forward(): 순방향 학습 진행 코드 구현\n",
    "- 동적 모델\n",
    "\t* container 모듈 중 nn.ModuleList() 사용해서 동적으로 Layer 추가 \n",
    "\t\t- forward 기능 미제공\n",
    "\t\t- layer 인스턴스 요소 사이 연관성 X\n",
    "\t\t- layer 인스턴스 요소 => 인덱싱 접근"
   ]
  },
  {
   "cell_type": "code",
   "execution_count": 23,
   "metadata": {},
   "outputs": [],
   "source": [
    "import torch\t\t\t\t\t\t\t\t# 텐서 및 수치 계산 함수 관련 모듈\n",
    "import torch.nn as nn\t\t\t\t\t\t# 인공신경망 관련 모듈\n",
    "import torch.nn.functional as F \t\t\t# 손실, 거래 등 함수 관련 모듈\n",
    "import torch.optim as optimizer \t\t\t# 최적화 기법 관련 모듈\n",
    "from torchinfo import summary\t\t\t\t# 모델 구조 및 정보 관련 모듈\n",
    "\n",
    "from torchmetrics.regression import *\t\t# 회귀 성능 지표 모듈\n",
    "from torchmetrics.classification import *\t# 분류 성능 지표 모듈"
   ]
  },
  {
   "cell_type": "code",
   "execution_count": 24,
   "metadata": {},
   "outputs": [],
   "source": [
    "# 랜덤 고정\n",
    "torch.manual_seed(1)\n",
    "\n",
    "# 텐서 저장 및 실행 위치 고정\n",
    "DEVICE = 'cuda' if torch.cuda.is_available() else 'cpu'"
   ]
  },
  {
   "cell_type": "markdown",
   "metadata": {},
   "source": [
    "- 동적 모델 설계 <hr>\n",
    "\t* 목표: 은닉층의 개수가 동적인 모델\n",
    "\t* 조건:\n",
    "\t\t* 입력층 & 출력층 개수 동적 => 입력층의 입력값, 출력층의 출력값\n",
    "\t\t* 은닉층의 개수 동적 + 퍼셉트론 개수 고정\t\t=> 은닉층의 개수, 퍼셉트론 수 "
   ]
  },
  {
   "cell_type": "code",
   "execution_count": 25,
   "metadata": {},
   "outputs": [],
   "source": [
    "# ---------------------------------------------------------\n",
    "# 모델이름: DynamicModel\n",
    "# 부모클래스: nn.module\n",
    "# 매개변수: in_in, out_out, h_inout, h_cnt\n",
    "# ---------------------------------------------------------\n",
    "\n",
    "class DynamicModel(nn.Module):\n",
    "\n",
    "\t# 모델 구조 설계 함수 즉, 생성자 메서드\n",
    "\tdef __init__(self, in_in, out_out, h_inout, h_cnt ):\n",
    "        \n",
    "\t\tsuper().__init__()\n",
    "\n",
    "\t\tself.in_layer = nn.Linear(in_in, h_inout)\n",
    "\t\t# nn.ModuleList => \n",
    "\t\tself.h_layers = nn.ModuleList( [ nn.Linear(h_inout, h_inout) for _ in range(h_cnt) ] )\n",
    "\t\tself.out_layer = nn.Linear(h_inout, out_out)\n",
    "\n",
    "\t# 학습 진행 콜백 메서드\n",
    "\t# 함수 이름 무조건 'forward'\n",
    "\tdef forward(self, x):\n",
    "\n",
    "\t\t# 입력층\n",
    "\t\ty = self.in_layer(x)\t\t\t# y=x1w1+x2w2+x3w3+ b\n",
    "\t\ty = F.relu(y)\t\t\t\t\t# 0 <= y\n",
    "\n",
    "\t\t# y = F.relu( self.in_layer(x))\n",
    "\n",
    "\n",
    "\t\t# 은닉층\n",
    "\t\tfor linear in self.h_layers:\n",
    "\t\t\ty = linear(y)\n",
    "\t\t\ty = F.relu(y)\n",
    "\t\t\t# y = F.relu( self.in_layer(x))\n",
    "\t\t\t\n",
    "\t\t# 출력층\n",
    "\t\treturn self.out_layer(y)"
   ]
  },
  {
   "cell_type": "code",
   "execution_count": 26,
   "metadata": {},
   "outputs": [
    {
     "name": "stdout",
     "output_type": "stream",
     "text": [
      "DynamicModel(\n",
      "  (in_layer): Linear(in_features=3, out_features=5, bias=True)\n",
      "  (h_layers): ModuleList(\n",
      "    (0-9): 10 x Linear(in_features=5, out_features=5, bias=True)\n",
      "  )\n",
      "  (out_layer): Linear(in_features=5, out_features=2, bias=True)\n",
      ")\n"
     ]
    }
   ],
   "source": [
    "# 모델 인스턴스 생성\n",
    "m1 = DynamicModel(3,2, 5,10)\n",
    "\n",
    "# 모델 구조 확인\n",
    "print(m1)"
   ]
  },
  {
   "cell_type": "code",
   "execution_count": 27,
   "metadata": {},
   "outputs": [
    {
     "name": "stdout",
     "output_type": "stream",
     "text": [
      "in_layer.weight torch.Size([5, 3])\n",
      "in_layer.bias torch.Size([5])\n",
      "h_layers.0.weight torch.Size([5, 5])\n",
      "h_layers.0.bias torch.Size([5])\n",
      "h_layers.1.weight torch.Size([5, 5])\n",
      "h_layers.1.bias torch.Size([5])\n",
      "h_layers.2.weight torch.Size([5, 5])\n",
      "h_layers.2.bias torch.Size([5])\n",
      "h_layers.3.weight torch.Size([5, 5])\n",
      "h_layers.3.bias torch.Size([5])\n",
      "h_layers.4.weight torch.Size([5, 5])\n",
      "h_layers.4.bias torch.Size([5])\n",
      "h_layers.5.weight torch.Size([5, 5])\n",
      "h_layers.5.bias torch.Size([5])\n",
      "h_layers.6.weight torch.Size([5, 5])\n",
      "h_layers.6.bias torch.Size([5])\n",
      "h_layers.7.weight torch.Size([5, 5])\n",
      "h_layers.7.bias torch.Size([5])\n",
      "h_layers.8.weight torch.Size([5, 5])\n",
      "h_layers.8.bias torch.Size([5])\n",
      "h_layers.9.weight torch.Size([5, 5])\n",
      "h_layers.9.bias torch.Size([5])\n",
      "out_layer.weight torch.Size([2, 5])\n",
      "out_layer.bias torch.Size([2])\n"
     ]
    }
   ],
   "source": [
    "# 모델 파라미터 확인\n",
    "for name, param in m1.named_parameters():\n",
    "    print(name, param.shape)"
   ]
  },
  {
   "cell_type": "markdown",
   "metadata": {},
   "source": [
    "* 학습 진행"
   ]
  },
  {
   "cell_type": "code",
   "execution_count": 28,
   "metadata": {},
   "outputs": [],
   "source": [
    "## 임시 데이터 생성\n",
    "dataTS = torch.FloatTensor([ [1,3,5], [2,4,6], [3,5,7], [4,6,8]]) \t# 2D  4행 3열(4,3)\n",
    "targetTS = torch.FloatTensor( [ [7,9], [8,10], [9,11], [10,12] ])\t# 2D  4행 2열(4,2)"
   ]
  },
  {
   "cell_type": "code",
   "execution_count": 29,
   "metadata": {},
   "outputs": [
    {
     "name": "stdout",
     "output_type": "stream",
     "text": [
      "tensor([[0.1237, 0.0215],\n",
      "        [0.1237, 0.0215],\n",
      "        [0.1237, 0.0215],\n",
      "        [0.1237, 0.0215]], grad_fn=<AddmmBackward0>)\n",
      "torch.Size([4, 2])\n"
     ]
    }
   ],
   "source": [
    "# 모델 학습\n",
    "pre_y = m1(dataTS)\n",
    "\n",
    "print(pre_y, pre_y.shape, sep='\\n')"
   ]
  },
  {
   "cell_type": "code",
   "execution_count": null,
   "metadata": {},
   "outputs": [],
   "source": []
  },
  {
   "cell_type": "code",
   "execution_count": null,
   "metadata": {},
   "outputs": [],
   "source": []
  },
  {
   "cell_type": "code",
   "execution_count": null,
   "metadata": {},
   "outputs": [],
   "source": []
  },
  {
   "cell_type": "code",
   "execution_count": null,
   "metadata": {},
   "outputs": [],
   "source": [
    "# 입력층의 개수가 동적인 모델"
   ]
  },
  {
   "cell_type": "code",
   "execution_count": null,
   "metadata": {},
   "outputs": [],
   "source": [
    "# 은닉층의 개수가 동적인 모델\n",
    "class MyModel4(nn.Module):\n",
    "    \n",
    "    # 인스턴스/객체 생성 시 자동호출 메서드\n",
    "    def __init__(self,in_features, in_out, hidden_cnt, **h_out):\n",
    "    \n",
    "    # 부모 클래스 생성\n",
    "        super().__init__()\n",
    "    \n",
    "    # 자식클래스 인스턴스 속성 설정\n",
    "    \n",
    "\t\tif hidden_cnt == 0:\t\n",
    "\t\t\tself.input_layer = nn.Linear(in_features, in_out)\t\n",
    "\t\t\tself.output_layer = nn.Linear(in_out, 1)\n",
    "        \n",
    "\t\telif hidden_cnt >0:\n",
    "\t\t\tself.input_layer = nn.Linear(in_features, in_out)\n",
    "\t\t\tself.hidden_yaer = nn.Linear(in_out,h_out)\n",
    "\t\t\tself.output_layer = nn.Linear(h_out, 1)\n",
    "\n",
    "\t\telse:\n",
    "\t\t\tprint(f'은닉층 반복횟수는 0또는 양수')\n",
    "    \n",
    "\t# Callback func\n",
    "\t# \t\t=> 순반향/전방향 학습 시, 자동호출되는 메서드\n",
    "\t#\t\t=> 시스템에서 호출\n",
    "\t# \t\t=> 전달인자: Train DS\n",
    "    def forward(self, x, hidden_cnt):\n",
    "        print('calling forward()')\n",
    "        \n",
    "        if hidden_cnt == 0:\n",
    "             y = self.input_layer(x)\n",
    "\t\t\t \n",
    "\t\t\n",
    "        y = self.input_layer(x)\t\t# 1 Perceptron -> y = x1w1+x2w2+x3w3+x4w4 + b\n",
    "\t\t\t\t\t\t\t\t\t#\t\t\t\t\t\t\t\t\t\t\t--> 20개\n",
    "        y = F.relu(y)\t\t\t\t# 0<= y \t--> 죽은 ReLU 발생 --> leakyReLU로 해결\n",
    "\t\t\n",
    "        y = self.hidden_layer(y)\t# 1 Perceptron -> y = x1w1+ ... + x20w20 + b\n",
    "\t\t\t\t\t\t\t\t\t# \t\t\t\t\t\t\t\t\t\t\t--> 100개\n",
    "        y = F.relu(y)\n",
    "\t\t\n",
    "        return self.output_layer(y)\t# 1 Perceptron -> y = x1w1+ ... + x100w100 + b"
   ]
  },
  {
   "cell_type": "code",
   "execution_count": 18,
   "metadata": {},
   "outputs": [],
   "source": [
    "# 모델 인스턴스 생성\n",
    "m1 = MyModel(4)"
   ]
  },
  {
   "cell_type": "code",
   "execution_count": 6,
   "metadata": {},
   "outputs": [],
   "source": [
    "# for m in m1.parameters(): print(m)"
   ]
  },
  {
   "cell_type": "code",
   "execution_count": null,
   "metadata": {},
   "outputs": [],
   "source": [
    "# for m in m1.named_parameters(): print(m)"
   ]
  },
  {
   "cell_type": "code",
   "execution_count": 19,
   "metadata": {},
   "outputs": [
    {
     "name": "stdout",
     "output_type": "stream",
     "text": [
      "calling forward()\n",
      "tensor([[-0.1395],\n",
      "        [-0.1858]], grad_fn=<AddmmBackward0>)\n"
     ]
    }
   ],
   "source": [
    "# 학습 진행 ==> 모델인스턴스명(데이터)\n",
    "\n",
    "# 임의의 데이터\n",
    "dataTS = torch.FloatTensor( [[1,3,5,7], [2,4,6,8]])\n",
    "targetTS = torch.FloatTensor( [[4],[5]] )\n",
    "\n",
    "# 학습\n",
    "pre_y = m1(dataTS)\n",
    "\n",
    "print(pre_y)"
   ]
  },
  {
   "cell_type": "code",
   "execution_count": null,
   "metadata": {},
   "outputs": [],
   "source": []
  }
 ],
 "metadata": {
  "kernelspec": {
   "display_name": "torch_38",
   "language": "python",
   "name": "python3"
  },
  "language_info": {
   "codemirror_mode": {
    "name": "ipython",
    "version": 3
   },
   "file_extension": ".py",
   "mimetype": "text/x-python",
   "name": "python",
   "nbconvert_exporter": "python",
   "pygments_lexer": "ipython3",
   "version": "3.8.19"
  }
 },
 "nbformat": 4,
 "nbformat_minor": 2
}
