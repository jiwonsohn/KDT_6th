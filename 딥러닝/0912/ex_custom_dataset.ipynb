{
 "cells": [
  {
   "cell_type": "markdown",
   "metadata": {},
   "source": [
    "### 사용자 정의 데이터셋\n",
    "- Pytorch에서 딥러닝 시 대량의 데이터 사용에 따른 부하(HW, SW) & 시간 소요에 대한 해결책으로 제시\n",
    "- 대량 데이터셋 전용 처리 모듈 제공\n",
    "- Dataset & DataLoader\n",
    "\t* DataSet => 데이터 전처리, 텐서화 등의 작업 진행\n",
    "\t* DataLoader => Dataset 인스턴스를 사용 & 배치크기만큼 데이터 추출\n"
   ]
  },
  {
   "cell_type": "markdown",
   "metadata": {},
   "source": [
    "#### [1] 모듈 로딩 & 데이터 준비<hr>"
   ]
  },
  {
   "cell_type": "code",
   "execution_count": 4,
   "metadata": {},
   "outputs": [],
   "source": [
    "import torch\n",
    "import torch.nn as nn\n",
    "from torch.utils.data import Dataset, DataLoader\n",
    "\n",
    "import pandas as pd\n",
    "from sklearn.preprocessing import LabelEncoder\t\t\t# 타겟 칼럼 수치화 (인코딩)"
   ]
  },
  {
   "cell_type": "code",
   "execution_count": 2,
   "metadata": {},
   "outputs": [],
   "source": [
    "# 데이터 \n",
    "DATA_FILE = r'C:\\Users\\KDP-43\\Desktop\\머신러닝_1\\data\\iris.csv'"
   ]
  },
  {
   "cell_type": "code",
   "execution_count": 3,
   "metadata": {},
   "outputs": [
    {
     "data": {
      "text/html": [
       "<div>\n",
       "<style scoped>\n",
       "    .dataframe tbody tr th:only-of-type {\n",
       "        vertical-align: middle;\n",
       "    }\n",
       "\n",
       "    .dataframe tbody tr th {\n",
       "        vertical-align: top;\n",
       "    }\n",
       "\n",
       "    .dataframe thead th {\n",
       "        text-align: right;\n",
       "    }\n",
       "</style>\n",
       "<table border=\"1\" class=\"dataframe\">\n",
       "  <thead>\n",
       "    <tr style=\"text-align: right;\">\n",
       "      <th></th>\n",
       "      <th>sepal.length</th>\n",
       "      <th>sepal.width</th>\n",
       "      <th>petal.length</th>\n",
       "      <th>petal.width</th>\n",
       "      <th>variety</th>\n",
       "    </tr>\n",
       "  </thead>\n",
       "  <tbody>\n",
       "    <tr>\n",
       "      <th>0</th>\n",
       "      <td>5.1</td>\n",
       "      <td>3.5</td>\n",
       "      <td>1.4</td>\n",
       "      <td>0.2</td>\n",
       "      <td>Setosa</td>\n",
       "    </tr>\n",
       "    <tr>\n",
       "      <th>1</th>\n",
       "      <td>4.9</td>\n",
       "      <td>3.0</td>\n",
       "      <td>1.4</td>\n",
       "      <td>0.2</td>\n",
       "      <td>Setosa</td>\n",
       "    </tr>\n",
       "    <tr>\n",
       "      <th>2</th>\n",
       "      <td>4.7</td>\n",
       "      <td>3.2</td>\n",
       "      <td>1.3</td>\n",
       "      <td>0.2</td>\n",
       "      <td>Setosa</td>\n",
       "    </tr>\n",
       "  </tbody>\n",
       "</table>\n",
       "</div>"
      ],
      "text/plain": [
       "   sepal.length  sepal.width  petal.length  petal.width variety\n",
       "0           5.1          3.5           1.4          0.2  Setosa\n",
       "1           4.9          3.0           1.4          0.2  Setosa\n",
       "2           4.7          3.2           1.3          0.2  Setosa"
      ]
     },
     "execution_count": 3,
     "metadata": {},
     "output_type": "execute_result"
    }
   ],
   "source": [
    "irisDF = pd.read_csv(DATA_FILE)\n",
    "irisDF.head(3)"
   ]
  },
  {
   "cell_type": "code",
   "execution_count": 6,
   "metadata": {},
   "outputs": [
    {
     "name": "stdout",
     "output_type": "stream",
     "text": [
      "   sepal.length  sepal.width  petal.length  petal.width  variety\n",
      "0           5.1          3.5           1.4          0.2        0\n",
      "1           4.9          3.0           1.4          0.2        0\n",
      "2           4.7          3.2           1.3          0.2        0\n"
     ]
    }
   ],
   "source": [
    "# 타겟 컬럼 수치화 ==> LabelEncoder\n",
    "encoder = LabelEncoder()\n",
    "encoder.fit(irisDF['variety'])\n",
    "irisDF['variety'] = encoder.transform(irisDF['variety'])\n",
    "\n",
    "print(irisDF.head(3))"
   ]
  },
  {
   "cell_type": "markdown",
   "metadata": {},
   "source": [
    "#### [2] 사용자 정의 데이터셋 클래스 생성<hr>"
   ]
  },
  {
   "cell_type": "code",
   "execution_count": 11,
   "metadata": {},
   "outputs": [],
   "source": [
    "# --------------------------------------------------\n",
    "# 클래스 목적: 학습용 데이터셋 텐서화 & 전처리\n",
    "# 클래스 이름: CustomDataSet\n",
    "# 부모 클래스: torch.utils.data.DataSet\n",
    "# 매개\t 변수: featureDF, targetDF\n",
    "# --------------------------------------------------\n",
    "\n",
    "class CustomDataSet(Dataset):\n",
    "    \n",
    "\t# 데이터 로딩 & 전처리 & 인스턴스 생성 메서드\n",
    "    def __init__(self, featureDF, targetDF):\n",
    "        super().__init__()\n",
    "        self.featureDF = featureDF\n",
    "        self.targetDF = targetDF\n",
    "        self.n_rows = featureDF.shape[0]\n",
    "        self.n_features = featureDF.shape[1]\n",
    "    \n",
    "\t# 데이터 개수 반환 메서드\n",
    "    def __len__(self):\n",
    "        return self.n_rows\n",
    "    \n",
    "\t# 특정 index 데이터 & 타겟 반환\n",
    "    # Tensor 형태로\n",
    "    def __getitem__(self, idx):\n",
    "        featureTS = torch.FloatTensor( self.featureDF.iloc[idx].values )\t# 시리즈 -> array -> tensor\n",
    "        targetTS = torch.FloatTensor( self.targetDF.iloc[idx].values)\n",
    "        return featureTS, targetTS\n",
    "    \n"
   ]
  },
  {
   "cell_type": "code",
   "execution_count": null,
   "metadata": {},
   "outputs": [],
   "source": [
    "# --------------------------------------------------\n",
    "# 함수 목적: 파일 확장자별 DF 로드 & 변환\n",
    "# 함수 이름: convertDataFrame\n",
    "# 매개 변수: file_path\n",
    "# 함수 결과: DataFrame\n",
    "# --------------------------------------------------\n",
    "\n",
    "def convertDataFrame(file_path, is_header=0):\n",
    "    \n",
    "\text = file_path.rsplit('.')[-1]\n",
    "\n",
    "\tif ext == 'csv':\n",
    "\t\treturn pd.read_csv(file_path, header=is_header)\n",
    "\t\n",
    "\telif ext == 'json':\n",
    "\t\treturn pd.read_json(file_path, header=is_header)\n",
    "\t\n",
    "\telif ext in ['xlsx', 'xls']:\n",
    "\t\treturn pd.read_excel(file_path, header=is_header)\n",
    "\t\n",
    "\telse:\n",
    "\t\treturn pd.read_table(file_path, header=is_header )\n",
    "\t\n",
    "\n",
    "    \n"
   ]
  },
  {
   "cell_type": "code",
   "execution_count": null,
   "metadata": {},
   "outputs": [],
   "source": [
    "# --------------------------------------------------\n",
    "# 클래스 목적: 파일 주소로 학습용 데이터셋 텐서화 & 전처리\n",
    "# 클래스 이름: FileDataSet\n",
    "# 부모 클래스: torch.utils.data.DataSet\n",
    "# 매개\t 변수: file_path\n",
    "# --------------------------------------------------\n",
    "\n",
    "class FileDataSet(Dataset):\n",
    "    \n",
    "\t# 데이터 로딩 & 전처리 & 인스턴스 생성 메서드\n",
    "    def __init__(self, file_path):\n",
    "        super().__init__()\n",
    "\n",
    "        dataDF = convertDataFrame(file_path)\n",
    "        self.featuresDF = dataDF[dataDF.columns[:-1]]\n",
    "        self.targetDF = dataDF[dataDF.columns[-1]]\n",
    "        \n",
    "        self.n_features = self.featuresDF.shape[1]\n",
    "        self.n_rows = self.featuresDF.shape[0]\n",
    "        \n",
    "    \n",
    "\t# 데이터 개수 반환 메서드\n",
    "    def __len__(self):\n",
    "        return self.n_rows\n",
    "    \n",
    "\t# 특정 index 데이터 & 타겟 반환\n",
    "    # Tensor 형태로\n",
    "    def __getitem__(self, idx):\n",
    "        featureTS = torch.FloatTensor( self.featureDF.iloc[idx].values )\t# 시리즈 -> array -> tensor\n",
    "        targetTS = torch.FloatTensor( self.targetDF.iloc[idx].values)\n",
    "        return featureTS, targetTS\n",
    "    \n"
   ]
  },
  {
   "cell_type": "markdown",
   "metadata": {},
   "source": [
    "#### [3] 데이터셋 인스턴스 생성 <hr>"
   ]
  },
  {
   "cell_type": "code",
   "execution_count": 16,
   "metadata": {},
   "outputs": [
    {
     "name": "stdout",
     "output_type": "stream",
     "text": [
      "featureDF => (150, 4), targetDF => (150, 1)\n"
     ]
    }
   ],
   "source": [
    "featureDF, targetDF = irisDF[irisDF.columns[:-1]], irisDF[[irisDF.columns[-1]]]\n",
    "print(f'featureDF => {featureDF.shape}, targetDF => {targetDF.shape}')"
   ]
  },
  {
   "cell_type": "code",
   "execution_count": 17,
   "metadata": {},
   "outputs": [],
   "source": [
    "# IRIS 데이터셋 인스턴스 생성\n",
    "irisDS = CustomDataSet(featureDF, targetDF)"
   ]
  },
  {
   "cell_type": "code",
   "execution_count": 18,
   "metadata": {},
   "outputs": [
    {
     "data": {
      "text/html": [
       "<div>\n",
       "<style scoped>\n",
       "    .dataframe tbody tr th:only-of-type {\n",
       "        vertical-align: middle;\n",
       "    }\n",
       "\n",
       "    .dataframe tbody tr th {\n",
       "        vertical-align: top;\n",
       "    }\n",
       "\n",
       "    .dataframe thead th {\n",
       "        text-align: right;\n",
       "    }\n",
       "</style>\n",
       "<table border=\"1\" class=\"dataframe\">\n",
       "  <thead>\n",
       "    <tr style=\"text-align: right;\">\n",
       "      <th></th>\n",
       "      <th>sepal.length</th>\n",
       "      <th>sepal.width</th>\n",
       "      <th>petal.length</th>\n",
       "      <th>petal.width</th>\n",
       "    </tr>\n",
       "  </thead>\n",
       "  <tbody>\n",
       "    <tr>\n",
       "      <th>0</th>\n",
       "      <td>5.1</td>\n",
       "      <td>3.5</td>\n",
       "      <td>1.4</td>\n",
       "      <td>0.2</td>\n",
       "    </tr>\n",
       "    <tr>\n",
       "      <th>1</th>\n",
       "      <td>4.9</td>\n",
       "      <td>3.0</td>\n",
       "      <td>1.4</td>\n",
       "      <td>0.2</td>\n",
       "    </tr>\n",
       "    <tr>\n",
       "      <th>2</th>\n",
       "      <td>4.7</td>\n",
       "      <td>3.2</td>\n",
       "      <td>1.3</td>\n",
       "      <td>0.2</td>\n",
       "    </tr>\n",
       "    <tr>\n",
       "      <th>3</th>\n",
       "      <td>4.6</td>\n",
       "      <td>3.1</td>\n",
       "      <td>1.5</td>\n",
       "      <td>0.2</td>\n",
       "    </tr>\n",
       "    <tr>\n",
       "      <th>4</th>\n",
       "      <td>5.0</td>\n",
       "      <td>3.6</td>\n",
       "      <td>1.4</td>\n",
       "      <td>0.2</td>\n",
       "    </tr>\n",
       "    <tr>\n",
       "      <th>...</th>\n",
       "      <td>...</td>\n",
       "      <td>...</td>\n",
       "      <td>...</td>\n",
       "      <td>...</td>\n",
       "    </tr>\n",
       "    <tr>\n",
       "      <th>145</th>\n",
       "      <td>6.7</td>\n",
       "      <td>3.0</td>\n",
       "      <td>5.2</td>\n",
       "      <td>2.3</td>\n",
       "    </tr>\n",
       "    <tr>\n",
       "      <th>146</th>\n",
       "      <td>6.3</td>\n",
       "      <td>2.5</td>\n",
       "      <td>5.0</td>\n",
       "      <td>1.9</td>\n",
       "    </tr>\n",
       "    <tr>\n",
       "      <th>147</th>\n",
       "      <td>6.5</td>\n",
       "      <td>3.0</td>\n",
       "      <td>5.2</td>\n",
       "      <td>2.0</td>\n",
       "    </tr>\n",
       "    <tr>\n",
       "      <th>148</th>\n",
       "      <td>6.2</td>\n",
       "      <td>3.4</td>\n",
       "      <td>5.4</td>\n",
       "      <td>2.3</td>\n",
       "    </tr>\n",
       "    <tr>\n",
       "      <th>149</th>\n",
       "      <td>5.9</td>\n",
       "      <td>3.0</td>\n",
       "      <td>5.1</td>\n",
       "      <td>1.8</td>\n",
       "    </tr>\n",
       "  </tbody>\n",
       "</table>\n",
       "<p>150 rows × 4 columns</p>\n",
       "</div>"
      ],
      "text/plain": [
       "     sepal.length  sepal.width  petal.length  petal.width\n",
       "0             5.1          3.5           1.4          0.2\n",
       "1             4.9          3.0           1.4          0.2\n",
       "2             4.7          3.2           1.3          0.2\n",
       "3             4.6          3.1           1.5          0.2\n",
       "4             5.0          3.6           1.4          0.2\n",
       "..            ...          ...           ...          ...\n",
       "145           6.7          3.0           5.2          2.3\n",
       "146           6.3          2.5           5.0          1.9\n",
       "147           6.5          3.0           5.2          2.0\n",
       "148           6.2          3.4           5.4          2.3\n",
       "149           5.9          3.0           5.1          1.8\n",
       "\n",
       "[150 rows x 4 columns]"
      ]
     },
     "execution_count": 18,
     "metadata": {},
     "output_type": "execute_result"
    }
   ],
   "source": [
    "irisDS.featureDF"
   ]
  },
  {
   "cell_type": "code",
   "execution_count": 19,
   "metadata": {},
   "outputs": [
    {
     "data": {
      "text/plain": [
       "(tensor([5.1000, 3.5000, 1.4000, 0.2000]), tensor([0.]))"
      ]
     },
     "execution_count": 19,
     "metadata": {},
     "output_type": "execute_result"
    }
   ],
   "source": [
    "irisDS[0]"
   ]
  },
  {
   "cell_type": "markdown",
   "metadata": {},
   "source": [
    "#### [4] 데이터로더 인스턴스 생성\n",
    "- iterator 기능 있음"
   ]
  },
  {
   "cell_type": "code",
   "execution_count": 22,
   "metadata": {},
   "outputs": [],
   "source": [
    "## 필요한 것: Dataset 인스턴스, Batch_size (default=1)\n",
    "irisDL = DataLoader(irisDS, batch_size=5)"
   ]
  },
  {
   "cell_type": "code",
   "execution_count": 26,
   "metadata": {},
   "outputs": [
    {
     "name": "stdout",
     "output_type": "stream",
     "text": [
      "dataTS shape torch.Size([5, 4])\n",
      "targetTS shape torch.Size([5, 1])\n"
     ]
    }
   ],
   "source": [
    "for dataTS, targetTS in irisDL:\n",
    "    print(\"dataTS shape\", dataTS.shape)\n",
    "    print(\"targetTS shape\", targetTS.shape)\n",
    "    break"
   ]
  },
  {
   "cell_type": "code",
   "execution_count": null,
   "metadata": {},
   "outputs": [],
   "source": []
  },
  {
   "cell_type": "code",
   "execution_count": null,
   "metadata": {},
   "outputs": [],
   "source": []
  },
  {
   "cell_type": "code",
   "execution_count": null,
   "metadata": {},
   "outputs": [],
   "source": []
  },
  {
   "cell_type": "code",
   "execution_count": null,
   "metadata": {},
   "outputs": [],
   "source": []
  }
 ],
 "metadata": {
  "kernelspec": {
   "display_name": "torch_38",
   "language": "python",
   "name": "python3"
  },
  "language_info": {
   "codemirror_mode": {
    "name": "ipython",
    "version": 3
   },
   "file_extension": ".py",
   "mimetype": "text/x-python",
   "name": "python",
   "nbconvert_exporter": "python",
   "pygments_lexer": "ipython3",
   "version": "3.8.19"
  }
 },
 "nbformat": 4,
 "nbformat_minor": 2
}
