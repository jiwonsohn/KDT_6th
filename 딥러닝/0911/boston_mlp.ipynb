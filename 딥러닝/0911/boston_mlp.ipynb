{
 "cells": [
  {
   "cell_type": "markdown",
   "metadata": {},
   "source": [
    "### IRIS 데이터셋 활용 꽃잎 너비 예측 모델\n",
    "- 데이터셋: iris.csv 2개 (1개 피쳐, 1개 타겟) feature 사용\n",
    "- Linear regression\n",
    "- 너비 예측\n",
    "- 구현_프레임워크: Pytorch\n",
    "- Train, test, Validation Dataset 생성"
   ]
  },
  {
   "cell_type": "code",
   "execution_count": 1,
   "metadata": {},
   "outputs": [],
   "source": [
    "import torch\t\t\t\t\t# 텐서 및 수치 계산 함수 관련 모듈\n",
    "import torch.nn as nn\t\t\t# 인공신경망 관련 모듈\n",
    "import torch.nn.functional as F \t# 손실, 거래 등 함수 관련 모듈\n",
    "import torch.optim as optimizer # 최적화 기법 관련 모듈\n",
    "\n",
    "from torchinfo import summary\t# 모델 정보 관련 모듈\t\t+) 추가 설치\n",
    "from torchmetrics.regression import R2Score\t\t# 성능지표 관련 모듈 +) 추가 설치\n",
    "import pandas as pd\t\t\t\t# 데이터 파일 분석 관련 모듈\n",
    "\n",
    "from sklearn.model_selection import train_test_split\t\t# trainDS, testDS 분할 관련 모듈듈"
   ]
  },
  {
   "cell_type": "code",
   "execution_count": 2,
   "metadata": {},
   "outputs": [
    {
     "name": "stdout",
     "output_type": "stream",
     "text": [
      "cpu\n"
     ]
    }
   ],
   "source": [
    "# 모델 가중치, 절편 초기값 고정\n",
    "torch.manual_seed(1)\n",
    "\n",
    "# 저장 및 실행 위치 고정\n",
    "DEVICE = 'cuda' if torch.cuda.is_available() else 'cpu'\n",
    "print(f'{DEVICE}')"
   ]
  },
  {
   "cell_type": "code",
   "execution_count": 3,
   "metadata": {},
   "outputs": [
    {
     "data": {
      "text/html": [
       "<div>\n",
       "<style scoped>\n",
       "    .dataframe tbody tr th:only-of-type {\n",
       "        vertical-align: middle;\n",
       "    }\n",
       "\n",
       "    .dataframe tbody tr th {\n",
       "        vertical-align: top;\n",
       "    }\n",
       "\n",
       "    .dataframe thead th {\n",
       "        text-align: right;\n",
       "    }\n",
       "</style>\n",
       "<table border=\"1\" class=\"dataframe\">\n",
       "  <thead>\n",
       "    <tr style=\"text-align: right;\">\n",
       "      <th></th>\n",
       "      <th>CRIM</th>\n",
       "      <th>ZN</th>\n",
       "      <th>INDUS</th>\n",
       "      <th>CHAS</th>\n",
       "      <th>NOX</th>\n",
       "      <th>RM</th>\n",
       "      <th>AGE</th>\n",
       "      <th>DIS</th>\n",
       "      <th>RAD</th>\n",
       "      <th>TAX</th>\n",
       "      <th>PTRATIO</th>\n",
       "      <th>B</th>\n",
       "      <th>LSTAT</th>\n",
       "      <th>MEDV</th>\n",
       "    </tr>\n",
       "  </thead>\n",
       "  <tbody>\n",
       "    <tr>\n",
       "      <th>0</th>\n",
       "      <td>0.00632</td>\n",
       "      <td>18.0</td>\n",
       "      <td>2.31</td>\n",
       "      <td>0</td>\n",
       "      <td>0.538</td>\n",
       "      <td>6.575</td>\n",
       "      <td>65.2</td>\n",
       "      <td>4.0900</td>\n",
       "      <td>1</td>\n",
       "      <td>296.0</td>\n",
       "      <td>15.3</td>\n",
       "      <td>396.9</td>\n",
       "      <td>4.98</td>\n",
       "      <td>24.0</td>\n",
       "    </tr>\n",
       "    <tr>\n",
       "      <th>1</th>\n",
       "      <td>0.02731</td>\n",
       "      <td>0.0</td>\n",
       "      <td>7.07</td>\n",
       "      <td>0</td>\n",
       "      <td>0.469</td>\n",
       "      <td>6.421</td>\n",
       "      <td>78.9</td>\n",
       "      <td>4.9671</td>\n",
       "      <td>2</td>\n",
       "      <td>242.0</td>\n",
       "      <td>17.8</td>\n",
       "      <td>396.9</td>\n",
       "      <td>9.14</td>\n",
       "      <td>21.6</td>\n",
       "    </tr>\n",
       "  </tbody>\n",
       "</table>\n",
       "</div>"
      ],
      "text/plain": [
       "      CRIM    ZN  INDUS  CHAS    NOX     RM   AGE     DIS  RAD    TAX  \\\n",
       "0  0.00632  18.0   2.31     0  0.538  6.575  65.2  4.0900    1  296.0   \n",
       "1  0.02731   0.0   7.07     0  0.469  6.421  78.9  4.9671    2  242.0   \n",
       "\n",
       "   PTRATIO      B  LSTAT  MEDV  \n",
       "0     15.3  396.9   4.98  24.0  \n",
       "1     17.8  396.9   9.14  21.6  "
      ]
     },
     "execution_count": 3,
     "metadata": {},
     "output_type": "execute_result"
    }
   ],
   "source": [
    "DATA_FILE = r\"C:\\Users\\KDP-43\\Desktop\\머신러닝_1\\data\\boston.csv\"\n",
    "\n",
    "bostonDF = pd.read_csv(DATA_FILE)\t\t\t\n",
    "bostonDF.head(2)"
   ]
  },
  {
   "cell_type": "markdown",
   "metadata": {},
   "source": [
    "[2] 모델 준비\n",
    "- 학습방법: 지도학습 >> 회귀\n",
    "- 알고리즘: 선형관계 >> 선형모델 >> nn.Linear\n",
    "\n",
    "* +) LeakyReLU => 기울기 소실 방지 (기울기=0이면 피쳐에 대한 가중치=0이 되어 모델에 피쳐 학습 불가!)"
   ]
  },
  {
   "cell_type": "code",
   "execution_count": 4,
   "metadata": {},
   "outputs": [],
   "source": [
    "## 모델 설계\n",
    "# 입쳑층에 입력값/피쳐\t: petal.length 3개\n",
    "# 출력층의 출력값/피쳐\t: petal.width  1개\n",
    "\n",
    "\n",
    "# 입력층: 입력 피쳐:3개,\t출력 입력층에 존재하는 퍼셉트론 개수 10\t\t=> AF(활성함수): ReLU\n",
    "#\t\t\t\t_________________|\n",
    "#\t\t\t   |\tReLU\n",
    "#\t\t\t   V\n",
    "# 은닉충: 입력 10, \t\t\t출력 은닉층에 존재하는 퍼셉트론 개수 5\t   => AF(활성함수): ReLU\n",
    "#\t\t\t  _________________|\n",
    "#\t\t\t |\tReLU\n",
    "#\t\t\t V\n",
    "\n",
    "\n",
    "# 멀티 layer 예시)\n",
    "nn_model = nn.Sequential( nn.Linear(1, 20),\t\t\n",
    "                         nn.ReLU(),\n",
    "              nn.Linear(20,10),\n",
    "              nn.ReLU(),\n",
    "            nn.Linear(10,10),\n",
    "              nn.ReLU(),\n",
    "              nn.Linear(10,5),\n",
    "         nn.ReLU(),\n",
    "      nn.Linear(5,1) )"
   ]
  },
  {
   "cell_type": "code",
   "execution_count": 5,
   "metadata": {},
   "outputs": [
    {
     "name": "stdout",
     "output_type": "stream",
     "text": [
      "Sequential(\n",
      "  (0): Linear(in_features=1, out_features=20, bias=True)\n",
      "  (1): ReLU()\n",
      "  (2): Linear(in_features=20, out_features=10, bias=True)\n",
      "  (3): ReLU()\n",
      "  (4): Linear(in_features=10, out_features=10, bias=True)\n",
      "  (5): ReLU()\n",
      "  (6): Linear(in_features=10, out_features=5, bias=True)\n",
      "  (7): ReLU()\n",
      "  (8): Linear(in_features=5, out_features=1, bias=True)\n",
      ")\n"
     ]
    },
    {
     "data": {
      "text/plain": [
       "==========================================================================================\n",
       "Layer (type:depth-idx)                   Output Shape              Param #\n",
       "==========================================================================================\n",
       "Sequential                               [1]                       --\n",
       "├─Linear: 1-1                            [20]                      40\n",
       "├─ReLU: 1-2                              [20]                      --\n",
       "├─Linear: 1-3                            [10]                      210\n",
       "├─ReLU: 1-4                              [10]                      --\n",
       "├─Linear: 1-5                            [10]                      110\n",
       "├─ReLU: 1-6                              [10]                      --\n",
       "├─Linear: 1-7                            [5]                       55\n",
       "├─ReLU: 1-8                              [5]                       --\n",
       "├─Linear: 1-9                            [1]                       6\n",
       "==========================================================================================\n",
       "Total params: 421\n",
       "Trainable params: 421\n",
       "Non-trainable params: 0\n",
       "Total mult-adds (M): 0.00\n",
       "==========================================================================================\n",
       "Input size (MB): 0.00\n",
       "Forward/backward pass size (MB): 0.00\n",
       "Params size (MB): 0.00\n",
       "Estimated Total Size (MB): 0.00\n",
       "=========================================================================================="
      ]
     },
     "execution_count": 5,
     "metadata": {},
     "output_type": "execute_result"
    }
   ],
   "source": [
    "# 모델 구조 확인\n",
    "print(nn_model)\n",
    "# summary( nn_model, input_size=(3,))\n",
    "summary( nn_model, input_size=(1,))\n",
    "\n",
    "\n",
    "#----------------------------------------\n",
    "# Params (#)\n",
    "\n",
    "# \t\t==> (입력층 개수 + 1(절편,bias)) X (퍼셉트론 개수)\n",
    "\n",
    "#----------------------------------------"
   ]
  },
  {
   "cell_type": "code",
   "execution_count": 6,
   "metadata": {},
   "outputs": [
    {
     "name": "stdout",
     "output_type": "stream",
     "text": [
      "[0.weight] Parameter containing:\n",
      "tensor([[ 0.5153],\n",
      "        [-0.4414],\n",
      "        [-0.1939],\n",
      "        [ 0.4694],\n",
      "        [-0.9414],\n",
      "        [ 0.5997],\n",
      "        [-0.2057],\n",
      "        [ 0.5087],\n",
      "        [ 0.1390],\n",
      "        [-0.1224],\n",
      "        [ 0.2774],\n",
      "        [ 0.0493],\n",
      "        [ 0.3652],\n",
      "        [-0.3897],\n",
      "        [-0.0729],\n",
      "        [-0.0900],\n",
      "        [ 0.1449],\n",
      "        [-0.0040],\n",
      "        [ 0.8742],\n",
      "        [ 0.3112]], requires_grad=True)\n",
      "\n",
      "[0.bias] Parameter containing:\n",
      "tensor([-0.3724, -0.6040, -0.1676, -0.4313, -0.3204,  0.0479,  0.5961,  0.5435,\n",
      "        -0.9776,  0.6199,  0.2794,  0.9486,  0.6601, -0.9111, -0.9508, -0.4823,\n",
      "         0.8781, -0.1666,  0.4280, -0.4647], requires_grad=True)\n",
      "\n",
      "[2.weight] Parameter containing:\n",
      "tensor([[ 0.2194, -0.0946,  0.1677,  0.0026, -0.1178,  0.1149, -0.1187,  0.0658,\n",
      "         -0.0646, -0.0245, -0.2150, -0.1066,  0.1213, -0.0544,  0.2227,  0.1792,\n",
      "         -0.0105, -0.1493,  0.1362,  0.0694],\n",
      "        [-0.1445,  0.1452,  0.1358,  0.1983, -0.1253, -0.0368, -0.0043,  0.0327,\n",
      "         -0.1697, -0.1587,  0.1216, -0.0524,  0.1092,  0.0127,  0.0734,  0.0492,\n",
      "          0.0813,  0.1108, -0.2071,  0.1126],\n",
      "        [-0.1572, -0.1687,  0.0136, -0.0381,  0.1313, -0.1295, -0.1988,  0.1627,\n",
      "         -0.0332,  0.1258,  0.0719, -0.1677,  0.0449,  0.0537, -0.1497, -0.1061,\n",
      "          0.0762,  0.0401, -0.0951, -0.0677],\n",
      "        [ 0.2048, -0.0414,  0.1261,  0.0968, -0.1445, -0.1902,  0.2146,  0.0117,\n",
      "          0.1533,  0.0463,  0.0719,  0.1670,  0.2120, -0.1484,  0.0280,  0.1669,\n",
      "          0.1620,  0.1389, -0.1618, -0.1610],\n",
      "        [-0.1352,  0.0281,  0.2229, -0.1412,  0.1192, -0.1238, -0.2102, -0.0475,\n",
      "          0.1288,  0.2076, -0.1389,  0.0485,  0.1929,  0.1482,  0.1394,  0.1589,\n",
      "          0.1414,  0.0578, -0.1529, -0.1878],\n",
      "        [-0.1025, -0.0260, -0.1371,  0.0818,  0.0692, -0.0506,  0.0859,  0.0723,\n",
      "          0.1365,  0.1506, -0.0757,  0.2185, -0.0259, -0.0077, -0.2111, -0.1439,\n",
      "         -0.1306, -0.0956,  0.1590, -0.0731],\n",
      "        [-0.1671,  0.0860,  0.0716,  0.1448, -0.1157,  0.0485, -0.0814, -0.0502,\n",
      "         -0.1782, -0.1019, -0.0685,  0.0956,  0.0409,  0.0552,  0.2232,  0.2179,\n",
      "          0.1525,  0.0071, -0.1547,  0.1748],\n",
      "        [-0.0559, -0.0181, -0.1926, -0.0442, -0.1442,  0.2055, -0.1933, -0.1743,\n",
      "         -0.0076, -0.1209,  0.0800, -0.0861, -0.1050,  0.0127,  0.1619, -0.1573,\n",
      "          0.1050,  0.1437,  0.2187, -0.1565],\n",
      "        [ 0.0542, -0.1653,  0.1909, -0.0867,  0.1347,  0.0067, -0.0174, -0.0071,\n",
      "          0.0380,  0.1054,  0.0359,  0.0682, -0.2011,  0.1629,  0.1950,  0.1848,\n",
      "          0.1653, -0.1614, -0.0829,  0.1972],\n",
      "        [-0.1703,  0.2029, -0.1759, -0.1575,  0.1093, -0.1607, -0.0512,  0.1627,\n",
      "          0.1771,  0.2115, -0.0454, -0.1738,  0.2202, -0.0476, -0.0920,  0.0545,\n",
      "         -0.1564,  0.1470,  0.1401, -0.1774]], requires_grad=True)\n",
      "\n",
      "[2.bias] Parameter containing:\n",
      "tensor([-0.1837, -0.0196,  0.0939, -0.0065, -0.1134,  0.0051, -0.2102, -0.1580,\n",
      "        -0.1489,  0.1841], requires_grad=True)\n",
      "\n",
      "[4.weight] Parameter containing:\n",
      "tensor([[ 0.2788, -0.1074,  0.0142,  0.1410,  0.0379, -0.1584,  0.1824,  0.1944,\n",
      "         -0.0183, -0.0389],\n",
      "        [ 0.2874,  0.2764, -0.1793,  0.3094,  0.0783, -0.2101,  0.1731, -0.2361,\n",
      "          0.2922, -0.2033],\n",
      "        [ 0.0894,  0.0963,  0.0752,  0.2623, -0.1313, -0.1335, -0.2740, -0.0130,\n",
      "         -0.1498,  0.0127],\n",
      "        [-0.0648,  0.1049,  0.2736,  0.0933, -0.1019, -0.1552, -0.2758,  0.2661,\n",
      "         -0.0599,  0.0638],\n",
      "        [ 0.0117, -0.2015,  0.1781,  0.1772,  0.0159, -0.1797, -0.1344,  0.0044,\n",
      "         -0.1807, -0.1764],\n",
      "        [-0.0472, -0.0911,  0.0776, -0.0831, -0.0419, -0.1207, -0.2890,  0.2758,\n",
      "          0.0603,  0.2828],\n",
      "        [-0.0510, -0.0795, -0.2973, -0.1200,  0.2074, -0.3097, -0.1106,  0.1927,\n",
      "          0.1823,  0.1168],\n",
      "        [-0.0626, -0.0239, -0.0601, -0.1166,  0.1320, -0.1077, -0.1777,  0.0717,\n",
      "         -0.2286, -0.0675],\n",
      "        [ 0.1616,  0.1182,  0.2692, -0.2157,  0.0027, -0.0934, -0.1769, -0.1779,\n",
      "          0.0797,  0.0331],\n",
      "        [-0.1614, -0.2229, -0.2620,  0.3099, -0.0539, -0.0731, -0.1163, -0.1582,\n",
      "         -0.2892, -0.1856]], requires_grad=True)\n",
      "\n",
      "[4.bias] Parameter containing:\n",
      "tensor([ 0.1933,  0.0693, -0.1116, -0.1195,  0.2020,  0.2280,  0.3047,  0.0922,\n",
      "         0.1528, -0.0254], requires_grad=True)\n",
      "\n",
      "[6.weight] Parameter containing:\n",
      "tensor([[-0.1849, -0.3098,  0.1926, -0.0460,  0.1299,  0.0156, -0.2951, -0.1551,\n",
      "          0.0890, -0.0640],\n",
      "        [-0.3054,  0.1109,  0.0121, -0.1016,  0.1277,  0.0668, -0.1166,  0.2841,\n",
      "          0.1586,  0.0397],\n",
      "        [-0.0607, -0.2679,  0.2442, -0.0816, -0.2044,  0.2028,  0.1123,  0.0783,\n",
      "         -0.0627, -0.0987],\n",
      "        [ 0.0537,  0.2447,  0.0453, -0.1495,  0.3141,  0.0068,  0.2500,  0.0771,\n",
      "          0.2835,  0.1825],\n",
      "        [-0.1612,  0.2221,  0.0020, -0.2538, -0.0663, -0.2854, -0.1638, -0.2240,\n",
      "          0.2163, -0.0664]], requires_grad=True)\n",
      "\n",
      "[6.bias] Parameter containing:\n",
      "tensor([-0.0546,  0.1515,  0.1287, -0.2087,  0.1165], requires_grad=True)\n",
      "\n",
      "[8.weight] Parameter containing:\n",
      "tensor([[ 0.1900, -0.3556,  0.3888, -0.2721, -0.1749]], requires_grad=True)\n",
      "\n",
      "[8.bias] Parameter containing:\n",
      "tensor([-0.3684], requires_grad=True)\n",
      "\n"
     ]
    }
   ],
   "source": [
    "# 가중치와 절편 확인\n",
    "for name, param in nn_model.named_parameters():\n",
    "\tprint(f'[{name}] {param}', end='\\n\\n')"
   ]
  },
  {
   "cell_type": "markdown",
   "metadata": {},
   "source": [
    "[3] 최적화 인스턴스 준비\n",
    "- 모델의 가중치 & 절편 최적화\n",
    "- 최적화 결과 인스턴스에 전달 \t\t=> optimizer.step()"
   ]
  },
  {
   "cell_type": "code",
   "execution_count": 7,
   "metadata": {},
   "outputs": [
    {
     "data": {
      "text/plain": [
       "' \\nAdam (\\nParameter Group 0\\n    amsgrad: False\\n    betas: (0.9, 0.999)\\n    capturable: False\\n    differentiable: False\\n    eps: 1e-08\\n    foreach: None\\n    fused: None\\n    lr: 0.1\\n    maximize: False\\n    weight_decay: 0\\n)\\n'"
      ]
     },
     "execution_count": 7,
     "metadata": {},
     "output_type": "execute_result"
    }
   ],
   "source": [
    "adam_optim = optimizer.Adam(nn_model.parameters(), lr = 0.1)\t\t# model.parameter() -> weight, bias\n",
    "\n",
    "''' \n",
    "Adam (\n",
    "Parameter Group 0\n",
    "    amsgrad: False\n",
    "    betas: (0.9, 0.999)\n",
    "    capturable: False\n",
    "    differentiable: False\n",
    "    eps: 1e-08\n",
    "    foreach: None\n",
    "    fused: None\n",
    "    lr: 0.1\n",
    "    maximize: False\n",
    "    weight_decay: 0\n",
    ")\n",
    "'''"
   ]
  },
  {
   "cell_type": "markdown",
   "metadata": {},
   "source": [
    "[4] 학습\n",
    "- 개발자가 구현 \n",
    "- 알아서 잘~~~~~~~~~~~~ 8ㅅ8"
   ]
  },
  {
   "cell_type": "markdown",
   "metadata": {},
   "source": [
    "- [4-1] 데이터셋 Tensor화 진행\n",
    "\t* 데이터 준비 시 or 학습 전"
   ]
  },
  {
   "cell_type": "code",
   "execution_count": 8,
   "metadata": {},
   "outputs": [
    {
     "name": "stdout",
     "output_type": "stream",
     "text": [
      "(506, 1) (506, 1)\n"
     ]
    }
   ],
   "source": [
    "featureDF = bostonDF[['RM']]\t\t\t# 2D\n",
    "targetDF = bostonDF[[bostonDF.columns[-1]]]\t\t\t\t\t\t\t\t\t\t\t# 2D\n",
    "\n",
    "\n",
    "print( featureDF.shape, targetDF.shape)"
   ]
  },
  {
   "cell_type": "code",
   "execution_count": 9,
   "metadata": {},
   "outputs": [
    {
     "name": "stdout",
     "output_type": "stream",
     "text": [
      "[Feature] Train (323, 1), TEST (102, 1), Valid (81, 1)\n",
      "[Target]  Train (323, 1), TEST (102, 1), Valid (81, 1)\n"
     ]
    }
   ],
   "source": [
    "# Train & test 분할\n",
    "X_train, X_test, y_train, y_test = train_test_split(featureDF, targetDF,\n",
    "                                                    test_size = 0.2, random_state=10)\n",
    "\n",
    "# Train & Valid 분할\n",
    "X_train, X_val, y_train, y_val = train_test_split(X_train, y_train,\n",
    "                                                    test_size = 0.2, random_state=10)\n",
    "\n",
    "print(f'[Feature] Train {X_train.shape}, TEST {X_test.shape}, Valid {X_val.shape}')\n",
    "print(f'[Target]  Train {y_train.shape}, TEST {y_test.shape}, Valid {y_val.shape}')"
   ]
  },
  {
   "cell_type": "markdown",
   "metadata": {},
   "source": [
    "- [4-2] 학습진행 (p.27)\n",
    "\t* 학습횟수 결정\t\t=> epoch 설정\n",
    "\t* 배치 크기 결정\t=> BATCH_SIZE\n",
    "\t* 배치 개수 결정\t=> BATCH_CNT"
   ]
  },
  {
   "cell_type": "markdown",
   "metadata": {},
   "source": [
    "##### 테스트/검증 함수\n",
    "\t- => 가중치, 절편 업데이트 X, 최적화 미진행\n",
    "\t- 현재 가중치 & 절편값으로 테스트 진행"
   ]
  },
  {
   "cell_type": "code",
   "execution_count": 10,
   "metadata": {},
   "outputs": [],
   "source": [
    "# 학습한 모델 검증(Validation) 목적 함수\n",
    "def testing(testDF, targetDF, kind='Validation'):\n",
    "\n",
    "\t# 텐서화\n",
    "\ttestTS = torch.FloatTensor(testDF.values).to(DEVICE)\n",
    "\ttargetTS = torch.FloatTensor(targetDF.values).to(DEVICE)\n",
    "\n",
    "\tvali_history = []\t\t\t\t# epoch 횟수에 따른 loss 시각화 목적 저장 리스트!!\n",
    "\n",
    "\twith torch.no_grad():\t\t\t# 가중치 업데이트 없이 \n",
    "\t\t# (1) 학습진행 - forward\t\t\t\n",
    "\t\tpre_y = nn_model(testTS)\n",
    "\t\t# print(f'{pre_y.shape}')\n",
    "\t\n",
    "\t\t# (2) 오차계산 - 손실함수\n",
    "\t\tloss = F.mse_loss(pre_y, targetTS)\n",
    "\t\t\t\t\t\t\t\t\t\t\t\t\t\t\t\n",
    "\t\t# (3) 성능평가 - R2\n",
    "\t\tr2 = R2Score()(pre_y, targetTS)\n",
    "\t\n",
    "\t\t# (3) 학습결과 출력&저장 \n",
    "\t\t# print(f'[{kind} LOSS: {loss}, R2: {r2} ')\n",
    "\n",
    "\treturn loss, r2"
   ]
  },
  {
   "cell_type": "code",
   "execution_count": 11,
   "metadata": {},
   "outputs": [
    {
     "name": "stdout",
     "output_type": "stream",
     "text": [
      "EPOCH: 1000, BATCH_SIZE: 20, BACTCH_CNT: 16\n"
     ]
    }
   ],
   "source": [
    "EPOCH = 1000\t\t\t\t\t\t\t\t\t# 처음~끝 공부하는 횟수\n",
    "BATCH_SIZE = 20\t\t\t\t\t\t\t\t\t# 1 epoch에서 학습하는 크기(분량)\n",
    "BACTCH_CNT = X_train.shape[0] // BATCH_SIZE\t\t# 1 epoch에서 총 학습 횟수 & 업데이트 횟수수\n",
    "\n",
    "print(f'EPOCH: {EPOCH}, BATCH_SIZE: {BATCH_SIZE}, BACTCH_CNT: {BACTCH_CNT}')"
   ]
  },
  {
   "cell_type": "code",
   "execution_count": 12,
   "metadata": {},
   "outputs": [],
   "source": [
    "\n",
    "# 모델 학습 함수\t\n",
    "#\t\t \t  학습용\n",
    "def training(featureTS, targetTS, valTS, valTargetTS):\n",
    "\n",
    "\t#\t\t\t\ttrain, val\n",
    "\tloss_history = [ [], [] ]\t\t\t\t\t\t\t\n",
    "\tr2_history = [ [], [] ]\t\t\t\t\t\t\t\t\t\n",
    "\n",
    "\t# 모델 학습 EPOCH 만큼\n",
    "\tfor epoch in range(EPOCH):\n",
    "\n",
    "\t\t# 배치 손실 저장 변수\n",
    "\t\tbs_loss, bs_r2 = 0, 0\n",
    "\n",
    "\n",
    "\t\t# 배치 크기만큼 학습 진행\n",
    "\t\tfor i in range(BACTCH_CNT):\n",
    "\t\t\tstart = i * BATCH_SIZE\n",
    "\t\t\tend   = start + BATCH_SIZE\n",
    "\t\t\t# print(start, end)\n",
    "\n",
    "\t\t\t# (0) Batch_size만큼 데이터 추출 => Tensor화\n",
    "\t\t\tBS_X_Train = torch.FloatTensor(X_train[start:end].values).to(DEVICE)\n",
    "\t\t\tBS_y_Train = torch.FloatTensor(y_train[start:end].values).to(DEVICE)\n",
    "\n",
    "\t\t\t# print(\"[Train]\",BS_X_Train.shape, BS_X_Train.device, BS_X_Train.dtype)\n",
    "\t\t\t# print(\"[TEST]\", BS_y_Train.shape, BS_y_Train.device, BS_y_Train.dtype)\n",
    "\t\t\t\n",
    "\t\t\t\n",
    "\t\t\t# (1) 학습진행 - forward\t\t\t\n",
    "\t\t\tpre_y = nn_model(BS_X_Train)\n",
    "\t\t\t# print(f'pre_y.shape -> {pre_y.shape}')\n",
    "\t\t\t# print()\n",
    "\n",
    "\t\t\t# (2) 오차계산 - 손실함수\n",
    "\t\t\tloss = F.mse_loss(pre_y, BS_y_Train)\n",
    "\t\t\tbs_loss += loss.item()\t\t\t\t\t\t\t\t\t\n",
    "\t\t\tbs_r2 += R2Score()(pre_y, BS_y_Train).item()\t\t\t\t\n",
    "\n",
    "\n",
    "\t\t\t\t\t\t\t\t\t\t\t\t\t\t\t\t\n",
    "\t\t\t# (3) 최적화   \n",
    "\t\t\tadam_optim.zero_grad()\n",
    "\t\t\tloss.backward()\n",
    "\t\t\tadam_optim.step()\n",
    "\n",
    "\t\t\t# ====================END of 1 EPOCH===========================\n",
    "\n",
    "\t\t# (4) 모델 검증\n",
    "\t\tval_loss, val_r2 = testing(valTS, valTargetTS)\n",
    "\t\tloss_history[1].append(val_loss.item())\t\t\n",
    "\t\tr2_history[1].append(val_r2.item())\t\t\t\t\n",
    "\n",
    "\t\t# EPOCH 단위 손실 & 성능지표\n",
    "\t\tloss_history[0].append(bs_loss/BACTCH_CNT)\n",
    "\t\tr2_history[0].append(bs_r2/BACTCH_CNT)\n",
    "\t\t# loss_history['Val'] = val_loss.item()\n",
    "\t\t\n",
    "\t\t# (5) 학습결과 출력&저장 \n",
    "\t\t# print(f'[{epoch}/{EPOCH}]\\n-Train LOSS: {loss_history[0][-1]} R2: {r2_history[0][-1]} ')\n",
    "\t\t# print(f'-Valid LOSS: {loss_history[1][-1]} R2: {r2_history[1][-1]} ')\n",
    "\n",
    "\treturn loss_history, r2_history"
   ]
  },
  {
   "cell_type": "code",
   "execution_count": 13,
   "metadata": {},
   "outputs": [],
   "source": [
    "loss, r2 = training(X_train, y_train, X_val, y_val)\n",
    "# loss_per_epoch"
   ]
  },
  {
   "cell_type": "code",
   "execution_count": 14,
   "metadata": {},
   "outputs": [
    {
     "data": {
      "text/plain": [
       "Text(0.5, 1.0, 'r2')"
      ]
     },
     "execution_count": 14,
     "metadata": {},
     "output_type": "execute_result"
    },
    {
     "data": {
      "image/png": "[encoded data removed]",
      "text/plain": [
       "<Figure size 1000x500 with 2 Axes>"
      ]
     },
     "metadata": {},
     "output_type": "display_data"
    }
   ],
   "source": [
    "import matplotlib.pyplot as plt\n",
    "\n",
    "THRESHOLD = 100\n",
    "\n",
    "fig, axes = plt.subplots(1,2, figsize=(10,5))\n",
    "\n",
    "axes[0].plot(range(1, THRESHOLD+1), loss[0][:THRESHOLD],label=\"Train\")\n",
    "axes[0].plot(range(1, THRESHOLD+1), loss[1][:THRESHOLD],label=\"Valid\")\n",
    "axes[0].grid()\n",
    "axes[0].legend()\n",
    "axes[0].set_xlabel(\"Epoch\")\n",
    "axes[0].set_ylabel(\"LOSS\")\n",
    "axes[0].set_title(\"LOSS\")\n",
    "\n",
    "axes[1].plot(range(1, THRESHOLD+1), r2[0][:THRESHOLD],label=\"Train\")\n",
    "axes[1].plot(range(1, THRESHOLD+1), r2[1][:THRESHOLD],label=\"Valid\")\n",
    "axes[1].grid()\n",
    "axes[1].legend()\n",
    "axes[1].set_xlabel(\"Epoch\")\n",
    "axes[1].set_ylabel(\"r2\")\n",
    "axes[1].set_title(\"r2\")\n"
   ]
  },
  {
   "cell_type": "code",
   "execution_count": null,
   "metadata": {},
   "outputs": [],
   "source": []
  },
  {
   "cell_type": "code",
   "execution_count": null,
   "metadata": {},
   "outputs": [],
   "source": []
  },
  {
   "cell_type": "code",
   "execution_count": null,
   "metadata": {},
   "outputs": [],
   "source": []
  },
  {
   "cell_type": "code",
   "execution_count": null,
   "metadata": {},
   "outputs": [],
   "source": []
  },
  {
   "cell_type": "code",
   "execution_count": null,
   "metadata": {},
   "outputs": [],
   "source": []
  }
 ],
 "metadata": {
  "kernelspec": {
   "display_name": "torch_38",
   "language": "python",
   "name": "python3"
  },
  "language_info": {
   "codemirror_mode": {
    "name": "ipython",
    "version": 3
   },
   "file_extension": ".py",
   "mimetype": "text/x-python",
   "name": "python",
   "nbconvert_exporter": "python",
   "pygments_lexer": "ipython3",
   "version": "3.8.19"
  }
 },
 "nbformat": 4,
 "nbformat_minor": 2
}
