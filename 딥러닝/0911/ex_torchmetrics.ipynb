{
 "cells": [
  {
   "cell_type": "markdown",
   "metadata": {},
   "source": [
    "### Torchmetrics 패키지\n",
    "- pytorch에서 모델 성능평가 기능 제공 패키지\n",
    "- 추가 설치 필요 (pip, conda)\n",
    "<br></br>\n",
    "- **<<사용법>>**\n",
    "\t* 클래스 방식: 인스턴스 생성 후 사용\t\n",
    "\t* 함수 방식:   인스턴스 생성 필요 X"
   ]
  },
  {
   "cell_type": "markdown",
   "metadata": {},
   "source": [
    "- [1] 회귀(Regression) 성능 평가지표\n",
    "\t* MSE\n",
    "\t* RMSE\n",
    "\t* MAE\n",
    "\t* R2-score\n"
   ]
  },
  {
   "cell_type": "code",
   "execution_count": 1,
   "metadata": {},
   "outputs": [],
   "source": [
    "from torchmetrics.functional.regression import r2_score\n",
    "from torchmetrics.regression import R2Score\n",
    "import torch"
   ]
  },
  {
   "cell_type": "code",
   "execution_count": 2,
   "metadata": {},
   "outputs": [
    {
     "data": {
      "text/plain": [
       "tensor(0.9486)"
      ]
     },
     "execution_count": 2,
     "metadata": {},
     "output_type": "execute_result"
    }
   ],
   "source": [
    "## 클래스 방식 ------------------------------------------------------------\n",
    "\n",
    "\n",
    "# 데이터\n",
    "target = torch.tensor( [3,-0.5, 2, 7])  \t# 1D (4,)\n",
    "preds = torch.tensor( [2.5, 0.0, 2, 8])\t\t# 1D (4,)\n",
    "\n",
    "# 성능평가 => 오차계산\n",
    "# \t\t\t=> r2_score : 0~1\n",
    "# \t\t\t\t\t\t: 정답에 얼마나 근사하게 예측이 됐는지 정량 지표\n",
    "\n",
    "\n",
    "# r2score = R2Score()\t\t\t\t\t# r2score => R2Score 클래스 주소 저장 변수\n",
    "# r2score(preds, target)\n",
    "R2Score()(preds, target)"
   ]
  },
  {
   "cell_type": "markdown",
   "metadata": {},
   "source": [
    "####  클래스 이용 이유\n",
    "> 클래스의 재사용성, 상속성 -> 나만의 r2score 클래스 기능 확장 가능!!"
   ]
  },
  {
   "cell_type": "code",
   "execution_count": 3,
   "metadata": {},
   "outputs": [
    {
     "data": {
      "text/plain": [
       "tensor(0.9486)"
      ]
     },
     "execution_count": 3,
     "metadata": {},
     "output_type": "execute_result"
    }
   ],
   "source": [
    "\n",
    "class MyR2(R2Score):\n",
    "  pass\n",
    "\n",
    "gg = MyR2()\n",
    "gg(preds, target)"
   ]
  },
  {
   "cell_type": "code",
   "execution_count": 4,
   "metadata": {},
   "outputs": [
    {
     "data": {
      "text/plain": [
       "tensor(0.9486)"
      ]
     },
     "execution_count": 4,
     "metadata": {},
     "output_type": "execute_result"
    }
   ],
   "source": [
    "## 함수 방식 ------------------------------------------------------------\n",
    "\n",
    "# 데이터\n",
    "target = torch.tensor( [3,-0.5, 2, 7])\t\t# 1D (4,)\n",
    "preds = torch.tensor( [2.5, 0.0, 2, 8])\t\t# 1D (4,)\n",
    "\n",
    "# 성능평가 \n",
    "# \t=> r2_score : 0~1 / 정답에 얼마나 근사하게 예측이 됐는지 정량 지표\n",
    "r2_score(preds, target)"
   ]
  },
  {
   "cell_type": "code",
   "execution_count": 5,
   "metadata": {},
   "outputs": [],
   "source": [
    "from torchmetrics.functional.regression import mean_squared_error, mean_absolute_error\n",
    "from torchmetrics.regression import MeanSquaredError, MeanAbsoluteError\n",
    "import torch"
   ]
  },
  {
   "cell_type": "code",
   "execution_count": 6,
   "metadata": {},
   "outputs": [
    {
     "name": "stdout",
     "output_type": "stream",
     "text": [
      "tensor(0.3750)\n",
      "tensor(0.3750)\n"
     ]
    }
   ],
   "source": [
    "## MeanSquaredError\n",
    "\n",
    "# 데이터\n",
    "target = torch.tensor( [3,-0.5, 2, 7])  \t# 1D (4,)\n",
    "preds = torch.tensor( [2.5, 0.0, 2, 8])\t\t# 1D (4,)\n",
    "\n",
    "# 오차계산\n",
    "mean_squared_error = MeanSquaredError()\t\t\t# 클래스 인스턴스 생성\n",
    "\n",
    "print(mean_squared_error(preds, target))\t\t# 함수 버전\n",
    "print(MeanSquaredError()(preds, target))\t\t# 클래스 버전"
   ]
  },
  {
   "cell_type": "markdown",
   "metadata": {},
   "source": [
    "- [2] 분류(Classification) 성능평가지표\n",
    "\t* Accuracy\t-> 예측-정답의 양성-양성 , 음성-음성 비교\t\t\n",
    "\t\t\t\t<br> \t\t=> 불균형 데이터 => 신뢰성 낮음 </br>\n",
    "\t* Precision\t-> 예측(모델) 양성 & 정답 양성\n",
    "\t* Recall\t-> 정답(라벨) 양성 & 예측 양성\n",
    "\t* F1-score\t-> Precision & Recall 종합 지표\n",
    "\t* ConfusionMatrix\n",
    "\t* ROC-AUC\t\t\t=> 의료분야/2진분류"
   ]
  },
  {
   "cell_type": "code",
   "execution_count": 7,
   "metadata": {},
   "outputs": [],
   "source": [
    "from torchmetrics.classification import F1Score, Accuracy, Precision, Recall\n",
    "from torchmetrics.functional.classification import f1_score, accuracy, precision, recall"
   ]
  },
  {
   "cell_type": "code",
   "execution_count": 8,
   "metadata": {},
   "outputs": [
    {
     "name": "stdout",
     "output_type": "stream",
     "text": [
      "함수 버전 tensor(0.6667)\n",
      "클래스 버전 tensor(0.6667)\n"
     ]
    }
   ],
   "source": [
    "## 2진분류\t=> task=\"binary\"\n",
    "\n",
    "from torchmetrics.classification import BinaryF1Score\n",
    "\n",
    "target = torch.tensor([0, 1, 0, 1, 0, 1])\n",
    "preds = torch.tensor([0, 0, 1, 1, 0, 1])\n",
    "\n",
    "f1 = F1Score(task=\"binary\")\n",
    "print(\"함수 버전\", f1(preds, target))\n",
    "\n",
    "print(\"클래스 버전\", BinaryF1Score()(preds, target))"
   ]
  },
  {
   "cell_type": "code",
   "execution_count": 9,
   "metadata": {},
   "outputs": [
    {
     "name": "stdout",
     "output_type": "stream",
     "text": [
      "함수 버전 tensor(0.3333)\n",
      "클래스 버전 tensor(0.2667)\n",
      "micro, macro 차이로 인해 f1-score가 서로 상이\n",
      "\n",
      "===========해결===========\n",
      "함수 버전 tensor(0.2667)\n",
      "클래스 버전 tensor(0.2667)\n"
     ]
    }
   ],
   "source": [
    "## 다중분류\t=> task=\"multiclass\"\n",
    "\n",
    "from torchmetrics.classification import MulticlassF1Score\n",
    "\n",
    "target = torch.tensor([0, 1, 2, 0, 1, 2])\t\t# 0,1,2 => 3개\n",
    "preds = torch.tensor([0, 2, 1, 0, 0, 1])\n",
    "\n",
    "# average => 'micro'\n",
    "f1 = F1Score(task=\"multiclass\", num_classes=3)\n",
    "print(\"함수 버전\", f1(preds, target))\n",
    "\n",
    "# average => 'macro'\n",
    "print(\"클래스 버전\", MulticlassF1Score(num_classes=3)(preds, target))\n",
    "print(\"micro, macro 차이로 인해 f1-score가 서로 상이\")\n",
    "\n",
    "\n",
    "print()\n",
    "print(\"===========해결===========\")\n",
    "f1 = F1Score(task=\"multiclass\", num_classes=3, average='macro')\n",
    "print(\"함수 버전\", f1(preds, target))\n",
    "print(\"클래스 버전\", MulticlassF1Score(num_classes=3)(preds, target))"
   ]
  },
  {
   "cell_type": "code",
   "execution_count": 10,
   "metadata": {},
   "outputs": [
    {
     "name": "stdout",
     "output_type": "stream",
     "text": [
      "Precision 버전 tensor(0.6667)\n",
      "BinaryPrecision 버전 tensor(0.6667)\n"
     ]
    }
   ],
   "source": [
    "## 2진분류 precision\t=> task=\"binary\"\n",
    "\n",
    "from torchmetrics.classification import BinaryPrecision\n",
    "\n",
    "target = torch.tensor([0, 1, 0, 1, 0, 1])\n",
    "preds = torch.tensor([0, 0, 1, 1, 0, 1])\n",
    "\n",
    "pb = Precision(task=\"binary\", threshold=0.7)\n",
    "print(\"Precision 버전\", pb(preds, target))\n",
    "\n",
    "print(\"BinaryPrecision 버전\", BinaryPrecision(threshold=0.1)(preds, target))"
   ]
  },
  {
   "cell_type": "code",
   "execution_count": 11,
   "metadata": {},
   "outputs": [
    {
     "name": "stdout",
     "output_type": "stream",
     "text": [
      "Precision 버전 tensor(0.3333)\n",
      "MulticlassPrecision 버전 tensor(0.2222)\n",
      "micro, macro 차이로 인해 precicsion 서로 상이\n",
      "\n",
      "===========해결===========\n",
      "Precision 버전 tensor(0.2222)\n",
      "MulticlassPrecision 버전 tensor(0.2222)\n"
     ]
    }
   ],
   "source": [
    "## 다중분류\tprecision => task=\"multiclass\"\n",
    "\n",
    "from torchmetrics.classification import MulticlassPrecision\n",
    "\n",
    "target = torch.tensor([0, 1, 2, 0, 1, 2])\t\t# 0,1,2 => 3개\n",
    "preds = torch.tensor([0, 2, 1, 0, 0, 1])\n",
    "\n",
    "# average => 'micro'\n",
    "pb = Precision(task=\"multiclass\", num_classes=3)\n",
    "print(\"Precision 버전\", pb(preds, target))\n",
    "\n",
    "# average => 'macro'\n",
    "print(\"MulticlassPrecision 버전\", MulticlassPrecision(num_classes=3)(preds, target))\n",
    "print(\"micro, macro 차이로 인해 precicsion 서로 상이\")\n",
    "\n",
    "\n",
    "print()\n",
    "print(\"===========해결===========\")\n",
    "pb_1 = Precision(task=\"multiclass\", num_classes=3, average='macro')\n",
    "print(\"Precision 버전\", pb_1(preds, target))\n",
    "print(\"MulticlassPrecision 버전\", MulticlassPrecision(num_classes=3)(preds, target))"
   ]
  },
  {
   "cell_type": "code",
   "execution_count": null,
   "metadata": {},
   "outputs": [],
   "source": []
  },
  {
   "cell_type": "code",
   "execution_count": null,
   "metadata": {},
   "outputs": [],
   "source": []
  },
  {
   "cell_type": "markdown",
   "metadata": {},
   "source": [
    "* 모듈 \n",
    "\t- => 같은 목적의 변수, 함수, 클래스 포함 1개 파일 (.py)\n",
    "\t- 예시) url 웹에 요청 목적의 변수,함수,클래스\n",
    "\t-\t웹의 응답 처리 목적의 변수,함수,클래스\n",
    "\t-\t웹 주소 분석 목적의 변수,함수,클래스\n",
    "\n",
    "* 패키지\n",
    "\t- => 유사한/같은 분야 모듈을 하나로 모은\n",
    "\t- 예시)\n",
    "\t-\t웹 패키지: 요청처리 모듈, 응답처리 모듈, 주소분석 모듈\n",
    "\n",
    "* 프레임워크\n",
    "\t- => 개발에 필요한 모든 것 포함하는 집합체\n",
    "\t- 예시)\n",
    "\t- \tML알고리즘 패키지, 성능평가 패키지, 전처리 패키지, 특성공학 패키지 ...\n",
    "\n",
    "* 인터페이스 \n",
    "\t- 1. 서로 다른 요소/장치/사람 연결\n",
    "\t\t- 예시)\n",
    "\t\t-\tUI: 사용자(사람) & SW/HW 기기 간\t=> 버튼, 글자입력칸\n",
    "\t\t<br>\n",
    "\t- 2. 객체지향개념에서 서로 다른 객체들간 연결\t=> 동일 기능 사용케\n",
    "\n",
    "* IDE 통합개발환경\n",
    "\t- => 개발에 필요한 모든 도구 제공 SW\n",
    "\t- 코드 작성, 디버깅, 필요 패키지 검색 ..."
   ]
  },
  {
   "cell_type": "code",
   "execution_count": null,
   "metadata": {},
   "outputs": [],
   "source": []
  },
  {
   "cell_type": "code",
   "execution_count": null,
   "metadata": {},
   "outputs": [],
   "source": []
  },
  {
   "cell_type": "code",
   "execution_count": null,
   "metadata": {},
   "outputs": [],
   "source": []
  },
  {
   "cell_type": "code",
   "execution_count": null,
   "metadata": {},
   "outputs": [],
   "source": []
  }
 ],
 "metadata": {
  "kernelspec": {
   "display_name": "torch_38",
   "language": "python",
   "name": "python3"
  },
  "language_info": {
   "codemirror_mode": {
    "name": "ipython",
    "version": 3
   },
   "file_extension": ".py",
   "mimetype": "text/x-python",
   "name": "python",
   "nbconvert_exporter": "python",
   "pygments_lexer": "ipython3",
   "version": "3.8.19"
  }
 },
 "nbformat": 4,
 "nbformat_minor": 2
}
