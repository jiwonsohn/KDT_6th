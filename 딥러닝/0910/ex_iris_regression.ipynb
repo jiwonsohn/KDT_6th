{
 "cells": [
  {
   "cell_type": "markdown",
   "metadata": {},
   "source": [
    "### IRIS 데이터셋 활용 꽃잎 너비 예측 모델\n",
    "- 데이터셋: iris.csv 2개 (1개 피쳐, 1개 타겟) feature 사용\n",
    "- Linear regression\n",
    "- 너비 예측\n",
    "- 구현_프레임워크: Pytorch\n",
    "- Train, test, Validation Dataset 생성"
   ]
  },
  {
   "cell_type": "code",
   "execution_count": 1,
   "metadata": {},
   "outputs": [],
   "source": [
    "import torch\t\t\t\t\t# 텐서 및 수치 계산 함수 관련 모듈\n",
    "import torch.nn as nn\t\t\t# 인공신경망 관련 모듈\n",
    "import torch.nn.functional as F \t# 손실, 거래 등 함수 관련 모듈\n",
    "import torch.optim as optimizer # 최적화 기법 관련 모듈\n",
    "\n",
    "import pandas as pd\t\t\t\t# 데이터 파일 분석 관련 모듈\n",
    "\n",
    "from sklearn.model_selection import train_test_split\t\t# trainDS, testDS 분할 관련 모듈듈"
   ]
  },
  {
   "cell_type": "code",
   "execution_count": 2,
   "metadata": {},
   "outputs": [
    {
     "data": {
      "text/plain": [
       "<torch._C.Generator at 0x22fda1e8cd0>"
      ]
     },
     "execution_count": 2,
     "metadata": {},
     "output_type": "execute_result"
    }
   ],
   "source": [
    "torch.manual_seed(1)"
   ]
  },
  {
   "cell_type": "code",
   "execution_count": 3,
   "metadata": {},
   "outputs": [
    {
     "data": {
      "text/html": [
       "<div>\n",
       "<style scoped>\n",
       "    .dataframe tbody tr th:only-of-type {\n",
       "        vertical-align: middle;\n",
       "    }\n",
       "\n",
       "    .dataframe tbody tr th {\n",
       "        vertical-align: top;\n",
       "    }\n",
       "\n",
       "    .dataframe thead th {\n",
       "        text-align: right;\n",
       "    }\n",
       "</style>\n",
       "<table border=\"1\" class=\"dataframe\">\n",
       "  <thead>\n",
       "    <tr style=\"text-align: right;\">\n",
       "      <th></th>\n",
       "      <th>petal.length</th>\n",
       "      <th>petal.width</th>\n",
       "    </tr>\n",
       "  </thead>\n",
       "  <tbody>\n",
       "    <tr>\n",
       "      <th>0</th>\n",
       "      <td>1.4</td>\n",
       "      <td>0.2</td>\n",
       "    </tr>\n",
       "    <tr>\n",
       "      <th>1</th>\n",
       "      <td>1.4</td>\n",
       "      <td>0.2</td>\n",
       "    </tr>\n",
       "  </tbody>\n",
       "</table>\n",
       "</div>"
      ],
      "text/plain": [
       "   petal.length  petal.width\n",
       "0           1.4          0.2\n",
       "1           1.4          0.2"
      ]
     },
     "execution_count": 3,
     "metadata": {},
     "output_type": "execute_result"
    }
   ],
   "source": [
    "DATA_FILE = r'C:\\Users\\KDP-43\\Desktop\\머신러닝_1\\data\\iris.csv'\n",
    "\n",
    "irisDF = pd.read_csv(DATA_FILE, usecols=[2,3])\t\t\t# 컬럼 2개만 사용\n",
    "irisDF.head(2)"
   ]
  },
  {
   "cell_type": "markdown",
   "metadata": {},
   "source": [
    "[2] 모델 준비\n",
    "- 학습방법: 지도학습 >> 회귀\n",
    "- 알고리즘: 선형관계 >> 선형모델 >> nn.Linear"
   ]
  },
  {
   "cell_type": "code",
   "execution_count": 17,
   "metadata": {},
   "outputs": [],
   "source": [
    "# in_features\t: petal.length 1개\n",
    "# out_features\t: petal.width  1개\n",
    "\n",
    "model = nn.Linear(1,1)\n",
    "\n",
    "# 멀티 layer 예시)\n",
    "nn_model = nn.Sequential( nn.Linear(3, 10),\n",
    "                         nn.ReLU(),\n",
    "              nn.Linear(10,50),\n",
    "         nn.ReLU(),\n",
    "      nn.Linear(50,1) )"
   ]
  },
  {
   "cell_type": "code",
   "execution_count": 5,
   "metadata": {},
   "outputs": [
    {
     "name": "stdout",
     "output_type": "stream",
     "text": [
      "[weight] Parameter containing:\n",
      "tensor([[0.5153]], requires_grad=True)\n",
      "\n",
      "[bias] Parameter containing:\n",
      "tensor([-0.4414], requires_grad=True)\n",
      "\n"
     ]
    }
   ],
   "source": [
    "# 가중치와 절편 확인\n",
    "for name, param in model.named_parameters():\n",
    "\tprint(f'[{name}] {param}', end='\\n\\n')"
   ]
  },
  {
   "cell_type": "markdown",
   "metadata": {},
   "source": [
    "[3] 최적화 인스턴스 준비\n",
    "- 모델의 가중치 & 절편 최적화\n",
    "- 최적화 결과 인스턴스에 전달 \t\t=> optimizer.step()"
   ]
  },
  {
   "cell_type": "code",
   "execution_count": 6,
   "metadata": {},
   "outputs": [
    {
     "data": {
      "text/plain": [
       "' \\nAdam (\\nParameter Group 0\\n    amsgrad: False\\n    betas: (0.9, 0.999)\\n    capturable: False\\n    differentiable: False\\n    eps: 1e-08\\n    foreach: None\\n    fused: None\\n    lr: 0.1\\n    maximize: False\\n    weight_decay: 0\\n)\\n'"
      ]
     },
     "execution_count": 6,
     "metadata": {},
     "output_type": "execute_result"
    }
   ],
   "source": [
    "adam_optim = optimizer.Adam(model.parameters(), lr = 0.1)\t\t# model.parameter() -> weight, bias\n",
    "\n",
    "''' \n",
    "Adam (\n",
    "Parameter Group 0\n",
    "    amsgrad: False\n",
    "    betas: (0.9, 0.999)\n",
    "    capturable: False\n",
    "    differentiable: False\n",
    "    eps: 1e-08\n",
    "    foreach: None\n",
    "    fused: None\n",
    "    lr: 0.1\n",
    "    maximize: False\n",
    "    weight_decay: 0\n",
    ")\n",
    "'''"
   ]
  },
  {
   "cell_type": "markdown",
   "metadata": {},
   "source": [
    "[4] 학습\n",
    "- 개발자가 구현 \n",
    "- 알아서 잘~~~~~~~~~~~~ 8ㅅ8"
   ]
  },
  {
   "cell_type": "markdown",
   "metadata": {},
   "source": [
    "- [4-1] 데이터셋 Tensor화 진행\n",
    "\t* 데이터 준비 시 or 학습 전"
   ]
  },
  {
   "cell_type": "code",
   "execution_count": 7,
   "metadata": {},
   "outputs": [
    {
     "data": {
      "text/html": [
       "<div>\n",
       "<style scoped>\n",
       "    .dataframe tbody tr th:only-of-type {\n",
       "        vertical-align: middle;\n",
       "    }\n",
       "\n",
       "    .dataframe tbody tr th {\n",
       "        vertical-align: top;\n",
       "    }\n",
       "\n",
       "    .dataframe thead th {\n",
       "        text-align: right;\n",
       "    }\n",
       "</style>\n",
       "<table border=\"1\" class=\"dataframe\">\n",
       "  <thead>\n",
       "    <tr style=\"text-align: right;\">\n",
       "      <th></th>\n",
       "      <th>petal.length</th>\n",
       "    </tr>\n",
       "  </thead>\n",
       "  <tbody>\n",
       "    <tr>\n",
       "      <th>0</th>\n",
       "      <td>1.4</td>\n",
       "    </tr>\n",
       "    <tr>\n",
       "      <th>1</th>\n",
       "      <td>1.4</td>\n",
       "    </tr>\n",
       "    <tr>\n",
       "      <th>2</th>\n",
       "      <td>1.3</td>\n",
       "    </tr>\n",
       "    <tr>\n",
       "      <th>3</th>\n",
       "      <td>1.5</td>\n",
       "    </tr>\n",
       "    <tr>\n",
       "      <th>4</th>\n",
       "      <td>1.4</td>\n",
       "    </tr>\n",
       "    <tr>\n",
       "      <th>5</th>\n",
       "      <td>1.7</td>\n",
       "    </tr>\n",
       "    <tr>\n",
       "      <th>6</th>\n",
       "      <td>1.4</td>\n",
       "    </tr>\n",
       "    <tr>\n",
       "      <th>7</th>\n",
       "      <td>1.5</td>\n",
       "    </tr>\n",
       "    <tr>\n",
       "      <th>8</th>\n",
       "      <td>1.4</td>\n",
       "    </tr>\n",
       "    <tr>\n",
       "      <th>9</th>\n",
       "      <td>1.5</td>\n",
       "    </tr>\n",
       "  </tbody>\n",
       "</table>\n",
       "</div>"
      ],
      "text/plain": [
       "   petal.length\n",
       "0           1.4\n",
       "1           1.4\n",
       "2           1.3\n",
       "3           1.5\n",
       "4           1.4\n",
       "5           1.7\n",
       "6           1.4\n",
       "7           1.5\n",
       "8           1.4\n",
       "9           1.5"
      ]
     },
     "execution_count": 7,
     "metadata": {},
     "output_type": "execute_result"
    }
   ],
   "source": [
    "irisDF[['petal.length']][:10]"
   ]
  },
  {
   "cell_type": "code",
   "execution_count": 8,
   "metadata": {},
   "outputs": [
    {
     "data": {
      "text/plain": [
       "array([[1.4],\n",
       "       [1.4],\n",
       "       [1.3],\n",
       "       [1.5],\n",
       "       [1.4],\n",
       "       [1.7],\n",
       "       [1.4],\n",
       "       [1.5],\n",
       "       [1.4],\n",
       "       [1.5]])"
      ]
     },
     "execution_count": 8,
     "metadata": {},
     "output_type": "execute_result"
    }
   ],
   "source": [
    "irisDF[['petal.length']][:10].values"
   ]
  },
  {
   "cell_type": "code",
   "execution_count": 9,
   "metadata": {},
   "outputs": [
    {
     "data": {
      "text/plain": [
       "torch.Size([150, 1])"
      ]
     },
     "execution_count": 9,
     "metadata": {},
     "output_type": "execute_result"
    }
   ],
   "source": [
    "featureTS = torch.from_numpy( irisDF[['petal.length']].values ).float()\t\t\t# 2D\n",
    "featureTS.shape"
   ]
  },
  {
   "cell_type": "code",
   "execution_count": 10,
   "metadata": {},
   "outputs": [
    {
     "data": {
      "text/plain": [
       "torch.Size([150, 1])"
      ]
     },
     "execution_count": 10,
     "metadata": {},
     "output_type": "execute_result"
    }
   ],
   "source": [
    "targetTS = torch.from_numpy( irisDF[['petal.width']].values).float()\t\t\t\t# 2D\n",
    "targetTS.shape"
   ]
  },
  {
   "cell_type": "code",
   "execution_count": 11,
   "metadata": {},
   "outputs": [
    {
     "name": "stdout",
     "output_type": "stream",
     "text": [
      "[Feature] Train torch.Size([96, 1]), TEST torch.Size([30, 1]), Valid torch.Size([24, 1])\n",
      "[Target]  Train torch.Size([96, 1]), TEST torch.Size([30, 1]), Valid torch.Size([24, 1])\n"
     ]
    }
   ],
   "source": [
    "# Train & test 분할\n",
    "X_train, X_test, y_train, y_test = train_test_split(featureTS, targetTS,\n",
    "                                                    test_size = 0.2, random_state=10)\n",
    "\n",
    "# Train & Valid 분할\n",
    "X_train, X_val, y_train, y_val = train_test_split(X_train, y_train,\n",
    "                                                    test_size = 0.2, random_state=10)\n",
    "\n",
    "print(f'[Feature] Train {X_train.shape}, TEST {X_test.shape}, Valid {X_val.shape}')\n",
    "print(f'[Target]  Train {y_train.shape}, TEST {y_test.shape}, Valid {y_val.shape}')"
   ]
  },
  {
   "cell_type": "markdown",
   "metadata": {},
   "source": [
    "- [4-2] 학습진행\n",
    "\t* 학습횟수 결정\t\t=> epoch 설정\n",
    "\t* 학습결과 저장\t\t=> 손실 저장 변수"
   ]
  },
  {
   "cell_type": "markdown",
   "metadata": {},
   "source": [
    "##### 테스트/검증 함수\n",
    "\t- => 가중치, 절편 업데이트 X, 최적화 미진행\n",
    "\t- 현재 가중치 & 절편값으로 테스트 진행"
   ]
  },
  {
   "cell_type": "code",
   "execution_count": 12,
   "metadata": {},
   "outputs": [],
   "source": [
    "# 학습한 모델 검증(Validation) 목적 함수\n",
    "def testing(testTS, targetTS, kind='Validation'):\n",
    "\tvali_history = []\t\t\t\t# epoch 횟수에 따른 loss 시각화 목적 저장 리스트!!\n",
    "\n",
    "\twith torch.no_grad():\t\t\t# 가중치 업데이트 없이 \n",
    "\t\t# (1) 학습진행 - forward\t\t\t\n",
    "\t\tpre_y = model(testTS)\n",
    "\t\n",
    "\t\t# (2) 오차계산 - 손실함수\n",
    "\t\tloss = F.mse_loss(pre_y, targetTS)\n",
    "\t\t\t\t\t\t\t\t\t\t\t\t\t\t\t# numpy 값만 저장하기 위해 loss.item()\n",
    "\t\n",
    "\t\t# (3) 학습결과 출력&저장 \n",
    "\t\tprint(f'[{kind} LOSS: {loss} ')\n",
    "\n",
    "\treturn loss"
   ]
  },
  {
   "cell_type": "code",
   "execution_count": 13,
   "metadata": {},
   "outputs": [],
   "source": [
    "EPOCH = 10\n",
    "\n",
    "\n",
    "# 모델 학습 함수\t\n",
    "#\t\t \t  학습용\n",
    "def training(featureTS, targetTS, valTS, valTargetTS):\n",
    "\n",
    "\tloss_history = [ [], [] ]\t\t\t\t\t\t\t# epoch 횟수에 따른 loss 시각화 용!! [ [Train], [Val] ]\n",
    "\t# loss_history = {}\t\t\t\t\t\t\t\t\t# epoch 횟수에 따른 loss 시각화 용!!\n",
    "\n",
    "\t# 모델 학습 EPOCH 만큼\n",
    "\tfor epoch in range(EPOCH):\n",
    "\t\t# (1) 학습진행 - forward\t\t\t\n",
    "\t\tpre_y = model(featureTS)\n",
    "\t\n",
    "\t\t# (2) 오차계산 - 손실함수\n",
    "\t\tloss = F.mse_loss(pre_y, targetTS)\n",
    "\t\tloss_history[0].append(loss.item())\t\t\t\t\t\t\t# loss는 텐서!! \n",
    "\t\t# loss_history['Train'].append(loss.item())\t\t\t\t\t# loss는 텐서!! \n",
    "\t\t\t\t\t\t\t\t\t\t\t\t\t\t\t# numpy 값만 저장하기 위해 loss.item()\n",
    "\t\t# (3) 최적화   - 가중치, 절편 업데이트 - backward, step\n",
    "\t\t# \t\t\t=> 업데이트 안하면 모든 epoch에 대해 가중치,절편 똑같은 값!\n",
    "\t\tadam_optim.zero_grad()\n",
    "\t\tloss.backward()\n",
    "\t\tadam_optim.step()\n",
    "\n",
    "\t\t# (4) 모델 검증\n",
    "\t\tval_loss = testing(valTS, valTargetTS)\n",
    "\t\tloss_history[1].append(val_loss.item())\t\t\t\t\t# loss는 텐서!! \n",
    "\t\t# loss_history['Val'] = val_loss.item()\n",
    "\t\n",
    "\t\t# (5) 학습결과 출력&저장 \n",
    "\t\tprint(f'[{epoch}/{EPOCH}] LOSS: {loss} ')\n",
    "\n",
    "\treturn loss_history"
   ]
  },
  {
   "cell_type": "code",
   "execution_count": 14,
   "metadata": {},
   "outputs": [
    {
     "name": "stdout",
     "output_type": "stream",
     "text": [
      "[Validation LOSS: 0.07163837552070618 \n",
      "[0/10] LOSS: 0.16223937273025513 \n",
      "[Validation LOSS: 0.12169066816568375 \n",
      "[1/10] LOSS: 0.08536016941070557 \n",
      "[Validation LOSS: 0.06638569384813309 \n",
      "[2/10] LOSS: 0.141363725066185 \n",
      "[Validation LOSS: 0.04511846601963043 \n",
      "[3/10] LOSS: 0.07933203130960464 \n",
      "[Validation LOSS: 0.07858201861381531 \n",
      "[4/10] LOSS: 0.051974862813949585 \n",
      "[Validation LOSS: 0.09107919782400131 \n",
      "[5/10] LOSS: 0.0840003713965416 \n",
      "[Validation LOSS: 0.06590410321950912 \n",
      "[6/10] LOSS: 0.09626241773366928 \n",
      "[Validation LOSS: 0.04374464228749275 \n",
      "[7/10] LOSS: 0.0707496777176857 \n",
      "[Validation LOSS: 0.04833154380321503 \n",
      "[8/10] LOSS: 0.04986852779984474 \n",
      "[Validation LOSS: 0.0619841106235981 \n",
      "[9/10] LOSS: 0.0576363168656826 \n"
     ]
    }
   ],
   "source": [
    "loss_per_epoch = training(X_train, y_train, X_val, y_val)\n",
    "# loss_per_epoch"
   ]
  },
  {
   "cell_type": "code",
   "execution_count": 15,
   "metadata": {},
   "outputs": [
    {
     "data": {
      "text/plain": [
       "list"
      ]
     },
     "execution_count": 15,
     "metadata": {},
     "output_type": "execute_result"
    }
   ],
   "source": [
    "type(loss_per_epoch)"
   ]
  },
  {
   "cell_type": "code",
   "execution_count": 16,
   "metadata": {},
   "outputs": [
    {
     "data": {
      "image/png": "[encoded data removed]",
      "text/plain": [
       "<Figure size 640x480 with 1 Axes>"
      ]
     },
     "metadata": {},
     "output_type": "display_data"
    }
   ],
   "source": [
    "import matplotlib.pyplot as plt\n",
    "\n",
    "plt.plot(range(len(loss_per_epoch[0])), loss_per_epoch[0], label='Train')\n",
    "plt.plot(range(len(loss_per_epoch[1])), loss_per_epoch[1], label='Test')\n",
    "plt.grid()\n",
    "\n",
    "plt.title('Train & Valid')\n",
    "plt.xlabel('Epoch')\n",
    "plt.ylabel('Loss')\n",
    "plt.legend()\n",
    "plt.show()"
   ]
  },
  {
   "cell_type": "code",
   "execution_count": null,
   "metadata": {},
   "outputs": [],
   "source": []
  },
  {
   "cell_type": "code",
   "execution_count": null,
   "metadata": {},
   "outputs": [],
   "source": []
  },
  {
   "cell_type": "code",
   "execution_count": null,
   "metadata": {},
   "outputs": [],
   "source": []
  },
  {
   "cell_type": "code",
   "execution_count": null,
   "metadata": {},
   "outputs": [],
   "source": []
  },
  {
   "cell_type": "code",
   "execution_count": null,
   "metadata": {},
   "outputs": [],
   "source": []
  }
 ],
 "metadata": {
  "kernelspec": {
   "display_name": "torch_38",
   "language": "python",
   "name": "python3"
  },
  "language_info": {
   "codemirror_mode": {
    "name": "ipython",
    "version": 3
   },
   "file_extension": ".py",
   "mimetype": "text/x-python",
   "name": "python",
   "nbconvert_exporter": "python",
   "pygments_lexer": "ipython3",
   "version": "3.8.19"
  }
 },
 "nbformat": 4,
 "nbformat_minor": 2
}
