{
 "cells": [
  {
   "cell_type": "markdown",
   "metadata": {},
   "source": [
    "###  클래스 - 연산자 오버로딩(Overloading)\n",
    "* 오버로딩\n",
    "\t- 함수명은 동일하지만 매개변수의 개수, 종류, 순서가 다른면 다른 함수로 인식\n",
    "\t- 파이썬에서는 연산자(+,-,*, ...)에 대한 매직함수/메서드가 미리 정의되어 있음\n",
    "\t- 연산자 매직함수/메서드는 클래스별로 오버로딩하도록 되어있음"
   ]
  },
  {
   "cell_type": "code",
   "execution_count": 15,
   "metadata": {},
   "outputs": [],
   "source": [
    "# ----------------------------------------------------------------------\n",
    "### 저장데이터: 햄버거\n",
    "### 클래스이름: Bugger\n",
    "### 클래스속성: 번, 패티, 야채, 소스, 이름, 브랜드, 가격\n",
    "# \t\t\t\t- 브랜드: 클래스 속성\n",
    "# \t\t\t\t- 브랜드 외: 인스턴스 속성\n",
    "### 클래스기능: 버거정보 출력\n",
    "# ----------------------------------------------------------------------\n",
    "class Bugger:\n",
    "    # 클래스 속성\n",
    "    maker = '맘스터치'\n",
    "    \n",
    "\t# 인스턴스 생성 메서드 (생성자 메서드)\n",
    "    # self:\t인스턴스 정보가 저장될 메모리 주소 정보\n",
    "    def __init__(self, bun, patty, veg, source, name, price):\n",
    "        \n",
    "        self.bun = bun\n",
    "        self.patty = patty\n",
    "        self.veg = veg\n",
    "        self.source = source\n",
    "        self.name = name \n",
    "        self.price = price\n",
    "        \n",
    "\t# 인스턴스 메서드: 인스턴스/객체를 생성해야만 사용가능한 메서드\n",
    "    def showBuggerInfo(self):\n",
    "        \n",
    "        print(f'[{self.name}] 정보')\n",
    "        print(f'- 가격: {self.price}')\n",
    "        print(f'- 구성: {self.bun}, {self.veg}, {self.patty}')\n",
    "        print(f'- 구성: {self.bun}, {self.veg}, {self.patty}')\n",
    "        \n",
    "\t# 연산자 오버로딩\n",
    "    \n",
    "\t# 버거 가격 더하기\n",
    "    def __add__(self, other):\n",
    "        return(self.price + other.price)\n",
    "    \n",
    "\t# other 만큼 버거 가격 더하기\n",
    "    def __mul__(self, other):\n",
    "        print('__mul__')\n",
    "        return self.price * other\n",
    "        \n",
    "    "
   ]
  },
  {
   "cell_type": "markdown",
   "metadata": {},
   "source": [
    "- 인스턴스/객체 생성\n",
    "\t* 메모리 힙(heap)에 생성!"
   ]
  },
  {
   "cell_type": "code",
   "execution_count": 16,
   "metadata": {},
   "outputs": [
    {
     "data": {
      "text/plain": [
       "<__main__.Bugger at 0x2331c3526a0>"
      ]
     },
     "execution_count": 16,
     "metadata": {},
     "output_type": "execute_result"
    }
   ],
   "source": [
    "## 생성 문법: 변수명 = 클래스명(속성1, 속성2, ..., 속성n)\n",
    "Bugger('브리오슈','소고기','양상추','스리라차','소고기버거', 8600)\n",
    "# 클래스 저장된 메모리 주소 반환"
   ]
  },
  {
   "cell_type": "code",
   "execution_count": 17,
   "metadata": {},
   "outputs": [],
   "source": [
    "bugger1 = Bugger('브리오슈','소고기','양상추','스리라차','소고기버거', 8600)\n",
    "bugger2 = Bugger('참깨빵','새우','양배추','타르타르','새우버거', 6600)\n",
    "bugger3 = Bugger('브리오슈','치킨','토마토','렌치','소고기버거', 5400)"
   ]
  },
  {
   "cell_type": "markdown",
   "metadata": {},
   "source": [
    "- 인스턴스/객체 속성"
   ]
  },
  {
   "cell_type": "code",
   "execution_count": 18,
   "metadata": {},
   "outputs": [
    {
     "name": "stdout",
     "output_type": "stream",
     "text": [
      "bugger1.name => 소고기버거\n",
      "bugger1.price => 8600\n"
     ]
    }
   ],
   "source": [
    "## 사용 문법: 변수명.속성명\n",
    "print(f'bugger1.name => {bugger1.name}')\n",
    "print(f'bugger1.price => {bugger1.price}')"
   ]
  },
  {
   "cell_type": "markdown",
   "metadata": {},
   "source": [
    "- 인스턴스/객체 메서드"
   ]
  },
  {
   "cell_type": "code",
   "execution_count": 19,
   "metadata": {},
   "outputs": [
    {
     "name": "stdout",
     "output_type": "stream",
     "text": [
      "[소고기버거] 정보\n",
      "- 가격: 8600\n",
      "- 구성: 브리오슈, 양상추, 소고기\n",
      "- 구성: 브리오슈, 양상추, 소고기\n"
     ]
    }
   ],
   "source": [
    "## 사용 문법: 변수명.메서드명()\n",
    "bugger1.showBuggerInfo()"
   ]
  },
  {
   "cell_type": "markdown",
   "metadata": {},
   "source": [
    "- 인스턴스/객체 연산"
   ]
  },
  {
   "cell_type": "code",
   "execution_count": 20,
   "metadata": {},
   "outputs": [
    {
     "data": {
      "text/plain": [
       "('happynew', [1, 2, 3, 'ab'], '**********')"
      ]
     },
     "execution_count": 20,
     "metadata": {},
     "output_type": "execute_result"
    }
   ],
   "source": [
    "'happy' + 'new', [1,2,3]+['a'+'b'], '*'*10"
   ]
  },
  {
   "cell_type": "code",
   "execution_count": 21,
   "metadata": {},
   "outputs": [],
   "source": [
    "# 연산자 오버로딩 전전\n",
    "try:\n",
    "\tbugger1 + bugger2\t\t\t\t\t\t\t\n",
    "except Exception as e:\n",
    "\tprint(e)"
   ]
  },
  {
   "cell_type": "code",
   "execution_count": 22,
   "metadata": {},
   "outputs": [
    {
     "data": {
      "text/plain": [
       "15200"
      ]
     },
     "execution_count": 22,
     "metadata": {},
     "output_type": "execute_result"
    }
   ],
   "source": [
    "bugger1 + bugger2"
   ]
  },
  {
   "cell_type": "code",
   "execution_count": 23,
   "metadata": {},
   "outputs": [
    {
     "name": "stdout",
     "output_type": "stream",
     "text": [
      "__mul__\n"
     ]
    },
    {
     "data": {
      "text/plain": [
       "10800"
      ]
     },
     "execution_count": 23,
     "metadata": {},
     "output_type": "execute_result"
    }
   ],
   "source": [
    "bugger3 * 2"
   ]
  },
  {
   "cell_type": "markdown",
   "metadata": {},
   "source": [
    "- 최상위 부모 클래스 ==> object\n",
    "\t* 기능 따로 구현하지 않아도 자동 생성 '기본 메서드' 존재!!\n",
    "\t* \\__{  }__ 형태"
   ]
  },
  {
   "cell_type": "code",
   "execution_count": 24,
   "metadata": {},
   "outputs": [],
   "source": [
    "class A:\n",
    "\tpass"
   ]
  },
  {
   "cell_type": "code",
   "execution_count": 25,
   "metadata": {},
   "outputs": [],
   "source": [
    "a = A()"
   ]
  },
  {
   "cell_type": "code",
   "execution_count": 26,
   "metadata": {},
   "outputs": [
    {
     "data": {
      "text/plain": [
       "['__module__',\n",
       " '__dict__',\n",
       " '__weakref__',\n",
       " '__doc__',\n",
       " '__repr__',\n",
       " '__hash__',\n",
       " '__str__',\n",
       " '__getattribute__',\n",
       " '__setattr__',\n",
       " '__delattr__',\n",
       " '__lt__',\n",
       " '__le__',\n",
       " '__eq__',\n",
       " '__ne__',\n",
       " '__gt__',\n",
       " '__ge__',\n",
       " '__init__',\n",
       " '__new__',\n",
       " '__reduce_ex__',\n",
       " '__reduce__',\n",
       " '__subclasshook__',\n",
       " '__init_subclass__',\n",
       " '__format__',\n",
       " '__sizeof__',\n",
       " '__dir__',\n",
       " '__class__']"
      ]
     },
     "execution_count": 26,
     "metadata": {},
     "output_type": "execute_result"
    }
   ],
   "source": [
    "a.__dir__()"
   ]
  },
  {
   "cell_type": "code",
   "execution_count": null,
   "metadata": {},
   "outputs": [],
   "source": []
  },
  {
   "cell_type": "code",
   "execution_count": null,
   "metadata": {},
   "outputs": [],
   "source": []
  },
  {
   "cell_type": "markdown",
   "metadata": {},
   "source": [
    "* 고급 언어: 사람 적합 / 기계어: 컴퓨터 적합\n",
    "\n",
    "* 기계어 레벨 밑 ==> 논리 회로 레벨 ==> 전자소자와 소재 레벨\n",
    "\t- 전자소자 & 소재 레벨 => 물리학 & 전자공학 다루는 컴퓨터 소자 제작\n",
    "\t- 전자 소자들을 통해 0&1 이용 연산 수행\n",
    "\n",
    "* 기본적\n",
    "\t- 전기 신호 전압 이용해 전압 5V이면 1, 0V이면 0\n",
    "\t- 전기 신호로 0 & 1 표현 가능\n",
    "\n",
    "* 게이트\n",
    "\t- 컴퓨터에서 전기 신호에 따라 가장 기본적인 연산 수행하는 전자 소자\n",
    "\t- 하나 이상의 입력을 받아 하나 이상의 출력 신호 생성\n",
    "\t- 게이트가 모여 회로 구성 & 회로가 모여 컴퓨터 완성"
   ]
  },
  {
   "cell_type": "markdown",
   "metadata": {},
   "source": [
    "* **퍼셉트론**\n",
    "\n",
    "\t- 생물학적 뉴런을 공학적인 구조로 변형한 것\n",
    "\t- 1969년 XOR 문제 해결할 수 없는 단순선형분리기 불과함 증명 => 인기 하락\n",
    "\t- 논리적 추론으로 인공지능 트렌드 변화\n",
    "\t- 최초 인공신경망 개념을 공학적 구조로 구현한 것으로서의 의미\n",
    "<br></br>\n",
    "\t- 퍼셉트론(뉴런) 개수보다 층(Layer) 개수가 모델 성능에 큰 영향"
   ]
  },
  {
   "cell_type": "markdown",
   "metadata": {},
   "source": []
  }
 ],
 "metadata": {
  "kernelspec": {
   "display_name": "torch_38",
   "language": "python",
   "name": "python3"
  },
  "language_info": {
   "codemirror_mode": {
    "name": "ipython",
    "version": 3
   },
   "file_extension": ".py",
   "mimetype": "text/x-python",
   "name": "python",
   "nbconvert_exporter": "python",
   "pygments_lexer": "ipython3",
   "version": "3.8.19"
  }
 },
 "nbformat": 4,
 "nbformat_minor": 2
}
