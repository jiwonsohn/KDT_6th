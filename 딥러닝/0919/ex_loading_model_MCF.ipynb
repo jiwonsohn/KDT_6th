{
 "cells": [
  {
   "cell_type": "markdown",
   "metadata": {},
   "source": [
    "### 저장된 모델 로드 & 활용\n",
    "- 모델 파일 종류\t\n",
    "\t* 가중치 및 절편 저장 파일\t=> 동일한 구조의 모델 인스턴스 생성 필요\n",
    "\t* 모델 전체 저장 파일\t\t=> 바로 로딩 후 사용 가능"
   ]
  },
  {
   "cell_type": "markdown",
   "metadata": {},
   "source": [
    "[1] 모듈로딩 <hr>"
   ]
  },
  {
   "cell_type": "code",
   "execution_count": 1,
   "metadata": {},
   "outputs": [],
   "source": [
    "## 모델 파일 관련\n",
    "# 모델 파일 저장\n",
    "import os\n",
    "\n",
    "# 저장경로\n",
    "SAVE_PATH= r'C:/Users/KDP-43/Desktop/딥러닝/0919/models/iris/MCF/'\n",
    "\n",
    "# 저장 파일명\n",
    "SAVE_MODEL = SAVE_PATH+'MCFmodel_all.pth'\n"
   ]
  },
  {
   "cell_type": "code",
   "execution_count": 2,
   "metadata": {},
   "outputs": [],
   "source": [
    "# 모듈 로딩\n",
    "# - Model관련\n",
    "import torch              \n",
    "import torch.nn as nn              \n",
    "import torch.nn.functional as F \n",
    "from torchinfo import summary \n",
    "\n",
    "from utils import IrisMCFModel\n"
   ]
  },
  {
   "cell_type": "markdown",
   "metadata": {},
   "source": [
    "- 모델 로드할 때,\n",
    "\t* 해당 모델 클래스가 import 되어야 함\n",
    "\t* .py로 class 생성해서 import 하면 됨"
   ]
  },
  {
   "cell_type": "markdown",
   "metadata": {},
   "source": [
    "[2] 모델 로딩 - 모델 전체 파일 사용"
   ]
  },
  {
   "cell_type": "code",
   "execution_count": 3,
   "metadata": {},
   "outputs": [],
   "source": [
    "if os.path.exists(SAVE_MODEL):\n",
    "\tirisModel = torch.load(SAVE_MODEL, weights_only=False)\n",
    "else:\n",
    "\tprint(f'{SAVE_MODEL} 파일이 존재하지 않습니다. 다시 확인하세요.')"
   ]
  },
  {
   "cell_type": "code",
   "execution_count": 4,
   "metadata": {},
   "outputs": [
    {
     "data": {
      "text/plain": [
       "=================================================================\n",
       "Layer (type:depth-idx)                   Param #\n",
       "=================================================================\n",
       "IrisMCFModel                             --\n",
       "├─Linear: 1-1                            50\n",
       "├─Linear: 1-2                            55\n",
       "├─Linear: 1-3                            18\n",
       "=================================================================\n",
       "Total params: 123\n",
       "Trainable params: 123\n",
       "Non-trainable params: 0\n",
       "================================================================="
      ]
     },
     "execution_count": 4,
     "metadata": {},
     "output_type": "execute_result"
    }
   ],
   "source": [
    "summary(irisModel)"
   ]
  },
  {
   "cell_type": "markdown",
   "metadata": {},
   "source": [
    "[3] 예측 <hr>"
   ]
  },
  {
   "cell_type": "code",
   "execution_count": 24,
   "metadata": {},
   "outputs": [],
   "source": [
    "def classpredict(model, class_dict):\n",
    "    data = [ float(x) for x in input(\"SL, SW, PL, PW: \").split(\",\")]\n",
    "    \n",
    "    dataTS = torch.FloatTensor(data).reshape(1,-1)\n",
    "\n",
    "    # 새로운 데이터에 대한 예측 -> predict\n",
    "    model.eval()\n",
    "\n",
    "    with torch.no_grad():\n",
    "    \n",
    "\t# 추론/평가\n",
    "        pre_val = irisModel(dataTS)\n",
    "\n",
    "    print(\"다중 분류 확률:\", pre_val)\n",
    "    \n",
    "\t# 모델 예측 클래스 반환\n",
    "    pre_val_list = []\n",
    "    for idx in range(len(pre_val[0])):\n",
    "        pre_val_list.append(pre_val[0][idx].item())\n",
    "\n",
    "    import numpy as np  \n",
    "    result = class_dict[ np.array( pre_val_list).argmax() ]\n",
    "    \n",
    "    return result"
   ]
  },
  {
   "cell_type": "code",
   "execution_count": 25,
   "metadata": {},
   "outputs": [
    {
     "name": "stdout",
     "output_type": "stream",
     "text": [
      "다중 분류 확률: tensor([[-2.2385, -0.8679, -0.5270]])\n"
     ]
    },
    {
     "data": {
      "text/plain": [
       "'Virginica'"
      ]
     },
     "execution_count": 25,
     "metadata": {},
     "output_type": "execute_result"
    }
   ],
   "source": [
    "iris_class = {0:\"Setosa\", 1:\"Versicolor\", 2:\"Virginica\"}\n",
    "classpredict(irisModel, class_dict=iris_class)"
   ]
  },
  {
   "cell_type": "code",
   "execution_count": null,
   "metadata": {},
   "outputs": [],
   "source": []
  },
  {
   "cell_type": "code",
   "execution_count": null,
   "metadata": {},
   "outputs": [],
   "source": []
  },
  {
   "cell_type": "markdown",
   "metadata": {},
   "source": [
    "- 연습"
   ]
  },
  {
   "cell_type": "code",
   "execution_count": 5,
   "metadata": {},
   "outputs": [],
   "source": [
    "# data = [ float(x) for x in input(\"SL, SW, PL, PW: \").split(\",\") ]\n",
    "data = [1.33, 2.83, 5.32, 3.42]"
   ]
  },
  {
   "cell_type": "code",
   "execution_count": 6,
   "metadata": {},
   "outputs": [
    {
     "name": "stdout",
     "output_type": "stream",
     "text": [
      "shape 변형 전:  torch.Size([4])\n",
      "shape 변형 후:  torch.Size([1, 4])\n"
     ]
    }
   ],
   "source": [
    "dataTS = torch.FloatTensor(data)\n",
    "print(\"shape 변형 전: \", dataTS.shape)\n",
    "dataTS = dataTS.reshape(1, -1)\n",
    "print(\"shape 변형 후: \", dataTS.shape)"
   ]
  },
  {
   "cell_type": "code",
   "execution_count": 7,
   "metadata": {},
   "outputs": [
    {
     "name": "stdout",
     "output_type": "stream",
     "text": [
      "다중 분류 확률: tensor([[-2.2385, -0.8679, -0.5270]])\n"
     ]
    }
   ],
   "source": [
    "# 새로운 데이터에 대한 예측 -> predict\n",
    "irisModel.eval()\n",
    "\n",
    "with torch.no_grad():\n",
    "    \n",
    "\t# 추론/평가\n",
    "    pre_val = irisModel(dataTS)\n",
    "\n",
    "print(\"다중 분류 확률:\", pre_val)"
   ]
  },
  {
   "cell_type": "code",
   "execution_count": 21,
   "metadata": {},
   "outputs": [
    {
     "name": "stdout",
     "output_type": "stream",
     "text": [
      "-2.238534450531006\n",
      "-0.8679201602935791\n",
      "-0.5269759893417358\n",
      "Virginica\n"
     ]
    }
   ],
   "source": [
    "iris_class = {0:\"Setosa\", 1:\"Versicolor\", 2:\"Virginica\"}\n",
    "\n",
    "# 모델 예측 클래스 반환\n",
    "pre_val_list = []\n",
    "for idx in range(len(pre_val[0])):\n",
    "    pre_val_list.append(pre_val[0][idx].item())\n",
    "    print(pre_val[0][idx].item())\n",
    "\n",
    "import numpy as np  \n",
    "\n",
    "result = iris_class[ np.array( pre_val_list).argmax() ]\n",
    "print(result)\n",
    "\n"
   ]
  },
  {
   "cell_type": "code",
   "execution_count": 23,
   "metadata": {},
   "outputs": [
    {
     "data": {
      "text/plain": [
       "tensor(-0.5270)"
      ]
     },
     "execution_count": 23,
     "metadata": {},
     "output_type": "execute_result"
    }
   ],
   "source": [
    "pre_val[0].max()"
   ]
  },
  {
   "cell_type": "code",
   "execution_count": null,
   "metadata": {},
   "outputs": [],
   "source": []
  }
 ],
 "metadata": {
  "kernelspec": {
   "display_name": "torch_38",
   "language": "python",
   "name": "python3"
  },
  "language_info": {
   "codemirror_mode": {
    "name": "ipython",
    "version": 3
   },
   "file_extension": ".py",
   "mimetype": "text/x-python",
   "name": "python",
   "nbconvert_exporter": "python",
   "pygments_lexer": "ipython3",
   "version": "3.8.19"
  }
 },
 "nbformat": 4,
 "nbformat_minor": 2
}
