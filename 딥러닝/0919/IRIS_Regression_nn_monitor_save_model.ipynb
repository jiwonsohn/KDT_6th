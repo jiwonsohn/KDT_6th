{
 "cells": [
  {
   "cell_type": "markdown",
   "metadata": {},
   "source": [
    "###  DNN기반 회귀 모델 구현 +모니터링+진행모델 저장\n",
    "- 데이터 셋 : iris.csv\n",
    "- 피쳐/속성 : 3개 Sepal_Length, Sepal_Width, Petal_Length\n",
    "- 타겟/라벨 : 1개 Petal_Width\n",
    "- 학습-방법 : 지도학습 > 회귀\n",
    "- 알고 리즘 : 인공신경망(ANN) -> MLP, DNN : 은닉층이 많은 구성 \n",
    "- 프레임워크 : Pytorch\n",
    "***\n",
    "- 모니터링\n",
    "\t* 기준:\t검증데이터셋의 loss & score\n",
    "\t* 평가: 학습데이터셋의 loss & score 와 비교\t=> 학습 중단 여부 결정\n",
    "\t* 저장: 현재까지 진행된 모델의 파라미터(가중치, 절편) 저장 여부 또는 모델 전체 저장\n",
    "\t"
   ]
  },
  {
   "cell_type": "markdown",
   "metadata": {},
   "source": [
    "[1] 모듈 로딩 및 데이터 준비 <hr>"
   ]
  },
  {
   "cell_type": "code",
   "execution_count": 1,
   "metadata": {},
   "outputs": [],
   "source": [
    "\n",
    "# 모듈 로딩\n",
    "# - Model관련\n",
    "import torch              \n",
    "import torch.nn as nn              \n",
    "import torch.nn.functional as F \n",
    "from torch.utils.data import Dataset, DataLoader \n",
    "import torch.optim as optim    \n",
    "from torchmetrics.regression import R2Score, MeanSquaredError \n",
    "from torchinfo import summary \n",
    "\n",
    "#- Data 및 시각화 관련\n",
    "import pandas as pd \n",
    "import matplotlib.pyplot as plt              \n",
    "from sklearn.preprocessing import * \n",
    "from sklearn.model_selection import train_test_split  "
   ]
  },
  {
   "cell_type": "code",
   "execution_count": 2,
   "metadata": {},
   "outputs": [
    {
     "name": "stdout",
     "output_type": "stream",
     "text": [
      "Pytorch v.2.4.1\n",
      "Pandas  v.2.0.3\n"
     ]
    }
   ],
   "source": [
    "# 활용 패키지 버전 체크 ==> 사용자 정의함수로 구현하세요~!!\n",
    "print(f'Pytorch v.{torch.__version__}')\n",
    "print(f'Pandas  v.{pd.__version__}')"
   ]
  },
  {
   "cell_type": "code",
   "execution_count": 3,
   "metadata": {},
   "outputs": [
    {
     "data": {
      "text/html": [
       "<div>\n",
       "<style scoped>\n",
       "    .dataframe tbody tr th:only-of-type {\n",
       "        vertical-align: middle;\n",
       "    }\n",
       "\n",
       "    .dataframe tbody tr th {\n",
       "        vertical-align: top;\n",
       "    }\n",
       "\n",
       "    .dataframe thead th {\n",
       "        text-align: right;\n",
       "    }\n",
       "</style>\n",
       "<table border=\"1\" class=\"dataframe\">\n",
       "  <thead>\n",
       "    <tr style=\"text-align: right;\">\n",
       "      <th></th>\n",
       "      <th>sepal.length</th>\n",
       "      <th>sepal.width</th>\n",
       "      <th>petal.length</th>\n",
       "      <th>petal.width</th>\n",
       "    </tr>\n",
       "  </thead>\n",
       "  <tbody>\n",
       "    <tr>\n",
       "      <th>0</th>\n",
       "      <td>5.1</td>\n",
       "      <td>3.5</td>\n",
       "      <td>1.4</td>\n",
       "      <td>0.2</td>\n",
       "    </tr>\n",
       "  </tbody>\n",
       "</table>\n",
       "</div>"
      ],
      "text/plain": [
       "   sepal.length  sepal.width  petal.length  petal.width\n",
       "0           5.1          3.5           1.4          0.2"
      ]
     },
     "execution_count": 3,
     "metadata": {},
     "output_type": "execute_result"
    }
   ],
   "source": [
    "###  데이터 로딩\n",
    "DATA_FILE=r'C:\\Users\\KDP-43\\Desktop\\머신러닝_1\\data\\iris.csv'\n",
    "\n",
    "### CSV >>> DataFrame\n",
    "irisDF = pd.read_csv(DATA_FILE, usecols=[0,1,2,3])\n",
    "\n",
    "### 확인\n",
    "irisDF.head(1)"
   ]
  },
  {
   "cell_type": "markdown",
   "metadata": {},
   "source": [
    "[2] 모델 클래스 설계 및 정의 <hr>\n",
    "- 클래스목적 : iris 데이터를 학습 및 추론 목적\n",
    "- 클래스이름 : IrisRegModel\n",
    "- 부모클래스 : nn.Module\n",
    "- 매개__변수 : 층별 입출력 개수 고정하기때문에 필요 없음!\n",
    "- 속성__필드 : \n",
    "- 기능__역할 : __init__() : 모델 구조 설정 ,  forward() : 순방향 학습 <= 오바라이딩(overriding)\n",
    "- 클래스구조 \n",
    "    * 입력층 : 입력 3개(피쳐)      출력   10개(퍼셉트론/뉴런 10개 존재)\n",
    "    * 은닉층 : 입력 10개           출력   30개(퍼셉트론/뉴런 30개 존재)\n",
    "    * 출력층 : 입력 30개           출력   1개(너비값)\n",
    "\n",
    "- 활성화함수\n",
    "    * 클래스 형태 ==> nn.MESLoss, nn.ReLU ==> __init__() 메서드 \n",
    "    * 함수 형태 ==> torch.nn.functional 아래에  ==> forward()메서드"
   ]
  },
  {
   "cell_type": "code",
   "execution_count": 4,
   "metadata": {},
   "outputs": [],
   "source": [
    "class IrisRegModel(nn.Module):\n",
    "    \n",
    "    # 모델 구조 구성 및 인스턴스 생성 메서드\n",
    "    def __init__(self):\n",
    "        super().__init__()\n",
    "        self.in_layer=nn.Linear(3, 10)\n",
    "        self.hd_layer=nn.Linear(10, 30)\n",
    "        self.out_layer=nn.Linear(30, 1)\n",
    "        \n",
    "    # 순방향 학습 진행 메서드\n",
    "    def forward(self, input_data):\n",
    "        #- 입력층\n",
    "        y=self.in_layer(input_data)   # fi1W11+f12W12+f13W13+b, ... , fi101W101+f102W102+fi103W103+b\n",
    "        y=F.relu(y)                   # relu => y 값의 범위 : 0 <= y\n",
    "        \n",
    "        # - 은닉층 : 10개의 숫자 값(>=0)\n",
    "        y=self.hd_layer(y)            # f21W11+f22W12...+f210W210+b, ... , f230W201+...+f230W210+b\n",
    "        y=F.relu(y)                   # relu => y 값의 범위 : 0 <= y\n",
    "        \n",
    "        #- 출력층 : 30개의 숫자 값(>=0) 회귀이므로 바로 반환(return)\n",
    "        return self.out_layer(y)              # f31W31+.....+f330W330+b  \n"
   ]
  },
  {
   "cell_type": "code",
   "execution_count": 5,
   "metadata": {},
   "outputs": [
    {
     "name": "stdout",
     "output_type": "stream",
     "text": [
      "IrisRegModel(\n",
      "  (in_layer): Linear(in_features=3, out_features=10, bias=True)\n",
      "  (hd_layer): Linear(in_features=10, out_features=30, bias=True)\n",
      "  (out_layer): Linear(in_features=30, out_features=1, bias=True)\n",
      ")\n"
     ]
    }
   ],
   "source": [
    "### 모델 인스턴스 생성\n",
    "model = IrisRegModel()\n",
    "\n",
    "print(model)"
   ]
  },
  {
   "cell_type": "code",
   "execution_count": 6,
   "metadata": {},
   "outputs": [
    {
     "data": {
      "text/plain": [
       "==========================================================================================\n",
       "Layer (type:depth-idx)                   Output Shape              Param #\n",
       "==========================================================================================\n",
       "IrisRegModel                             [1000000, 1]              --\n",
       "├─Linear: 1-1                            [1000000, 10]             40\n",
       "├─Linear: 1-2                            [1000000, 30]             330\n",
       "├─Linear: 1-3                            [1000000, 1]              31\n",
       "==========================================================================================\n",
       "Total params: 401\n",
       "Trainable params: 401\n",
       "Non-trainable params: 0\n",
       "Total mult-adds (M): 401\n",
       "==========================================================================================\n",
       "Input size (MB): 12.00\n",
       "Forward/backward pass size (MB): 328.00\n",
       "Params size (MB): 0.00\n",
       "Estimated Total Size (MB): 340.00\n",
       "=========================================================================================="
      ]
     },
     "execution_count": 6,
     "metadata": {},
     "output_type": "execute_result"
    }
   ],
   "source": [
    "# 모델 사용 메모리 정보 확인\n",
    "summary(model, input_size=(1000000,3))"
   ]
  },
  {
   "cell_type": "markdown",
   "metadata": {},
   "source": [
    "[3] 데이터셋 클래스 설계 및 정의 <hr>\n",
    "- 데이터_셋 : iris.csv\n",
    "- 피쳐_개수 : 3개\n",
    "- 타겟_개수 : 1개\n",
    "- 클래스이름 : IrisDataset\n",
    "- 부모클래스 : utils.data.Dataset\n",
    "- 속성__필드 : featureDF, targetDF, n_rows, n_features\n",
    "- 필수메서드 \n",
    "    * _ _init_ _(self) : 데이터셋 저장 및 전처리, 개발자가 필요한 속성 설정\n",
    "    * _ _len_ _(self) : 데이터의 개수 반환\n",
    "    * _ _getItem_ _(self, index) : 특정 인덱스의 피쳐와 타겟 반환"
   ]
  },
  {
   "cell_type": "code",
   "execution_count": 7,
   "metadata": {},
   "outputs": [],
   "source": [
    "class IrisDataset(Dataset):\n",
    "    \n",
    "    def __init__(self, featureDF, targetDF):\n",
    "        self.featureDF=featureDF \n",
    "        self.targetDF=targetDF\n",
    "        self.n_rows=featureDF.shape[0]\n",
    "        self.n_features=featureDF.shape[1]\n",
    "    \n",
    "    def __len__(self):\n",
    "        return self.n_rows\n",
    "    \n",
    "    def __getitem__(self, index):\n",
    "        # 텐서화\n",
    "        featureTS=torch.FloatTensor(self.featureDF.iloc[index].values)\n",
    "        targetTS=torch.FloatTensor(self.targetDF.iloc[index].values) \n",
    "        \n",
    "        # 피쳐와 타겟 반환\n",
    "        return featureTS, targetTS"
   ]
  },
  {
   "cell_type": "code",
   "execution_count": 8,
   "metadata": {},
   "outputs": [],
   "source": [
    "## 데이터셋 인스턴스 생성\n",
    "\n",
    "# - DataFram에서 피쳐와 타겟 추출\n",
    "featureDF = irisDF[irisDF.columns[:-1]]   # 2D (150, 3)\n",
    "targetDF = irisDF[irisDF.columns[-1:]]    # 2D (150, 1)\n",
    "\n",
    "# - 커스텀데이터셋 인스턴스 생성\n",
    "irisDS=IrisDataset(featureDF, targetDF)"
   ]
  },
  {
   "cell_type": "markdown",
   "metadata": {},
   "source": [
    "[4] 학습 준비 \n",
    "- 학습_횟수 : EPOCH         <- 처음~끝까지 공부하는 단위\n",
    "- 배치_크기 : BATCH_SIZE    <- 한번에 학습할 데이터셋 양 \n",
    "- 위치_지정 : DEVICE    <- 텐서 저장 및 실행 위치 (GPU/CPU)\n",
    "- 학_습_률 : LR 가중치와 절편 업데이트 시 경사하강법으로 업데이트 간격 설정 0.001~0.1 "
   ]
  },
  {
   "cell_type": "code",
   "execution_count": 9,
   "metadata": {},
   "outputs": [
    {
     "name": "stdout",
     "output_type": "stream",
     "text": [
      "BATCH_CNT : 15\n"
     ]
    }
   ],
   "source": [
    "\n",
    "### 학습 진행 관련 설정\n",
    "EPOPCH = 1\n",
    "BATCH_SIZE = 10\n",
    "BATCH_CNT = irisDF.shape[0]//BATCH_SIZE\n",
    "DEVICE = 'cuda' if torch.cuda.is_available() else 'cpu'\n",
    "LR = 0.001\n",
    "\n",
    "print(f'BATCH_CNT : {BATCH_CNT}')"
   ]
  },
  {
   "cell_type": "markdown",
   "metadata": {},
   "source": [
    "- 인스턴스/객체 : 모델, 데이터셋, 최적화 (, 손실함수, 성능지표)"
   ]
  },
  {
   "cell_type": "code",
   "execution_count": 10,
   "metadata": {},
   "outputs": [
    {
     "name": "stdout",
     "output_type": "stream",
     "text": [
      "(84, 3) (38, 3) (28, 3)\n",
      "(84, 1) (38, 1) (28, 1)\n",
      "<class 'pandas.core.frame.DataFrame'> <class 'pandas.core.frame.DataFrame'> <class 'pandas.core.frame.DataFrame'>\n"
     ]
    }
   ],
   "source": [
    "\n",
    "# 모델 인스턴스\n",
    "model=IrisRegModel() \n",
    "\n",
    "# 데이터셋 인스턴스\n",
    "X_train, X_test, y_train, y_test =train_test_split(featureDF, targetDF, random_state=1)\n",
    "X_train, X_val, y_train, y_val =train_test_split(X_train, y_train, random_state=1)\n",
    "print(f'{X_train.shape} {X_test.shape} {X_val.shape}')\n",
    "print(f'{y_train.shape} {y_test.shape} {y_val.shape}')\n",
    "print(f'{type(X_train)} {type(X_test)} {type(X_val)}')\n",
    "\n",
    "trainDS=IrisDataset(X_train, y_train)\n",
    "valDS=IrisDataset(X_val, y_val)\n",
    "testDS=IrisDataset(X_test, y_test)\n",
    "\n",
    "# 데이터로더 인스턴스\n",
    "trainDL=DataLoader(trainDS, batch_size=BATCH_SIZE)"
   ]
  },
  {
   "cell_type": "code",
   "execution_count": 11,
   "metadata": {},
   "outputs": [
    {
     "name": "stdout",
     "output_type": "stream",
     "text": [
      "torch.Size([10, 3]) torch.Size([10, 1])\n"
     ]
    }
   ],
   "source": [
    "## [테스트]데이터로더와 데이터셋 체크\n",
    "for feature, target in trainDL: \n",
    "    print(feature.shape, target.shape)\n",
    "    break"
   ]
  },
  {
   "cell_type": "code",
   "execution_count": 12,
   "metadata": {},
   "outputs": [],
   "source": [
    "# 최적화 인스턴스 => W,b 텐서 즉, model.parameters() 전달\n",
    "optimizer=optim.Adam(model.parameters(), lr=LR)\n",
    "\n",
    "# 손실함수 인스턴스 => 회귀, MSE, MAE, RMSE ....\n",
    "reqLoss=nn.MSELoss()"
   ]
  },
  {
   "cell_type": "markdown",
   "metadata": {},
   "source": [
    "[5] 학습 진행<hr>"
   ]
  },
  {
   "cell_type": "markdown",
   "metadata": {},
   "source": [
    "- > 모델 저장 준비"
   ]
  },
  {
   "cell_type": "code",
   "execution_count": 13,
   "metadata": {},
   "outputs": [],
   "source": [
    "# 모델 파일 저장\n",
    "import os\n",
    "\n",
    "# 저장경로\n",
    "SAVE_PATH= r'C:/Users/KDP-43/Desktop/딥러닝/0919/models/iris/'\n",
    "\n",
    "# 저장 파일명\n",
    "SAVE_FILE = 'model_train_wbs.pth'\n",
    "\n",
    "# 모델 구조 & 파라미터 모두 저장\n",
    "SAVE_MODEL = 'model_all.pth'\n",
    "\n",
    "# 경로상 폴더 존재 여부 체크\n",
    "if not os.path.exists(SAVE_PATH):\n",
    "    os.makedirs(SAVE_PATH)"
   ]
  },
  {
   "cell_type": "markdown",
   "metadata": {},
   "source": [
    "- > 학습 진행"
   ]
  },
  {
   "cell_type": "code",
   "execution_count": 14,
   "metadata": {},
   "outputs": [
    {
     "name": "stdout",
     "output_type": "stream",
     "text": [
      "CNT => 15.0\n"
     ]
    }
   ],
   "source": [
    "## 학습의 효과 확인 손실값과 성능평가값 저장 필요\n",
    "LOSS_HISTORY, SCORE_HISTORY=[[],[]], [[],[]]\n",
    "CNT=irisDS.n_rows/BATCH_SIZE\n",
    "print(f'CNT => {CNT}')\n",
    "\n",
    "## 학습 모니터링/스케쥴링 설정\n",
    "# LOSS_HISTORY, SCORE_HISTORY 활용\n",
    "# \t\t=> 임계기준: 10번\n",
    "BREAK_CNT = 0\n",
    "LIMIT_VALUE = 10\n",
    "\n",
    "for epoch in range(EPOPCH):\n",
    "    # 학습 모드로 모델 설정\n",
    "    model.train()\n",
    "    \n",
    "    # 배치 크기 만큼 데이터 로딩해서 학습 진행\n",
    "    loss_total, score_total=0,0\n",
    "    for featureTS, targetTS in trainDL:\n",
    "        \n",
    "        # 학습 진행\n",
    "        pre_y=model(featureTS)\n",
    "        \n",
    "        # 손실 계산\n",
    "        loss=reqLoss(pre_y, targetTS)\n",
    "        loss_total += loss.item()\n",
    "        \n",
    "        # 성능평가 계산\n",
    "        score=R2Score()(pre_y, targetTS)\n",
    "        score_total += score.item()\n",
    "        \n",
    "        # 최적화 진행\n",
    "        optimizer.zero_grad()\n",
    "        loss.backward()\n",
    "        optimizer.step()\n",
    "        \n",
    "    # 에포크 당 검증기능\n",
    "    # 모델 검증 모드 설정\n",
    "    model.eval()\n",
    "    with torch.no_grad():\n",
    "        # 검증 데이터셋\n",
    "        val_featrueTS=torch.FloatTensor(valDS.featureDF.values)\n",
    "        val_targetTS=torch.FloatTensor(valDS.targetDF.values)\n",
    "        # 추론/평가\n",
    "        pre_val=model(val_featrueTS)\n",
    "        # 손실\n",
    "        loss_val=reqLoss(pre_val, val_targetTS)\n",
    "        # 성능평가\n",
    "        score_val=R2Score()(pre_val, val_targetTS)\n",
    "\n",
    "\n",
    "    # 에포크 당 손실값과 성능평가값 저장    \n",
    "    LOSS_HISTORY[0].append(loss_total/CNT)\n",
    "    SCORE_HISTORY[0].append(score_total/CNT)\n",
    "    \n",
    "    LOSS_HISTORY[1].append(loss_val)\n",
    "    SCORE_HISTORY[1].append(score_val)\n",
    "    \n",
    "\t# 학습 진행 모니터링/스케쥴링\t-> 검증 DS 기준-------------------\n",
    "    # LOSS 기준\n",
    "    if len( LOSS_HISTORY[1]) > 1:\n",
    "        if LOSS_HISTORY[1][-1] >= LOSS_HISTORY[1][-2]:\n",
    "            BREAK_CNT += 1\n",
    "        \n",
    "\n",
    "\t# 성능이 좋은 학습 가중치 저장----------------------------------\n",
    "    \n",
    "\t# 저장 파일명\n",
    "    SAVE_FILE = f'model_train_wb_{epoch}_{score_val:.5f}.pth'\n",
    "\n",
    "    if len( SCORE_HISTORY[1]) == 1:\n",
    "        # 첫번째 저장값이라 무조건 모델 저장\n",
    "        torch.save(model.state_dict(), SAVE_PATH+SAVE_FILE)\n",
    "        # 모델 전체 저장\n",
    "        torch.save(model, SAVE_PATH+SAVE_MODEL)\n",
    "    \n",
    "    else:\n",
    "        # 지금 점수[-1]가 이전 최고성능 점수보다 높으면 저장\n",
    "    \tif SCORE_HISTORY[1][-1] > max( SCORE_HISTORY[1][:-1]):\n",
    "            torch.save(model.state_dict(), SAVE_PATH+SAVE_FILE)\n",
    "            torch.save(model, SAVE_PATH+SAVE_MODEL)\n",
    "    \n",
    "    \n",
    "\t# 학습 중단 여부 결정\n",
    "    if BREAK_CNT > LIMIT_VALUE: \n",
    "        print(\"score 및 loss 개선 변화 X => {epoch} EPOCH에서 학습 중단\")\n",
    "        break\n",
    "\n"
   ]
  },
  {
   "cell_type": "markdown",
   "metadata": {},
   "source": [
    "- 모델 저장 방법 <hr>\n",
    "* 방법1 : 모델 파라미터만 저장\n",
    "* 방법2 : 모델 설계 구조 및 파라미터까지 모두 저장\n"
   ]
  },
  {
   "cell_type": "code",
   "execution_count": 36,
   "metadata": {},
   "outputs": [
    {
     "data": {
      "text/plain": [
       "OrderedDict([('in_layer.weight',\n",
       "              tensor([[-0.0668,  0.4975, -0.0051],\n",
       "                      [-0.2524, -0.4521,  0.1671],\n",
       "                      [ 0.5490,  0.1057,  0.1838],\n",
       "                      [-0.3559,  0.3901,  0.2645],\n",
       "                      [-0.4770,  0.3510,  0.4788],\n",
       "                      [-0.5266,  0.5285, -0.1748],\n",
       "                      [-0.4949, -0.3415,  0.1595],\n",
       "                      [ 0.2839,  0.1423, -0.3346],\n",
       "                      [-0.1804,  0.0402, -0.2732],\n",
       "                      [ 0.3497,  0.1375,  0.0953]])),\n",
       "             ('in_layer.bias',\n",
       "              tensor([ 0.2620, -0.3571, -0.1488,  0.3180,  0.0241,  0.4183, -0.3697, -0.1290,\n",
       "                      -0.3074,  0.0420])),\n",
       "             ('hd_layer.weight',\n",
       "              tensor([[ 0.1172,  0.1499,  0.0328, -0.0572, -0.0077,  0.3012, -0.2444, -0.0550,\n",
       "                       -0.2948, -0.0612],\n",
       "                      [ 0.1226,  0.1342, -0.1717,  0.0893, -0.1687,  0.2121, -0.0462,  0.2989,\n",
       "                        0.0294,  0.0617],\n",
       "                      [-0.2862,  0.0567, -0.2626,  0.0696, -0.2075, -0.1647, -0.2879, -0.1699,\n",
       "                       -0.3033, -0.0074],\n",
       "                      [-0.2743,  0.2336,  0.1844,  0.1368,  0.0357,  0.2904, -0.0650, -0.1746,\n",
       "                        0.0283, -0.1925],\n",
       "                      [-0.1877,  0.1451, -0.1203, -0.1286, -0.0565,  0.1064, -0.0789,  0.0132,\n",
       "                       -0.0083,  0.0060],\n",
       "                      [-0.1453,  0.3038,  0.0177, -0.1600, -0.2769,  0.2760,  0.2745, -0.1636,\n",
       "                        0.0662,  0.1045],\n",
       "                      [ 0.1467,  0.2608, -0.1119,  0.1909,  0.0291, -0.1484,  0.1411,  0.1724,\n",
       "                       -0.1291,  0.3195],\n",
       "                      [-0.1935, -0.2582,  0.0585, -0.1543,  0.0229, -0.2262, -0.0124,  0.1955,\n",
       "                       -0.0666,  0.0047],\n",
       "                      [ 0.3146,  0.0409, -0.1342, -0.0414, -0.1873,  0.2869,  0.0582, -0.2577,\n",
       "                        0.1608,  0.1467],\n",
       "                      [ 0.1807, -0.1899,  0.1315,  0.1167, -0.0382,  0.1593,  0.3080,  0.2968,\n",
       "                       -0.0826,  0.0324],\n",
       "                      [ 0.0900, -0.3106, -0.2909,  0.0783,  0.1474,  0.1166, -0.2227, -0.0586,\n",
       "                        0.1039,  0.1401],\n",
       "                      [ 0.0854, -0.0134,  0.2837, -0.2623, -0.0665,  0.2192,  0.2193, -0.1431,\n",
       "                        0.2525, -0.3206],\n",
       "                      [ 0.0309, -0.1509,  0.0209, -0.2998, -0.1546,  0.2428,  0.1322,  0.0267,\n",
       "                        0.2990, -0.0524],\n",
       "                      [-0.2792, -0.2491,  0.1362, -0.0350,  0.1731,  0.2213,  0.1090, -0.1892,\n",
       "                       -0.2431, -0.0503],\n",
       "                      [-0.1810,  0.1637, -0.0346,  0.2799, -0.2587, -0.0271,  0.2635,  0.2506,\n",
       "                        0.0738,  0.1929],\n",
       "                      [-0.2377,  0.2698,  0.2945, -0.1751,  0.0612, -0.2611,  0.0651, -0.2875,\n",
       "                       -0.0105,  0.2855],\n",
       "                      [-0.2276, -0.3023, -0.1942, -0.2827,  0.1293,  0.3134, -0.2138, -0.1711,\n",
       "                       -0.1874, -0.2612],\n",
       "                      [-0.0066, -0.1454,  0.2543,  0.0289, -0.2989, -0.2926, -0.2976, -0.2252,\n",
       "                        0.0590, -0.3012],\n",
       "                      [-0.0577, -0.2891,  0.1516,  0.0966, -0.1888,  0.1375, -0.0668, -0.0629,\n",
       "                        0.0508,  0.1072],\n",
       "                      [ 0.0723,  0.0553,  0.0948, -0.1840, -0.3079, -0.0510,  0.0969, -0.1223,\n",
       "                       -0.2955,  0.2215],\n",
       "                      [ 0.0192, -0.2587, -0.1687,  0.0161,  0.2097,  0.0485, -0.1909,  0.0503,\n",
       "                        0.1690, -0.3093],\n",
       "                      [ 0.2226, -0.1636, -0.0457, -0.1326,  0.2657, -0.1863,  0.0923, -0.2621,\n",
       "                       -0.3050,  0.2210],\n",
       "                      [ 0.2287, -0.1169, -0.3102, -0.1741,  0.0501, -0.1846,  0.1861,  0.0670,\n",
       "                        0.0971,  0.0105],\n",
       "                      [-0.0354, -0.1288,  0.1251, -0.2333,  0.3062, -0.2924,  0.3123, -0.1000,\n",
       "                       -0.1369, -0.0056],\n",
       "                      [-0.1090,  0.2323,  0.1685,  0.0786, -0.2370,  0.1420, -0.0667, -0.2598,\n",
       "                       -0.1785, -0.2695],\n",
       "                      [ 0.0335, -0.2111, -0.1221, -0.0038,  0.0908,  0.1082,  0.1236,  0.0804,\n",
       "                       -0.0224,  0.0998],\n",
       "                      [-0.0366, -0.1300,  0.0365, -0.0401, -0.0116, -0.1202, -0.1813, -0.1943,\n",
       "                        0.0685,  0.2441],\n",
       "                      [ 0.0282,  0.0790, -0.0984, -0.1352, -0.3047, -0.2608, -0.0173,  0.2818,\n",
       "                       -0.0381, -0.2832],\n",
       "                      [-0.0213, -0.0781, -0.1102, -0.0928,  0.1387, -0.1066, -0.2377,  0.0674,\n",
       "                        0.0094,  0.1344],\n",
       "                      [-0.1864, -0.2040, -0.1072,  0.0265, -0.1692, -0.3074,  0.0040,  0.2569,\n",
       "                       -0.0339, -0.1498]])),\n",
       "             ('hd_layer.bias',\n",
       "              tensor([ 5.9179e-02, -8.9573e-02, -2.7068e-01, -9.6625e-02, -2.6729e-01,\n",
       "                       8.1877e-02,  1.8391e-01, -1.6483e-01, -1.0461e-01, -8.3683e-02,\n",
       "                      -8.1749e-02,  2.7566e-01,  1.1749e-01,  3.3389e-02, -1.9499e-01,\n",
       "                      -2.6713e-04, -1.2928e-01,  1.4193e-01, -1.8391e-01, -1.0954e-01,\n",
       "                      -2.7529e-01, -2.4464e-01, -1.4564e-01, -1.3971e-01, -2.5669e-01,\n",
       "                      -7.4841e-02, -2.4085e-01, -1.2874e-01,  2.4724e-01,  2.1294e-01])),\n",
       "             ('out_layer.weight',\n",
       "              tensor([[ 0.1508,  0.1334, -0.1620, -0.0167,  0.0212,  0.0204,  0.0809, -0.1307,\n",
       "                        0.1609,  0.1097,  0.0872, -0.0913, -0.1627,  0.0102, -0.0461,  0.0774,\n",
       "                        0.0750, -0.0725,  0.1038, -0.0281, -0.0437,  0.1502,  0.1236,  0.0696,\n",
       "                        0.0683,  0.0496,  0.1306, -0.1334,  0.1621, -0.0932]])),\n",
       "             ('out_layer.bias', tensor([0.1797]))])"
      ]
     },
     "execution_count": 36,
     "metadata": {},
     "output_type": "execute_result"
    }
   ],
   "source": [
    "# 학습된 모델 파라미터 값 확인\n",
    "model.state_dict()"
   ]
  },
  {
   "cell_type": "markdown",
   "metadata": {},
   "source": [
    "방법 1) 모델 파라미터, 층별 가중치 & 절편들"
   ]
  },
  {
   "cell_type": "code",
   "execution_count": 38,
   "metadata": {},
   "outputs": [],
   "source": [
    "## models 폴더 아래 프로젝트 폴더 아래 모델 파일 저장\n",
    "\n",
    "import os\n",
    "\n",
    "# 저장경로\n",
    "SAVE_PATH= r'C:/Users/KDP-43/Desktop/딥러닝/0919/models/iris/'\n",
    "\n",
    "# 저장 파일명\n",
    "SAVE_FILE = 'model_train_wb.pth'\n",
    "\n",
    "# 경로상 폴더 존재 여부 체크\n",
    "if not os.path.exists(SAVE_PATH):\n",
    "    os.makedirs(SAVE_PATH)"
   ]
  },
  {
   "cell_type": "code",
   "execution_count": 39,
   "metadata": {},
   "outputs": [],
   "source": [
    "# 모델 저장\n",
    "torch.save(model.state_dict(),SAVE_PATH+SAVE_FILE)"
   ]
  },
  {
   "cell_type": "code",
   "execution_count": 40,
   "metadata": {},
   "outputs": [
    {
     "name": "stdout",
     "output_type": "stream",
     "text": [
      "<class 'collections.OrderedDict'>\n"
     ]
    },
    {
     "name": "stderr",
     "output_type": "stream",
     "text": [
      "C:\\Users\\KDP-43\\AppData\\Local\\Temp\\ipykernel_2928\\2932460229.py:6: FutureWarning: You are using `torch.load` with `weights_only=False` (the current default value), which uses the default pickle module implicitly. It is possible to construct malicious pickle data which will execute arbitrary code during unpickling (See https://github.com/pytorch/pytorch/blob/main/SECURITY.md#untrusted-models for more details). In a future release, the default value for `weights_only` will be flipped to `True`. This limits the functions that could be executed during unpickling. Arbitrary objects will no longer be allowed to be loaded via this mode unless they are explicitly allowlisted by the user via `torch.serialization.add_safe_globals`. We recommend you start setting `weights_only=True` for any use case where you don't have full control of the loaded file. Please open an issue on GitHub for any issues related to this experimental feature.\n",
      "  wbTS = torch.load(SAVE_PATH+SAVE_FILE)\n"
     ]
    }
   ],
   "source": [
    "# 모델 즉, 가중치와 절편 로딩\n",
    "# [1] 가중치 & 절편 객체로 로딩\n",
    "# [2] 모델의 state_dict 속성에 저장\n",
    "\n",
    "# 읽기\n",
    "wbTS = torch.load(SAVE_PATH+SAVE_FILE, weights_only=True)\n",
    "print(type(wbTS))"
   ]
  },
  {
   "cell_type": "code",
   "execution_count": null,
   "metadata": {},
   "outputs": [],
   "source": [
    "# 모델 인스턴스에 저장\n",
    "model.load_state_dict(wbTS)"
   ]
  },
  {
   "cell_type": "code",
   "execution_count": null,
   "metadata": {},
   "outputs": [],
   "source": [
    "# 모델 인스턴스에 저장\n",
    "model2 =IrisRegModel()\t\t\t\t# 층마다 w,b 초기화\n",
    "model2.load_state_dict(wbTS)"
   ]
  },
  {
   "cell_type": "code",
   "execution_count": null,
   "metadata": {},
   "outputs": [],
   "source": [
    "print(model2) "
   ]
  }
 ],
 "metadata": {
  "kernelspec": {
   "display_name": "TORCH_38",
   "language": "python",
   "name": "python3"
  },
  "language_info": {
   "codemirror_mode": {
    "name": "ipython",
    "version": 3
   },
   "file_extension": ".py",
   "mimetype": "text/x-python",
   "name": "python",
   "nbconvert_exporter": "python",
   "pygments_lexer": "ipython3",
   "version": "3.8.19"
  }
 },
 "nbformat": 4,
 "nbformat_minor": 2
}
