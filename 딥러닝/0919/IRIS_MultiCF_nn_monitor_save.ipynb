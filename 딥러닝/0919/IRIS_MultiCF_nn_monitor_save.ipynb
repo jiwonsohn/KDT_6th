{
 "cells": [
  {
   "cell_type": "markdown",
   "metadata": {},
   "source": [
    "#####  DNN기반 다중 분류 모델 구현\n",
    "- 데이터 셋 : iris.csv\n",
    "- 피쳐/속성 : 4개 Sepal_Length, Sepal_Width, Petal_Length, Petal_Width\n",
    "- 타겟/라벨 : 1개 variety\n",
    "- 학습-방법 : 지도학습 > 분류 > 다중분류 (클래스 3개 )\n",
    "- 알고 리즘 : 인공신경망(ANN) -> MLP, DNN : 은닉층이 많은 구성 \n",
    "- 프레임워크 : Pytorch"
   ]
  },
  {
   "cell_type": "markdown",
   "metadata": {},
   "source": [
    "[1] 모듈 로딩 및 데이터 준비 <hr>"
   ]
  },
  {
   "cell_type": "code",
   "execution_count": 1,
   "metadata": {},
   "outputs": [],
   "source": [
    "# 모듈 로딩\n",
    "# - Model관련\n",
    "import torch              \n",
    "import torch.nn as nn              \n",
    "import torch.nn.functional as F \n",
    "from torch.utils.data import Dataset, DataLoader \n",
    "import torch.optim as optim    \n",
    "from torchmetrics.classification import MulticlassF1Score\n",
    "from torchinfo import summary \n",
    "\n",
    "#- Data 및 시각화 관련\n",
    "import pandas as pd \n",
    "import matplotlib.pyplot as plt              \n",
    "from sklearn.preprocessing import * \n",
    "from sklearn.model_selection import train_test_split"
   ]
  },
  {
   "cell_type": "code",
   "execution_count": 2,
   "metadata": {},
   "outputs": [
    {
     "name": "stdout",
     "output_type": "stream",
     "text": [
      "Pytorch v.2.4.1\n",
      "Pandas  v.2.0.3\n"
     ]
    }
   ],
   "source": [
    "# 활용 패키지 버전 체크 ==> 사용자 정의함수로 구현하세요~!!\n",
    "print(f'Pytorch v.{torch.__version__}')\n",
    "print(f'Pandas  v.{pd.__version__}')"
   ]
  },
  {
   "cell_type": "code",
   "execution_count": 3,
   "metadata": {},
   "outputs": [
    {
     "data": {
      "text/html": [
       "<div>\n",
       "<style scoped>\n",
       "    .dataframe tbody tr th:only-of-type {\n",
       "        vertical-align: middle;\n",
       "    }\n",
       "\n",
       "    .dataframe tbody tr th {\n",
       "        vertical-align: top;\n",
       "    }\n",
       "\n",
       "    .dataframe thead th {\n",
       "        text-align: right;\n",
       "    }\n",
       "</style>\n",
       "<table border=\"1\" class=\"dataframe\">\n",
       "  <thead>\n",
       "    <tr style=\"text-align: right;\">\n",
       "      <th></th>\n",
       "      <th>sepal.length</th>\n",
       "      <th>sepal.width</th>\n",
       "      <th>petal.length</th>\n",
       "      <th>petal.width</th>\n",
       "      <th>variety</th>\n",
       "    </tr>\n",
       "  </thead>\n",
       "  <tbody>\n",
       "    <tr>\n",
       "      <th>0</th>\n",
       "      <td>5.1</td>\n",
       "      <td>3.5</td>\n",
       "      <td>1.4</td>\n",
       "      <td>0.2</td>\n",
       "      <td>Setosa</td>\n",
       "    </tr>\n",
       "  </tbody>\n",
       "</table>\n",
       "</div>"
      ],
      "text/plain": [
       "   sepal.length  sepal.width  petal.length  petal.width variety\n",
       "0           5.1          3.5           1.4          0.2  Setosa"
      ]
     },
     "execution_count": 3,
     "metadata": {},
     "output_type": "execute_result"
    }
   ],
   "source": [
    "###  데이터 로딩\n",
    "DATA_FILE= r'C:\\Users\\KDP-43\\Desktop\\머신러닝_1\\data\\iris.csv' \n",
    "\n",
    "### CSV >>> DataFrame\n",
    "irisDF = pd.read_csv(DATA_FILE)\n",
    "\n",
    "### 확인\n",
    "irisDF.head(1)"
   ]
  },
  {
   "cell_type": "code",
   "execution_count": 4,
   "metadata": {},
   "outputs": [
    {
     "data": {
      "text/plain": [
       "array(['Setosa', 'Versicolor', 'Virginica'], dtype=object)"
      ]
     },
     "execution_count": 4,
     "metadata": {},
     "output_type": "execute_result"
    }
   ],
   "source": [
    "### 타겟 변경 => 정수화 , 클래스 3개 \n",
    "irisDF['variety'].unique()"
   ]
  },
  {
   "cell_type": "code",
   "execution_count": 5,
   "metadata": {},
   "outputs": [
    {
     "name": "stdout",
     "output_type": "stream",
     "text": [
      "labels =>{'Setosa': 0, 'Versicolor': 1, 'Virginica': 2}\n"
     ]
    },
    {
     "data": {
      "text/html": [
       "<div>\n",
       "<style scoped>\n",
       "    .dataframe tbody tr th:only-of-type {\n",
       "        vertical-align: middle;\n",
       "    }\n",
       "\n",
       "    .dataframe tbody tr th {\n",
       "        vertical-align: top;\n",
       "    }\n",
       "\n",
       "    .dataframe thead th {\n",
       "        text-align: right;\n",
       "    }\n",
       "</style>\n",
       "<table border=\"1\" class=\"dataframe\">\n",
       "  <thead>\n",
       "    <tr style=\"text-align: right;\">\n",
       "      <th></th>\n",
       "      <th>sepal.length</th>\n",
       "      <th>sepal.width</th>\n",
       "      <th>petal.length</th>\n",
       "      <th>petal.width</th>\n",
       "      <th>variety</th>\n",
       "    </tr>\n",
       "  </thead>\n",
       "  <tbody>\n",
       "    <tr>\n",
       "      <th>0</th>\n",
       "      <td>5.1</td>\n",
       "      <td>3.5</td>\n",
       "      <td>1.4</td>\n",
       "      <td>0.2</td>\n",
       "      <td>0</td>\n",
       "    </tr>\n",
       "  </tbody>\n",
       "</table>\n",
       "</div>"
      ],
      "text/plain": [
       "   sepal.length  sepal.width  petal.length  petal.width  variety\n",
       "0           5.1          3.5           1.4          0.2        0"
      ]
     },
     "execution_count": 5,
     "metadata": {},
     "output_type": "execute_result"
    }
   ],
   "source": [
    "labels=dict(zip(irisDF['variety'].unique().tolist(),range(3)))\n",
    "print(f'labels =>{labels}')\n",
    "\n",
    "irisDF['variety']=irisDF['variety'].replace(labels)\n",
    "irisDF.head(1)"
   ]
  },
  {
   "cell_type": "markdown",
   "metadata": {},
   "source": [
    "[2] 모델 클래스 설계 및 정의 <hr>\n",
    "- 클래스목적 : iris 데이터를 학습 및 추론 목적\n",
    "- 클래스이름 : IrisMCFModel\n",
    "- 부모클래스 : nn.Module\n",
    "- 매개__변수 : 층별 입출력 개수 고정하기때문에 필요 없음!\n",
    "- 속성__필드 : \n",
    "- 기능__역할 : __init__() : 모델 구조 설정 ,  forward() : 순방향 학습 <= 오바라이딩(overriding)\n",
    "- 클래스구조 \n",
    "    * 입력층 : 입력  4개(피쳐)      출력    10개 (퍼셉트론/뉴런 10개 존재)\n",
    "    * 은닉층 : 입력 10개            출력    5개  (퍼셉트론/뉴런 5개 존재)\n",
    "    * 출력층 : 입력  5개            출력    3개  (퍼셉트론/뉴런 2개 존재 : 다중분류)\n",
    "- 활성화함수\n",
    "    * 클래스 형태 ==> nn.MESLoss, nn.ReLU ==> __init__() 메서드 \n",
    "    * 함수 형태 ==> torch.nn.functional 아래에  ==> forward()메서드"
   ]
  },
  {
   "cell_type": "code",
   "execution_count": 6,
   "metadata": {},
   "outputs": [],
   "source": [
    "class IrisMCFModel(nn.Module):\n",
    "    \n",
    "    # 모델 구조 구성 및 인스턴스 생성 메서드\n",
    "    def __init__(self):\n",
    "        super().__init__()\n",
    "        self.in_layer=nn.Linear(4, 10)\n",
    "        self.hd_layer=nn.Linear(10, 5)\n",
    "        self.out_layer=nn.Linear(5, 3)   # 다중분류 'Setosa', 'Versicolor', 'Virginica'\n",
    "        \n",
    "    # 순방향 학습 진행 메서드\n",
    "    def forward(self, input_data):\n",
    "        #- 입력층\n",
    "        y=self.in_layer(input_data)   \n",
    "        y=F.relu(y)                   \n",
    "        \n",
    "        # - 은닉층 : 10개의 숫자 값(>=0)\n",
    "        y=self.hd_layer(y)            \n",
    "        y=F.relu(y)                  \n",
    "        \n",
    "        #- 출력층 : 5개의 숫자 값 => 다중 분류 \n",
    "        #- 손실함수 CrossEntropyLoss가 내부에서 softmax 진행 \n",
    "        return self.out_layer(y)       \n"
   ]
  },
  {
   "cell_type": "code",
   "execution_count": 7,
   "metadata": {},
   "outputs": [
    {
     "name": "stdout",
     "output_type": "stream",
     "text": [
      "IrisMCFModel(\n",
      "  (in_layer): Linear(in_features=4, out_features=10, bias=True)\n",
      "  (hd_layer): Linear(in_features=10, out_features=5, bias=True)\n",
      "  (out_layer): Linear(in_features=5, out_features=3, bias=True)\n",
      ")\n"
     ]
    }
   ],
   "source": [
    "### [테스트] 모델 인스턴스 생성\n",
    "model = IrisMCFModel()\n",
    "print(model)"
   ]
  },
  {
   "cell_type": "code",
   "execution_count": 8,
   "metadata": {},
   "outputs": [
    {
     "data": {
      "text/plain": [
       "==========================================================================================\n",
       "Layer (type:depth-idx)                   Output Shape              Param #\n",
       "==========================================================================================\n",
       "IrisMCFModel                             [5000000, 3]              --\n",
       "├─Linear: 1-1                            [5000000, 10]             50\n",
       "├─Linear: 1-2                            [5000000, 5]              55\n",
       "├─Linear: 1-3                            [5000000, 3]              18\n",
       "==========================================================================================\n",
       "Total params: 123\n",
       "Trainable params: 123\n",
       "Non-trainable params: 0\n",
       "Total mult-adds (M): 615\n",
       "==========================================================================================\n",
       "Input size (MB): 80.00\n",
       "Forward/backward pass size (MB): 720.00\n",
       "Params size (MB): 0.00\n",
       "Estimated Total Size (MB): 800.00\n",
       "=========================================================================================="
      ]
     },
     "execution_count": 8,
     "metadata": {},
     "output_type": "execute_result"
    }
   ],
   "source": [
    "### [테스트] 모델 사용 메모리 정보 확인\n",
    "summary(model, input_size=(5000000,4))"
   ]
  },
  {
   "cell_type": "markdown",
   "metadata": {},
   "source": [
    "[3] 데이터셋 클래스 설계 및 정의 <hr>"
   ]
  },
  {
   "cell_type": "code",
   "execution_count": 9,
   "metadata": {},
   "outputs": [],
   "source": [
    "class IrisDataset(Dataset):\n",
    "    def __init__(self, featureDF, targetDF):\n",
    "        self.featureDF=featureDF \n",
    "        self.targetDF=targetDF\n",
    "        self.n_rows=featureDF.shape[0]\n",
    "        self.n_features=featureDF.shape[1]\n",
    "    \n",
    "    def __len__(self):\n",
    "        return self.n_rows\n",
    "    \n",
    "    def __getitem__(self, index):\n",
    "        # 텐서화\n",
    "        featureTS=torch.FloatTensor(self.featureDF.iloc[index].values)\n",
    "        targetTS=torch.FloatTensor(self.targetDF.iloc[index].values) \n",
    "        \n",
    "        # 피쳐와 타겟 반환\n",
    "        return featureTS, targetTS"
   ]
  },
  {
   "cell_type": "code",
   "execution_count": 10,
   "metadata": {},
   "outputs": [
    {
     "name": "stdout",
     "output_type": "stream",
     "text": [
      "torch.Size([1, 4]) torch.Size([1, 1]) tensor([[5.1000, 3.5000, 1.4000, 0.2000]]) tensor([[0.]])\n"
     ]
    }
   ],
   "source": [
    "## [테스트] 데이터셋 인스턴스 생성\n",
    "\n",
    "# - DataFram에서 피쳐와 타겟 추출\n",
    "featureDF = irisDF[irisDF.columns[:-1]]   # 2D (150, 3)\n",
    "targetDF = irisDF[irisDF.columns[-1:]]    # 2D (150, 1)\n",
    "\n",
    "# - 커스텀데이터셋 인스턴스 생성\n",
    "irisDS=IrisDataset(featureDF, targetDF)\n",
    "\n",
    "# - 데이터로더 인스턴스 생성 \n",
    "irisDL = DataLoader(irisDS)\n",
    "for feature, label in irisDL: \n",
    "    print(feature.shape, label.shape, feature, label)\n",
    "    break"
   ]
  },
  {
   "cell_type": "markdown",
   "metadata": {},
   "source": [
    "[4] 학습 준비 <hr>\n",
    "- 학습_횟수 : EPOCH         <- 처음~끝까지 공부하는 단위\n",
    "- 배치_크기 : BATCH_SIZE    <- 한번에 학습할 데이터셋 양 \n",
    "- 위치_지정 : DEVICE    <- 텐서 저장 및 실행 위치 (GPU/CPU)\n",
    "- 학_습_률 : LR 가중치와 절편 업데이트 시 경사하강법으로 업데이트 간격 설정 0.001~0.1 "
   ]
  },
  {
   "cell_type": "code",
   "execution_count": 11,
   "metadata": {},
   "outputs": [],
   "source": [
    "### 학습 진행 관련 설정\n",
    "EPOCH = 1000\n",
    "BATCH_SIZE = 10\n",
    "DEVICE = 'cuda' if torch.cuda.is_available() else 'cpu'\n",
    "LR = 0.001"
   ]
  },
  {
   "cell_type": "markdown",
   "metadata": {},
   "source": [
    "- 인스턴스/객체 : 모델, 데이터셋, 최적화 (, 손실함수, 성능지표)"
   ]
  },
  {
   "cell_type": "code",
   "execution_count": 12,
   "metadata": {},
   "outputs": [],
   "source": [
    "# 모델 인스턴스\n",
    "model=IrisMCFModel()"
   ]
  },
  {
   "cell_type": "code",
   "execution_count": 13,
   "metadata": {},
   "outputs": [
    {
     "name": "stdout",
     "output_type": "stream",
     "text": [
      "(84, 4) (38, 4) (28, 4)\n",
      "(84, 1) (38, 1) (28, 1)\n",
      "variety\n",
      "0          28\n",
      "1          28\n",
      "2          28\n",
      "Name: count, dtype: int64 variety\n",
      "1          13\n",
      "2          13\n",
      "0          12\n",
      "Name: count, dtype: int64 variety\n",
      "0          10\n",
      "1           9\n",
      "2           9\n",
      "Name: count, dtype: int64\n"
     ]
    }
   ],
   "source": [
    "# DS과 DL 인스턴스\n",
    "#- 학습용, 검즈용, 테스트용 데이터 분리\n",
    "X_train, X_test, y_train, y_test =train_test_split(featureDF, targetDF, \n",
    "                                                   stratify = targetDF,random_state=1)\n",
    "X_train, X_val, y_train, y_val =train_test_split(X_train, y_train, \n",
    "                                                 stratify=y_train, random_state=1)\n",
    "\n",
    "print(f'{X_train.shape} {X_test.shape} {X_val.shape}')\n",
    "print(f'{y_train.shape} {y_test.shape} {y_val.shape}')\n",
    "print(f'{y_train.value_counts()} {y_test.value_counts()} {y_val.value_counts()}')\n",
    "\n",
    "# - 학습용, 검증용, 테스트용 데이터셋\n",
    "trainDS=IrisDataset(X_train, y_train)\n",
    "valDS=IrisDataset(X_val, y_val)\n",
    "testDS=IrisDataset(X_test, y_test)\n",
    "\n",
    "# - 학습용 데이터로더 인스턴스\n",
    "trainDL=DataLoader(trainDS, batch_size=BATCH_SIZE)"
   ]
  },
  {
   "cell_type": "markdown",
   "metadata": {},
   "source": [
    "- 최적화, 손실함수 인스턴스 생성"
   ]
  },
  {
   "cell_type": "code",
   "execution_count": 14,
   "metadata": {},
   "outputs": [],
   "source": [
    "# 최적화 인스턴스 => W,b 텐서 즉, model.parameters() 전달\n",
    "optimizer=optim.Adam(model.parameters(), lr=LR)\n",
    "\n",
    "# 손실함수 인스턴스 => 분류 => 다중분류 CrossEntropyLoss\n",
    "#                            예측값은 선형식 결과 값 전달 ==> AF 처리 X\n",
    "crossLoss=nn.CrossEntropyLoss()"
   ]
  },
  {
   "cell_type": "markdown",
   "metadata": {},
   "source": [
    "[5] 학습 진행 <hr>"
   ]
  },
  {
   "cell_type": "markdown",
   "metadata": {},
   "source": [
    "- > 모델 저장 준비"
   ]
  },
  {
   "cell_type": "code",
   "execution_count": 15,
   "metadata": {},
   "outputs": [],
   "source": [
    "import os\n",
    "\n",
    "# 저장 경로\n",
    "SAVE_PATH = r'C:/Users/KDP-43/Desktop/딥러닝/0919/models/iris/MCF/'\n",
    "\n",
    "# 모델 구조 & 파라미터 모두 저장\n",
    "SAVE_MODEL = 'MCFmodel_all.pth'\n"
   ]
  },
  {
   "cell_type": "code",
   "execution_count": 16,
   "metadata": {},
   "outputs": [],
   "source": [
    "# 경로상 폴더 존재 여부 체크\n",
    "# 없으면 생성\n",
    "if not os.path.exists(SAVE_PATH):\n",
    "    os.makedirs(SAVE_PATH)"
   ]
  },
  {
   "cell_type": "markdown",
   "metadata": {},
   "source": [
    "- > 학습 진행"
   ]
  },
  {
   "cell_type": "code",
   "execution_count": 17,
   "metadata": {},
   "outputs": [
    {
     "name": "stdout",
     "output_type": "stream",
     "text": [
      "BATCH_CNT => 9\n",
      "torch.Size([28, 3]) torch.Size([28])\n",
      "[0/1000]\n",
      "- [TRAIN] LOSS : 1.2078599797354803 SCORE : 0.15880971236361396\n",
      "- [VALID] LOSS : 1.1799174547195435 SCORE : 0.1621621698141098\n",
      "torch.Size([28, 3]) torch.Size([28])\n",
      "[1/1000]\n",
      "- [TRAIN] LOSS : 1.1805090241962009 SCORE : 0.15880971236361396\n",
      "- [VALID] LOSS : 1.1586191654205322 SCORE : 0.1621621698141098\n",
      "torch.Size([28, 3]) torch.Size([28])\n",
      "[2/1000]\n",
      "- [TRAIN] LOSS : 1.1628711488511827 SCORE : 0.15880971236361396\n",
      "- [VALID] LOSS : 1.1470683813095093 SCORE : 0.1621621698141098\n",
      "torch.Size([28, 3]) torch.Size([28])\n",
      "[3/1000]\n",
      "- [TRAIN] LOSS : 1.1529299285676744 SCORE : 0.15880971236361396\n",
      "- [VALID] LOSS : 1.1395617723464966 SCORE : 0.1621621698141098\n",
      "torch.Size([28, 3]) torch.Size([28])\n",
      "[4/1000]\n",
      "- [TRAIN] LOSS : 1.145100752512614 SCORE : 0.15880971236361396\n",
      "- [VALID] LOSS : 1.1322294473648071 SCORE : 0.1621621698141098\n",
      "torch.Size([28, 3]) torch.Size([28])\n",
      "[5/1000]\n",
      "- [TRAIN] LOSS : 1.1383183532290988 SCORE : 0.15880971236361396\n",
      "- [VALID] LOSS : 1.126182198524475 SCORE : 0.1621621698141098\n",
      "torch.Size([28, 3]) torch.Size([28])\n",
      "[6/1000]\n",
      "- [TRAIN] LOSS : 1.1321467028723822 SCORE : 0.15880971236361396\n",
      "- [VALID] LOSS : 1.1210647821426392 SCORE : 0.1621621698141098\n",
      "torch.Size([28, 3]) torch.Size([28])\n",
      "[7/1000]\n",
      "- [TRAIN] LOSS : 1.1267926957872179 SCORE : 0.15880971236361396\n",
      "- [VALID] LOSS : 1.1164534091949463 SCORE : 0.1621621698141098\n",
      "torch.Size([28, 3]) torch.Size([28])\n",
      "[8/1000]\n",
      "- [TRAIN] LOSS : 1.122067027621799 SCORE : 0.15880971236361396\n",
      "- [VALID] LOSS : 1.1115970611572266 SCORE : 0.1621621698141098\n",
      "torch.Size([28, 3]) torch.Size([28])\n",
      "[9/1000]\n",
      "- [TRAIN] LOSS : 1.117007229063246 SCORE : 0.15880971236361396\n",
      "- [VALID] LOSS : 1.1070204973220825 SCORE : 0.1621621698141098\n",
      "torch.Size([28, 3]) torch.Size([28])\n",
      "[10/1000]\n",
      "- [TRAIN] LOSS : 1.1119568480385675 SCORE : 0.15880971236361396\n",
      "- [VALID] LOSS : 1.1023024320602417 SCORE : 0.1621621698141098\n",
      "torch.Size([28, 3]) torch.Size([28])\n",
      "[11/1000]\n",
      "- [TRAIN] LOSS : 1.10687874423133 SCORE : 0.15880971236361396\n",
      "- [VALID] LOSS : 1.0970171689987183 SCORE : 0.1621621698141098\n",
      "torch.Size([28, 3]) torch.Size([28])\n",
      "[12/1000]\n",
      "- [TRAIN] LOSS : 1.1009515788820055 SCORE : 0.15880971236361396\n",
      "- [VALID] LOSS : 1.0914833545684814 SCORE : 0.1621621698141098\n",
      "torch.Size([28, 3]) torch.Size([28])\n",
      "[13/1000]\n",
      "- [TRAIN] LOSS : 1.0945781866709392 SCORE : 0.15880971236361396\n",
      "- [VALID] LOSS : 1.0847303867340088 SCORE : 0.1621621698141098\n",
      "torch.Size([28, 3]) torch.Size([28])\n",
      "[14/1000]\n",
      "- [TRAIN] LOSS : 1.0870245430204604 SCORE : 0.15880971236361396\n",
      "- [VALID] LOSS : 1.0768970251083374 SCORE : 0.1621621698141098\n",
      "torch.Size([28, 3]) torch.Size([28])\n",
      "[15/1000]\n",
      "- [TRAIN] LOSS : 1.0781053966946073 SCORE : 0.15880971236361396\n",
      "- [VALID] LOSS : 1.0679227113723755 SCORE : 0.1621621698141098\n",
      "torch.Size([28, 3]) torch.Size([28])\n",
      "[16/1000]\n",
      "- [TRAIN] LOSS : 1.068000700738695 SCORE : 0.15880971236361396\n",
      "- [VALID] LOSS : 1.056675672531128 SCORE : 0.1621621698141098\n",
      "torch.Size([28, 3]) torch.Size([28])\n",
      "[17/1000]\n",
      "- [TRAIN] LOSS : 1.0550421741273668 SCORE : 0.15880971236361396\n",
      "- [VALID] LOSS : 1.044024109840393 SCORE : 0.1621621698141098\n",
      "torch.Size([28, 3]) torch.Size([28])\n",
      "[18/1000]\n",
      "- [TRAIN] LOSS : 1.0403672258059184 SCORE : 0.15880971236361396\n",
      "- [VALID] LOSS : 1.0283870697021484 SCORE : 0.1621621698141098\n",
      "torch.Size([28, 3]) torch.Size([28])\n",
      "[19/1000]\n",
      "- [TRAIN] LOSS : 1.0228210753864713 SCORE : 0.15880971236361396\n",
      "- [VALID] LOSS : 1.0100246667861938 SCORE : 0.1621621698141098\n",
      "torch.Size([28, 3]) torch.Size([28])\n",
      "[20/1000]\n",
      "- [TRAIN] LOSS : 1.0020495851834614 SCORE : 0.15880971236361396\n",
      "- [VALID] LOSS : 0.9890746474266052 SCORE : 0.1621621698141098\n",
      "torch.Size([28, 3]) torch.Size([28])\n",
      "[21/1000]\n",
      "- [TRAIN] LOSS : 0.9789312481880188 SCORE : 0.15880971236361396\n",
      "- [VALID] LOSS : 0.9645325541496277 SCORE : 0.1621621698141098\n",
      "torch.Size([28, 3]) torch.Size([28])\n",
      "[22/1000]\n",
      "- [TRAIN] LOSS : 0.9529214302698771 SCORE : 0.17504902929067612\n",
      "- [VALID] LOSS : 0.938322901725769 SCORE : 0.2825396955013275\n",
      "torch.Size([28, 3]) torch.Size([28])\n",
      "[23/1000]\n",
      "- [TRAIN] LOSS : 0.9256657428211637 SCORE : 0.34979157315360176\n",
      "- [VALID] LOSS : 0.9114285707473755 SCORE : 0.44354838132858276\n",
      "torch.Size([28, 3]) torch.Size([28])\n",
      "[24/1000]\n",
      "- [TRAIN] LOSS : 0.8970700038803948 SCORE : 0.49684678349230027\n",
      "- [VALID] LOSS : 0.8830828070640564 SCORE : 0.6937322020530701\n",
      "torch.Size([28, 3]) torch.Size([28])\n",
      "[25/1000]\n",
      "- [TRAIN] LOSS : 0.8675258623229133 SCORE : 0.7414663632710775\n",
      "- [VALID] LOSS : 0.8537489175796509 SCORE : 0.855183482170105\n",
      "torch.Size([28, 3]) torch.Size([28])\n",
      "[26/1000]\n",
      "- [TRAIN] LOSS : 0.8372199071778191 SCORE : 0.9873015880584717\n",
      "- [VALID] LOSS : 0.8233882784843445 SCORE : 0.9628483057022095\n",
      "torch.Size([28, 3]) torch.Size([28])\n",
      "[27/1000]\n",
      "- [TRAIN] LOSS : 0.806419657336341 SCORE : 0.9809951318634881\n",
      "- [VALID] LOSS : 0.7929059863090515 SCORE : 0.9628483057022095\n",
      "torch.Size([28, 3]) torch.Size([28])\n",
      "[28/1000]\n",
      "- [TRAIN] LOSS : 0.7755756709310744 SCORE : 0.9441478318638272\n",
      "- [VALID] LOSS : 0.7624937295913696 SCORE : 0.9249999523162842\n",
      "torch.Size([28, 3]) torch.Size([28])\n",
      "[29/1000]\n",
      "- [TRAIN] LOSS : 0.7452312641673617 SCORE : 0.9134760432773166\n",
      "- [VALID] LOSS : 0.7319608330726624 SCORE : 0.8441559076309204\n",
      "torch.Size([28, 3]) torch.Size([28])\n",
      "[30/1000]\n",
      "- [TRAIN] LOSS : 0.715424981382158 SCORE : 0.8668564094437493\n",
      "- [VALID] LOSS : 0.7018184065818787 SCORE : 0.7993311285972595\n",
      "torch.Size([28, 3]) torch.Size([28])\n",
      "[31/1000]\n",
      "- [TRAIN] LOSS : 0.6864729722340902 SCORE : 0.8320827417903476\n",
      "- [VALID] LOSS : 0.6725770235061646 SCORE : 0.7993311285972595\n",
      "torch.Size([28, 3]) torch.Size([28])\n",
      "[32/1000]\n",
      "- [TRAIN] LOSS : 0.6585383746359084 SCORE : 0.7590487864282396\n",
      "- [VALID] LOSS : 0.6452503204345703 SCORE : 0.7993311285972595\n",
      "torch.Size([28, 3]) torch.Size([28])\n",
      "[33/1000]\n",
      "- [TRAIN] LOSS : 0.6322858466042413 SCORE : 0.7451318369971381\n",
      "- [VALID] LOSS : 0.6191130876541138 SCORE : 0.7993311285972595\n",
      "torch.Size([28, 3]) torch.Size([28])\n",
      "[34/1000]\n",
      "- [TRAIN] LOSS : 0.6076988048023648 SCORE : 0.7451318369971381\n",
      "- [VALID] LOSS : 0.5941511392593384 SCORE : 0.7993311285972595\n",
      "torch.Size([28, 3]) torch.Size([28])\n",
      "[35/1000]\n",
      "- [TRAIN] LOSS : 0.584689544306861 SCORE : 0.7451318369971381\n",
      "- [VALID] LOSS : 0.5706965923309326 SCORE : 0.7993311285972595\n",
      "torch.Size([28, 3]) torch.Size([28])\n",
      "[36/1000]\n",
      "- [TRAIN] LOSS : 0.5631712509526147 SCORE : 0.7451318369971381\n",
      "- [VALID] LOSS : 0.548995852470398 SCORE : 0.7993311285972595\n",
      "score 개선 변화가 없어 36 EPOCH에서 학습을 중단.\n"
     ]
    }
   ],
   "source": [
    "## 학습의 효과 확인 손실값과 성능평가값 저장 필요\n",
    "LOSS_HISTORY, SCORE_HISTORY=[[],[]], [[],[]]\n",
    "CNT=len(trainDL)\n",
    "print(f'BATCH_CNT => {CNT}')\n",
    "\n",
    "## 학습 모니터링 설정 -------------------------------------\n",
    "BREAK_CNT = 0\n",
    "LIMIT_VALUE = 30\n",
    "\n",
    "for epoch in range(EPOCH):\n",
    "    # 학습 모드로 모델 설정\n",
    "    model.train()\n",
    "    \n",
    "    # 배치 크기 만큼 데이터 로딩해서 학습 진행\n",
    "    loss_total, score_total=0,0\n",
    "    for featureTS, targetTS in trainDL:\n",
    "        # 학습 진행\n",
    "        pre_y=model(featureTS)\n",
    "        \n",
    "        # 손실 계산 : nn.CrossEntropyLoss 요구사항 : 정답/타겟은 0D 또는 1D,  타입은 long\n",
    "        loss=crossLoss(pre_y, targetTS.reshape(-1).long())\n",
    "        loss_total += loss.item()\n",
    "        \n",
    "        # 성능평가 계산\n",
    "        score=MulticlassF1Score(num_classes=3)(pre_y, targetTS.reshape(-1))\n",
    "        score_total += score.item()\n",
    "        \n",
    "        # 최적화 진행\n",
    "        optimizer.zero_grad()\n",
    "        loss.backward()\n",
    "        optimizer.step()\n",
    "        \n",
    "    # 에포크 당 검증기능\n",
    "    # 모델 검증 모드 설정\n",
    "    model.eval()\n",
    "    with torch.no_grad():\n",
    "        # 검증 데이터셋\n",
    "        val_featrueTS=torch.FloatTensor(valDS.featureDF.values)\n",
    "        val_targetTS=torch.FloatTensor(valDS.targetDF.values)\n",
    "        \n",
    "        # 추론/평가\n",
    "        pre_val=model(val_featrueTS)\n",
    "        print(pre_val.shape, val_targetTS.reshape(-1).shape)\n",
    "        \n",
    "        # 손실\n",
    "        loss_val=crossLoss(pre_val, val_targetTS.reshape(-1).long())\n",
    "        score_val=MulticlassF1Score(num_classes=3)(pre_val, val_targetTS.reshape(-1))\n",
    "\n",
    "    # 에포크 당 손실값과 성능평가값 저장    \n",
    "    LOSS_HISTORY[0].append(loss_total/CNT)\n",
    "    SCORE_HISTORY[0].append(score_total/CNT)\n",
    "    \n",
    "    LOSS_HISTORY[1].append(loss_val)\n",
    "    SCORE_HISTORY[1].append(score_val)\n",
    "    \n",
    "    print(f'[{epoch}/{EPOCH}]\\n- [TRAIN] LOSS : {LOSS_HISTORY[0][-1]} SCORE : {SCORE_HISTORY[0][-1]}')\n",
    "    print(f'- [VALID] LOSS : {LOSS_HISTORY[1][-1]} SCORE : {SCORE_HISTORY[1][-1]}')\n",
    "\n",
    "\n",
    "\t# 학습 진행 모티너링 --------------------------------------------\n",
    "    # 검증 DS SCORE 기준\n",
    "\n",
    "    if len(SCORE_HISTORY[1]) > 1:\n",
    "        if SCORE_HISTORY[1][-1] <= SCORE_HISTORY[1][-2]:\n",
    "            BREAK_CNT +=1\n",
    "            \n",
    "\t# 좋은 성능 학습 모델 & 파라미터 저장\n",
    "    SAVE_FILE = f'MCFModel_trian_wb_{epoch}_{score_val:.4f}.pth'\n",
    "    \n",
    "    if len(SCORE_HISTORY[1]) == 1:\n",
    "        torch.save(model.state_dict(), SAVE_PATH+SAVE_FILE)\n",
    "        torch.save(model, SAVE_PATH+SAVE_MODEL)\n",
    "        \n",
    "    else:\n",
    "        # 현재 모델의 검증 모델 점수가 이전 최고성능 점수보다 높으면 저장\n",
    "        torch.save(model.state_dict(), SAVE_PATH+SAVE_FILE)\n",
    "        torch.save(model, SAVE_PATH+SAVE_MODEL)\n",
    "\n",
    "\t# 학습 중단 여부 결정\n",
    "    if BREAK_CNT > LIMIT_VALUE:\n",
    "        print(f\"score 개선 변화가 없어 {epoch} EPOCH에서 학습을 중단.\")\n",
    "        break\n",
    "\n",
    "        "
   ]
  },
  {
   "cell_type": "code",
   "execution_count": 18,
   "metadata": {},
   "outputs": [
    {
     "data": {
      "image/png": "[encoded data removed]",
      "text/plain": [
       "<Figure size 1000x500 with 2 Axes>"
      ]
     },
     "metadata": {},
     "output_type": "display_data"
    }
   ],
   "source": [
    "from utils import showLossScore\n",
    "\n",
    "showLossScore(SCORE_HISTORY, LOSS_HISTORY, title1='MultiCF_LOSS', title2='F1')"
   ]
  },
  {
   "cell_type": "code",
   "execution_count": null,
   "metadata": {},
   "outputs": [],
   "source": [
    "# 학습 후 loss 시각화\n",
    "import matplotlib.pyplot as plt\n",
    "\n",
    "fg, axes=plt.subplots(1,2, figsize=(10,5), sharex=True)\n",
    "fg.suptitle('IRIS Loss & R2')\n",
    "\n",
    "axes[0].plot(range(1, EPOCH+1), LOSS_HISTORY[0][:EPOCH], label='Train')\n",
    "axes[0].plot(range(1, EPOCH+1), LOSS_HISTORY[1][:EPOCH], label='Val')\n",
    "axes[0].grid()\n",
    "axes[0].legend()\n",
    "axes[0].set_xlabel(\"Epoch\")\n",
    "axes[0].set_ylabel(\"Loss\")\n",
    "axes[0].set_title(\"LOSS\")\n",
    "\n",
    "axes[1].plot(range(1, EPOCH+1), SCORE_HISTORY[0][:EPOCH], label='Train')\n",
    "axes[1].plot(range(1, EPOCH+1), SCORE_HISTORY[1][:EPOCH], label='Val')\n",
    "axes[1].grid()\n",
    "axes[1].legend()\n",
    "axes[1].set_xlabel(\"Epoch\")\n",
    "axes[1].set_ylabel(\"F1\")\n",
    "axes[1].set_title(\"F1\")\n",
    "\n",
    "plt.tight_layout()\n",
    "plt.show()"
   ]
  },
  {
   "cell_type": "code",
   "execution_count": null,
   "metadata": {},
   "outputs": [],
   "source": [
    "# 모델 검증 모드 설정\n",
    "model.eval()\n",
    "with torch.no_grad():\n",
    "    # 검증 데이터셋\n",
    "    test_featrueTS=torch.FloatTensor(testDS.featureDF.values)\n",
    "    test_targetTS=torch.FloatTensor(testDS.targetDF.values)\n",
    "        \n",
    "    # 추론/평가\n",
    "    pre_val=model(test_featrueTS)\n",
    "    \n",
    "    # 손실\n",
    "    loss_test=crossLoss(pre_val, test_targetTS.reshape(-1).long())\n",
    "    score_test=MulticlassF1Score(num_classes=3)(pre_val, test_targetTS.reshape(-1))\n",
    "    \n",
    "print(f'- [TEST] LOSS : {loss_test.item()} SCORE : {score_test.item()}')"
   ]
  },
  {
   "cell_type": "code",
   "execution_count": null,
   "metadata": {},
   "outputs": [],
   "source": []
  }
 ],
 "metadata": {
  "kernelspec": {
   "display_name": "TORCH_38",
   "language": "python",
   "name": "python3"
  },
  "language_info": {
   "codemirror_mode": {
    "name": "ipython",
    "version": 3
   },
   "file_extension": ".py",
   "mimetype": "text/x-python",
   "name": "python",
   "nbconvert_exporter": "python",
   "pygments_lexer": "ipython3",
   "version": "3.8.19"
  }
 },
 "nbformat": 4,
 "nbformat_minor": 2
}
