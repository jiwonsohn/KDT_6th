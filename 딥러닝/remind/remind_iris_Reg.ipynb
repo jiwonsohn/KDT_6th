{
 "cells": [
  {
   "cell_type": "markdown",
   "metadata": {},
   "source": [
    "### 아이리스 너비 길이 예측\n",
    "- 데이터셋: iris.csv\n",
    "- 피쳐: 3개\n",
    "- 타겟: 1개\n",
    "- 학습방법: 지도학습 >> 회귀\n",
    "- 알고리즘: DNN (심층신경망)\n",
    "- 프레임워크: pytorch"
   ]
  },
  {
   "cell_type": "code",
   "execution_count": 1,
   "metadata": {},
   "outputs": [],
   "source": [
    "import torch\n",
    "import torch.nn as nn\n",
    "import torch.nn.functional as F\n",
    "from torch.utils.data import Dataset, DataLoader\n",
    "import torch.optim as optim\n",
    "from torchmetrics.regression import R2Score, MeanSquaredError\n",
    "from torchinfo import summary\n",
    "\n",
    "import matplotlib.pyplot as plt\n",
    "import pandas as pd\n",
    "import seaborn as sns\n",
    "\n",
    "from sklearn.preprocessing import *\n",
    "from sklearn.model_selection import train_test_split"
   ]
  },
  {
   "cell_type": "code",
   "execution_count": 2,
   "metadata": {},
   "outputs": [],
   "source": [
    "# 모듈 버전 확인\n",
    "def ver_check():\n",
    "    print(f'torch v.{torch.__version__}')\n",
    "    print(f'pandas v.{pd.__version__}')"
   ]
  },
  {
   "cell_type": "code",
   "execution_count": 3,
   "metadata": {},
   "outputs": [
    {
     "name": "stdout",
     "output_type": "stream",
     "text": [
      "torch v.2.4.1\n",
      "pandas v.2.0.3\n"
     ]
    }
   ],
   "source": [
    "ver_check()"
   ]
  },
  {
   "cell_type": "code",
   "execution_count": 4,
   "metadata": {},
   "outputs": [
    {
     "data": {
      "text/html": [
       "<div>\n",
       "<style scoped>\n",
       "    .dataframe tbody tr th:only-of-type {\n",
       "        vertical-align: middle;\n",
       "    }\n",
       "\n",
       "    .dataframe tbody tr th {\n",
       "        vertical-align: top;\n",
       "    }\n",
       "\n",
       "    .dataframe thead th {\n",
       "        text-align: right;\n",
       "    }\n",
       "</style>\n",
       "<table border=\"1\" class=\"dataframe\">\n",
       "  <thead>\n",
       "    <tr style=\"text-align: right;\">\n",
       "      <th></th>\n",
       "      <th>sepal.length</th>\n",
       "      <th>sepal.width</th>\n",
       "      <th>petal.length</th>\n",
       "      <th>petal.width</th>\n",
       "    </tr>\n",
       "  </thead>\n",
       "  <tbody>\n",
       "    <tr>\n",
       "      <th>0</th>\n",
       "      <td>5.1</td>\n",
       "      <td>3.5</td>\n",
       "      <td>1.4</td>\n",
       "      <td>0.2</td>\n",
       "    </tr>\n",
       "    <tr>\n",
       "      <th>1</th>\n",
       "      <td>4.9</td>\n",
       "      <td>3.0</td>\n",
       "      <td>1.4</td>\n",
       "      <td>0.2</td>\n",
       "    </tr>\n",
       "    <tr>\n",
       "      <th>2</th>\n",
       "      <td>4.7</td>\n",
       "      <td>3.2</td>\n",
       "      <td>1.3</td>\n",
       "      <td>0.2</td>\n",
       "    </tr>\n",
       "  </tbody>\n",
       "</table>\n",
       "</div>"
      ],
      "text/plain": [
       "   sepal.length  sepal.width  petal.length  petal.width\n",
       "0           5.1          3.5           1.4          0.2\n",
       "1           4.9          3.0           1.4          0.2\n",
       "2           4.7          3.2           1.3          0.2"
      ]
     },
     "execution_count": 4,
     "metadata": {},
     "output_type": "execute_result"
    }
   ],
   "source": [
    "DATA_FILE = r'C:\\Users\\KDP-43\\Desktop\\머신러닝_1\\data\\iris.csv'\n",
    "\n",
    "irisDF = pd.read_csv(DATA_FILE, usecols=[0,1,2,3])\n",
    "irisDF.head(3)"
   ]
  },
  {
   "cell_type": "code",
   "execution_count": 5,
   "metadata": {},
   "outputs": [
    {
     "name": "stdout",
     "output_type": "stream",
     "text": [
      "featureDF: (150, 3) 2D\n",
      "targetDF: (150, 1) 2D\n",
      "\n",
      "X_trian: (84, 3) 2D\n",
      "y_trian: (84, 1) 2D\n",
      "X_val: (28, 3) 2D\n",
      "y_val: (28, 1) 2D\n",
      "X_test: (38, 3) 2D\n",
      "y_test: (38, 1) 2D\n"
     ]
    }
   ],
   "source": [
    "# 타겟&피쳐 && train&valid&test 분리\n",
    "targetDF = irisDF[['petal.width']]\n",
    "# featureDF = irisDF.drop('petal.width', axis=1)\n",
    "featureDF = irisDF[irisDF.columns[:-1]]\n",
    "\n",
    "print(f'featureDF: {featureDF.shape} {featureDF.ndim}D')\n",
    "print(f'targetDF: {targetDF.shape} {targetDF.ndim}D')\n",
    "\n",
    "X_train, X_test, y_train, y_test = train_test_split(featureDF, targetDF,random_state=10)\n",
    "X_train, X_val, y_train, y_val = train_test_split(X_train, y_train, random_state=10)\n",
    "\n",
    "print()\n",
    "print(f'X_trian: {X_train.shape} {X_train.ndim}D')\n",
    "print(f'y_trian: {y_train.shape} {y_train.ndim}D')\n",
    "print(f'X_val: {X_val.shape} {X_val.ndim}D')\n",
    "print(f'y_val: {y_val.shape} {y_val.ndim}D')\n",
    "print(f'X_test: {X_test.shape} {X_test.ndim}D')\n",
    "print(f'y_test: {y_test.shape} {y_test.ndim}D')"
   ]
  },
  {
   "cell_type": "markdown",
   "metadata": {},
   "source": [
    "#### 학습 모델 클래스 생성\n",
    "- 클래스 목적: iris 피쳐 3개 학습 -> 너비 예측\n",
    "- 클래스 이름: IrisRegModel\n",
    "- 부모 클래스: nn.Module\n",
    "- 매개 변수\t: layer별 입출력 개수 고정이라 필요 X\n",
    "- 기능/역할\t: \n",
    "\t* \\___init___\\(): 모델 구조 선언\n",
    "\t* forward()\t: 순방향 학습\t\t<= 오버라이딩\n",
    "<br>\n",
    "- 클래스 구조\n",
    "\t* 입력층:\t입력 3개\t출력 10\t\tAF ReLU\n",
    "\t* 은닉층:\t입력 10\t\t출력 20\t\tAF ReLU\n",
    "\t* 은닉층:\t입력 20\t\t출력 5 \t\tAF ReLU\n",
    "\t* 출력층:\t입력 5\t\t출력 : 1개\n"
   ]
  },
  {
   "cell_type": "code",
   "execution_count": 6,
   "metadata": {},
   "outputs": [],
   "source": [
    "class IrisRegModel(nn.Module):\n",
    "    \n",
    "\t# 모델 인스턴스 생성 메서드\n",
    "\tdef __init__(self):\n",
    "\t\tsuper().__init__()\n",
    "\n",
    "\t\tself.in_layer = nn.Linear(3, 10)\n",
    "\t\tself.hd_layer = nn.ModuleList([ nn.Linear(10, 20), nn.Linear(20, 5)])\n",
    "\t\tself.ot_layer = nn.Linear(5, 1)\n",
    "\n",
    "\t\t# self.in_layer = nn.Linear(3, 10)\n",
    "\t\t# self.hd_layer = nn.Linear(10, 20)\n",
    "\t\t# self.hd_layer = nn.Linear(20, 5)\n",
    "\t\t# self.ot_layer = nn.Linear(5, 1)\n",
    "\n",
    "\t# 순방향 학습 메서드\n",
    "\tdef forward(self, data):\n",
    "\n",
    "\t\tx = F.relu(self.in_layer(data))\n",
    "\n",
    "\t\tfor linear in self.hd_layer:\n",
    "\t\t\tx = F.relu( linear(x))\n",
    "\n",
    "\n",
    "\t\t# x = F.relu(self.in_layer(data))\n",
    "\t\t# x = F.relu(self.hd_layer(x))\n",
    "\t\t# x = F.relu(self.hd_layer(x))\n",
    "\n",
    "\t\treturn self.ot_layer(x)\n"
   ]
  },
  {
   "cell_type": "code",
   "execution_count": 7,
   "metadata": {},
   "outputs": [],
   "source": [
    "# [테스트] 학습 모델 인스턴스\n",
    "model = IrisRegModel()\n",
    "\n",
    "# print(model)\n",
    "# print()\n",
    "# summary(model, input_size=(150, 3))"
   ]
  },
  {
   "cell_type": "markdown",
   "metadata": {},
   "source": [
    "#### 데이터셋 텐서화 클래스 생성\n",
    "- 클래스이름: IrisDataset\n",
    "- 클래스목적: iris train, val, test 텐서화\n",
    "- 부모클래스: utils.data.Dataset\n",
    "- 속성_필드: featureDF, targetDF, n_rows, n_features\n",
    "- 필수메서드: \n",
    "\t* - \\___init___\\(self): 데이터 저장 및 전처리, 개발자가 필요한 속성 설정\n",
    "\t* - len(self): 데이터 개수(길이) 반화\n",
    "\t* - getitem(self, idx): 특정 인덱스 피쳐 타겟 변환"
   ]
  },
  {
   "cell_type": "code",
   "execution_count": 8,
   "metadata": {},
   "outputs": [],
   "source": [
    "class IrisDataset(Dataset):\n",
    "    \n",
    "\tdef __init__(self, featureDF, targetDF):\n",
    "\n",
    "\t\t# super.__init__()\t\t\t# 왜 self error??\n",
    "\t\tself.featureDF = featureDF\n",
    "\t\tself.targetDF = targetDF\n",
    "\t\tself.n_rows = featureDF.shape[0]\n",
    "\t\tself.n_features = featureDF.shape[1]\n",
    "\n",
    "\n",
    "\tdef __len__(self):\n",
    "\t\treturn self.n_rows\n",
    "\n",
    "\tdef __getitem__(self, idx):\n",
    "\n",
    "\t\t# 텐서화\n",
    "\t\t# DF->array->Tensor\n",
    "\t\tfeatureTS = torch.FloatTensor(self.featureDF.iloc[idx].values)\n",
    "\t\ttargetTS = torch.FloatTensor(self.targetDF.iloc[idx].values)\n",
    "\n",
    "\t\treturn featureTS, targetTS"
   ]
  },
  {
   "cell_type": "code",
   "execution_count": 9,
   "metadata": {},
   "outputs": [
    {
     "name": "stdout",
     "output_type": "stream",
     "text": [
      "tensor([5.5000, 4.2000, 1.4000]) tensor([0.2000])\n"
     ]
    }
   ],
   "source": [
    "## [테스트] 사용자 정의 데이터셋\n",
    "trainDS = IrisDataset(X_train, y_train)\n",
    "\n",
    "for data, label in trainDS:\n",
    "    print(data, label)\n",
    "    break\n"
   ]
  },
  {
   "cell_type": "markdown",
   "metadata": {},
   "source": [
    "#### 학습준비"
   ]
  },
  {
   "cell_type": "code",
   "execution_count": 10,
   "metadata": {},
   "outputs": [],
   "source": [
    "### 학습 진행 상수 설정\n",
    "EPOCH = 1000\n",
    "BATCH_SIZE = 10\n",
    "BATCH_CNT = irisDF.shape[0] // BATCH_SIZE\n",
    "DEVICE = 'cuda' if torch.cuda.is_available() else 'cpu'\n",
    "\n",
    "LR = 0.001"
   ]
  },
  {
   "cell_type": "code",
   "execution_count": 11,
   "metadata": {},
   "outputs": [],
   "source": [
    "trainDS = IrisDataset(X_train,y_train)\n",
    "testDS = IrisDataset(X_test, y_test)\n",
    "valDS = IrisDataset(X_val, y_val)\n",
    "\n",
    "# 데이터로더 인스턴스\n",
    "trainDL = DataLoader(trainDS, batch_size=BATCH_SIZE)"
   ]
  },
  {
   "cell_type": "code",
   "execution_count": 12,
   "metadata": {},
   "outputs": [
    {
     "name": "stdout",
     "output_type": "stream",
     "text": [
      "torch.Size([10, 3]) torch.Size([10, 1])\n"
     ]
    }
   ],
   "source": [
    "## 데이터로더 체크\n",
    "for featureTS, targetTS in trainDL:\n",
    "    print(featureTS.shape, targetTS.shape)\n",
    "    break"
   ]
  },
  {
   "cell_type": "code",
   "execution_count": 13,
   "metadata": {},
   "outputs": [],
   "source": [
    "# 손실함수\n",
    "regLoss= nn.MSELoss()\n",
    "# 최적화 인스턴스\n",
    "optimizer = optim.Adam(model.parameters(), lr=LR)"
   ]
  },
  {
   "cell_type": "markdown",
   "metadata": {},
   "source": [
    "#### 학습진행\n",
    "- train, val, test"
   ]
  },
  {
   "cell_type": "code",
   "execution_count": 14,
   "metadata": {},
   "outputs": [
    {
     "name": "stderr",
     "output_type": "stream",
     "text": [
      "c:\\Users\\KDP-43\\anaconda3\\envs\\torch_38\\lib\\site-packages\\torch\\nn\\modules\\loss.py:538: UserWarning: Using a target size (torch.Size([28, 3])) that is different to the input size (torch.Size([28, 1])). This will likely lead to incorrect results due to broadcasting. Please ensure they have the same size.\n",
      "  return F.mse_loss(input, target, reduction=self.reduction)\n"
     ]
    },
    {
     "name": "stdout",
     "output_type": "stream",
     "text": [
      "[0/1000]\n",
      "- [Train] LOSS: 0.68465 Score: -1.25899\n",
      "- [Valid] LOSS: 15.11915 Score: -0.59334\n",
      "[50/1000]\n",
      "- [Train] LOSS: 0.02155 Score: 0.54023\n",
      "- [Valid] LOSS: 10.80233 Score: 0.89517\n",
      "[100/1000]\n",
      "- [Train] LOSS: 0.01937 Score: 0.54773\n",
      "- [Valid] LOSS: 10.83497 Score: 0.89860\n",
      "[150/1000]\n",
      "- [Train] LOSS: 0.01837 Score: 0.55166\n",
      "- [Valid] LOSS: 10.79076 Score: 0.90297\n",
      "[200/1000]\n",
      "- [Train] LOSS: 0.01782 Score: 0.55350\n",
      "- [Valid] LOSS: 10.77654 Score: 0.90406\n",
      "[250/1000]\n",
      "- [Train] LOSS: 0.01739 Score: 0.55513\n",
      "- [Valid] LOSS: 10.77470 Score: 0.90523\n",
      "[300/1000]\n",
      "- [Train] LOSS: 0.01712 Score: 0.55554\n",
      "- [Valid] LOSS: 10.78392 Score: 0.90436\n",
      "[350/1000]\n",
      "- [Train] LOSS: 0.01646 Score: 0.55787\n",
      "- [Valid] LOSS: 10.75542 Score: 0.90655\n",
      "[400/1000]\n",
      "- [Train] LOSS: 0.01608 Score: 0.55890\n",
      "- [Valid] LOSS: 10.75269 Score: 0.90775\n",
      "[450/1000]\n",
      "- [Train] LOSS: 0.01585 Score: 0.56009\n",
      "- [Valid] LOSS: 10.73026 Score: 0.90866\n",
      "[500/1000]\n",
      "- [Train] LOSS: 0.01539 Score: 0.56083\n",
      "- [Valid] LOSS: 10.73671 Score: 0.90989\n",
      "[550/1000]\n",
      "- [Train] LOSS: 0.01520 Score: 0.56180\n",
      "- [Valid] LOSS: 10.77414 Score: 0.90870\n",
      "[600/1000]\n",
      "- [Train] LOSS: 0.01465 Score: 0.56415\n",
      "- [Valid] LOSS: 10.74119 Score: 0.90954\n",
      "[650/1000]\n",
      "- [Train] LOSS: 0.01444 Score: 0.56460\n",
      "- [Valid] LOSS: 10.75826 Score: 0.90929\n",
      "[700/1000]\n",
      "- [Train] LOSS: 0.01452 Score: 0.56462\n",
      "- [Valid] LOSS: 10.76507 Score: 0.90973\n",
      "[750/1000]\n",
      "- [Train] LOSS: 0.01450 Score: 0.56457\n",
      "- [Valid] LOSS: 10.78215 Score: 0.90823\n",
      "[800/1000]\n",
      "- [Train] LOSS: 0.01443 Score: 0.56478\n",
      "- [Valid] LOSS: 10.77445 Score: 0.90876\n",
      "[850/1000]\n",
      "- [Train] LOSS: 0.01402 Score: 0.56602\n",
      "- [Valid] LOSS: 10.77651 Score: 0.91089\n",
      "[900/1000]\n",
      "- [Train] LOSS: 0.01383 Score: 0.56608\n",
      "- [Valid] LOSS: 10.74492 Score: 0.91336\n",
      "[950/1000]\n",
      "- [Train] LOSS: 0.01389 Score: 0.56641\n",
      "- [Valid] LOSS: 10.77272 Score: 0.91066\n"
     ]
    }
   ],
   "source": [
    "# 모든 에포크에 대한 학습 후 모델 손실값 & 성능지표 저장 딕셔너리\n",
    "LOSS_history = {'Train':[], 'Val':[]}\n",
    "SCORE_history = {'Train':[], 'Val':[] }\n",
    "\n",
    "for ep in range(EPOCH):\n",
    "    \n",
    "\t# 학습 모드로 모델 설정\n",
    "    model.train()\n",
    "    \n",
    "    loss_total=0\n",
    "    score_total=0\n",
    "    \n",
    "    for featureTS, targetTS in trainDL:\n",
    "        \n",
    "        pre_y = model(featureTS)\n",
    "        \n",
    "        loss = regLoss(pre_y, targetTS)\n",
    "        loss_total+=loss.item()\n",
    "        \n",
    "        score = R2Score()(pre_y, targetTS)\n",
    "        score_total+=score.item()\n",
    "        \n",
    "\t\t# 역전파 (weigt,bias 업데이트)\n",
    "        optimizer.zero_grad()\n",
    "        loss.backward()\n",
    "        optimizer.step()\n",
    "        \n",
    "\t# 한 에포크에 대해 검증\n",
    "    \n",
    "\t# 모델 검증모드 설정\n",
    "    model.eval()\n",
    "    \n",
    "    with torch.no_grad():\n",
    "        val_featTS = torch.FloatTensor(valDS.featureDF.values)\n",
    "        val_targTS = torch.FloatTensor(valDS.targetDF.values)\n",
    "        \n",
    "        pre_val = model(val_featTS)\n",
    "        \n",
    "        loss_val = regLoss(pre_val, val_featTS)\n",
    "        \n",
    "        score_val = R2Score()(pre_val, val_targTS)\n",
    "        \n",
    "\t# 한 에포크 학습 후 손실값&성능평가 저장\n",
    "    \n",
    "    LOSS_history['Train'].append(loss_total/BATCH_CNT)\n",
    "    SCORE_history['Train'].append(score_total/BATCH_CNT)\n",
    "        \n",
    "    LOSS_history['Val'].append(loss_val)\n",
    "    SCORE_history['Val'].append(score_val)\n",
    "    \n",
    "    if ep%50 ==0: \n",
    "        print(f\"[{ep}/{EPOCH}]\\n- [Train] LOSS: {LOSS_history['Train'][-1]:.5f} Score: {SCORE_history['Train'][-1]:.5f}\")\n",
    "        print(f\"- [Valid] LOSS: {LOSS_history['Val'][-1]:.5f} Score: {SCORE_history['Val'][-1]:.5f}\")\n",
    "\t\t\n",
    "                \n",
    "\n"
   ]
  },
  {
   "cell_type": "code",
   "execution_count": 15,
   "metadata": {},
   "outputs": [
    {
     "data": {
      "text/plain": [
       "Text(0.5, 1.0, 'R2-score')"
      ]
     },
     "execution_count": 15,
     "metadata": {},
     "output_type": "execute_result"
    },
    {
     "data": {
      "image/png": "[encoded data removed]",
      "text/plain": [
       "<Figure size 1000x500 with 2 Axes>"
      ]
     },
     "metadata": {},
     "output_type": "display_data"
    }
   ],
   "source": [
    "import matplotlib.pyplot as plt\n",
    "\n",
    "fig, axes = plt.subplots(1,2, figsize=(10,5))\n",
    "\n",
    "axes[0].plot(range(1, EPOCH+1), LOSS_history['Train'],label=\"Train\")\n",
    "axes[0].plot(range(1, EPOCH+1), LOSS_history['Val'],label=\"Valid\")\n",
    "axes[0].grid()\n",
    "axes[0].legend()\n",
    "axes[0].set_xlabel(\"Epoch\")\n",
    "axes[0].set_ylabel(\"LOSS\")\n",
    "axes[0].set_title(\"LOSS\")\n",
    "\n",
    "axes[1].plot(range(1, EPOCH+1), SCORE_history['Train'],label=\"Train\")\n",
    "axes[1].plot(range(1, EPOCH+1), SCORE_history['Val'],label=\"Valid\")\n",
    "axes[1].grid()\n",
    "axes[1].legend()\n",
    "axes[1].set_xlabel(\"Epoch\")\n",
    "axes[1].set_ylabel(\"R2-score\")\n",
    "axes[1].set_title(\"R2-score\")"
   ]
  },
  {
   "cell_type": "markdown",
   "metadata": {},
   "source": [
    "R2Score가 높은데 loss는 10이상으로 매우 높은 결과\n"
   ]
  },
  {
   "cell_type": "code",
   "execution_count": 17,
   "metadata": {},
   "outputs": [
    {
     "name": "stdout",
     "output_type": "stream",
     "text": [
      "[TEST]\n",
      "LOSS: 0.03874 SCORE:0.92685\n"
     ]
    }
   ],
   "source": [
    "## test 데이터셋\n",
    "\n",
    "test_featTS = torch.FloatTensor(testDS.featureDF.values)\n",
    "test_targTS = torch.FloatTensor(testDS.targetDF.values)\n",
    "\n",
    "pre_test = model(test_featTS)\n",
    "\n",
    "print(f'[TEST]\\nLOSS: {regLoss(pre_test, test_targTS):.5f} SCORE:{R2Score()(pre_test, test_targTS):.5f}')\n"
   ]
  },
  {
   "cell_type": "code",
   "execution_count": null,
   "metadata": {},
   "outputs": [],
   "source": []
  }
 ],
 "metadata": {
  "kernelspec": {
   "display_name": "torch_38",
   "language": "python",
   "name": "python3"
  },
  "language_info": {
   "codemirror_mode": {
    "name": "ipython",
    "version": 3
   },
   "file_extension": ".py",
   "mimetype": "text/x-python",
   "name": "python",
   "nbconvert_exporter": "python",
   "pygments_lexer": "ipython3",
   "version": "3.8.19"
  }
 },
 "nbformat": 4,
 "nbformat_minor": 2
}
