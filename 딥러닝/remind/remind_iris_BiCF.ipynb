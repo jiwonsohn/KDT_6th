{
 "cells": [
  {
   "cell_type": "markdown",
   "metadata": {},
   "source": [
    "### 아이리스 품종 분류 예측 (2진분류)\n",
    "- 데이터셋: iris.csv\n",
    "- 피쳐: 4개\n",
    "- 타겟: 1개 (Setosa & the rest)\n",
    "- 학습방법: 지도학습 >> 분류 >> 2진 분류\n",
    "- 알고리즘: DNN (심층신경망)\n",
    "- 프레임워크: pytorch"
   ]
  },
  {
   "cell_type": "code",
   "execution_count": 64,
   "metadata": {},
   "outputs": [],
   "source": [
    "# 모듈 관련\n",
    "import torch\n",
    "import torch.nn as nn\n",
    "import torch.nn.functional as F\n",
    "from torch.utils.data import Dataset, DataLoader\n",
    "import torch.optim as optim\n",
    "\n",
    "from torchmetrics.classification import BinaryF1Score\n",
    "from torchmetrics.classification import BinaryConfusionMatrix\n",
    "from torchinfo import summary\n",
    "\n",
    "# DF 로드 및 시각화 모듈\n",
    "import pandas as pd\n",
    "import matplotlib.pyplot as plt\n",
    "import seaborn as sns\n",
    "\n",
    "# 데이터 전처리용 모듈\n",
    "from sklearn.preprocessing import *\n",
    "from sklearn.model_selection import train_test_split"
   ]
  },
  {
   "cell_type": "code",
   "execution_count": 65,
   "metadata": {},
   "outputs": [],
   "source": [
    "# 모듈 버전 확인\n",
    "def ver_check():\n",
    "    print(f'torch v.{torch.__version__}')\n",
    "    print(f'pandas v.{pd.__version__}')"
   ]
  },
  {
   "cell_type": "code",
   "execution_count": 66,
   "metadata": {},
   "outputs": [
    {
     "name": "stdout",
     "output_type": "stream",
     "text": [
      "torch v.2.4.1\n",
      "pandas v.2.0.3\n"
     ]
    }
   ],
   "source": [
    "ver_check()"
   ]
  },
  {
   "cell_type": "code",
   "execution_count": 67,
   "metadata": {},
   "outputs": [
    {
     "data": {
      "text/html": [
       "<div>\n",
       "<style scoped>\n",
       "    .dataframe tbody tr th:only-of-type {\n",
       "        vertical-align: middle;\n",
       "    }\n",
       "\n",
       "    .dataframe tbody tr th {\n",
       "        vertical-align: top;\n",
       "    }\n",
       "\n",
       "    .dataframe thead th {\n",
       "        text-align: right;\n",
       "    }\n",
       "</style>\n",
       "<table border=\"1\" class=\"dataframe\">\n",
       "  <thead>\n",
       "    <tr style=\"text-align: right;\">\n",
       "      <th></th>\n",
       "      <th>sepal.length</th>\n",
       "      <th>sepal.width</th>\n",
       "      <th>petal.length</th>\n",
       "      <th>petal.width</th>\n",
       "      <th>variety</th>\n",
       "    </tr>\n",
       "  </thead>\n",
       "  <tbody>\n",
       "    <tr>\n",
       "      <th>0</th>\n",
       "      <td>5.1</td>\n",
       "      <td>3.5</td>\n",
       "      <td>1.4</td>\n",
       "      <td>0.2</td>\n",
       "      <td>Setosa</td>\n",
       "    </tr>\n",
       "    <tr>\n",
       "      <th>1</th>\n",
       "      <td>4.9</td>\n",
       "      <td>3.0</td>\n",
       "      <td>1.4</td>\n",
       "      <td>0.2</td>\n",
       "      <td>Setosa</td>\n",
       "    </tr>\n",
       "    <tr>\n",
       "      <th>2</th>\n",
       "      <td>4.7</td>\n",
       "      <td>3.2</td>\n",
       "      <td>1.3</td>\n",
       "      <td>0.2</td>\n",
       "      <td>Setosa</td>\n",
       "    </tr>\n",
       "  </tbody>\n",
       "</table>\n",
       "</div>"
      ],
      "text/plain": [
       "   sepal.length  sepal.width  petal.length  petal.width variety\n",
       "0           5.1          3.5           1.4          0.2  Setosa\n",
       "1           4.9          3.0           1.4          0.2  Setosa\n",
       "2           4.7          3.2           1.3          0.2  Setosa"
      ]
     },
     "execution_count": 67,
     "metadata": {},
     "output_type": "execute_result"
    }
   ],
   "source": [
    "DATA_FILE = r'C:\\Users\\KDP-43\\Desktop\\머신러닝_1\\data\\iris.csv'\n",
    "\n",
    "irisDF = pd.read_csv(DATA_FILE)\n",
    "irisDF.head(3)"
   ]
  },
  {
   "cell_type": "markdown",
   "metadata": {},
   "source": [
    "#### variety 인코딩\n",
    "- Setosa -> 1 & 나머지 -> 0"
   ]
  },
  {
   "cell_type": "code",
   "execution_count": 68,
   "metadata": {},
   "outputs": [
    {
     "name": "stdout",
     "output_type": "stream",
     "text": [
      "{'Setosa': 1, 'Versicolor': 0, 'Virginica': 0}\n"
     ]
    }
   ],
   "source": [
    "label = dict(zip(irisDF['variety'].unique().tolist(), [1,0,0]))\n",
    "print(label)"
   ]
  },
  {
   "cell_type": "code",
   "execution_count": 69,
   "metadata": {},
   "outputs": [
    {
     "data": {
      "text/html": [
       "<div>\n",
       "<style scoped>\n",
       "    .dataframe tbody tr th:only-of-type {\n",
       "        vertical-align: middle;\n",
       "    }\n",
       "\n",
       "    .dataframe tbody tr th {\n",
       "        vertical-align: top;\n",
       "    }\n",
       "\n",
       "    .dataframe thead th {\n",
       "        text-align: right;\n",
       "    }\n",
       "</style>\n",
       "<table border=\"1\" class=\"dataframe\">\n",
       "  <thead>\n",
       "    <tr style=\"text-align: right;\">\n",
       "      <th></th>\n",
       "      <th>sepal.length</th>\n",
       "      <th>sepal.width</th>\n",
       "      <th>petal.length</th>\n",
       "      <th>petal.width</th>\n",
       "      <th>variety</th>\n",
       "      <th>variety_encd</th>\n",
       "    </tr>\n",
       "  </thead>\n",
       "  <tbody>\n",
       "    <tr>\n",
       "      <th>0</th>\n",
       "      <td>5.1</td>\n",
       "      <td>3.5</td>\n",
       "      <td>1.4</td>\n",
       "      <td>0.2</td>\n",
       "      <td>Setosa</td>\n",
       "      <td>1</td>\n",
       "    </tr>\n",
       "    <tr>\n",
       "      <th>1</th>\n",
       "      <td>4.9</td>\n",
       "      <td>3.0</td>\n",
       "      <td>1.4</td>\n",
       "      <td>0.2</td>\n",
       "      <td>Setosa</td>\n",
       "      <td>1</td>\n",
       "    </tr>\n",
       "    <tr>\n",
       "      <th>2</th>\n",
       "      <td>4.7</td>\n",
       "      <td>3.2</td>\n",
       "      <td>1.3</td>\n",
       "      <td>0.2</td>\n",
       "      <td>Setosa</td>\n",
       "      <td>1</td>\n",
       "    </tr>\n",
       "  </tbody>\n",
       "</table>\n",
       "</div>"
      ],
      "text/plain": [
       "   sepal.length  sepal.width  petal.length  petal.width variety  variety_encd\n",
       "0           5.1          3.5           1.4          0.2  Setosa             1\n",
       "1           4.9          3.0           1.4          0.2  Setosa             1\n",
       "2           4.7          3.2           1.3          0.2  Setosa             1"
      ]
     },
     "execution_count": 69,
     "metadata": {},
     "output_type": "execute_result"
    }
   ],
   "source": [
    "irisDF['variety_encd'] = irisDF['variety'].replace(label)\n",
    "irisDF.head(3)"
   ]
  },
  {
   "cell_type": "code",
   "execution_count": 70,
   "metadata": {},
   "outputs": [
    {
     "name": "stdout",
     "output_type": "stream",
     "text": [
      "featureDF: (150, 4) 2D\n",
      "targetDF: (150, 1) 2D\n",
      "\n",
      "X_trian: (84, 4) 2D\n",
      "y_trian: (84, 1) 2D\n",
      "X_val: (28, 4) 2D\n",
      "y_val: (28, 1) 2D\n",
      "X_test: (38, 4) 2D\n",
      "y_test: (38, 1) 2D\n"
     ]
    }
   ],
   "source": [
    "# 타겟&피쳐 && train&valid&test 분리\n",
    "targetDF = irisDF[['variety_encd']]\n",
    "# featureDF = irisDF.drop('petal.width', axis=1)\n",
    "featureDF = irisDF[irisDF.columns[:-2]]\n",
    "\n",
    "print(f'featureDF: {featureDF.shape} {featureDF.ndim}D')\n",
    "print(f'targetDF: {targetDF.shape} {targetDF.ndim}D')\n",
    "\n",
    "X_train, X_test, y_train, y_test = train_test_split(featureDF, targetDF,random_state=1)\n",
    "X_train, X_val, y_train, y_val = train_test_split(X_train, y_train, random_state=1)\n",
    "\n",
    "print()\n",
    "print(f'X_trian: {X_train.shape} {X_train.ndim}D')\n",
    "print(f'y_trian: {y_train.shape} {y_train.ndim}D')\n",
    "print(f'X_val: {X_val.shape} {X_val.ndim}D')\n",
    "print(f'y_val: {y_val.shape} {y_val.ndim}D')\n",
    "print(f'X_test: {X_test.shape} {X_test.ndim}D')\n",
    "print(f'y_test: {y_test.shape} {y_test.ndim}D')"
   ]
  },
  {
   "cell_type": "markdown",
   "metadata": {},
   "source": [
    "#### 분류 모델 클래스 생성 && 최적화 & 활성화 & 손실 함수 정의\n",
    "- 클래스이름: IrisBiCFModel\n",
    "- 클래스목적: 품종 분류 (Setosa & the rest)\n",
    "- 부모클래스: nn.Module\n",
    "- 매개_변수: layer별 입출력 고정 -> 불필요\n",
    "- 기능/역할: init(), forward()\n",
    "- 클래스 구조:\n",
    "\t* 입력층:\t입력 4\t\t출력 10\t\tAF ReLU\n",
    "\t* 은닉층:\t입력 10\t\t출력 20\t\tAF ReLU\n",
    "\t* 은닉층:\t입력 20\t\t출력 5 \t\tAF ReLU\n",
    "\t* 출력층:\t입력 5\t\t출력 1\t\tAF sigmoid\n",
    "- 손실함수/활성화함수\n",
    "\t* 손실함수\t\t-> BinaryCrossEntropyLoss\n",
    "\t* 활성화함수\t-> Relu, leakReLU"
   ]
  },
  {
   "cell_type": "code",
   "execution_count": null,
   "metadata": {},
   "outputs": [],
   "source": []
  },
  {
   "cell_type": "code",
   "execution_count": 71,
   "metadata": {},
   "outputs": [],
   "source": [
    "class IrisBiCFModel(nn.Module):\n",
    "    \n",
    "\tdef __init__(self):\n",
    "\t\tsuper().__init__()\n",
    "\n",
    "\t\tself.in_layer  = nn.Linear(4, 10)\n",
    "\t\tself.hd_layers = nn.ModuleList([ nn.Linear(10,20), nn.Linear(20, 5)])\n",
    "\t\tself.out_layer = nn.Linear(5, 1)\n",
    "\t\t\t\t\t\t\t\t\t# 분류기 1개\n",
    "\n",
    "\tdef forward(self, x):\n",
    "\n",
    "\t\ty = F.leaky_relu( self.in_layer(x) )\n",
    "\n",
    "\t\tfor linear in self.hd_layers:\n",
    "\t\t\ty = F.leaky_relu( linear(y) )\n",
    "\n",
    "\t\treturn F.sigmoid( self.out_layer(y) )\n",
    "\t\n",
    "\t"
   ]
  },
  {
   "cell_type": "code",
   "execution_count": 72,
   "metadata": {},
   "outputs": [
    {
     "name": "stdout",
     "output_type": "stream",
     "text": [
      "IrisBiCFModel(\n",
      "  (in_layer): Linear(in_features=4, out_features=10, bias=True)\n",
      "  (hd_layers): ModuleList(\n",
      "    (0): Linear(in_features=10, out_features=20, bias=True)\n",
      "    (1): Linear(in_features=20, out_features=5, bias=True)\n",
      "  )\n",
      "  (out_layer): Linear(in_features=5, out_features=1, bias=True)\n",
      ")\n",
      "\n"
     ]
    },
    {
     "data": {
      "text/plain": [
       "==========================================================================================\n",
       "Layer (type:depth-idx)                   Output Shape              Param #\n",
       "==========================================================================================\n",
       "IrisBiCFModel                            [150, 1]                  --\n",
       "├─Linear: 1-1                            [150, 10]                 50\n",
       "├─ModuleList: 1-2                        --                        --\n",
       "│    └─Linear: 2-1                       [150, 20]                 220\n",
       "│    └─Linear: 2-2                       [150, 5]                  105\n",
       "├─Linear: 1-3                            [150, 1]                  6\n",
       "==========================================================================================\n",
       "Total params: 381\n",
       "Trainable params: 381\n",
       "Non-trainable params: 0\n",
       "Total mult-adds (M): 0.06\n",
       "==========================================================================================\n",
       "Input size (MB): 0.00\n",
       "Forward/backward pass size (MB): 0.04\n",
       "Params size (MB): 0.00\n",
       "Estimated Total Size (MB): 0.05\n",
       "=========================================================================================="
      ]
     },
     "execution_count": 72,
     "metadata": {},
     "output_type": "execute_result"
    }
   ],
   "source": [
    "# [테스트] 사용자 정의 모델 인스턴스 체크\n",
    "model = IrisBiCFModel()\n",
    "\n",
    "print(model)\n",
    "print()\n",
    "summary(model, input_size=(150, 4))"
   ]
  },
  {
   "cell_type": "markdown",
   "metadata": {},
   "source": [
    "#### 데이터셋 클래스 생성\n",
    "- 데이터셋: iris.csv\n",
    "- 피쳐개수: 4개\n",
    "- 타겟개수: 2개\n",
    "- 클래스이름: IrisDataset\n",
    "- 부모클래스: Dataset\n",
    "- 속성/필드: featureDF, targetDF, n_rows, n_features\n",
    "- 필수 메서드:\n",
    "\t* init(self) : 데이터 저장 및 전처리, 개발자가 필요한 속성 설정\n",
    "\t* len(self)\t : 데이터 개수 반환\n",
    "\t* getitem(self,idx): 특정인덱스 피쳐/타겟 반환"
   ]
  },
  {
   "cell_type": "code",
   "execution_count": 73,
   "metadata": {},
   "outputs": [],
   "source": [
    "class IrisDataset(Dataset):\n",
    "    \n",
    "\tdef __init__(self, featureDF, targetDF):\n",
    "\t\tself.featreDF = featureDF\n",
    "\t\tself.targetDF = targetDF\n",
    "\n",
    "\t\tself.n_rows = featureDF.shape[0]\n",
    "\t\tself.n_features = featureDF.shape[1]\n",
    "\n",
    "\tdef __len__(self):\n",
    "\t\treturn self.n_rows\n",
    "\n",
    "\tdef __getitem__(self, idx):\n",
    "\n",
    "\t\tfeatureTS = torch.FloatTensor(featureDF.iloc[idx].values)\n",
    "\t\ttargetTS = torch.FloatTensor(targetDF.iloc[idx].values)\n",
    "\n",
    "\t\treturn featureTS, targetTS"
   ]
  },
  {
   "cell_type": "code",
   "execution_count": 74,
   "metadata": {},
   "outputs": [
    {
     "name": "stdout",
     "output_type": "stream",
     "text": [
      "tensor([5.1000, 3.5000, 1.4000, 0.2000]) tensor([1.])\n"
     ]
    }
   ],
   "source": [
    "# [테스트] 사용자 정의 데이터셋 클래스 확인\n",
    "trainDS = IrisDataset(X_train, y_train)\n",
    "\n",
    "for feature, label in trainDS:\n",
    "    print(feature, label)\n",
    "    break\n",
    "\n",
    "del trainDS"
   ]
  },
  {
   "cell_type": "markdown",
   "metadata": {},
   "source": [
    "#### 학습 준비\n",
    "* EPOCH, BATCH_SIZE, BATCH_CNT, DEVICE,\n",
    "* LR\n",
    "* 성능지표함수\n",
    "* 손실함수\n",
    "* 최적화함수"
   ]
  },
  {
   "cell_type": "code",
   "execution_count": 75,
   "metadata": {},
   "outputs": [],
   "source": [
    "# 모델 하이퍼 파라미터 설정\n",
    "EPOCH = 100\n",
    "BATCH_SIZE = 10\n",
    "DEVICE = 'cuda' if torch.cuda.is_available() else 'cpu'\n",
    "LR = 0.001\n",
    "\n",
    "# 최적화 함수\n",
    "optimizer = optim.Adam(model.parameters(), lr=LR)\n",
    "\n",
    "# 손실함수\n",
    "clfLoss = nn.BCELoss()\n",
    "\n",
    "# 성능지표 함수\n",
    "scoreFunc = BinaryF1Score()"
   ]
  },
  {
   "cell_type": "code",
   "execution_count": 76,
   "metadata": {},
   "outputs": [],
   "source": [
    "# trainDS, validDS, testDS\n",
    "trainDS = IrisDataset(X_train, y_train)\n",
    "validDS = IrisDataset(X_val, y_val)\n",
    "testDS  = IrisDataset(X_test, y_test)\n",
    "\n",
    "# train 데이터로더 인스턴스\n",
    "trainDL = DataLoader(trainDS, batch_size=BATCH_SIZE)"
   ]
  },
  {
   "cell_type": "markdown",
   "metadata": {},
   "source": [
    "#### 학습 진행"
   ]
  },
  {
   "cell_type": "code",
   "execution_count": 77,
   "metadata": {},
   "outputs": [
    {
     "name": "stdout",
     "output_type": "stream",
     "text": [
      "[0/100]\n",
      "- [Train] LOSS: 0.69743 Score: 0.00000\n",
      "- [Valid] LOSS: 0.68336 Score: 0.15385\n"
     ]
    },
    {
     "name": "stdout",
     "output_type": "stream",
     "text": [
      "[20/100]\n",
      "- [Train] LOSS: 0.32774 Score: 0.55556\n",
      "- [Valid] LOSS: 0.25331 Score: 1.00000\n",
      "[40/100]\n",
      "- [Train] LOSS: 0.03611 Score: 0.55556\n",
      "- [Valid] LOSS: 0.02250 Score: 1.00000\n",
      "[60/100]\n",
      "- [Train] LOSS: 0.00926 Score: 0.55556\n",
      "- [Valid] LOSS: 0.00559 Score: 1.00000\n",
      "[80/100]\n",
      "- [Train] LOSS: 0.00410 Score: 0.55556\n",
      "- [Valid] LOSS: 0.00244 Score: 1.00000\n"
     ]
    }
   ],
   "source": [
    "LOSS_history = {'Train':[], 'Val':[] }\n",
    "SCORE_history = {'Train':[], 'Val':[] }\n",
    "\n",
    "BATCH_CNT = len(trainDL)\n",
    "\n",
    "for ep in range(EPOCH):\n",
    "\n",
    "\t# 모델 학습 모드 전환\n",
    "\tmodel.train()\n",
    "\n",
    "\tloss_total = 0\n",
    "\tscore_total = 0\n",
    "\n",
    "\tfor featureTS, targetTS in trainDL:\n",
    "\n",
    "\t\tpre_y = model(featureTS)\n",
    "\n",
    "\t\tloss = clfLoss(pre_y, targetTS)\n",
    "\t\tloss_total += loss.item()\n",
    "\n",
    "\t\tscore = scoreFunc(pre_y, targetTS).item()\n",
    "\t\tscore_total += score\n",
    "\n",
    "\t\t# 최적화 \n",
    "\t\toptimizer.zero_grad()                              \n",
    "\t\tloss.backward()\n",
    "\t\toptimizer.step()\n",
    "\n",
    "\t# 모델 검증 모드 변환\n",
    "\tmodel.eval()\n",
    "\n",
    "\twith torch.no_grad():\n",
    "\n",
    "\t\tval_featTS = torch.FloatTensor(validDS.featreDF.values)\n",
    "\t\tval_targTS = torch.FloatTensor(validDS.targetDF.values)\n",
    "\t\t\n",
    "\t\tpre_val = model(val_featTS)\n",
    "\t\tloss_val = clfLoss(pre_val, val_targTS).item()\n",
    "\t\tscore_val = scoreFunc(pre_val, val_targTS).item()\n",
    "    \n",
    "\t# 한 에포크 당 손실값&성능지표값 저장\n",
    "\tLOSS_history['Train'].append(loss_total/BATCH_CNT)\n",
    "\tSCORE_history['Train'].append(score_total/BATCH_CNT)\n",
    "\n",
    "\tLOSS_history['Val'].append(loss_val)\n",
    "\tSCORE_history['Val'].append(score_val)\n",
    "\n",
    "\tif ep%20 ==0: \n",
    "\t\tprint(f\"[{ep}/{EPOCH}]\\n- [Train] LOSS: {LOSS_history['Train'][-1]:.5f} Score: {SCORE_history['Train'][-1]:.5f}\")\n",
    "\t\tprint(f\"- [Valid] LOSS: {LOSS_history['Val'][-1]:.5f} Score: {SCORE_history['Val'][-1]:.5f}\")\n",
    "\t\t\n"
   ]
  },
  {
   "cell_type": "markdown",
   "metadata": {},
   "source": [
    "#### 학습 결과 시각화\n",
    "* 학습 & 검증의 Loss 변화\n",
    "* 학습 & 검증의 score 변화"
   ]
  },
  {
   "cell_type": "code",
   "execution_count": 78,
   "metadata": {},
   "outputs": [
    {
     "data": {
      "text/plain": [
       "Text(0.5, 1.0, 'f1-score')"
      ]
     },
     "execution_count": 78,
     "metadata": {},
     "output_type": "execute_result"
    },
    {
     "data": {
      "image/png": "[encoded data removed]",
      "text/plain": [
       "<Figure size 1000x500 with 2 Axes>"
      ]
     },
     "metadata": {},
     "output_type": "display_data"
    }
   ],
   "source": [
    "import matplotlib.pyplot as plt\n",
    "\n",
    "\n",
    "fig, axes = plt.subplots(1,2, figsize=(10,5))\n",
    "\n",
    "axes[0].plot(range(1, EPOCH+1), LOSS_history['Train'],label=\"Train\")\n",
    "axes[0].plot(range(1, EPOCH+1), LOSS_history['Val'],label=\"Valid\")\n",
    "axes[0].grid()\n",
    "axes[0].legend()\n",
    "axes[0].set_xlabel(\"Epoch\")\n",
    "axes[0].set_ylabel(\"LOSS\")\n",
    "axes[0].set_title(\"LOSS\")\n",
    "\n",
    "axes[1].plot(range(1, EPOCH+1), SCORE_history['Train'],label=\"Train\")\n",
    "axes[1].plot(range(1, EPOCH+1), SCORE_history['Val'],label=\"Valid\")\n",
    "axes[1].grid()\n",
    "axes[1].legend()\n",
    "axes[1].set_xlabel(\"Epoch\")\n",
    "axes[1].set_ylabel(\"f1-score\")\n",
    "axes[1].set_title(\"f1-score\")"
   ]
  },
  {
   "cell_type": "code",
   "execution_count": 79,
   "metadata": {},
   "outputs": [
    {
     "name": "stdout",
     "output_type": "stream",
     "text": [
      "[TEST]\n",
      "LOSS: 0.00231 SCORE:1.00000\n"
     ]
    }
   ],
   "source": [
    "## Test DS 확인\n",
    "test_featTS = torch.FloatTensor(testDS.featreDF.values)\n",
    "test_targTS = torch.FloatTensor(testDS.targetDF.values)\n",
    "\n",
    "pre_test = model(test_featTS)\n",
    "\n",
    "print(f'[TEST]\\nLOSS: {clfLoss(pre_test, test_targTS):.5f} SCORE:{scoreFunc(pre_test, test_targTS):.5f}')"
   ]
  },
  {
   "cell_type": "code",
   "execution_count": 80,
   "metadata": {},
   "outputs": [
    {
     "data": {
      "text/plain": [
       "tensor([0.9975], grad_fn=<SigmoidBackward0>)"
      ]
     },
     "execution_count": 80,
     "metadata": {},
     "output_type": "execute_result"
    }
   ],
   "source": [
    "model(test_featTS[8])"
   ]
  },
  {
   "cell_type": "code",
   "execution_count": null,
   "metadata": {},
   "outputs": [],
   "source": []
  }
 ],
 "metadata": {
  "kernelspec": {
   "display_name": "torch_38",
   "language": "python",
   "name": "python3"
  },
  "language_info": {
   "codemirror_mode": {
    "name": "ipython",
    "version": 3
   },
   "file_extension": ".py",
   "mimetype": "text/x-python",
   "name": "python",
   "nbconvert_exporter": "python",
   "pygments_lexer": "ipython3",
   "version": "3.8.19"
  }
 },
 "nbformat": 4,
 "nbformat_minor": 2
}
