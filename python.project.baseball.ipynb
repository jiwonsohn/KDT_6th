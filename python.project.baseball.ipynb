{
 "cells": [
  {
   "cell_type": "code",
   "execution_count": null,
   "metadata": {},
   "outputs": [],
   "source": [
    "# 랜덤 추출을 활용한 간단 야구 게임\n",
    "\n",
    "# 4회\n",
    "# 1회,3회 - 원정팀 공격\n",
    "# 2회,4회 - 홈팀 공격"
   ]
  },
  {
   "cell_type": "code",
   "execution_count": 8,
   "metadata": {},
   "outputs": [],
   "source": [
    "# 홈팀 원정팀 이름 & 회차별 득점수 저장 딕셔너리 선언\n",
    "keys    = ['name', '1회', '2회','3회', '4회']\n",
    "\n",
    "homeTeam = dict.fromkeys(keys,0)\n",
    "awayTeam = dict.fromkeys(keys,0)"
   ]
  },
  {
   "cell_type": "code",
   "execution_count": 3,
   "metadata": {},
   "outputs": [
    {
     "name": "stdout",
     "output_type": "stream",
     "text": [
      "{'name': None, '1회': None, '2회': None, '3회': None, '4회': None}\n"
     ]
    }
   ],
   "source": [
    "print(homeTeam)"
   ]
  },
  {
   "cell_type": "code",
   "execution_count": null,
   "metadata": {},
   "outputs": [],
   "source": [
    "# 홈팀 원정팀 이름 선언\n",
    "homeTeam['name'] = input(\"홈팀을 지정하세요:    \").strip()\n",
    "awayTeam['name'] = input(\"원정팀을 지정하세요:    \").strip()"
   ]
  },
  {
   "cell_type": "code",
   "execution_count": null,
   "metadata": {},
   "outputs": [],
   "source": [
    "strike = 0         # 스트라이크 횟수 저장 변수 / 3이 되면 리셋\n",
    "doru    = []     # 1루 - 2루 -3루  / 0-> 주자 없음 1-> 주자 있음 / 안타 1번 마다 1이 뒤 인덱스 원소로 이동 / append?\n",
    "\n",
    "outCount = 0            # 스트라이크 3번이면 +1 / 아웃된 주자 수 저장 변수 / 3명이면 1회 종료 \n",
    "home    = 0             # 득점 수 저장 변수"
   ]
  },
  {
   "cell_type": "code",
   "execution_count": 14,
   "metadata": {},
   "outputs": [
    {
     "name": "stdout",
     "output_type": "stream",
     "text": [
      "삼진횟수: 1\n",
      "홈런\n",
      "삼진횟수: 2\n",
      "삼진횟수: 3\n",
      "아웃된 주자 수는 1명 입니다.\n",
      "아웃된 선수가 3명이므로 공수를 바꿉니다.\n",
      "삼진횟수: 1\n",
      "삼진횟수: 2\n",
      "삼진횟수: 3\n",
      "아웃된 주자 수는 2명 입니다.\n",
      "아웃된 선수가 3명이므로 공수를 바꿉니다.\n",
      "삼진횟수: 1\n",
      "홈런\n",
      "삼진횟수: 2\n",
      "삼진횟수: 3\n",
      "아웃된 주자 수는 3명 입니다.\n",
      "아웃된 선수가 3명이므로 공수를 바꿉니다.\n",
      "홈런\n",
      "삼진횟수: 1\n",
      "삼진횟수: 2\n",
      "삼진횟수: 3\n",
      "아웃된 주자 수는 1명 입니다.\n",
      "아웃된 선수가 3명이므로 공수를 바꿉니다.\n",
      "삼진횟수: 1\n",
      "삼진횟수: 2\n",
      "삼진횟수: 3\n",
      "아웃된 주자 수는 2명 입니다.\n",
      "아웃된 선수가 3명이므로 공수를 바꿉니다.\n",
      "삼진횟수: 1\n",
      "삼진횟수: 2\n",
      "삼진횟수: 3\n",
      "아웃된 주자 수는 3명 입니다.\n",
      "아웃된 선수가 3명이므로 공수를 바꿉니다.\n",
      "삼진횟수: 1\n",
      "삼진횟수: 2\n",
      "삼진횟수: 3\n",
      "아웃된 주자 수는 1명 입니다.\n",
      "아웃된 선수가 3명이므로 공수를 바꿉니다.\n",
      "삼진횟수: 1\n",
      "삼진횟수: 2\n",
      "삼진횟수: 3\n",
      "아웃된 주자 수는 2명 입니다.\n",
      "아웃된 선수가 3명이므로 공수를 바꿉니다.\n",
      "삼진횟수: 1\n",
      "삼진횟수: 2\n",
      "삼진횟수: 3\n",
      "아웃된 주자 수는 3명 입니다.\n",
      "아웃된 선수가 3명이므로 공수를 바꿉니다.\n",
      "삼진횟수: 1\n",
      "홈런\n",
      "삼진횟수: 2\n",
      "삼진횟수: 3\n",
      "아웃된 주자 수는 1명 입니다.\n",
      "아웃된 선수가 3명이므로 공수를 바꿉니다.\n",
      "삼진횟수: 1\n",
      "삼진횟수: 2\n",
      "삼진횟수: 3\n",
      "아웃된 주자 수는 2명 입니다.\n",
      "아웃된 선수가 3명이므로 공수를 바꿉니다.\n",
      "삼진횟수: 1\n",
      "삼진횟수: 2\n",
      "삼진횟수: 3\n",
      "아웃된 주자 수는 3명 입니다.\n",
      "아웃된 선수가 3명이므로 공수를 바꿉니다.\n",
      "{'name': 0, '1회': 7, '2회': 2, '3회': 1, '4회': 2}\n"
     ]
    }
   ],
   "source": [
    "# 타자(Bat) 투수(Ball) 숫자 출력 w/ random.randint(1,100)\n",
    "# 타자 - 투수 >=50 이면 홈런\n",
    "# 홈런이면 sum(doru) + 1 -> home 득점 변수에 저장\n",
    "\n",
    "# 타자 > 투수   -> 1루 진루\n",
    "# 타자 < 투수   -> 스트라이크\n",
    "# 타자 == 투수   -> 다시 추출\n",
    "\n",
    "import random as rad\n",
    "\n",
    "#4회 반복\n",
    "for i in range(0,4):\n",
    "    # 1회 \n",
    "    home=0\n",
    "    outCount=0\n",
    "    doru=[]\n",
    "\n",
    "    while outCount != 3:\n",
    "\n",
    "        strike = 0\n",
    "        # 1명 타자 공격\n",
    "        while strike!=3:\n",
    "            \n",
    "            Bat = rad.randint(1,100)\n",
    "            Ball = rad.randint(1,100)\n",
    "            \n",
    "            # 홈런\n",
    "            if Bat - Ball >=50:\n",
    "                print('홈런')\n",
    "                home = home + 1 + sum(doru)  \n",
    "            \n",
    "            elif Bat > Ball:\n",
    "                # 1루 진루\n",
    "                doru.append(1)\n",
    "                \n",
    "                # 만루 상태 1루 2루 3루\n",
    "                if len(doru)==3: \n",
    "                    home+=1\n",
    "                    # del doru[-1]\n",
    "                    # dpru.pop(-1)\n",
    "\n",
    "            elif Bat < Ball:\n",
    "                # 스트라이크\n",
    "                strike+=1\n",
    "                print(f'삼진횟수: {strike}')\n",
    "                if strike ==3: \n",
    "                    outCount+=1\n",
    "                    print(f'아웃된 주자 수는 {outCount}명 입니다.')\n",
    "                    # break\n",
    "            \n",
    "            # 서로 같은 수일 때, 다시 공격\n",
    "            else: continue\n",
    "            \n",
    "        print(f'아웃된 선수가 3명이므로 공수를 바꿉니다.')\n",
    "            \n",
    "    homeTeam[list(homeTeam.keys())[i+1]] = home\n",
    "\n",
    "print(homeTeam)"
   ]
  },
  {
   "cell_type": "code",
   "execution_count": 6,
   "metadata": {},
   "outputs": [
    {
     "data": {
      "text/plain": [
       "dict_keys(['name', '1회', '2회', '3회', '4회'])"
      ]
     },
     "execution_count": 6,
     "metadata": {},
     "output_type": "execute_result"
    }
   ],
   "source": [
    "homeTeam.keys()"
   ]
  },
  {
   "cell_type": "code",
   "execution_count": null,
   "metadata": {},
   "outputs": [],
   "source": []
  }
 ],
 "metadata": {
  "kernelspec": {
   "display_name": "boostclass",
   "language": "python",
   "name": "boostclass"
  },
  "language_info": {
   "codemirror_mode": {
    "name": "ipython",
    "version": 3
   },
   "file_extension": ".py",
   "mimetype": "text/x-python",
   "name": "python",
   "nbconvert_exporter": "python",
   "pygments_lexer": "ipython3",
   "version": "3.12.1"
  }
 },
 "nbformat": 4,
 "nbformat_minor": 2
}
