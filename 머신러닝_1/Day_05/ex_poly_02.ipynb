{
 "cells": [
  {
   "cell_type": "markdown",
   "metadata": {},
   "source": [
    "### 무게를 찾기\n",
    "- 목표: 농어(Perch) 길이 피쳐를 사용해서 무게를 예측하기\n",
    "- 데이터 셋: fish.csv\n",
    "- 피쳐/속성: Length\n",
    "- 타겟/라벨: Weight\n",
    "- 학습방법:\t 지도학습/회귀\n",
    "- 알고리즘:\t 선형회귀 >>> 데이터 분포가 선형"
   ]
  },
  {
   "cell_type": "markdown",
   "metadata": {},
   "source": [
    "#### [1] 데이터 준비 & 피쳐/타겟 분석"
   ]
  },
  {
   "cell_type": "code",
   "execution_count": 2,
   "metadata": {},
   "outputs": [],
   "source": [
    "import pandas as pd\n",
    "import matplotlib.pyplot as plt\n",
    "import numpy as np"
   ]
  },
  {
   "cell_type": "code",
   "execution_count": 3,
   "metadata": {},
   "outputs": [
    {
     "data": {
      "text/html": [
       "<div>\n",
       "<style scoped>\n",
       "    .dataframe tbody tr th:only-of-type {\n",
       "        vertical-align: middle;\n",
       "    }\n",
       "\n",
       "    .dataframe tbody tr th {\n",
       "        vertical-align: top;\n",
       "    }\n",
       "\n",
       "    .dataframe thead th {\n",
       "        text-align: right;\n",
       "    }\n",
       "</style>\n",
       "<table border=\"1\" class=\"dataframe\">\n",
       "  <thead>\n",
       "    <tr style=\"text-align: right;\">\n",
       "      <th></th>\n",
       "      <th>Species</th>\n",
       "      <th>Weight</th>\n",
       "      <th>Length</th>\n",
       "      <th>Diagonal</th>\n",
       "      <th>Height</th>\n",
       "      <th>Width</th>\n",
       "    </tr>\n",
       "  </thead>\n",
       "  <tbody>\n",
       "    <tr>\n",
       "      <th>0</th>\n",
       "      <td>Bream</td>\n",
       "      <td>242.0</td>\n",
       "      <td>25.4</td>\n",
       "      <td>30.0</td>\n",
       "      <td>11.5200</td>\n",
       "      <td>4.0200</td>\n",
       "    </tr>\n",
       "    <tr>\n",
       "      <th>1</th>\n",
       "      <td>Bream</td>\n",
       "      <td>290.0</td>\n",
       "      <td>26.3</td>\n",
       "      <td>31.2</td>\n",
       "      <td>12.4800</td>\n",
       "      <td>4.3056</td>\n",
       "    </tr>\n",
       "    <tr>\n",
       "      <th>2</th>\n",
       "      <td>Bream</td>\n",
       "      <td>340.0</td>\n",
       "      <td>26.5</td>\n",
       "      <td>31.1</td>\n",
       "      <td>12.3778</td>\n",
       "      <td>4.6961</td>\n",
       "    </tr>\n",
       "  </tbody>\n",
       "</table>\n",
       "</div>"
      ],
      "text/plain": [
       "  Species  Weight  Length  Diagonal   Height   Width\n",
       "0   Bream   242.0    25.4      30.0  11.5200  4.0200\n",
       "1   Bream   290.0    26.3      31.2  12.4800  4.3056\n",
       "2   Bream   340.0    26.5      31.1  12.3778  4.6961"
      ]
     },
     "execution_count": 3,
     "metadata": {},
     "output_type": "execute_result"
    }
   ],
   "source": [
    "DATA_PATH = '../data/fish.csv'\n",
    "fishDF = pd.read_csv(DATA_PATH)\n",
    "fishDF.head(3)"
   ]
  },
  {
   "cell_type": "code",
   "execution_count": 4,
   "metadata": {},
   "outputs": [
    {
     "name": "stdout",
     "output_type": "stream",
     "text": [
      "<class 'pandas.core.frame.DataFrame'>\n",
      "RangeIndex: 56 entries, 0 to 55\n",
      "Data columns (total 2 columns):\n",
      " #   Column  Non-Null Count  Dtype  \n",
      "---  ------  --------------  -----  \n",
      " 0   Weight  56 non-null     float64\n",
      " 1   Length  56 non-null     float64\n",
      "dtypes: float64(2)\n",
      "memory usage: 1.0 KB\n"
     ]
    }
   ],
   "source": [
    "# mask = (fishDF['Species'] == 'Perch')\n",
    "mask = fishDF.Species.isin(['Perch'])\t\t\t\t\t\t# 강사님 Ver.\n",
    "needDF = fishDF.loc[mask, ['Weight','Length']].copy().reset_index(drop=True)\n",
    "needDF.info()"
   ]
  },
  {
   "cell_type": "code",
   "execution_count": 5,
   "metadata": {},
   "outputs": [],
   "source": [
    "featureDF = needDF['Length'].to_frame()\n",
    "targetSR  = needDF['Weight']"
   ]
  },
  {
   "cell_type": "markdown",
   "metadata": {},
   "source": [
    "#### [2] 학습준비\n",
    "- 학습 알고리즘: Linear Regressor\n",
    "- 피쳐 스케일링 (normalization) \n",
    "- 학습용/테스트용 데이터셋 분리"
   ]
  },
  {
   "cell_type": "markdown",
   "metadata": {},
   "source": [
    "##### [2_1] 피쳐와 타겟 분리\n",
    "- 차원 확인 습관!"
   ]
  },
  {
   "cell_type": "code",
   "execution_count": 6,
   "metadata": {},
   "outputs": [
    {
     "name": "stdout",
     "output_type": "stream",
     "text": [
      "featureDF: (56, 1), 2D\n",
      "targetSR: (56,), 1D\n"
     ]
    }
   ],
   "source": [
    "# featureDF = needDF[['Length']]\n",
    "# targetSR = needDF['Weight']\n",
    "\n",
    "print(f'featureDF: {featureDF.shape}, {featureDF.ndim}D')\n",
    "print(f'targetSR: {targetSR.shape}, {targetSR.ndim}D')"
   ]
  },
  {
   "cell_type": "markdown",
   "metadata": {},
   "source": [
    "##### [2_2] 학습용 & 테스트용 데이터셋 분리\n",
    "- 전체 데이터셋 ==>  학습용:테스트용 = 80:20, 75:25, 70:30\n",
    "- 회귀 데이터셋 ==>  데이터셋 구성 요소에 대한 비율 고려 X"
   ]
  },
  {
   "cell_type": "code",
   "execution_count": 7,
   "metadata": {},
   "outputs": [],
   "source": [
    "from sklearn.model_selection import train_test_split"
   ]
  },
  {
   "cell_type": "code",
   "execution_count": 8,
   "metadata": {},
   "outputs": [],
   "source": [
    "# test_size = 0.3\n",
    "\n",
    "X_train, X_test, y_train, y_test = train_test_split(featureDF,\n",
    "                                                    targetSR,\n",
    "                                                    test_size=0.3,\n",
    "                                                    random_state=3\n",
    "\t\t\t\t\t\t\t\t\t\t\t\t\t)"
   ]
  },
  {
   "cell_type": "code",
   "execution_count": 9,
   "metadata": {},
   "outputs": [
    {
     "name": "stdout",
     "output_type": "stream",
     "text": [
      "X_train: (39, 1), 2D y_train: (39,), 1D\n",
      "X_test: (17, 1), 2D y_train: (17,), 1D\n"
     ]
    }
   ],
   "source": [
    "print(f'X_train: {X_train.shape}, {X_train.ndim}D', f'y_train: {y_train.shape}, {y_train.ndim}D')\n",
    "print(f'X_test: {X_test.shape}, {X_test.ndim}D', f'y_train: {y_test.shape}, {y_test.ndim}D')"
   ]
  },
  {
   "cell_type": "code",
   "execution_count": 10,
   "metadata": {},
   "outputs": [],
   "source": [
    "X_train = X_train.reset_index(drop=True)\n",
    "y_train = y_train.reset_index(drop=True)\n",
    "\n",
    "X_test = X_test.reset_index(drop=True)\n",
    "y_test = y_test.reset_index(drop=True)"
   ]
  },
  {
   "cell_type": "markdown",
   "metadata": {},
   "source": [
    "##### [2_3] 피쳐 스케일링\n",
    "- minmaxscaler\n",
    "- weight, legnth 둘다 이상치 발견 X"
   ]
  },
  {
   "cell_type": "code",
   "execution_count": 11,
   "metadata": {},
   "outputs": [],
   "source": [
    "from sklearn.preprocessing import MinMaxScaler"
   ]
  },
  {
   "cell_type": "code",
   "execution_count": 12,
   "metadata": {},
   "outputs": [],
   "source": [
    "# 스케일러 인스턴스 생성\n",
    "mmScaler = MinMaxScaler()"
   ]
  },
  {
   "cell_type": "code",
   "execution_count": 13,
   "metadata": {},
   "outputs": [
    {
     "data": {
      "text/html": [
       "<style>#sk-container-id-1 {color: black;}#sk-container-id-1 pre{padding: 0;}#sk-container-id-1 div.sk-toggleable {background-color: white;}#sk-container-id-1 label.sk-toggleable__label {cursor: pointer;display: block;width: 100%;margin-bottom: 0;padding: 0.3em;box-sizing: border-box;text-align: center;}#sk-container-id-1 label.sk-toggleable__label-arrow:before {content: \"▸\";float: left;margin-right: 0.25em;color: #696969;}#sk-container-id-1 label.sk-toggleable__label-arrow:hover:before {color: black;}#sk-container-id-1 div.sk-estimator:hover label.sk-toggleable__label-arrow:before {color: black;}#sk-container-id-1 div.sk-toggleable__content {max-height: 0;max-width: 0;overflow: hidden;text-align: left;background-color: #f0f8ff;}#sk-container-id-1 div.sk-toggleable__content pre {margin: 0.2em;color: black;border-radius: 0.25em;background-color: #f0f8ff;}#sk-container-id-1 input.sk-toggleable__control:checked~div.sk-toggleable__content {max-height: 200px;max-width: 100%;overflow: auto;}#sk-container-id-1 input.sk-toggleable__control:checked~label.sk-toggleable__label-arrow:before {content: \"▾\";}#sk-container-id-1 div.sk-estimator input.sk-toggleable__control:checked~label.sk-toggleable__label {background-color: #d4ebff;}#sk-container-id-1 div.sk-label input.sk-toggleable__control:checked~label.sk-toggleable__label {background-color: #d4ebff;}#sk-container-id-1 input.sk-hidden--visually {border: 0;clip: rect(1px 1px 1px 1px);clip: rect(1px, 1px, 1px, 1px);height: 1px;margin: -1px;overflow: hidden;padding: 0;position: absolute;width: 1px;}#sk-container-id-1 div.sk-estimator {font-family: monospace;background-color: #f0f8ff;border: 1px dotted black;border-radius: 0.25em;box-sizing: border-box;margin-bottom: 0.5em;}#sk-container-id-1 div.sk-estimator:hover {background-color: #d4ebff;}#sk-container-id-1 div.sk-parallel-item::after {content: \"\";width: 100%;border-bottom: 1px solid gray;flex-grow: 1;}#sk-container-id-1 div.sk-label:hover label.sk-toggleable__label {background-color: #d4ebff;}#sk-container-id-1 div.sk-serial::before {content: \"\";position: absolute;border-left: 1px solid gray;box-sizing: border-box;top: 0;bottom: 0;left: 50%;z-index: 0;}#sk-container-id-1 div.sk-serial {display: flex;flex-direction: column;align-items: center;background-color: white;padding-right: 0.2em;padding-left: 0.2em;position: relative;}#sk-container-id-1 div.sk-item {position: relative;z-index: 1;}#sk-container-id-1 div.sk-parallel {display: flex;align-items: stretch;justify-content: center;background-color: white;position: relative;}#sk-container-id-1 div.sk-item::before, #sk-container-id-1 div.sk-parallel-item::before {content: \"\";position: absolute;border-left: 1px solid gray;box-sizing: border-box;top: 0;bottom: 0;left: 50%;z-index: -1;}#sk-container-id-1 div.sk-parallel-item {display: flex;flex-direction: column;z-index: 1;position: relative;background-color: white;}#sk-container-id-1 div.sk-parallel-item:first-child::after {align-self: flex-end;width: 50%;}#sk-container-id-1 div.sk-parallel-item:last-child::after {align-self: flex-start;width: 50%;}#sk-container-id-1 div.sk-parallel-item:only-child::after {width: 0;}#sk-container-id-1 div.sk-dashed-wrapped {border: 1px dashed gray;margin: 0 0.4em 0.5em 0.4em;box-sizing: border-box;padding-bottom: 0.4em;background-color: white;}#sk-container-id-1 div.sk-label label {font-family: monospace;font-weight: bold;display: inline-block;line-height: 1.2em;}#sk-container-id-1 div.sk-label-container {text-align: center;}#sk-container-id-1 div.sk-container {/* jupyter's `normalize.less` sets `[hidden] { display: none; }` but bootstrap.min.css set `[hidden] { display: none !important; }` so we also need the `!important` here to be able to override the default hidden behavior on the sphinx rendered scikit-learn.org. See: https://github.com/scikit-learn/scikit-learn/issues/21755 */display: inline-block !important;position: relative;}#sk-container-id-1 div.sk-text-repr-fallback {display: none;}</style><div id=\"sk-container-id-1\" class=\"sk-top-container\"><div class=\"sk-text-repr-fallback\"><pre>MinMaxScaler()</pre><b>In a Jupyter environment, please rerun this cell to show the HTML representation or trust the notebook. <br />On GitHub, the HTML representation is unable to render, please try loading this page with nbviewer.org.</b></div><div class=\"sk-container\" hidden><div class=\"sk-item\"><div class=\"sk-estimator sk-toggleable\"><input class=\"sk-toggleable__control sk-hidden--visually\" id=\"sk-estimator-id-1\" type=\"checkbox\" checked><label for=\"sk-estimator-id-1\" class=\"sk-toggleable__label sk-toggleable__label-arrow\">MinMaxScaler</label><div class=\"sk-toggleable__content\"><pre>MinMaxScaler()</pre></div></div></div></div></div>"
      ],
      "text/plain": [
       "MinMaxScaler()"
      ]
     },
     "execution_count": 13,
     "metadata": {},
     "output_type": "execute_result"
    }
   ],
   "source": [
    "# 스케일러에 데이터셋 전용 속성값 설정\n",
    "mmScaler.fit(X_train)\t\t\t\t\t\t# 기준 Scaler 생성"
   ]
  },
  {
   "cell_type": "code",
   "execution_count": 14,
   "metadata": {},
   "outputs": [
    {
     "data": {
      "text/plain": [
       "(array([-0.24277457]), array([0.02890173]), array([8.4]), array([43.]))"
      ]
     },
     "execution_count": 14,
     "metadata": {},
     "output_type": "execute_result"
    }
   ],
   "source": [
    "mmScaler.min_, mmScaler.scale_, mmScaler.data_min_, mmScaler.data_max_"
   ]
  },
  {
   "cell_type": "code",
   "execution_count": 15,
   "metadata": {},
   "outputs": [],
   "source": [
    "# 학습용/테스트용 데이터셋 전용 속성값 설정\n",
    "X_train_scaled = mmScaler.transform(X_train)\t\t\t# X_train으로 생성한 Scaler 기준으로 값 변환\n",
    "\n",
    "X_test_scaled = mmScaler.transform(X_test)\t\t\t\t# X_train으로 생성한 Scaler 기준으로 값 변환"
   ]
  },
  {
   "cell_type": "markdown",
   "metadata": {},
   "source": [
    "#### [3] 학습진행"
   ]
  },
  {
   "cell_type": "code",
   "execution_count": 16,
   "metadata": {},
   "outputs": [
    {
     "data": {
      "text/html": [
       "<style>#sk-container-id-2 {color: black;}#sk-container-id-2 pre{padding: 0;}#sk-container-id-2 div.sk-toggleable {background-color: white;}#sk-container-id-2 label.sk-toggleable__label {cursor: pointer;display: block;width: 100%;margin-bottom: 0;padding: 0.3em;box-sizing: border-box;text-align: center;}#sk-container-id-2 label.sk-toggleable__label-arrow:before {content: \"▸\";float: left;margin-right: 0.25em;color: #696969;}#sk-container-id-2 label.sk-toggleable__label-arrow:hover:before {color: black;}#sk-container-id-2 div.sk-estimator:hover label.sk-toggleable__label-arrow:before {color: black;}#sk-container-id-2 div.sk-toggleable__content {max-height: 0;max-width: 0;overflow: hidden;text-align: left;background-color: #f0f8ff;}#sk-container-id-2 div.sk-toggleable__content pre {margin: 0.2em;color: black;border-radius: 0.25em;background-color: #f0f8ff;}#sk-container-id-2 input.sk-toggleable__control:checked~div.sk-toggleable__content {max-height: 200px;max-width: 100%;overflow: auto;}#sk-container-id-2 input.sk-toggleable__control:checked~label.sk-toggleable__label-arrow:before {content: \"▾\";}#sk-container-id-2 div.sk-estimator input.sk-toggleable__control:checked~label.sk-toggleable__label {background-color: #d4ebff;}#sk-container-id-2 div.sk-label input.sk-toggleable__control:checked~label.sk-toggleable__label {background-color: #d4ebff;}#sk-container-id-2 input.sk-hidden--visually {border: 0;clip: rect(1px 1px 1px 1px);clip: rect(1px, 1px, 1px, 1px);height: 1px;margin: -1px;overflow: hidden;padding: 0;position: absolute;width: 1px;}#sk-container-id-2 div.sk-estimator {font-family: monospace;background-color: #f0f8ff;border: 1px dotted black;border-radius: 0.25em;box-sizing: border-box;margin-bottom: 0.5em;}#sk-container-id-2 div.sk-estimator:hover {background-color: #d4ebff;}#sk-container-id-2 div.sk-parallel-item::after {content: \"\";width: 100%;border-bottom: 1px solid gray;flex-grow: 1;}#sk-container-id-2 div.sk-label:hover label.sk-toggleable__label {background-color: #d4ebff;}#sk-container-id-2 div.sk-serial::before {content: \"\";position: absolute;border-left: 1px solid gray;box-sizing: border-box;top: 0;bottom: 0;left: 50%;z-index: 0;}#sk-container-id-2 div.sk-serial {display: flex;flex-direction: column;align-items: center;background-color: white;padding-right: 0.2em;padding-left: 0.2em;position: relative;}#sk-container-id-2 div.sk-item {position: relative;z-index: 1;}#sk-container-id-2 div.sk-parallel {display: flex;align-items: stretch;justify-content: center;background-color: white;position: relative;}#sk-container-id-2 div.sk-item::before, #sk-container-id-2 div.sk-parallel-item::before {content: \"\";position: absolute;border-left: 1px solid gray;box-sizing: border-box;top: 0;bottom: 0;left: 50%;z-index: -1;}#sk-container-id-2 div.sk-parallel-item {display: flex;flex-direction: column;z-index: 1;position: relative;background-color: white;}#sk-container-id-2 div.sk-parallel-item:first-child::after {align-self: flex-end;width: 50%;}#sk-container-id-2 div.sk-parallel-item:last-child::after {align-self: flex-start;width: 50%;}#sk-container-id-2 div.sk-parallel-item:only-child::after {width: 0;}#sk-container-id-2 div.sk-dashed-wrapped {border: 1px dashed gray;margin: 0 0.4em 0.5em 0.4em;box-sizing: border-box;padding-bottom: 0.4em;background-color: white;}#sk-container-id-2 div.sk-label label {font-family: monospace;font-weight: bold;display: inline-block;line-height: 1.2em;}#sk-container-id-2 div.sk-label-container {text-align: center;}#sk-container-id-2 div.sk-container {/* jupyter's `normalize.less` sets `[hidden] { display: none; }` but bootstrap.min.css set `[hidden] { display: none !important; }` so we also need the `!important` here to be able to override the default hidden behavior on the sphinx rendered scikit-learn.org. See: https://github.com/scikit-learn/scikit-learn/issues/21755 */display: inline-block !important;position: relative;}#sk-container-id-2 div.sk-text-repr-fallback {display: none;}</style><div id=\"sk-container-id-2\" class=\"sk-top-container\"><div class=\"sk-text-repr-fallback\"><pre>LinearRegression()</pre><b>In a Jupyter environment, please rerun this cell to show the HTML representation or trust the notebook. <br />On GitHub, the HTML representation is unable to render, please try loading this page with nbviewer.org.</b></div><div class=\"sk-container\" hidden><div class=\"sk-item\"><div class=\"sk-estimator sk-toggleable\"><input class=\"sk-toggleable__control sk-hidden--visually\" id=\"sk-estimator-id-2\" type=\"checkbox\" checked><label for=\"sk-estimator-id-2\" class=\"sk-toggleable__label sk-toggleable__label-arrow\">LinearRegression</label><div class=\"sk-toggleable__content\"><pre>LinearRegression()</pre></div></div></div></div></div>"
      ],
      "text/plain": [
       "LinearRegression()"
      ]
     },
     "execution_count": 16,
     "metadata": {},
     "output_type": "execute_result"
    }
   ],
   "source": [
    "from sklearn.linear_model import LinearRegression\n",
    "from sklearn.metrics import accuracy_score\n",
    "\n",
    "# 모델 인스턴스 생성\n",
    "model = LinearRegression()\n",
    "\n",
    "# 모델 학습 w/ train_scaled_data\n",
    "model.fit(X_train_scaled, y_train)"
   ]
  },
  {
   "cell_type": "code",
   "execution_count": 17,
   "metadata": {},
   "outputs": [
    {
     "name": "stdout",
     "output_type": "stream",
     "text": [
      "기울기 개수: 1, 기울기:  [1188.12463495] \n",
      "절편: -290.9614968163929\n"
     ]
    }
   ],
   "source": [
    "print(f'기울기 개수: {len(model.coef_)}, 기울기:  {model.coef_} \\n절편: {model.intercept_}')"
   ]
  },
  {
   "cell_type": "code",
   "execution_count": 18,
   "metadata": {},
   "outputs": [
    {
     "name": "stdout",
     "output_type": "stream",
     "text": [
      "[141.70816793 382.08020391 107.36930565 897.16313813 759.807689\n",
      " 931.50200041 152.00982662 244.72475478 862.82427585  62.72878469\n",
      " 759.807689   176.04703022 450.75792847 358.04300031 914.33256927\n",
      "  18.08826372 279.06361706]\n",
      "(17,)\n"
     ]
    }
   ],
   "source": [
    "# 모델 예측 w/ test_scaled_data\n",
    "predict_y = model.predict(X_test_scaled)\n",
    "print(predict_y)\n",
    "print(predict_y.shape)\n"
   ]
  },
  {
   "cell_type": "code",
   "execution_count": 19,
   "metadata": {},
   "outputs": [
    {
     "name": "stdout",
     "output_type": "stream",
     "text": [
      "[[141.70816793]\n",
      " [382.08020391]\n",
      " [107.36930565]\n",
      " [897.16313813]\n",
      " [759.807689  ]\n",
      " [931.50200041]\n",
      " [152.00982662]\n",
      " [244.72475478]\n",
      " [862.82427585]\n",
      " [ 62.72878469]\n",
      " [759.807689  ]\n",
      " [176.04703022]\n",
      " [450.75792847]\n",
      " [358.04300031]\n",
      " [914.33256927]\n",
      " [ 18.08826372]\n",
      " [279.06361706]]\n",
      "(17, 1)\n"
     ]
    }
   ],
   "source": [
    "print(predict_y.reshape(-1,1))\n",
    "print(predict_y.reshape(-1,1).shape)"
   ]
  },
  {
   "cell_type": "code",
   "execution_count": 20,
   "metadata": {},
   "outputs": [
    {
     "data": {
      "text/plain": [
       "array([[ 4911.5026105 ],\n",
       "       [13228.37505513],\n",
       "       [ 3723.37797555],\n",
       "       [31050.24457935],\n",
       "       [26297.74603956],\n",
       "       [32238.3692143 ],\n",
       "       [ 5267.94000098],\n",
       "       [ 8475.87651534],\n",
       "       [29862.1199444 ],\n",
       "       [ 2178.81595012],\n",
       "       [26297.74603956],\n",
       "       [ 6099.62724544],\n",
       "       [15604.62432503],\n",
       "       [12396.68781067],\n",
       "       [31644.30689683],\n",
       "       [  634.25392468],\n",
       "       [ 9664.00115029]])"
      ]
     },
     "execution_count": 20,
     "metadata": {},
     "output_type": "execute_result"
    }
   ],
   "source": [
    "mmScaler.inverse_transform(predict_y.reshape(-1,1))"
   ]
  },
  {
   "cell_type": "markdown",
   "metadata": {},
   "source": [
    "##### 시각화"
   ]
  },
  {
   "cell_type": "code",
   "execution_count": 21,
   "metadata": {},
   "outputs": [
    {
     "data": {
      "text/plain": [
       "\"\\nimport numpy as np\\ncoef, intercept = np.polyfit(xxx,y_test,1)\\t\\t# 1-> 1차원\\nprint(f' y = {coef}x + {intercept}')\\n\\n\\nx_minmax = np.array( [min(xxx), max(xxx)] ) # x축 최소값, 최대값\\n\\nfit_y = x_minmax*coef + intercept\\n\""
      ]
     },
     "execution_count": 21,
     "metadata": {},
     "output_type": "execute_result"
    }
   ],
   "source": [
    "# x축 weight 1D 변환\n",
    "xxx = X_test_scaled.reshape(-1)\n",
    "\n",
    "# 선형 회귀선 그리기\n",
    "import numpy as np\n",
    "x_minmax = np.array ( [min(xxx), max(xxx)])\n",
    "fit_y = x_minmax*model.coef_[0] + model.intercept_\n",
    "\n",
    "# np.polyfit Ver.\n",
    "'''\n",
    "import numpy as np\n",
    "coef, intercept = np.polyfit(xxx,y_test,1)\t\t# 1-> 1차원\n",
    "print(f' y = {coef}x + {intercept}')\n",
    "\n",
    "\n",
    "x_minmax = np.array( [min(xxx), max(xxx)] ) # x축 최소값, 최대값\n",
    "\n",
    "fit_y = x_minmax*coef + intercept\n",
    "'''"
   ]
  },
  {
   "cell_type": "code",
   "execution_count": 22,
   "metadata": {},
   "outputs": [
    {
     "data": {
      "image/png": "[encoded data removed]",
      "text/plain": [
       "<Figure size 640x480 with 1 Axes>"
      ]
     },
     "metadata": {},
     "output_type": "display_data"
    }
   ],
   "source": [
    "import matplotlib.pyplot as plt\n",
    "\n",
    "\n",
    "plt.scatter(xxx ,predict_y, label='LR predict')\n",
    "plt.scatter(xxx, y_test, label='Real')\n",
    "plt.plot(x_minmax, fit_y, color='blue')\n",
    "# plt.axvline(fit_y, predict_y, pre)\n",
    "plt.legend()\n",
    "plt.grid()\n",
    "plt.show()"
   ]
  },
  {
   "cell_type": "code",
   "execution_count": 23,
   "metadata": {},
   "outputs": [
    {
     "name": "stdout",
     "output_type": "stream",
     "text": [
      "test score: 0.9282917588780841\n",
      "train score: 0.9011711953915801\n"
     ]
    }
   ],
   "source": [
    "print(f'test score: {model.score(X_test_scaled, y_test)}')\n",
    "print(f'train score: {model.score(X_train_scaled, y_train)}')"
   ]
  },
  {
   "cell_type": "markdown",
   "metadata": {},
   "source": [
    "#### 다항회귀 Ver."
   ]
  },
  {
   "cell_type": "code",
   "execution_count": 25,
   "metadata": {},
   "outputs": [],
   "source": [
    "import numpy as np\n",
    "import matplotlib.pyplot as plt\n",
    "\n",
    "from sklearn.pipeline import Pipeline\n",
    "from sklearn.preprocessing import PolynomialFeatures\n",
    "from sklearn.linear_model import LinearRegression\n",
    "\n",
    "from sklearn.model_selection import cross_val_score"
   ]
  },
  {
   "cell_type": "code",
   "execution_count": 37,
   "metadata": {},
   "outputs": [
    {
     "name": "stderr",
     "output_type": "stream",
     "text": [
      "c:\\Users\\KDP-43\\anaconda3\\envs\\ml_38\\lib\\site-packages\\sklearn\\base.py:465: UserWarning: X does not have valid feature names, but MinMaxScaler was fitted with feature names\n",
      "  warnings.warn(\n"
     ]
    },
    {
     "data": {
      "text/plain": [
       "array([[-0.23141435],\n",
       "       [-0.23830928],\n",
       "       [-0.23141435],\n",
       "       [-0.23830928],\n",
       "       [-0.23016138],\n",
       "       [-0.23726997],\n",
       "       [-0.23224966],\n",
       "       [-0.2389418 ],\n",
       "       [-0.23392028],\n",
       "       [-0.24006198],\n",
       "       [-0.21721407],\n",
       "       [-0.22016904],\n",
       "       [-0.21930235],\n",
       "       [-0.22371187],\n",
       "       [-0.21637876],\n",
       "       [-0.21866742],\n",
       "       [-0.21387283],\n",
       "       [-0.21387283],\n",
       "       [-0.23475559],\n",
       "       [-0.24054965],\n",
       "       [-0.22581777],\n",
       "       [-0.23282593],\n",
       "       [-0.21637876],\n",
       "       [-0.21866742],\n",
       "       [-0.23834742],\n",
       "       [-0.24209642],\n",
       "       [-0.22840723],\n",
       "       [-0.23563242],\n",
       "       [-0.22682014],\n",
       "       [-0.23396735],\n",
       "       [-0.22682014],\n",
       "       [-0.23396735],\n",
       "       [-0.23726152],\n",
       "       [-0.24172294],\n",
       "       [-0.23057904],\n",
       "       [-0.23762848],\n",
       "       [-0.222393  ],\n",
       "       [-0.22840144],\n",
       "       [-0.23141435],\n",
       "       [-0.23830928],\n",
       "       [-0.22924254],\n",
       "       [-0.23643876],\n",
       "       [-0.23141435],\n",
       "       [-0.23830928],\n",
       "       [-0.22055531],\n",
       "       [-0.22569271],\n",
       "       [-0.22765545],\n",
       "       [-0.23486543],\n",
       "       [-0.23099669],\n",
       "       [-0.23797491],\n",
       "       [-0.22682014],\n",
       "       [-0.23396735],\n",
       "       [-0.22097297],\n",
       "       [-0.22632885],\n",
       "       [-0.21637876],\n",
       "       [-0.21866742],\n",
       "       [-0.21637876],\n",
       "       [-0.21866742],\n",
       "       [-0.21972   ],\n",
       "       [-0.22438422],\n",
       "       [-0.21888469],\n",
       "       [-0.22302745],\n",
       "       [-0.23224966],\n",
       "       [-0.2389418 ],\n",
       "       [-0.23099669],\n",
       "       [-0.23797491],\n",
       "       [-0.23082963],\n",
       "       [-0.23783779],\n",
       "       [-0.24277457],\n",
       "       [-0.24277457],\n",
       "       [-0.23341909],\n",
       "       [-0.2397462 ],\n",
       "       [-0.23625915],\n",
       "       [-0.24130577],\n",
       "       [-0.22974373],\n",
       "       [-0.23689939],\n",
       "       [-0.21888469],\n",
       "       [-0.22302745]])"
      ]
     },
     "execution_count": 37,
     "metadata": {},
     "output_type": "execute_result"
    }
   ],
   "source": [
    "# X1.reshape(-1,1), y_train\n"
   ]
  },
  {
   "cell_type": "code",
   "execution_count": 38,
   "metadata": {},
   "outputs": [
    {
     "name": "stdout",
     "output_type": "stream",
     "text": [
      "\n",
      "Degree 1 회귀계수는 [1188.12] 입니다.\n",
      "Degree 1 MSE는 nan 입니다.\n",
      "\n",
      "Degree 2 회귀계수는 [-181.81 1224.88] 입니다.\n",
      "Degree 2 MSE는 0.10950976974055675 입니다.\n"
     ]
    },
    {
     "name": "stderr",
     "output_type": "stream",
     "text": [
      "c:\\Users\\KDP-43\\anaconda3\\envs\\ml_38\\lib\\site-packages\\sklearn\\model_selection\\_validation.py:839: UserWarning: Scoring failed. The score on this train-test partition for these parameters will be set to nan. Details: \n",
      "Traceback (most recent call last):\n",
      "  File \"c:\\Users\\KDP-43\\anaconda3\\envs\\ml_38\\lib\\site-packages\\sklearn\\metrics\\_scorer.py\", line 136, in __call__\n",
      "    score = scorer._score(\n",
      "  File \"c:\\Users\\KDP-43\\anaconda3\\envs\\ml_38\\lib\\site-packages\\sklearn\\metrics\\_scorer.py\", line 355, in _score\n",
      "    return self._sign * self._score_func(y_true, y_pred, **scoring_kwargs)\n",
      "  File \"c:\\Users\\KDP-43\\anaconda3\\envs\\ml_38\\lib\\site-packages\\sklearn\\utils\\_param_validation.py\", line 214, in wrapper\n",
      "    return func(*args, **kwargs)\n",
      "  File \"c:\\Users\\KDP-43\\anaconda3\\envs\\ml_38\\lib\\site-packages\\sklearn\\metrics\\_regression.py\", line 1268, in mean_gamma_deviance\n",
      "    return mean_tweedie_deviance(y_true, y_pred, sample_weight=sample_weight, power=2)\n",
      "  File \"c:\\Users\\KDP-43\\anaconda3\\envs\\ml_38\\lib\\site-packages\\sklearn\\utils\\_param_validation.py\", line 187, in wrapper\n",
      "    return func(*args, **kwargs)\n",
      "  File \"c:\\Users\\KDP-43\\anaconda3\\envs\\ml_38\\lib\\site-packages\\sklearn\\metrics\\_regression.py\", line 1174, in mean_tweedie_deviance\n",
      "    raise ValueError(message + \"strictly positive y and y_pred.\")\n",
      "ValueError: Mean Tweedie deviance error with power=2 can only be used on strictly positive y and y_pred.\n",
      "\n",
      "  warnings.warn(\n",
      "c:\\Users\\KDP-43\\anaconda3\\envs\\ml_38\\lib\\site-packages\\sklearn\\model_selection\\_validation.py:839: UserWarning: Scoring failed. The score on this train-test partition for these parameters will be set to nan. Details: \n",
      "Traceback (most recent call last):\n",
      "  File \"c:\\Users\\KDP-43\\anaconda3\\envs\\ml_38\\lib\\site-packages\\sklearn\\metrics\\_scorer.py\", line 136, in __call__\n",
      "    score = scorer._score(\n",
      "  File \"c:\\Users\\KDP-43\\anaconda3\\envs\\ml_38\\lib\\site-packages\\sklearn\\metrics\\_scorer.py\", line 355, in _score\n",
      "    return self._sign * self._score_func(y_true, y_pred, **scoring_kwargs)\n",
      "  File \"c:\\Users\\KDP-43\\anaconda3\\envs\\ml_38\\lib\\site-packages\\sklearn\\utils\\_param_validation.py\", line 214, in wrapper\n",
      "    return func(*args, **kwargs)\n",
      "  File \"c:\\Users\\KDP-43\\anaconda3\\envs\\ml_38\\lib\\site-packages\\sklearn\\metrics\\_regression.py\", line 1268, in mean_gamma_deviance\n",
      "    return mean_tweedie_deviance(y_true, y_pred, sample_weight=sample_weight, power=2)\n",
      "  File \"c:\\Users\\KDP-43\\anaconda3\\envs\\ml_38\\lib\\site-packages\\sklearn\\utils\\_param_validation.py\", line 187, in wrapper\n",
      "    return func(*args, **kwargs)\n",
      "  File \"c:\\Users\\KDP-43\\anaconda3\\envs\\ml_38\\lib\\site-packages\\sklearn\\metrics\\_regression.py\", line 1174, in mean_tweedie_deviance\n",
      "    raise ValueError(message + \"strictly positive y and y_pred.\")\n",
      "ValueError: Mean Tweedie deviance error with power=2 can only be used on strictly positive y and y_pred.\n",
      "\n",
      "  warnings.warn(\n",
      "c:\\Users\\KDP-43\\anaconda3\\envs\\ml_38\\lib\\site-packages\\sklearn\\model_selection\\_validation.py:839: UserWarning: Scoring failed. The score on this train-test partition for these parameters will be set to nan. Details: \n",
      "Traceback (most recent call last):\n",
      "  File \"c:\\Users\\KDP-43\\anaconda3\\envs\\ml_38\\lib\\site-packages\\sklearn\\metrics\\_scorer.py\", line 136, in __call__\n",
      "    score = scorer._score(\n",
      "  File \"c:\\Users\\KDP-43\\anaconda3\\envs\\ml_38\\lib\\site-packages\\sklearn\\metrics\\_scorer.py\", line 355, in _score\n",
      "    return self._sign * self._score_func(y_true, y_pred, **scoring_kwargs)\n",
      "  File \"c:\\Users\\KDP-43\\anaconda3\\envs\\ml_38\\lib\\site-packages\\sklearn\\utils\\_param_validation.py\", line 214, in wrapper\n",
      "    return func(*args, **kwargs)\n",
      "  File \"c:\\Users\\KDP-43\\anaconda3\\envs\\ml_38\\lib\\site-packages\\sklearn\\metrics\\_regression.py\", line 1268, in mean_gamma_deviance\n",
      "    return mean_tweedie_deviance(y_true, y_pred, sample_weight=sample_weight, power=2)\n",
      "  File \"c:\\Users\\KDP-43\\anaconda3\\envs\\ml_38\\lib\\site-packages\\sklearn\\utils\\_param_validation.py\", line 187, in wrapper\n",
      "    return func(*args, **kwargs)\n",
      "  File \"c:\\Users\\KDP-43\\anaconda3\\envs\\ml_38\\lib\\site-packages\\sklearn\\metrics\\_regression.py\", line 1174, in mean_tweedie_deviance\n",
      "    raise ValueError(message + \"strictly positive y and y_pred.\")\n",
      "ValueError: Mean Tweedie deviance error with power=2 can only be used on strictly positive y and y_pred.\n",
      "\n",
      "  warnings.warn(\n"
     ]
    },
    {
     "ename": "ValueError",
     "evalue": "X has 1 features, but LinearRegression is expecting 2 features as input.",
     "output_type": "error",
     "traceback": [
      "\u001b[1;31m---------------------------------------------------------------------------\u001b[0m",
      "\u001b[1;31mValueError\u001b[0m                                Traceback (most recent call last)",
      "Cell \u001b[1;32mIn[38], line 41\u001b[0m\n\u001b[0;32m     38\u001b[0m     X_test \u001b[38;5;241m=\u001b[39m np\u001b[38;5;241m.\u001b[39mlinspace(\u001b[38;5;241m0\u001b[39m,\u001b[38;5;241m1\u001b[39m,\u001b[38;5;241m100\u001b[39m)\n\u001b[0;32m     40\u001b[0m \t\u001b[38;5;66;03m# 예측값 곡선\u001b[39;00m\n\u001b[1;32m---> 41\u001b[0m     plt\u001b[38;5;241m.\u001b[39mplot(X_test_scaled, \u001b[43mmodel\u001b[49m\u001b[38;5;241;43m.\u001b[39;49m\u001b[43mpredict\u001b[49m\u001b[43m(\u001b[49m\u001b[43mX_test_scaled\u001b[49m\u001b[43m)\u001b[49m, label\u001b[38;5;241m=\u001b[39m\u001b[38;5;124m'\u001b[39m\u001b[38;5;124mModel\u001b[39m\u001b[38;5;124m'\u001b[39m)\n\u001b[0;32m     42\u001b[0m \t\u001b[38;5;66;03m# 실제값 곡선\u001b[39;00m\n\u001b[0;32m     43\u001b[0m     \u001b[38;5;66;03m# plt.plot(X_test, true_func(X_test),'--', label='True Function')\u001b[39;00m\n\u001b[0;32m     44\u001b[0m     plt\u001b[38;5;241m.\u001b[39mscatter(X_test_scaled, y_test, edgecolors\u001b[38;5;241m=\u001b[39m\u001b[38;5;124m'\u001b[39m\u001b[38;5;124mb\u001b[39m\u001b[38;5;124m'\u001b[39m, s\u001b[38;5;241m=\u001b[39m\u001b[38;5;241m20\u001b[39m, label\u001b[38;5;241m=\u001b[39m\u001b[38;5;124m'\u001b[39m\u001b[38;5;124mSamples\u001b[39m\u001b[38;5;124m'\u001b[39m)\n",
      "File \u001b[1;32mc:\\Users\\KDP-43\\anaconda3\\envs\\ml_38\\lib\\site-packages\\sklearn\\linear_model\\_base.py:386\u001b[0m, in \u001b[0;36mLinearModel.predict\u001b[1;34m(self, X)\u001b[0m\n\u001b[0;32m    372\u001b[0m \u001b[38;5;28;01mdef\u001b[39;00m \u001b[38;5;21mpredict\u001b[39m(\u001b[38;5;28mself\u001b[39m, X):\n\u001b[0;32m    373\u001b[0m \u001b[38;5;250m    \u001b[39m\u001b[38;5;124;03m\"\"\"\u001b[39;00m\n\u001b[0;32m    374\u001b[0m \u001b[38;5;124;03m    Predict using the linear model.\u001b[39;00m\n\u001b[0;32m    375\u001b[0m \n\u001b[1;32m   (...)\u001b[0m\n\u001b[0;32m    384\u001b[0m \u001b[38;5;124;03m        Returns predicted values.\u001b[39;00m\n\u001b[0;32m    385\u001b[0m \u001b[38;5;124;03m    \"\"\"\u001b[39;00m\n\u001b[1;32m--> 386\u001b[0m     \u001b[38;5;28;01mreturn\u001b[39;00m \u001b[38;5;28;43mself\u001b[39;49m\u001b[38;5;241;43m.\u001b[39;49m\u001b[43m_decision_function\u001b[49m\u001b[43m(\u001b[49m\u001b[43mX\u001b[49m\u001b[43m)\u001b[49m\n",
      "File \u001b[1;32mc:\\Users\\KDP-43\\anaconda3\\envs\\ml_38\\lib\\site-packages\\sklearn\\linear_model\\_base.py:369\u001b[0m, in \u001b[0;36mLinearModel._decision_function\u001b[1;34m(self, X)\u001b[0m\n\u001b[0;32m    366\u001b[0m \u001b[38;5;28;01mdef\u001b[39;00m \u001b[38;5;21m_decision_function\u001b[39m(\u001b[38;5;28mself\u001b[39m, X):\n\u001b[0;32m    367\u001b[0m     check_is_fitted(\u001b[38;5;28mself\u001b[39m)\n\u001b[1;32m--> 369\u001b[0m     X \u001b[38;5;241m=\u001b[39m \u001b[38;5;28;43mself\u001b[39;49m\u001b[38;5;241;43m.\u001b[39;49m\u001b[43m_validate_data\u001b[49m\u001b[43m(\u001b[49m\u001b[43mX\u001b[49m\u001b[43m,\u001b[49m\u001b[43m \u001b[49m\u001b[43maccept_sparse\u001b[49m\u001b[38;5;241;43m=\u001b[39;49m\u001b[43m[\u001b[49m\u001b[38;5;124;43m\"\u001b[39;49m\u001b[38;5;124;43mcsr\u001b[39;49m\u001b[38;5;124;43m\"\u001b[39;49m\u001b[43m,\u001b[49m\u001b[43m \u001b[49m\u001b[38;5;124;43m\"\u001b[39;49m\u001b[38;5;124;43mcsc\u001b[39;49m\u001b[38;5;124;43m\"\u001b[39;49m\u001b[43m,\u001b[49m\u001b[43m \u001b[49m\u001b[38;5;124;43m\"\u001b[39;49m\u001b[38;5;124;43mcoo\u001b[39;49m\u001b[38;5;124;43m\"\u001b[39;49m\u001b[43m]\u001b[49m\u001b[43m,\u001b[49m\u001b[43m \u001b[49m\u001b[43mreset\u001b[49m\u001b[38;5;241;43m=\u001b[39;49m\u001b[38;5;28;43;01mFalse\u001b[39;49;00m\u001b[43m)\u001b[49m\n\u001b[0;32m    370\u001b[0m     \u001b[38;5;28;01mreturn\u001b[39;00m safe_sparse_dot(X, \u001b[38;5;28mself\u001b[39m\u001b[38;5;241m.\u001b[39mcoef_\u001b[38;5;241m.\u001b[39mT, dense_output\u001b[38;5;241m=\u001b[39m\u001b[38;5;28;01mTrue\u001b[39;00m) \u001b[38;5;241m+\u001b[39m \u001b[38;5;28mself\u001b[39m\u001b[38;5;241m.\u001b[39mintercept_\n",
      "File \u001b[1;32mc:\\Users\\KDP-43\\anaconda3\\envs\\ml_38\\lib\\site-packages\\sklearn\\base.py:626\u001b[0m, in \u001b[0;36mBaseEstimator._validate_data\u001b[1;34m(self, X, y, reset, validate_separately, cast_to_ndarray, **check_params)\u001b[0m\n\u001b[0;32m    623\u001b[0m     out \u001b[38;5;241m=\u001b[39m X, y\n\u001b[0;32m    625\u001b[0m \u001b[38;5;28;01mif\u001b[39;00m \u001b[38;5;129;01mnot\u001b[39;00m no_val_X \u001b[38;5;129;01mand\u001b[39;00m check_params\u001b[38;5;241m.\u001b[39mget(\u001b[38;5;124m\"\u001b[39m\u001b[38;5;124mensure_2d\u001b[39m\u001b[38;5;124m\"\u001b[39m, \u001b[38;5;28;01mTrue\u001b[39;00m):\n\u001b[1;32m--> 626\u001b[0m     \u001b[38;5;28;43mself\u001b[39;49m\u001b[38;5;241;43m.\u001b[39;49m\u001b[43m_check_n_features\u001b[49m\u001b[43m(\u001b[49m\u001b[43mX\u001b[49m\u001b[43m,\u001b[49m\u001b[43m \u001b[49m\u001b[43mreset\u001b[49m\u001b[38;5;241;43m=\u001b[39;49m\u001b[43mreset\u001b[49m\u001b[43m)\u001b[49m\n\u001b[0;32m    628\u001b[0m \u001b[38;5;28;01mreturn\u001b[39;00m out\n",
      "File \u001b[1;32mc:\\Users\\KDP-43\\anaconda3\\envs\\ml_38\\lib\\site-packages\\sklearn\\base.py:415\u001b[0m, in \u001b[0;36mBaseEstimator._check_n_features\u001b[1;34m(self, X, reset)\u001b[0m\n\u001b[0;32m    412\u001b[0m     \u001b[38;5;28;01mreturn\u001b[39;00m\n\u001b[0;32m    414\u001b[0m \u001b[38;5;28;01mif\u001b[39;00m n_features \u001b[38;5;241m!=\u001b[39m \u001b[38;5;28mself\u001b[39m\u001b[38;5;241m.\u001b[39mn_features_in_:\n\u001b[1;32m--> 415\u001b[0m     \u001b[38;5;28;01mraise\u001b[39;00m \u001b[38;5;167;01mValueError\u001b[39;00m(\n\u001b[0;32m    416\u001b[0m         \u001b[38;5;124mf\u001b[39m\u001b[38;5;124m\"\u001b[39m\u001b[38;5;124mX has \u001b[39m\u001b[38;5;132;01m{\u001b[39;00mn_features\u001b[38;5;132;01m}\u001b[39;00m\u001b[38;5;124m features, but \u001b[39m\u001b[38;5;132;01m{\u001b[39;00m\u001b[38;5;28mself\u001b[39m\u001b[38;5;241m.\u001b[39m\u001b[38;5;18m__class__\u001b[39m\u001b[38;5;241m.\u001b[39m\u001b[38;5;18m__name__\u001b[39m\u001b[38;5;132;01m}\u001b[39;00m\u001b[38;5;124m \u001b[39m\u001b[38;5;124m\"\u001b[39m\n\u001b[0;32m    417\u001b[0m         \u001b[38;5;124mf\u001b[39m\u001b[38;5;124m\"\u001b[39m\u001b[38;5;124mis expecting \u001b[39m\u001b[38;5;132;01m{\u001b[39;00m\u001b[38;5;28mself\u001b[39m\u001b[38;5;241m.\u001b[39mn_features_in_\u001b[38;5;132;01m}\u001b[39;00m\u001b[38;5;124m features as input.\u001b[39m\u001b[38;5;124m\"\u001b[39m\n\u001b[0;32m    418\u001b[0m     )\n",
      "\u001b[1;31mValueError\u001b[0m: X has 1 features, but LinearRegression is expecting 2 features as input."
     ]
    },
    {
     "data": {
      "image/png": "[encoded data removed]",
      "text/plain": [
       "<Figure size 1400x500 with 2 Axes>"
      ]
     },
     "metadata": {},
     "output_type": "display_data"
    }
   ],
   "source": [
    "# 다항 회귀 degree 바꿔가며 모델 성능 점수 확인\n",
    "\n",
    "degrees = list(range(1,9))\n",
    "plt.figure(figsize=(14,5))\n",
    "\n",
    "\n",
    "for i in range(len(degrees)):\n",
    "    # for 구문 돌 때마다, 그래프 추가\n",
    "    ax = plt.subplot(1,len(degrees), i+1)\n",
    "    \n",
    "    plt.setp(ax, xticks=(), yticks=())\n",
    "    \n",
    "\t# 피쳐 확장\n",
    "    poly = PolynomialFeatures(degree=degrees[i], include_bias=False)\n",
    "    X1 = poly.fit_transform(X_train_scaled)\n",
    "\n",
    "    # X1_scaled = mmScaler.transform(X1.reshape(-1,1))\n",
    "\n",
    "    model = LinearRegression()\n",
    "    model.fit(X1,y_train)\n",
    "\n",
    "\n",
    "\t# 교차 검증으로 다항회귀 평가\n",
    "\t# k 폴드 세트 6개 생성\n",
    "    kfold_n = 6\n",
    "    scores = cross_val_score(model, X1, y_train, \n",
    "                             scoring=\"neg_mean_gamma_deviance\", cv=kfold_n)\n",
    "    \n",
    "\t# 회귀계수 추출\n",
    "    coeff = model.coef_\n",
    "    \n",
    "    print('\\nDegree {0} 회귀계수는 {1} 입니다.'.format(degrees[i], np.round(coeff, 2)))\n",
    "    print('Degree {0} MSE는 {1} 입니다.'.format(degrees[i], -1*np.mean(scores)))\n",
    "    \n",
    "\n",
    "\t# test 데이터 셋 생성\n",
    "\t# 0~1까지 100개 나눈\n",
    "    X_test = np.linspace(0,1,100)\n",
    "\n",
    "\t# 예측값 곡선\n",
    "    plt.plot(X_test_scaled, model.predict(X_test_scaled), label='Model')\n",
    "\t# 실제값 곡선\n",
    "    # plt.plot(X_test, true_func(X_test),'--', label='True Function')\n",
    "    plt.scatter(X_test_scaled, y_test, edgecolors='b', s=20, label='Samples')\n",
    "\n",
    "    plt.xlabel('X')\n",
    "    plt.ylabel('y')\n",
    "    plt.xlim((0,1))\n",
    "    plt.ylim((-2,2))\n",
    "    plt.legend(loc='best')\n",
    "    plt.title('Degree {0}\\nnMSE= {1:.2e}'.format(degrees[i],  -scores.mean()))\n",
    "\n",
    "    "
   ]
  },
  {
   "cell_type": "code",
   "execution_count": null,
   "metadata": {},
   "outputs": [],
   "source": []
  },
  {
   "cell_type": "code",
   "execution_count": null,
   "metadata": {},
   "outputs": [],
   "source": []
  },
  {
   "cell_type": "code",
   "execution_count": null,
   "metadata": {},
   "outputs": [],
   "source": [
    "y_train[[10, 30, 14, 31]].sum()/model.n_neighbors"
   ]
  },
  {
   "cell_type": "code",
   "execution_count": null,
   "metadata": {},
   "outputs": [],
   "source": []
  }
 ],
 "metadata": {
  "kernelspec": {
   "display_name": "ml_38",
   "language": "python",
   "name": "python3"
  },
  "language_info": {
   "codemirror_mode": {
    "name": "ipython",
    "version": 3
   },
   "file_extension": ".py",
   "mimetype": "text/x-python",
   "name": "python",
   "nbconvert_exporter": "python",
   "pygments_lexer": "ipython3",
   "version": "3.8.19"
  }
 },
 "nbformat": 4,
 "nbformat_minor": 2
}
