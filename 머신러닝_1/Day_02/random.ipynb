{
 "cells": [
  {
   "cell_type": "markdown",
   "metadata": {},
   "source": [
    "### 임의의 숫자 즉, 난수 추출\n",
    "- random 모듈 존재\n",
    "- 0.0 ~ 1.0 실수 추출\n",
    "- n ~ m 정수 추출\n",
    "- random 값 고정: seed"
   ]
  },
  {
   "cell_type": "code",
   "execution_count": 1,
   "metadata": {},
   "outputs": [],
   "source": [
    "import random"
   ]
  },
  {
   "cell_type": "markdown",
   "metadata": {},
   "source": [
    "##### 0.0 ~ 1.0 실수 추출"
   ]
  },
  {
   "cell_type": "code",
   "execution_count": 2,
   "metadata": {},
   "outputs": [
    {
     "name": "stdout",
     "output_type": "stream",
     "text": [
      "0.5714025946899135\n",
      "0.4288890546751146\n",
      "0.5780913011344704\n",
      "0.20609823213950174\n",
      "0.81332125135732\n",
      "0.8235888725334455\n",
      "0.6534725339011758\n",
      "0.16022955651881965\n",
      "0.5206693596399246\n",
      "0.32777281162209315\n"
     ]
    }
   ],
   "source": [
    "random.seed(10)\t\t\t\t\t\t# 랜덤 테이블에서 난수 생성 고정\n",
    "for _ in range(10):\n",
    "    print( random.random())\t\t\t"
   ]
  },
  {
   "cell_type": "markdown",
   "metadata": {},
   "source": [
    "##### n ~ m 정수 추출"
   ]
  },
  {
   "cell_type": "code",
   "execution_count": 4,
   "metadata": {},
   "outputs": [
    {
     "name": "stdout",
     "output_type": "stream",
     "text": [
      "1\n",
      "7\n",
      "8\n",
      "1\n",
      "4\n",
      "8\n",
      "8\n",
      "5\n",
      "3\n",
      "1\n"
     ]
    }
   ],
   "source": [
    "random.seed(10)\t\t\t\t\t\t# 랜덤 테이블에서 난수 생성 고정\n",
    "for _ in range(10):\n",
    "    print( random.randint(1, 8))\t\t"
   ]
  },
  {
   "cell_type": "code",
   "execution_count": 9,
   "metadata": {},
   "outputs": [],
   "source": [
    "from sklearn.model_selection import train_test_split"
   ]
  },
  {
   "cell_type": "code",
   "execution_count": 7,
   "metadata": {},
   "outputs": [
    {
     "name": "stdout",
     "output_type": "stream",
     "text": [
      "12\n",
      "12\n"
     ]
    }
   ],
   "source": [
    "X =  [ [10], [3],[9],[5],[8],[7],[12],[67],[91],[45],[2],[17]]\n",
    "\n",
    "print(len(X))\n",
    "y = [ 1,2,3,4,5,6,7,8,9,10,11,12]\n",
    "print(len(y))\n"
   ]
  },
  {
   "cell_type": "code",
   "execution_count": 13,
   "metadata": {},
   "outputs": [
    {
     "name": "stdout",
     "output_type": "stream",
     "text": [
      "X:\t[[10], [3], [9], [5], [8], [7], [12], [67], [91], [45], [2], [17]]\n",
      "X_train: [[45], [17], [67], [10], [8], [12], [3], [9], [7]]\n",
      "X_test:\t[[91], [5], [2]]\n"
     ]
    }
   ],
   "source": [
    "# 실행마다 데이터셋 변경\n",
    "X_train, X_test, y_train, y_test = train_test_split(X, y)\n",
    "\n",
    "print(f'X:\t{X}')\n",
    "print(f'X_train: {X_train}')\n",
    "print(f'X_test:\t{X_test}')"
   ]
  },
  {
   "cell_type": "code",
   "execution_count": 14,
   "metadata": {},
   "outputs": [
    {
     "name": "stdout",
     "output_type": "stream",
     "text": [
      "X:\t[[10], [3], [9], [5], [8], [7], [12], [67], [91], [45], [2], [17]]\n",
      "X_train: [[7], [17], [91], [2], [5], [3], [10], [8], [45]]\n",
      "X_test:\t[[9], [12], [67]]\n"
     ]
    }
   ],
   "source": [
    "# radom seed 고정\n",
    "X_train, X_test, y_train, y_test = train_test_split(X, y, random_state=10)\n",
    "\n",
    "print(f'X:\t{X}')\n",
    "print(f'X_train: {X_train}')\n",
    "print(f'X_test:\t{X_test}')"
   ]
  },
  {
   "cell_type": "code",
   "execution_count": 15,
   "metadata": {},
   "outputs": [
    {
     "name": "stdout",
     "output_type": "stream",
     "text": [
      "X:\t[[10], [3], [9], [5], [8], [7], [12], [67], [91], [45], [2], [17]]\n",
      "X_train: [[10], [3], [9], [5], [8], [7], [12], [67], [91]]\n",
      "X_test:\t[[45], [2], [17]]\n"
     ]
    }
   ],
   "source": [
    "# 섞지 않으면서 원본 순서대로 학습/테스트 분리\t\t--> Shuffle\n",
    "X_train, X_test, y_train, y_test = train_test_split(X, y, shuffle=False)\n",
    "\n",
    "print(f'X:\t{X}')\n",
    "print(f'X_train: {X_train}')\n",
    "print(f'X_test:\t{X_test}')"
   ]
  },
  {
   "cell_type": "code",
   "execution_count": null,
   "metadata": {},
   "outputs": [],
   "source": []
  },
  {
   "cell_type": "code",
   "execution_count": null,
   "metadata": {},
   "outputs": [],
   "source": []
  },
  {
   "cell_type": "code",
   "execution_count": null,
   "metadata": {},
   "outputs": [],
   "source": []
  }
 ],
 "metadata": {
  "kernelspec": {
   "display_name": "ml_38",
   "language": "python",
   "name": "python3"
  },
  "language_info": {
   "codemirror_mode": {
    "name": "ipython",
    "version": 3
   },
   "file_extension": ".py",
   "mimetype": "text/x-python",
   "name": "python",
   "nbconvert_exporter": "python",
   "pygments_lexer": "ipython3",
   "version": "3.8.19"
  }
 },
 "nbformat": 4,
 "nbformat_minor": 2
}
