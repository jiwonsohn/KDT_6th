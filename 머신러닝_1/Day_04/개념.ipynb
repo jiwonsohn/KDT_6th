{
 "cells": [
  {
   "cell_type": "markdown",
   "metadata": {},
   "source": [
    "### Feature Selection \n",
    "* **Filtering 방법**\n",
    "\t- 타겟/종속변수에 관련성이 높은 피쳐/독립변수 선택\n",
    "\t- 상관계수\n",
    "\t- 몇개 피쳐 학습??\t--> 점진적으로 늘려가기 (k개)\n",
    "\n",
    "\n",
    "+) **Wrapper 방법**\n",
    "\t<br>=> Forward 방식: 기준에 따라 K개 피쳐를 선택 --> 성능평가 --> 피쳐 추가 </br>\n",
    "\t\n",
    "\t=> Backward 방식: 모든 피쳐 선택 --> 성능평가 --> 피쳐 제거\n",
    "\n",
    "\t=> Step-Wide 방식: Forward + Backward\n",
    "\n",
    "\n",
    "+) **Embedding 방법** <br>\n",
    "\t\t=> 모델 내부에 피쳐 선택 기능 포함 -->  Important Feature, 주성분분석(PCA/비지도학습) </br>"
   ]
  },
  {
   "cell_type": "markdown",
   "metadata": {},
   "source": [
    "### Tunning -> 모델 파라미터 & 하이퍼파라미터\n",
    "\n",
    "* 모델 성능 높이기\n",
    "\t- scikit-learn에서 모델 인스턴스의 score 메서드\n",
    "\t- 모델 평가기준이 되는 성능지표 => 분류/회귀에 따라 다름\n",
    "\n",
    "* 모델 성능에 영향을 미치는 매개변수 --> Hyper Parameter (학습 알고리즘마다 상이)\n",
    "\t- KNN\t\t\t\t\t: K (개)\n",
    "\t- LinearRegression\t\t: 가중치, 기울기 초기화 값, 규제(Lidge, Lasso)\n",
    "\t- 기타 등등\n",
    "\n",
    "* 피쳐 제어\n",
    "\t- 피쳐 개수 조절\n",
    "\t- 피쳐 추출/압축 ??\n"
   ]
  },
  {
   "cell_type": "markdown",
   "metadata": {},
   "source": []
  },
  {
   "cell_type": "markdown",
   "metadata": {},
   "source": [
    "### 기계학습\n",
    "- 단계<br>\n",
    "\t\t: 데이터 기반 -> 규칙/패턴 학습 -> 수식 -> 모델<br>\n",
    "\t\t: 목적 => 미래 예측 + 정확한 정보 제공\n",
    "\n",
    "- 모델 성능 평가는 train DS + test DS score 비교로!!<br>\n",
    "\t\t: 학습용 DS (학습용 + 검증용 분리)<br>\n",
    "\t\t: 테스트 DS </br>"
   ]
  },
  {
   "cell_type": "markdown",
   "metadata": {},
   "source": [
    "### ML process\n",
    "- 데이터 준비:\t데이터 로딩, 데이터 확인 ( 실제 데이터 확인 & 탐색)\n",
    "- 데이터 전처리: \n",
    "\t\t\t\t정제 (결측치, 중복값, 이상치, 컬럼 고유값 ....)\n",
    "\t\t\t\t피쳐에 대한 처리 (인코딩, 스케일링)\n",
    "\t\t\t\t피쳐 선택, 가공 (독립변수 & 종속변수)\n",
    "\n",
    "- 학습 준비\n",
    "\t\t\t\t데이터셋 분리 (train, validation, test)\n",
    "\t\t\t\t\t\t--> 데이터 부족 및 일반화 위해 train, test 만 분리\n",
    "\n",
    "- 학습 진행\t\t\n",
    "\t\t\t\t교차 검증으로 학습 진행 (train 데이터 셋 사용)\n",
    "\n",
    "- 모델 평가\n",
    "\t\t\t\ttest 데이터 셋으로 평가\n",
    "\t\t\t\t평가 기준\n",
    "\t\t\t\t\t\t분류: \n",
    "\t\t\t\t\t\t회귀: 예측값 - 라벨값 정확도\n",
    "\n",
    "* 하이퍼 파라미터 제어:\n",
    "\t\t\t모델 인스턴스 생성 시, 매개변수로 설정\n",
    "\t\t\t다시 학습 진행 & 평가 or 전처리..... OTL...."
   ]
  },
  {
   "cell_type": "code",
   "execution_count": null,
   "metadata": {},
   "outputs": [],
   "source": []
  },
  {
   "cell_type": "code",
   "execution_count": null,
   "metadata": {},
   "outputs": [],
   "source": []
  },
  {
   "cell_type": "code",
   "execution_count": null,
   "metadata": {},
   "outputs": [],
   "source": []
  }
 ],
 "metadata": {
  "language_info": {
   "name": "python"
  }
 },
 "nbformat": 4,
 "nbformat_minor": 2
}
