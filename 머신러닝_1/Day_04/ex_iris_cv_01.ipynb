{
 "cells": [
  {
   "cell_type": "markdown",
   "metadata": {},
   "source": [
    "### 붓꽃 품종 분류\n",
    "- 목표: 붓꽃 3개 품종 분류\n",
    "- 데이터셋: 내장 데이터\n",
    "- 피쳐: 4개\n",
    "- 타겟: 품종 1개\n",
    "- 학습: 지도학습/분류\n",
    "- 학습알고리즘: KNN"
   ]
  },
  {
   "cell_type": "code",
   "execution_count": 91,
   "metadata": {},
   "outputs": [],
   "source": [
    "from sklearn.datasets import load_iris\n",
    "from sklearn.model_selection import train_test_split\n",
    "\n",
    "import pandas as pd\n",
    "import numpy as np\n",
    "import matplotlib.pyplot as plt"
   ]
  },
  {
   "cell_type": "markdown",
   "metadata": {},
   "source": [
    "#### 데이터 로드 & 전처리"
   ]
  },
  {
   "cell_type": "code",
   "execution_count": 92,
   "metadata": {},
   "outputs": [
    {
     "name": "stdout",
     "output_type": "stream",
     "text": [
      "dict_keys(['data', 'target', 'frame', 'target_names', 'DESCR', 'feature_names', 'filename', 'data_module'])\n"
     ]
    }
   ],
   "source": [
    "# DF 형태로 로드\n",
    "data = load_iris(as_frame=True)\n",
    "print(data.keys())"
   ]
  },
  {
   "cell_type": "code",
   "execution_count": 93,
   "metadata": {},
   "outputs": [],
   "source": [
    "# Bunch 인스턴스 -> Dict와 유사한 형태\n",
    "featureDF = data['data']\n",
    "targetSR = data['target']"
   ]
  },
  {
   "cell_type": "code",
   "execution_count": 94,
   "metadata": {},
   "outputs": [
    {
     "data": {
      "text/plain": [
       "(150, 4)"
      ]
     },
     "execution_count": 94,
     "metadata": {},
     "output_type": "execute_result"
    }
   ],
   "source": [
    "featureDF.shape"
   ]
  },
  {
   "cell_type": "code",
   "execution_count": 95,
   "metadata": {},
   "outputs": [
    {
     "data": {
      "text/plain": [
       "(   sepal length (cm)  sepal width (cm)  petal length (cm)  petal width (cm)\n",
       " 0                5.1               3.5                1.4               0.2,)"
      ]
     },
     "execution_count": 95,
     "metadata": {},
     "output_type": "execute_result"
    }
   ],
   "source": [
    "featureDF.head(1), "
   ]
  },
  {
   "cell_type": "markdown",
   "metadata": {},
   "source": [
    "#### 학습용, 검증용, 테스트용 데이터셋 분리"
   ]
  },
  {
   "cell_type": "code",
   "execution_count": 96,
   "metadata": {},
   "outputs": [],
   "source": [
    "# 학습용 & 테스트용\n",
    "X_train, X_test, y_train, y_test = train_test_split(featureDF, targetSR,\n",
    "                                                    stratify=targetSR)"
   ]
  },
  {
   "cell_type": "code",
   "execution_count": 97,
   "metadata": {},
   "outputs": [],
   "source": [
    "# 학습용 & 검증용\n",
    "X_train, X_val, y_train, y_val = train_test_split(X_train, y_train,\n",
    "                                                    stratify=y_train)"
   ]
  },
  {
   "cell_type": "code",
   "execution_count": 98,
   "metadata": {},
   "outputs": [
    {
     "name": "stdout",
     "output_type": "stream",
     "text": [
      "train DS:  84  56.00%\n",
      "Val   DS:  28  18.67%\n",
      "test  DS:  38  25.33%\n"
     ]
    }
   ],
   "source": [
    "print(f'train DS:  {X_train.shape[0]}  {X_train.shape[0]/featureDF.shape[0]*100:.2f}%')\n",
    "print(f'Val   DS:  {X_val.shape[0]}  {X_val.shape[0]/featureDF.shape[0]*100:.2f}%')\n",
    "print(f'test  DS:  {X_test.shape[0]}  {X_test.shape[0]/featureDF.shape[0]*100:.2f}%')"
   ]
  },
  {
   "cell_type": "markdown",
   "metadata": {},
   "source": [
    "#### 교차검증 방식\n",
    "- 검증 데이터셋의 "
   ]
  },
  {
   "cell_type": "code",
   "execution_count": 99,
   "metadata": {},
   "outputs": [],
   "source": [
    "from sklearn.model_selection import KFold, StratifiedKFold\n",
    "from sklearn.tree import DecisionTreeClassifier"
   ]
  },
  {
   "cell_type": "code",
   "execution_count": 100,
   "metadata": {},
   "outputs": [],
   "source": [
    "# 모델 인스턴스 생성\n",
    "dtc_model = DecisionTreeClassifier()"
   ]
  },
  {
   "cell_type": "markdown",
   "metadata": {},
   "source": [
    "##### K_fold 기반"
   ]
  },
  {
   "cell_type": "code",
   "execution_count": null,
   "metadata": {},
   "outputs": [],
   "source": []
  },
  {
   "cell_type": "code",
   "execution_count": 101,
   "metadata": {},
   "outputs": [
    {
     "name": "stdout",
     "output_type": "stream",
     "text": [
      "[1]번째 Train 정확도:\t1.0\tVal 정확도:\t1.000\n",
      "\n",
      "[2]번째 Train 정확도:\t1.0\tVal 정확도:\t0.967\n",
      "\n",
      "[3]번째 Train 정확도:\t1.0\tVal 정확도:\t0.833\n",
      "\n",
      "[4]번째 Train 정확도:\t1.0\tVal 정확도:\t0.933\n",
      "\n",
      "[5]번째 Train 정확도:\t1.0\tVal 정확도:\t0.800\n",
      "\n"
     ]
    }
   ],
   "source": [
    "# Kfold 기반-------------------------------------------\n",
    "\n",
    "# K번째 학습 정확도 저장 리스트 선언\n",
    "accuracys = []\n",
    "\n",
    "# Kfold 인스턴스 생성\t\n",
    "kfold = KFold(n_splits=5)\t\t\t\t\t\t# 기본: 5개\n",
    "\n",
    "# K번 만큼 K개 데이터 셋으로 학습 반복\n",
    "#\t-> K등분 후 학습용 데이터셋 인덱스, 검증용 데이터셋 인덱스\n",
    "\n",
    "for idx, (train_index, val_index) in enumerate(kfold.split(featureDF), 1):\n",
    "    \n",
    "\t# print(f'train_index\t:\t{train_index.tolist()}')\n",
    "\n",
    "\t# X_train, X_val 데이터셋 설정\n",
    "\tX_train, y_train = featureDF.iloc[train_index.tolist()], targetSR[train_index.tolist()]\n",
    "\tX_val, y_val\t = featureDF.iloc[val_index.tolist()], targetSR[val_index.tolist()]\n",
    "\n",
    "\t# 학습진행\n",
    "\tdtc_model.fit(X_train, y_train)\n",
    "\n",
    "\t# 평가 (score 메서드)\n",
    "\t#\t\t+) 분류:\t정답(Label)에 대한 정확도 반환\n",
    "\t\n",
    "\taccuracy_train\t= dtc_model.score(X_train, y_train)\n",
    "\taccuracy_val\t= dtc_model.score(X_val, y_val)\n",
    "\n",
    "\t# 모델 점수 추가\n",
    "\taccuracys.append([accuracy_train, accuracy_val])\n",
    "\n",
    "\t# K번 반복 횟수 출력\n",
    "\tprint(f'[{idx}]번째 모델 Train 정확도:\t{accuracy_train}\tVal 정확도:\t{accuracy_val:.3f}')\n",
    "\tprint()\n"
   ]
  },
  {
   "cell_type": "markdown",
   "metadata": {},
   "source": [
    "3,4,5번째 학습 모델의 경우 => train 모델에 과적합!!"
   ]
  },
  {
   "cell_type": "code",
   "execution_count": 102,
   "metadata": {},
   "outputs": [
    {
     "data": {
      "text/plain": [
       "[[1.0, 1.0],\n",
       " [1.0, 0.9666666666666667],\n",
       " [1.0, 0.8333333333333334],\n",
       " [1.0, 0.9333333333333333],\n",
       " [1.0, 0.8]]"
      ]
     },
     "execution_count": 102,
     "metadata": {},
     "output_type": "execute_result"
    }
   ],
   "source": [
    "accuracys"
   ]
  },
  {
   "cell_type": "code",
   "execution_count": 103,
   "metadata": {},
   "outputs": [
    {
     "name": "stdout",
     "output_type": "stream",
     "text": [
      "train 학습 정확도:\t1.0\n",
      "Val   학습 정확도:\t0.906667\n"
     ]
    }
   ],
   "source": [
    "train_score_mean = sum( [ value[0] for value in accuracys ] ) / kfold.get_n_splits()\n",
    "val_score_mean\t = sum( [ value[1] for value in accuracys ] ) / kfold.n_splits\n",
    "\n",
    "print(f'train 학습 정확도:\t{train_score_mean}')\n",
    "print(f'Val   학습 정확도:\t{val_score_mean:.6f}')"
   ]
  },
  {
   "cell_type": "code",
   "execution_count": 104,
   "metadata": {},
   "outputs": [
    {
     "data": {
      "text/plain": [
       "array([1.        , 0.90666667])"
      ]
     },
     "execution_count": 104,
     "metadata": {},
     "output_type": "execute_result"
    }
   ],
   "source": [
    "np.mean(accuracys, axis=0)"
   ]
  },
  {
   "cell_type": "markdown",
   "metadata": {},
   "source": [
    "##### StratifiedKFold 기반"
   ]
  },
  {
   "cell_type": "code",
   "execution_count": 105,
   "metadata": {},
   "outputs": [
    {
     "name": "stdout",
     "output_type": "stream",
     "text": [
      "[1]번째 Train 정확도:\t1.0\tVal 정확도:\t0.967\n",
      "\n",
      "[2]번째 Train 정확도:\t1.0\tVal 정확도:\t0.967\n",
      "\n",
      "[3]번째 Train 정확도:\t1.0\tVal 정확도:\t0.900\n",
      "\n",
      "[4]번째 Train 정확도:\t1.0\tVal 정확도:\t0.967\n",
      "\n",
      "[5]번째 Train 정확도:\t1.0\tVal 정확도:\t1.000\n",
      "\n"
     ]
    }
   ],
   "source": [
    "# skfold 기반-------------------------------------------\n",
    "\n",
    "# K번째 학습 정확도 저장 리스트 선언\n",
    "accuracys = []\n",
    "\n",
    "# skfold 인스턴스 생성\t\n",
    "skfold = StratifiedKFold(n_splits=5)\t\t\t\t\t\t# 기본: 5개\n",
    "\n",
    "# K번 만큼 K개 데이터 셋으로 학습 반복\n",
    "#\t-> K등분 후 학습용 데이터셋 인덱스, 검증용 데이터셋 인덱스\n",
    "\n",
    "for idx, (train_index, val_index) in enumerate(skfold.split(featureDF, targetSR), 1):\n",
    "    \n",
    "\t# print(f'train_index\t:\t{train_index.tolist()}')\n",
    "\n",
    "\t# X_train, X_val 데이터셋 설정\n",
    "\tX_train, y_train = featureDF.iloc[train_index.tolist()], targetSR[train_index.tolist()]\n",
    "\tX_val, y_val\t = featureDF.iloc[val_index.tolist()], targetSR[val_index.tolist()]\n",
    "\n",
    "\t# 학습진행\n",
    "\tdtc_model.fit(X_train, y_train)\n",
    "\n",
    "\t# 평가 (score 메서드)\n",
    "\t#\t\t+) 분류:\t정답(Label)에 대한 정확도 반환\n",
    "\n",
    "\taccuracy_train\t= dtc_model.score(X_train, y_train)\n",
    "\taccuracy_val\t= dtc_model.score(X_val, y_val)\n",
    "\n",
    "\t# 모델 점수 추가\n",
    "\taccuracys.append([accuracy_train, accuracy_val])\n",
    "\n",
    "\t# K번 반복 횟수 출력\n",
    "\tprint(f'[{idx}]번째 모델 Train 정확도:\t{accuracy_train}\tVal 정확도:\t{accuracy_val:.3f}')\n",
    "\tprint()\n"
   ]
  },
  {
   "cell_type": "code",
   "execution_count": 106,
   "metadata": {},
   "outputs": [
    {
     "name": "stdout",
     "output_type": "stream",
     "text": [
      "train 학습 정확도:\t1.0\n",
      "Val   학습 정확도:\t0.960000\n"
     ]
    }
   ],
   "source": [
    "# 모델 성능 확인\n",
    "train_score_mean = sum( [ value[0] for value in accuracys ] ) / skfold.get_n_splits()\n",
    "val_score_mean\t = sum( [ value[1] for value in accuracys ] ) / skfold.n_splits\n",
    "\n",
    "print(f'train 학습 정확도:\t{train_score_mean}')\n",
    "print(f'Val   학습 정확도:\t{val_score_mean:.6f}')"
   ]
  },
  {
   "cell_type": "markdown",
   "metadata": {},
   "source": [
    "##### cross_val_score, corss_val_predict, cross_validate\n",
    "- **교차검증 & 성능 평가 동시 진행 함수**\n",
    "- 반환: **검증** 데이터셋에 대한 모델 **성능 점수 (array)**\n",
    "- 장점: 자동 StratifiedKFold 실행 ==> estimator와 y가 이진or다중분류 여부 확인 "
   ]
  },
  {
   "cell_type": "code",
   "execution_count": 107,
   "metadata": {},
   "outputs": [],
   "source": [
    "from sklearn.model_selection import cross_val_predict, cross_val_score, cross_validate"
   ]
  },
  {
   "cell_type": "code",
   "execution_count": 108,
   "metadata": {},
   "outputs": [],
   "source": [
    "X_train, X_test, y_train, y_test = train_test_split(featureDF, targetSR, stratify=targetSR)"
   ]
  },
  {
   "cell_type": "code",
   "execution_count": 109,
   "metadata": {},
   "outputs": [
    {
     "name": "stdout",
     "output_type": "stream",
     "text": [
      "predict:\t[0 0 0 2 1 2 0 0 2 2 1 2 2 2 2 2 1 2 0 0 2 1 1 1 1 0 2 1 0 1 0 1 0 2 1 1 0\n",
      " 2 1 1 1 2 1 2 1 0 0 2 0 0 0 2 2 0 1 2 2 0 2 1 2 0 0 2 0 2 0 1 0 2 2 0 2 1\n",
      " 1 1 1 0 1 1 1 2 1 0 2 1 1 2 1 2 1 0 1 1 0 0 0 0 2 2 0 0 1 2 1 0 1 2 1 2 0\n",
      " 0]\n"
     ]
    }
   ],
   "source": [
    "# cross_val_predict\n",
    "predict = cross_val_predict(dtc_model, X_train, y_train, cv=3)\t\t\t# cv 기본: 5\n",
    "print(f'predict:\t{predict}')"
   ]
  },
  {
   "cell_type": "code",
   "execution_count": 110,
   "metadata": {},
   "outputs": [
    {
     "data": {
      "text/plain": [
       "array([0.86956522, 0.95652174, 0.90909091, 0.90909091, 0.95454545])"
      ]
     },
     "execution_count": 110,
     "metadata": {},
     "output_type": "execute_result"
    }
   ],
   "source": [
    "# cross_val_score \n",
    "cross_val_score(dtc_model, X_train, y_train)"
   ]
  },
  {
   "cell_type": "code",
   "execution_count": 111,
   "metadata": {},
   "outputs": [
    {
     "data": {
      "text/plain": [
       "{'fit_time': array([0.0035398 , 0.00215912, 0.00200057, 0.00206947, 0.0019722 ]),\n",
       " 'score_time': array([0.00223923, 0.00099587, 0.00239253, 0.00091791, 0.00099659]),\n",
       " 'estimator': [DecisionTreeClassifier(),\n",
       "  DecisionTreeClassifier(),\n",
       "  DecisionTreeClassifier(),\n",
       "  DecisionTreeClassifier(),\n",
       "  DecisionTreeClassifier()],\n",
       " 'test_score': array([0.86956522, 0.95652174, 0.90909091, 0.90909091, 0.95454545]),\n",
       " 'train_score': array([1., 1., 1., 1., 1.])}"
      ]
     },
     "execution_count": 111,
     "metadata": {},
     "output_type": "execute_result"
    }
   ],
   "source": [
    "# cross_validate\n",
    "result = cross_validate(dtc_model, X_train, y_train, \n",
    "                        cv=5,\t\t\t\t\t\t\t\t# 폴드 수 default=5\n",
    "                        return_train_score=True,\t\t\t# train DS 점수까지 반환\n",
    "                        return_estimator=True)\t\t\t\t# K번째 모델의 학습 알고리즘 반환 (dtc_model 리스트 선언 가능?)\n",
    "result"
   ]
  },
  {
   "cell_type": "code",
   "execution_count": 112,
   "metadata": {},
   "outputs": [
    {
     "data": {
      "text/html": [
       "<div>\n",
       "<style scoped>\n",
       "    .dataframe tbody tr th:only-of-type {\n",
       "        vertical-align: middle;\n",
       "    }\n",
       "\n",
       "    .dataframe tbody tr th {\n",
       "        vertical-align: top;\n",
       "    }\n",
       "\n",
       "    .dataframe thead th {\n",
       "        text-align: right;\n",
       "    }\n",
       "</style>\n",
       "<table border=\"1\" class=\"dataframe\">\n",
       "  <thead>\n",
       "    <tr style=\"text-align: right;\">\n",
       "      <th></th>\n",
       "      <th>test_score</th>\n",
       "      <th>train_score</th>\n",
       "    </tr>\n",
       "  </thead>\n",
       "  <tbody>\n",
       "    <tr>\n",
       "      <th>0</th>\n",
       "      <td>0.869565</td>\n",
       "      <td>1.0</td>\n",
       "    </tr>\n",
       "    <tr>\n",
       "      <th>1</th>\n",
       "      <td>0.956522</td>\n",
       "      <td>1.0</td>\n",
       "    </tr>\n",
       "    <tr>\n",
       "      <th>2</th>\n",
       "      <td>0.909091</td>\n",
       "      <td>1.0</td>\n",
       "    </tr>\n",
       "    <tr>\n",
       "      <th>3</th>\n",
       "      <td>0.909091</td>\n",
       "      <td>1.0</td>\n",
       "    </tr>\n",
       "    <tr>\n",
       "      <th>4</th>\n",
       "      <td>0.954545</td>\n",
       "      <td>1.0</td>\n",
       "    </tr>\n",
       "  </tbody>\n",
       "</table>\n",
       "</div>"
      ],
      "text/plain": [
       "   test_score  train_score\n",
       "0    0.869565          1.0\n",
       "1    0.956522          1.0\n",
       "2    0.909091          1.0\n",
       "3    0.909091          1.0\n",
       "4    0.954545          1.0"
      ]
     },
     "execution_count": 112,
     "metadata": {},
     "output_type": "execute_result"
    }
   ],
   "source": [
    "# test_score는 Validation_score에 해당\n",
    "resultDF = pd.DataFrame(result).loc[:, ['test_score','train_score']]\n",
    "resultDF"
   ]
  },
  {
   "cell_type": "markdown",
   "metadata": {},
   "source": [
    "##### 최적화된 모델 추출\n",
    "- (train_score - test_score) => 오름차순 정렬 => min에 해당하는 {k}번째 모델 사용!!"
   ]
  },
  {
   "cell_type": "code",
   "execution_count": 5,
   "metadata": {},
   "outputs": [
    {
     "ename": "SyntaxError",
     "evalue": "invalid syntax (2815743035.py, line 2)",
     "output_type": "error",
     "traceback": [
      "\u001b[1;36m  Cell \u001b[1;32mIn[5], line 2\u001b[1;36m\u001b[0m\n\u001b[1;33m    bestmodel = result['estimator'][m_idx for idx in range(len(result.shape[0]) if min_score > (resultDF.loc[idx, 'train_score'] - resultDF.loc[idx, 'test_score']) m_idx=idx )]\u001b[0m\n\u001b[1;37m                                          ^\u001b[0m\n\u001b[1;31mSyntaxError\u001b[0m\u001b[1;31m:\u001b[0m invalid syntax\n"
     ]
    }
   ],
   "source": [
    "min_score = 2\n",
    "bestmodel = result['estimator'][m_idx for idx in range(len(result.shape[0]) if min_score > (resultDF.loc[idx, 'train_score'] - resultDF.loc[idx, 'test_score']) m_idx=idx )]"
   ]
  },
  {
   "cell_type": "code",
   "execution_count": 114,
   "metadata": {},
   "outputs": [
    {
     "data": {
      "text/plain": [
       "array([1, 2, 0, 2, 0, 1, 2, 2, 2, 2, 1, 2, 0, 0, 2, 1, 0, 1, 0, 2, 0, 0,\n",
       "       1, 1, 1, 1, 2, 1, 0, 1, 2, 0, 0, 2, 0, 2, 0, 1])"
      ]
     },
     "execution_count": 114,
     "metadata": {},
     "output_type": "execute_result"
    }
   ],
   "source": [
    "bestmodel.predict(X_test)"
   ]
  },
  {
   "cell_type": "code",
   "execution_count": 116,
   "metadata": {},
   "outputs": [
    {
     "data": {
      "text/plain": [
       "1.0"
      ]
     },
     "execution_count": 116,
     "metadata": {},
     "output_type": "execute_result"
    }
   ],
   "source": [
    "bestmodel.score(X_test, y_test)"
   ]
  },
  {
   "cell_type": "code",
   "execution_count": null,
   "metadata": {},
   "outputs": [],
   "source": []
  },
  {
   "cell_type": "code",
   "execution_count": null,
   "metadata": {},
   "outputs": [],
   "source": []
  },
  {
   "cell_type": "code",
   "execution_count": null,
   "metadata": {},
   "outputs": [],
   "source": []
  },
  {
   "cell_type": "code",
   "execution_count": null,
   "metadata": {},
   "outputs": [],
   "source": []
  },
  {
   "cell_type": "code",
   "execution_count": null,
   "metadata": {},
   "outputs": [],
   "source": []
  },
  {
   "cell_type": "code",
   "execution_count": null,
   "metadata": {},
   "outputs": [],
   "source": []
  },
  {
   "cell_type": "code",
   "execution_count": null,
   "metadata": {},
   "outputs": [],
   "source": []
  },
  {
   "cell_type": "code",
   "execution_count": null,
   "metadata": {},
   "outputs": [],
   "source": []
  }
 ],
 "metadata": {
  "kernelspec": {
   "display_name": "ml_38",
   "language": "python",
   "name": "python3"
  },
  "language_info": {
   "codemirror_mode": {
    "name": "ipython",
    "version": 3
   },
   "file_extension": ".py",
   "mimetype": "text/x-python",
   "name": "python",
   "nbconvert_exporter": "python",
   "pygments_lexer": "ipython3",
   "version": "3.8.19"
  }
 },
 "nbformat": 4,
 "nbformat_minor": 2
}
